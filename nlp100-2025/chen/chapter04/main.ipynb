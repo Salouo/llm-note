{
 "cells": [
  {
   "cell_type": "markdown",
   "id": "c4d7fa4f",
   "metadata": {},
   "source": [
    "# 第4章: 言語解析\n",
    "\n",
    "問題30から問題35までは、以下の文章 `text`（太宰治の『走れメロス』の冒頭部分）に対して、言語解析を実施せよ。問題36から問題39までは、国家を説明した文書群（日本語版ウィキペディア記事から抽出したテキスト群）をコーパスとして、言語解析を実施せよ。"
   ]
  },
  {
   "cell_type": "code",
   "execution_count": 26,
   "id": "c51845e4",
   "metadata": {},
   "outputs": [
    {
     "name": "stdout",
     "output_type": "stream",
     "text": [
      "surface:, feature: BOS/EOS,*,*,*,*,*,*,*,*,*,*,*,*,*,*,*,*\n",
      "surface:メロス, feature: 名詞,普通名詞,一般,*,*,*,メロス,メロス-melos,メロス,メロス,メロス,メロス,外,*,*,*,*,*,*,体,メロス,メロス,メロス,メロス,1,C1,*,37122544834322944,135051\n",
      "surface:は, feature: 助詞,係助詞,*,*,*,*,ハ,は,は,ワ,は,ワ,和,*,*,*,*,*,*,係助,ハ,ハ,ハ,ハ,*,\"動詞%F2@0,名詞%F1,形容詞%F2@-1\",*,8059703733133824,29321\n",
      "surface:激怒, feature: 名詞,普通名詞,サ変可能,*,*,*,ゲキド,激怒,激怒,ゲキド,激怒,ゲキド,漢,*,*,*,*,*,*,体,ゲキド,ゲキド,ゲキド,ゲキド,1,C1,*,3167426745344512,11523\n",
      "surface:し, feature: 動詞,非自立可能,*,*,サ行変格,連用形-一般,スル,為る,し,シ,する,スル,和,*,*,*,*,*,*,用,シ,スル,シ,スル,0,C5,*,5370298291593857,19537\n",
      "surface:た, feature: 助動詞,*,*,*,助動詞-タ,終止形-一般,タ,た,た,タ,た,タ,和,*,*,*,*,*,*,助動,タ,タ,タ,タ,*,\"動詞%F2@1,形容詞%F4@-2\",*,5948916285711019,21642\n",
      "surface:。, feature: 補助記号,句点,*,*,*,*,*,。,。,*,。,*,記号,*,*,*,*,*,*,補助,*,*,*,*,*,*,*,6880571302400,25\n",
      "surface:必ず, feature: 副詞,*,*,*,*,*,カナラズ,必ず,必ず,カナラズ,必ず,カナラズ,和,*,*,*,*,*,*,相,カナラズ,カナラズ,カナラズ,カナラズ,0,*,*,1899964749980160,6912\n",
      "surface:、, feature: 補助記号,読点,*,*,*,*,*,、,、,*,、,*,記号,*,*,*,*,*,*,補助,*,*,*,*,*,*,*,6605693395456,24\n",
      "surface:かの, feature: 連体詞,*,*,*,*,*,カノ,彼の,かの,カノ,かの,カノ,和,*,*,*,*,*,*,相,カノ,カノ,カノ,カノ,1,*,*,1914533245493760,6965\n",
      "surface:邪智, feature: 名詞,普通名詞,一般,*,*,*,ジャチ,邪知,邪智,ジャチ,邪智,ジャチ,漢,*,*,*,*,*,*,体,ジャチ,ジャチ,ジャチ,ジャチ,1,C3,*,18997095683990016,69111\n",
      "surface:暴虐, feature: 名詞,普通名詞,形状詞可能,*,*,*,ボウギャク,暴虐,暴虐,ボーギャク,暴虐,ボーギャク,漢,*,*,*,*,*,*,体,ボウギャク,ボウギャク,ボウギャク,ボウギャク,0,C2,*,11783749616411136,42869\n",
      "surface:の, feature: 助詞,格助詞,*,*,*,*,ノ,の,の,ノ,の,ノ,和,*,*,*,*,*,*,格助,ノ,ノ,ノ,ノ,*,名詞%F1,*,7968444268028416,28989\n",
      "surface:王, feature: 名詞,普通名詞,一般,*,*,*,オウ,王,王,オー,王,オー,漢,*,*,*,*,*,*,体,オウ,オウ,オウ,オウ,1,C3,*,1207547268833792,4393\n",
      "surface:を, feature: 助詞,格助詞,*,*,*,*,ヲ,を,を,オ,を,オ,和,*,*,*,*,*,*,格助,ヲ,ヲ,ヲ,ヲ,*,\"動詞%F2@0,名詞%F1,形容詞%F2@-1\",*,11381878116459008,41407\n",
      "surface:除か, feature: 動詞,一般,*,*,五段-カ行,未然形-一般,ノゾク,除く,除か,ノゾカ,除く,ノゾク,和,*,*,*,*,*,*,用,ノゾカ,ノゾク,ノゾカ,ノゾク,0,C2,*,8004178429485633,29119\n",
      "surface:なけれ, feature: 助動詞,*,*,*,助動詞-ナイ,仮定形-一般,ナイ,ない,なけれ,ナケレ,ない,ナイ,和,*,*,*,*,*,*,助動,ナケレ,ナイ,ナケレ,ナイ,*,動詞%F3@0,M2@2,7542108634358497,27438\n",
      "surface:ば, feature: 助詞,接続助詞,*,*,*,*,バ,ば,ば,バ,ば,バ,和,*,*,*,*,*,*,接助,バ,バ,バ,バ,*,\"動詞%F2@0,形容詞%F2@-1\",*,8384609419141632,30503\n",
      "surface:なら, feature: 動詞,非自立可能,*,*,五段-ラ行,未然形-一般,ナル,成る,なら,ナラ,なる,ナル,和,*,*,*,*,*,*,用,ナラ,ナル,ナラ,ナル,1,C1,*,7713357570384449,28061\n",
      "surface:ぬ, feature: 助動詞,*,*,*,助動詞-ヌ,終止形-一般,ズ,ず,ぬ,ヌ,ぬ,ヌ,和,*,*,*,*,*,*,助動,ヌ,ヌ,ヌ,ヌ,*,動詞%F4@0,*,5384050776875691,19587\n",
      "surface:と, feature: 助詞,格助詞,*,*,*,*,ト,と,と,ト,と,ト,和,*,*,*,*,*,*,格助,ト,ト,ト,ト,*,\"名詞%F1,動詞%F1,形容詞%F2@-1\",*,7099014038299136,25826\n",
      "surface:決意, feature: 名詞,普通名詞,サ変可能,*,*,*,ケツイ,決意,決意,ケツイ,決意,ケツイ,漢,*,*,*,*,*,*,体,ケツイ,ケツイ,ケツイ,ケツイ,\"1,2\",C1,*,3072318989541888,11177\n",
      "surface:し, feature: 動詞,非自立可能,*,*,サ行変格,連用形-一般,スル,為る,し,シ,する,スル,和,*,*,*,*,*,*,用,シ,スル,シ,スル,0,C5,*,5370298291593857,19537\n",
      "surface:た, feature: 助動詞,*,*,*,助動詞-タ,終止形-一般,タ,た,た,タ,た,タ,和,*,*,*,*,*,*,助動,タ,タ,タ,タ,*,\"動詞%F2@1,形容詞%F4@-2\",*,5948916285711019,21642\n",
      "surface:。, feature: 補助記号,句点,*,*,*,*,*,。,。,*,。,*,記号,*,*,*,*,*,*,補助,*,*,*,*,*,*,*,6880571302400,25\n",
      "surface:メロス, feature: 名詞,普通名詞,一般,*,*,*,メロス,メロス-melos,メロス,メロス,メロス,メロス,外,*,*,*,*,*,*,体,メロス,メロス,メロス,メロス,1,C1,*,37122544834322944,135051\n",
      "surface:に, feature: 助詞,格助詞,*,*,*,*,ニ,に,に,ニ,に,ニ,和,*,*,*,*,*,*,格助,ニ,ニ,ニ,ニ,*,名詞%F1,*,7745518285496832,28178\n",
      "surface:は, feature: 助詞,係助詞,*,*,*,*,ハ,は,は,ワ,は,ワ,和,*,*,*,*,*,*,係助,ハ,ハ,ハ,ハ,*,\"動詞%F2@0,名詞%F1,形容詞%F2@-1\",*,8059703733133824,29321\n",
      "surface:政治, feature: 名詞,普通名詞,一般,*,*,*,セイジ,政治,政治,セージ,政治,セージ,漢,*,*,*,*,*,*,体,セイジ,セイジ,セイジ,セイジ,0,C2,*,5454960686932480,19845\n",
      "surface:が, feature: 助詞,格助詞,*,*,*,*,ガ,が,が,ガ,が,ガ,和,*,*,*,*,*,*,格助,ガ,ガ,ガ,ガ,*,\"動詞%F2@0,名詞%F1\",*,2168520431510016,7889\n",
      "surface:わから, feature: 動詞,一般,*,*,五段-ラ行,未然形-一般,ワカル,分かる,わから,ワカラ,わかる,ワカル,和,*,*,*,*,*,*,用,ワカラ,ワカル,ワカラ,ワカル,2,C1,*,11319480831582785,41180\n",
      "surface:ぬ, feature: 助動詞,*,*,*,助動詞-ヌ,終止形-一般,ズ,ず,ぬ,ヌ,ぬ,ヌ,和,*,*,*,*,*,*,助動,ヌ,ヌ,ヌ,ヌ,*,動詞%F4@0,*,5384050776875691,19587\n",
      "surface:。, feature: 補助記号,句点,*,*,*,*,*,。,。,*,。,*,記号,*,*,*,*,*,*,補助,*,*,*,*,*,*,*,6880571302400,25\n",
      "surface:メロス, feature: 名詞,普通名詞,一般,*,*,*,メロス,メロス-melos,メロス,メロス,メロス,メロス,外,*,*,*,*,*,*,体,メロス,メロス,メロス,メロス,1,C1,*,37122544834322944,135051\n",
      "surface:は, feature: 助詞,係助詞,*,*,*,*,ハ,は,は,ワ,は,ワ,和,*,*,*,*,*,*,係助,ハ,ハ,ハ,ハ,*,\"動詞%F2@0,名詞%F1,形容詞%F2@-1\",*,8059703733133824,29321\n",
      "surface:、, feature: 補助記号,読点,*,*,*,*,*,、,、,*,、,*,記号,*,*,*,*,*,*,補助,*,*,*,*,*,*,*,6605693395456,24\n",
      "surface:村, feature: 名詞,普通名詞,一般,*,*,*,ムラ,村,村,ムラ,村,ムラ,和,*,*,*,*,*,*,体,ムラ,ムラ,ムラ,ムラ,2,C4,*,10223267738690048,37192\n",
      "surface:の, feature: 助詞,格助詞,*,*,*,*,ノ,の,の,ノ,の,ノ,和,*,*,*,*,*,*,格助,ノ,ノ,ノ,ノ,*,名詞%F1,*,7968444268028416,28989\n",
      "surface:牧人, feature: 名詞,普通名詞,一般,*,*,*,ボクジン,牧人,牧人,ボクジン,牧人,ボクジン,漢,*,*,*,*,*,*,体,ボクジン,ボクジン,ボクジン,ボクジン,0,C2,*,18415179121435136,66994\n",
      "surface:で, feature: 助動詞,*,*,*,助動詞-ダ,連用形-一般,ダ,だ,で,デ,だ,ダ,和,*,*,*,*,*,*,助動,デ,ダ,デ,ダ,*,名詞%F1,*,6299110739157633,22916\n",
      "surface:ある, feature: 動詞,非自立可能,*,*,五段-ラ行,終止形-一般,アル,有る,ある,アル,ある,アル,和,*,*,*,*,*,*,用,アル,アル,アル,アル,1,C3,*,334260158472875,1216\n",
      "surface:。, feature: 補助記号,句点,*,*,*,*,*,。,。,*,。,*,記号,*,*,*,*,*,*,補助,*,*,*,*,*,*,*,6880571302400,25\n",
      "surface:笛, feature: 名詞,普通名詞,一般,*,*,*,フエ,笛,笛,フエ,笛,フエ,和,フ濁,基本形,*,*,*,*,体,フエ,フエ,フエ,フエ,0,C3,*,8926393773728256,32474\n",
      "surface:を, feature: 助詞,格助詞,*,*,*,*,ヲ,を,を,オ,を,オ,和,*,*,*,*,*,*,格助,ヲ,ヲ,ヲ,ヲ,*,\"動詞%F2@0,名詞%F1,形容詞%F2@-1\",*,11381878116459008,41407\n",
      "surface:吹き, feature: 動詞,一般,*,*,五段-カ行,連用形-一般,フク,吹く,吹き,フキ,吹く,フク,和,*,*,*,*,*,*,用,フキ,フク,フキ,フク,\"1,2\",C1,*,8958554488840833,32591\n",
      "surface:、, feature: 補助記号,読点,*,*,*,*,*,、,、,*,、,*,記号,*,*,*,*,*,*,補助,*,*,*,*,*,*,*,6605693395456,24\n",
      "surface:羊, feature: 名詞,普通名詞,一般,*,*,*,ヒツジ,羊,羊,ヒツジ,羊,ヒツジ,和,*,*,*,*,*,*,体,ヒツジ,ヒツジ,ヒツジ,ヒツジ,0,C2,*,8649591754990080,31467\n",
      "surface:と, feature: 助詞,格助詞,*,*,*,*,ト,と,と,ト,と,ト,和,*,*,*,*,*,*,格助,ト,ト,ト,ト,*,\"名詞%F1,動詞%F1,形容詞%F2@-1\",*,7099014038299136,25826\n",
      "surface:遊ん, feature: 動詞,一般,*,*,五段-バ行,連用形-撥音便,アソブ,遊ぶ,遊ん,アソン,遊ぶ,アソブ,和,*,*,*,*,*,*,用,アソン,アソブ,アソン,アソブ,0,C2,*,198470505996933,722\n",
      "surface:で, feature: 助詞,接続助詞,*,*,*,*,テ,て,で,デ,で,デ,和,*,*,*,*,*,*,接助,デ,デ,デ,デ,*,\"動詞%F1,形容詞%F2@-1\",*,6837330270888448,24874\n",
      "surface:暮し, feature: 動詞,一般,*,*,五段-サ行,連用形-一般,クラス,暮らす,暮し,クラシ,暮す,クラス,和,*,*,*,*,*,*,用,クラシ,クラス,クラシ,クラス,0,C2,*,2867534982423169,10432\n",
      "surface:て, feature: 助詞,接続助詞,*,*,*,*,テ,て,て,テ,て,テ,和,*,*,*,*,*,*,接助,テ,テ,テ,テ,*,\"動詞%F1,形容詞%F2@-1\",*,6837321680953856,24874\n",
      "surface:来, feature: 動詞,非自立可能,*,*,カ行変格,連用形-一般,クル,来る,来,キ,来る,クル,和,*,*,*,*,*,*,用,キ,クル,キ,クル,1,C1,*,2891174482420353,10518\n",
      "surface:た, feature: 助動詞,*,*,*,助動詞-タ,終止形-一般,タ,た,た,タ,た,タ,和,*,*,*,*,*,*,助動,タ,タ,タ,タ,*,\"動詞%F2@1,形容詞%F4@-2\",*,5948916285711019,21642\n",
      "surface:。, feature: 補助記号,句点,*,*,*,*,*,。,。,*,。,*,記号,*,*,*,*,*,*,補助,*,*,*,*,*,*,*,6880571302400,25\n",
      "surface:けれど, feature: 助詞,接続助詞,*,*,*,*,ケレド,けれど,けれど,ケレド,けれど,ケレド,和,*,*,*,*,*,*,接助,ケレド,ケレド,ケレド,ケレド,*,\"動詞%F2@0,形容詞%F2@-1\",*,3089095131800064,11238\n",
      "surface:も, feature: 助詞,係助詞,*,*,*,*,モ,も,も,モ,も,モ,和,*,*,*,*,*,*,係助,モ,モ,モ,モ,*,\"動詞%F2@-1,形容詞%F4@-2,名詞%F1\",*,10324972564259328,37562\n",
      "surface:邪悪, feature: 名詞,普通名詞,形状詞可能,*,*,*,ジャアク,邪悪,邪悪,ジャアク,邪悪,ジャアク,漢,*,*,*,*,*,*,体,ジャアク,ジャアク,ジャアク,ジャアク,\"0,1\",C2,*,12662534284911104,46066\n",
      "surface:に, feature: 助詞,格助詞,*,*,*,*,ニ,に,に,ニ,に,ニ,和,*,*,*,*,*,*,格助,ニ,ニ,ニ,ニ,*,名詞%F1,*,7745518285496832,28178\n",
      "surface:対し, feature: 動詞,一般,*,*,サ行変格,連用形-一般,タイスル,対する,対し,タイシ,対する,タイスル,混,*,*,*,*,*,*,用,タイシ,タイスル,タイシ,タイスル,3,C1,M4@1,5998677810356865,21823\n",
      "surface:て, feature: 助詞,接続助詞,*,*,*,*,テ,て,て,テ,て,テ,和,*,*,*,*,*,*,接助,テ,テ,テ,テ,*,\"動詞%F1,形容詞%F2@-1\",*,6837321680953856,24874\n",
      "surface:は, feature: 助詞,係助詞,*,*,*,*,ハ,は,は,ワ,は,ワ,和,*,*,*,*,*,*,係助,ハ,ハ,ハ,ハ,*,\"動詞%F2@0,名詞%F1,形容詞%F2@-1\",*,8059703733133824,29321\n",
      "surface:、, feature: 補助記号,読点,*,*,*,*,*,、,、,*,、,*,記号,*,*,*,*,*,*,補助,*,*,*,*,*,*,*,6605693395456,24\n",
      "surface:人, feature: 名詞,普通名詞,一般,*,*,*,ヒト,人,人,ヒト,人,ヒト,和,ヒ濁,基本形,*,*,*,*,体,ヒト,ヒト,ヒト,ヒト,0,C3,*,8658662759473664,31500\n",
      "surface:一, feature: 名詞,数詞,*,*,*,*,イチ,一,一,イチ,一,イチ,漢,*,*,チ促,基本形,N1,*,数,イチ,イチ,イチ,イチ,2,C3,*,563508399972864,2050\n",
      "surface:倍, feature: 名詞,普通名詞,助数詞可能,*,*,*,バイ,倍,倍,バイ,倍,バイ,漢,*,*,*,*,*,B,体,バイ,バイ,バイ,バイ,\"0,1\",C4,*,8387633076118016,30514\n",
      "surface:に, feature: 助詞,格助詞,*,*,*,*,ニ,に,に,ニ,に,ニ,和,*,*,*,*,*,*,格助,ニ,ニ,ニ,ニ,*,名詞%F1,*,7745518285496832,28178\n",
      "surface:敏感, feature: 名詞,普通名詞,形状詞可能,*,*,*,ビンカン,敏感,敏感,ビンカン,敏感,ビンカン,漢,*,*,*,*,*,*,体,ビンカン,ビンカン,ビンカン,ビンカン,0,C2,*,8832660407460352,32133\n",
      "surface:で, feature: 助動詞,*,*,*,助動詞-ダ,連用形-一般,ダ,だ,で,デ,だ,ダ,和,*,*,*,*,*,*,助動,デ,ダ,デ,ダ,*,名詞%F1,*,6299110739157633,22916\n",
      "surface:あっ, feature: 動詞,非自立可能,*,*,五段-ラ行,連用形-促音便,アル,有る,あっ,アッ,ある,アル,和,*,*,*,*,*,*,用,アッ,アル,アッ,アル,1,C3,*,334260158472836,1216\n",
      "surface:た, feature: 助動詞,*,*,*,助動詞-タ,終止形-一般,タ,た,た,タ,た,タ,和,*,*,*,*,*,*,助動,タ,タ,タ,タ,*,\"動詞%F2@1,形容詞%F4@-2\",*,5948916285711019,21642\n",
      "surface:。, feature: 補助記号,句点,*,*,*,*,*,。,。,*,。,*,記号,*,*,*,*,*,*,補助,*,*,*,*,*,*,*,6880571302400,25\n",
      "surface:, feature: BOS/EOS,*,*,*,*,*,*,*,*,*,*,*,*,*,*,*,*\n"
     ]
    }
   ],
   "source": [
    "import MeCab\n",
    "import unidic\n",
    "\n",
    "\n",
    "text = \"\"\"\n",
    "メロスは激怒した。\n",
    "必ず、かの邪智暴虐の王を除かなければならぬと決意した。\n",
    "メロスには政治がわからぬ。\n",
    "メロスは、村の牧人である。\n",
    "笛を吹き、羊と遊んで暮して来た。\n",
    "けれども邪悪に対しては、人一倍に敏感であった。\n",
    "\"\"\"\n",
    "mecabrc = \"/opt/homebrew/etc/mecabrc\"\n",
    "dicdir  = unidic.DICDIR\n",
    "tagger = MeCab.Tagger(f\"-r {mecabrc} -d {dicdir}\")\n",
    "\n",
    "node = tagger.parseToNode(text)     # `node` is a linked list\n",
    "\n",
    "while node:\n",
    "    print(f'surface:{node.surface}, feature: {node.feature}')\n",
    "    node = node.next"
   ]
  },
  {
   "cell_type": "markdown",
   "id": "f243bc03",
   "metadata": {},
   "source": [
    "## 30. 動詞\n",
    "文章 `text` に含まれる動詞をすべて表示せよ。"
   ]
  },
  {
   "cell_type": "code",
   "execution_count": 28,
   "id": "0e56fd7b",
   "metadata": {},
   "outputs": [
    {
     "name": "stdout",
     "output_type": "stream",
     "text": [
      "['し', '除か', 'なら', 'し', 'わから', 'ある', '吹き', '遊ん', '暮し', '来', '対し', 'あっ']\n"
     ]
    }
   ],
   "source": [
    "import MeCab\n",
    "\n",
    "\n",
    "tagger = MeCab.Tagger(f\"-r {mecabrc} -d {dicdir}\")\n",
    "node = tagger.parseToNode(text)\n",
    "\n",
    "ans = []  # Save verbs\n",
    "\n",
    "while node:\n",
    "    # Split features with ',' so that the property can be matched.\n",
    "    parts = node.feature.split(',')\n",
    "    # If this token represents a verb...\n",
    "    if parts[0] == '動詞':\n",
    "        ans.append(node.surface)\n",
    "    node = node.next\n",
    "\n",
    "print(ans)\n"
   ]
  },
  {
   "cell_type": "markdown",
   "id": "a03a6025",
   "metadata": {},
   "source": [
    "## 31. 動詞の原型\n",
    "文章 `text` に含まれる動詞と、その原型をすべて表示せよ。"
   ]
  },
  {
   "cell_type": "code",
   "execution_count": 30,
   "id": "85f1879c",
   "metadata": {},
   "outputs": [
    {
     "name": "stdout",
     "output_type": "stream",
     "text": [
      "surface: し, base: する\n",
      "surface: 除か, base: 除く\n",
      "surface: なら, base: なる\n",
      "surface: し, base: する\n",
      "surface: わから, base: わかる\n",
      "surface: ある, base: ある\n",
      "surface: 吹き, base: 吹く\n",
      "surface: 遊ん, base: 遊ぶ\n",
      "surface: 暮し, base: 暮す\n",
      "surface: 来, base: 来る\n",
      "surface: 対し, base: 対する\n",
      "surface: あっ, base: ある\n"
     ]
    }
   ],
   "source": [
    "import MeCab\n",
    "\n",
    "tagger = MeCab.Tagger(f\"-r {mecabrc} -d {dicdir}\")\n",
    "node = tagger.parseToNode(text)\n",
    "\n",
    "ans = []\n",
    "\n",
    "while node:\n",
    "    parts = node.feature.split(',')\n",
    "    if parts[0] == '動詞':\n",
    "        ans.append((node.surface, parts[10]))\n",
    "    node = node.next\n",
    "\n",
    "for surface, base in ans:\n",
    "    print(f'surface: {surface}, base: {base}')"
   ]
  },
  {
   "cell_type": "markdown",
   "id": "86803a57",
   "metadata": {},
   "source": [
    "## 32. 「AのB」\n",
    "文章 `text` において、2つの名詞が「の」で連結されている名詞句をすべて抽出せよ。"
   ]
  },
  {
   "cell_type": "code",
   "execution_count": 31,
   "id": "26c34885",
   "metadata": {},
   "outputs": [
    {
     "name": "stdout",
     "output_type": "stream",
     "text": [
      "['暴虐の王', '村の牧人']\n"
     ]
    }
   ],
   "source": [
    "import MeCab\n",
    "\n",
    "\n",
    "def check_noun_no_noun(node):\n",
    "    if node.next and node.next.next:\n",
    "        if node.feature.split(',')[0] == '名詞' and node.next.surface == 'の' and node.next.next.feature.split(',')[0] == '名詞':\n",
    "            return True\n",
    "    return False\n",
    "    \n",
    "\n",
    "tagger = MeCab.Tagger(f\"-r {mecabrc} -d {dicdir}\")\n",
    "node = tagger.parseToNode(text)\n",
    "ans = []\n",
    "\n",
    "while node:\n",
    "    # Check if current node satisfies the format.\n",
    "    if check_noun_no_noun(node):\n",
    "        ans.append(node.surface + 'の' + node.next.next.surface)\n",
    "    node = node.next\n",
    "\n",
    "print(ans)"
   ]
  },
  {
   "cell_type": "markdown",
   "id": "b0f8f810",
   "metadata": {},
   "source": [
    "## 33. 係り受け解析\n",
    "文章 `text` に係り受け解析を適用し、係り元と係り先のトークン（形態素や文節などの単位）をタブ区切り形式ですべて抽出せよ。"
   ]
  },
  {
   "cell_type": "code",
   "execution_count": null,
   "id": "53ea1fcb",
   "metadata": {},
   "outputs": [],
   "source": [
    "import spacy\n",
    "\n",
    "\n",
    "text = \"\"\"\n",
    "メロスは激怒した。\n",
    "必ず、かの邪智暴虐の王を除かなければならぬと決意した。\n",
    "メロスには政治がわからぬ。\n",
    "メロスは、村の牧人である。\n",
    "笛を吹き、羊と遊んで暮して来た。\n",
    "けれども邪悪に対しては、人一倍に敏感であった。\n",
    "\"\"\"\n",
    "\n",
    "nlp = spacy.load(\"ja_ginza_electra\")\n",
    "\n",
    "doc = nlp(text)\n",
    "for tok in doc:\n",
    "    if tok.dep_ != \"ROOT\":\n",
    "        print(f\"{tok.head.text}\\t{tok.text}\")\n"
   ]
  },
  {
   "cell_type": "markdown",
   "id": "d690fcef",
   "metadata": {},
   "source": [
    "## 34. 主述の関係\n",
    "文章 `text` において、「メロス」が主語であるときの述語を抽出せよ。"
   ]
  },
  {
   "cell_type": "code",
   "execution_count": null,
   "id": "57efefcb",
   "metadata": {},
   "outputs": [
    {
     "name": "stderr",
     "output_type": "stream",
     "text": [
      "/opt/anaconda3/envs/python39/lib/python3.9/site-packages/huggingface_hub/file_download.py:797: FutureWarning: `resume_download` is deprecated and will be removed in version 1.0.0. Downloads always resume when possible. If you want to force a new download, use `force_download=True`.\n",
      "  warnings.warn(\n"
     ]
    },
    {
     "name": "stdout",
     "output_type": "stream",
     "text": [
      "['激怒', '牧人']\n"
     ]
    }
   ],
   "source": [
    "import spacy\n",
    "\n",
    "\n",
    "nlp = spacy.load('ja_ginza_electra')\n",
    "\n",
    "# Process the input text into a Doc object, which contains tokens and annotations\n",
    "doc = nlp(text)\n",
    "\n",
    "ans = []\n",
    "for tok in doc:\n",
    "    # If the token text is \"メロス\" and its dependency label indicates a nominal subject\n",
    "    if tok.text == 'メロス' and tok.dep_ == 'nsubj':\n",
    "        ans.append(tok.head.text)\n",
    "\n",
    "print(ans)"
   ]
  },
  {
   "cell_type": "markdown",
   "id": "c00c5510",
   "metadata": {},
   "source": [
    "## 35. 係り受け木\n",
    "「メロスは激怒した。」の係り受け木を可視化せよ。"
   ]
  },
  {
   "cell_type": "code",
   "execution_count": null,
   "id": "40d54d5b",
   "metadata": {},
   "outputs": [
    {
     "data": {
      "text/html": [
       "<span class=\"tex2jax_ignore\"><svg xmlns=\"http://www.w3.org/2000/svg\" xmlns:xlink=\"http://www.w3.org/1999/xlink\" xml:lang=\"ja\" id=\"66317ea9a742406e8720e5b48b6697a7-0\" class=\"displacy\" width=\"550\" height=\"237.0\" direction=\"ltr\" style=\"max-width: none; height: 237.0px; color: green; background: #ffffff; font-family: IPAexGothic; direction: ltr\">\n",
       "<text class=\"displacy-token\" fill=\"currentColor\" text-anchor=\"middle\" y=\"147.0\">\n",
       "    <tspan class=\"displacy-word\" fill=\"currentColor\" x=\"50\">メロス</tspan>\n",
       "    <tspan class=\"displacy-tag\" dy=\"2em\" fill=\"currentColor\" x=\"50\">NOUN</tspan>\n",
       "</text>\n",
       "\n",
       "<text class=\"displacy-token\" fill=\"currentColor\" text-anchor=\"middle\" y=\"147.0\">\n",
       "    <tspan class=\"displacy-word\" fill=\"currentColor\" x=\"150\">は</tspan>\n",
       "    <tspan class=\"displacy-tag\" dy=\"2em\" fill=\"currentColor\" x=\"150\">ADP</tspan>\n",
       "</text>\n",
       "\n",
       "<text class=\"displacy-token\" fill=\"currentColor\" text-anchor=\"middle\" y=\"147.0\">\n",
       "    <tspan class=\"displacy-word\" fill=\"currentColor\" x=\"250\">激怒</tspan>\n",
       "    <tspan class=\"displacy-tag\" dy=\"2em\" fill=\"currentColor\" x=\"250\">VERB</tspan>\n",
       "</text>\n",
       "\n",
       "<text class=\"displacy-token\" fill=\"currentColor\" text-anchor=\"middle\" y=\"147.0\">\n",
       "    <tspan class=\"displacy-word\" fill=\"currentColor\" x=\"350\">し</tspan>\n",
       "    <tspan class=\"displacy-tag\" dy=\"2em\" fill=\"currentColor\" x=\"350\">AUX</tspan>\n",
       "</text>\n",
       "\n",
       "<text class=\"displacy-token\" fill=\"currentColor\" text-anchor=\"middle\" y=\"147.0\">\n",
       "    <tspan class=\"displacy-word\" fill=\"currentColor\" x=\"450\">た。</tspan>\n",
       "    <tspan class=\"displacy-tag\" dy=\"2em\" fill=\"currentColor\" x=\"450\">AUX</tspan>\n",
       "</text>\n",
       "\n",
       "<g class=\"displacy-arrow\">\n",
       "    <path class=\"displacy-arc\" id=\"arrow-66317ea9a742406e8720e5b48b6697a7-0-0\" stroke-width=\"2px\" d=\"M62,102.0 62,68.66666666666666 250.0,68.66666666666666 250.0,102.0\" fill=\"none\" stroke=\"currentColor\"/>\n",
       "    <text dy=\"1.25em\" style=\"font-size: 0.8em; letter-spacing: 1px\">\n",
       "        <textPath xlink:href=\"#arrow-66317ea9a742406e8720e5b48b6697a7-0-0\" class=\"displacy-label\" startOffset=\"50%\" side=\"left\" fill=\"currentColor\" text-anchor=\"middle\">nsubj</textPath>\n",
       "    </text>\n",
       "    <path class=\"displacy-arrowhead\" d=\"M62,104.0 L58,96.0 66,96.0\" fill=\"currentColor\"/>\n",
       "</g>\n",
       "\n",
       "<g class=\"displacy-arrow\">\n",
       "    <path class=\"displacy-arc\" id=\"arrow-66317ea9a742406e8720e5b48b6697a7-0-1\" stroke-width=\"2px\" d=\"M62,102.0 62,85.33333333333333 147.0,85.33333333333333 147.0,102.0\" fill=\"none\" stroke=\"currentColor\"/>\n",
       "    <text dy=\"1.25em\" style=\"font-size: 0.8em; letter-spacing: 1px\">\n",
       "        <textPath xlink:href=\"#arrow-66317ea9a742406e8720e5b48b6697a7-0-1\" class=\"displacy-label\" startOffset=\"50%\" side=\"left\" fill=\"currentColor\" text-anchor=\"middle\">case</textPath>\n",
       "    </text>\n",
       "    <path class=\"displacy-arrowhead\" d=\"M147.0,104.0 L151.0,96.0 143.0,96.0\" fill=\"currentColor\"/>\n",
       "</g>\n",
       "\n",
       "<g class=\"displacy-arrow\">\n",
       "    <path class=\"displacy-arc\" id=\"arrow-66317ea9a742406e8720e5b48b6697a7-0-2\" stroke-width=\"2px\" d=\"M262,102.0 262,85.33333333333333 347.0,85.33333333333333 347.0,102.0\" fill=\"none\" stroke=\"currentColor\"/>\n",
       "    <text dy=\"1.25em\" style=\"font-size: 0.8em; letter-spacing: 1px\">\n",
       "        <textPath xlink:href=\"#arrow-66317ea9a742406e8720e5b48b6697a7-0-2\" class=\"displacy-label\" startOffset=\"50%\" side=\"left\" fill=\"currentColor\" text-anchor=\"middle\">aux</textPath>\n",
       "    </text>\n",
       "    <path class=\"displacy-arrowhead\" d=\"M347.0,104.0 L351.0,96.0 343.0,96.0\" fill=\"currentColor\"/>\n",
       "</g>\n",
       "\n",
       "<g class=\"displacy-arrow\">\n",
       "    <path class=\"displacy-arc\" id=\"arrow-66317ea9a742406e8720e5b48b6697a7-0-3\" stroke-width=\"2px\" d=\"M262,102.0 262,68.66666666666666 450.0,68.66666666666666 450.0,102.0\" fill=\"none\" stroke=\"currentColor\"/>\n",
       "    <text dy=\"1.25em\" style=\"font-size: 0.8em; letter-spacing: 1px\">\n",
       "        <textPath xlink:href=\"#arrow-66317ea9a742406e8720e5b48b6697a7-0-3\" class=\"displacy-label\" startOffset=\"50%\" side=\"left\" fill=\"currentColor\" text-anchor=\"middle\">aux</textPath>\n",
       "    </text>\n",
       "    <path class=\"displacy-arrowhead\" d=\"M450.0,104.0 L454.0,96.0 446.0,96.0\" fill=\"currentColor\"/>\n",
       "</g>\n",
       "</svg></span>"
      ],
      "text/plain": [
       "<IPython.core.display.HTML object>"
      ]
     },
     "metadata": {},
     "output_type": "display_data"
    }
   ],
   "source": [
    "import spacy\n",
    "from spacy import displacy\n",
    "\n",
    "\n",
    "nlp = spacy.load(\"ja_ginza_electra\")\n",
    "\n",
    "text = \"メロスは激怒した。\"\n",
    "\n",
    "doc = nlp(text)\n",
    "\n",
    "# Plot\n",
    "displacy.render(doc, style=\"dep\", jupyter=True, options={\n",
    "    \"compact\": True,        # Reduce blank space\n",
    "    \"distance\": 100,        # Set length of the arrows between tokens\n",
    "    \"color\": \"green\",        # Set color\n",
    "    \"font\": \"IPAexGothic\",  # Set font\n",
    "})"
   ]
  },
  {
   "cell_type": "markdown",
   "id": "b2710be8",
   "metadata": {},
   "source": [
    "## 36. 単語の出現頻度\n",
    "問題36から39までは、Wikipediaの記事を以下のフォーマットで書き出したファイルjawiki-country.json.gzをコーパスと見なし、統計的な分析を行う。\n",
    "\n",
    "- 1行に1記事の情報がJSON形式で格納される\n",
    "\n",
    "- 各行には記事名が”title”キーに、記事本文が”text”キーの辞書オブジェクトに格納され、そのオブジェクトがJSON形式で書き出される\n",
    "\n",
    "- ファイル全体はgzipで圧縮される\n",
    "\n",
    "まず、第3章の処理内容を参考に、Wikipedia記事からマークアップを除去し、各記事のテキストを抽出せよ。そして、コーパスにおける単語（形態素）の出現頻度を求め、出現頻度の高い20語とその出現頻度を表示せよ。"
   ]
  },
  {
   "cell_type": "code",
   "execution_count": 32,
   "id": "3c429dc3",
   "metadata": {},
   "outputs": [
    {
     "name": "stdout",
     "output_type": "stream",
     "text": [
      "し\t29735\n",
      "年\t26265\n",
      "いる\t13325\n",
      "さ\t12160\n",
      "ある\t11620\n",
      "月\t10483\n",
      "する\t9442\n",
      "1\t6807\n",
      "語\t6694\n",
      "ref\t6406\n",
      "2\t6314\n",
      "日本\t5187\n",
      "なっ\t4680\n",
      "こと\t4557\n",
      "3\t4303\n",
      "name\t3878\n",
      "い\t3779\n",
      "世界\t3647\n",
      "5\t3556\n",
      "4\t3553\n"
     ]
    }
   ],
   "source": [
    "import json\n",
    "import re\n",
    "import MeCab\n",
    "from collections import Counter\n",
    "\n",
    "\n",
    "def remove_markup(s):\n",
    "    # Remove ref>…</ref>.\n",
    "    s = re.sub(r\"<ref>.*?</ref>\", \"\", s)\n",
    "    # Remove {{…}}.\n",
    "    s = re.sub(r\"\\{\\{.*?\\}\\}\", \"\", s)\n",
    "    # Remove [[A|B]] or [[A]].\n",
    "    s = re.sub(r\"\\[\\[(?:[^|\\]]*\\|)?([^|\\]]+)\\]\\]\", r\"\\1\", s)\n",
    "    # Remove bold markup and italic markup\n",
    "    s = s.replace(\"''\", \"\")\n",
    "    return s\n",
    "\n",
    "\n",
    "\n",
    "tagger = MeCab.Tagger(f\"-r {mecabrc} -d {dicdir}\")\n",
    "freq = Counter()\n",
    "\n",
    "with open('jawiki-country.json', 'r') as f:\n",
    "    for line in f:\n",
    "        obj = json.loads(line)\n",
    "        clean = remove_markup(obj[\"text\"])\n",
    "        node = tagger.parseToNode(clean)\n",
    "        while node:\n",
    "            parts = node.feature.split(',')\n",
    "            if parts[0] in (\"名詞\", \"動詞\", \"形容詞\", \"副詞\"):\n",
    "                freq[node.surface] += 1\n",
    "            node = node.next\n",
    "\n",
    "for word, count in freq.most_common(20):\n",
    "    print(f\"{word}\\t{count}\")"
   ]
  },
  {
   "cell_type": "markdown",
   "id": "b6068fea",
   "metadata": {},
   "source": [
    "## 37. 名詞の出現頻度\n",
    "コーパスにおける名詞の出現頻度を求め、出現頻度の高い20語とその出現頻度を表示せよ。"
   ]
  },
  {
   "cell_type": "code",
   "execution_count": 33,
   "id": "f2eae6c5",
   "metadata": {},
   "outputs": [
    {
     "name": "stdout",
     "output_type": "stream",
     "text": [
      "年\t26265\n",
      "月\t10483\n",
      "1\t6807\n",
      "語\t6694\n",
      "ref\t6406\n",
      "2\t6314\n",
      "日本\t5187\n",
      "こと\t4557\n",
      "3\t4303\n",
      "name\t3878\n",
      "世界\t3647\n",
      "5\t3556\n",
      "4\t3553\n",
      "共和\t3439\n",
      "大統領\t3422\n",
      "政府\t3383\n",
      "ため\t3163\n",
      "thumb\t3048\n",
      "人口\t2796\n",
      "経済\t2766\n"
     ]
    }
   ],
   "source": [
    "import json\n",
    "import re\n",
    "import MeCab\n",
    "from collections import Counter\n",
    "\n",
    "\n",
    "def remove_markup(s):\n",
    "    # Remove ref>…</ref>.\n",
    "    s = re.sub(r\"<ref>.*?</ref>\", \"\", s)\n",
    "    # Remove {{…}}.\n",
    "    s = re.sub(r\"\\{\\{.*?\\}\\}\", \"\", s)\n",
    "    # Remove [[A|B]] or [[A]].\n",
    "    s = re.sub(r\"\\[\\[(?:[^|\\]]*\\|)?([^|\\]]+)\\]\\]\", r\"\\1\", s)\n",
    "    # Remove bold markup and italic markup\n",
    "    s = s.replace(\"''\", \"\")\n",
    "    return s\n",
    "\n",
    "\n",
    "\n",
    "tagger = MeCab.Tagger(f\"-r {mecabrc} -d {dicdir}\")\n",
    "freq = Counter()\n",
    "\n",
    "with open('jawiki-country.json', 'r') as f:\n",
    "    for line in f:\n",
    "        obj = json.loads(line)\n",
    "        clean = remove_markup(obj[\"text\"])\n",
    "        node = tagger.parseToNode(clean)\n",
    "        while node:\n",
    "            parts = node.feature.split(',')\n",
    "            if parts[0] == \"名詞\":\n",
    "                freq[node.surface] += 1\n",
    "            node = node.next\n",
    "\n",
    "for word, count in freq.most_common(20):\n",
    "    print(f\"{word}\\t{count}\")"
   ]
  },
  {
   "cell_type": "markdown",
   "id": "cf7a1a35",
   "metadata": {},
   "source": [
    "## 38. TF・IDF\n",
    "日本に関する記事における名詞のTF・IDFスコアを求め、TF・IDFスコア上位20語とそのTF, IDF, TF・IDFを表示せよ。"
   ]
  },
  {
   "cell_type": "code",
   "execution_count": 34,
   "id": "3b3694eb",
   "metadata": {},
   "outputs": [
    {
     "name": "stdout",
     "output_type": "stream",
     "text": [
      "天皇\ttf: 0.0033921613568645426\tidf: 2.6802\ttf * idf: 0.0091\n",
      "倭国\ttf: 0.0014210405684162274\tidf: 4.8203\ttf * idf: 0.0068\n",
      "朝鮮\ttf: 0.002842081136832455\tidf: 2.2553\ttf * idf: 0.0064\n",
      "列島\ttf: 0.0019711207884483156\tidf: 3.1155\ttf * idf: 0.0061\n",
      "書紀\ttf: 0.001100160440064176\tidf: 5.5134\ttf * idf: 0.0061\n",
      "明治\ttf: 0.0022461608984643594\tidf: 2.3779\ttf * idf: 0.0053\n",
      "琉球\ttf: 0.0011918404767361907\tidf: 4.4148\ttf * idf: 0.0053\n",
      "沖縄\ttf: 0.0017877607151042861\tidf: 2.8744\ttf * idf: 0.0051\n",
      "倭\ttf: 0.0010543204217281687\tidf: 4.8203\ttf * idf: 0.0051\n",
      "県\ttf: 0.007930323172129269\tidf: 0.6156\ttf * idf: 0.0049\n",
      "北海道\ttf: 0.0017419206967682788\tidf: 2.6231\ttf * idf: 0.0046\n",
      "神武\ttf: 0.0007792803117121247\tidf: 5.5134\ttf * idf: 0.0043\n",
      "千島\ttf: 0.000825120330048132\tidf: 4.8203\ttf * idf: 0.0040\n",
      "韓国\ttf: 0.0024295209718083887\tidf: 1.6014\ttf * idf: 0.0039\n",
      "昭和\ttf: 0.001512720605088242\tidf: 2.5177\ttf * idf: 0.0038\n",
      "にほん\ttf: 0.0006876002750401101\tidf: 5.5134\ttf * idf: 0.0038\n",
      "にっぽん\ttf: 0.0006876002750401101\tidf: 5.5134\ttf * idf: 0.0038\n",
      "樺太\ttf: 0.0009168003667201467\tidf: 4.1271\ttf * idf: 0.0038\n",
      "都\ttf: 0.001925280770112308\tidf: 1.9581\ttf * idf: 0.0038\n",
      "ニホン\ttf: 0.0007792803117121247\tidf: 4.8203\ttf * idf: 0.0038\n"
     ]
    }
   ],
   "source": [
    "import json\n",
    "import MeCab\n",
    "import math\n",
    "import re\n",
    "from collections import Counter\n",
    "\n",
    "\n",
    "tagger = MeCab.Tagger(f\"-r {mecabrc} -d {dicdir}\")\n",
    "\n",
    "n = 0   # number of files\n",
    "df = Counter()  # a dictionary: {word : number of files where the word happen}\n",
    "tf_japan = Counter()\n",
    "n_japan = 0\n",
    "\n",
    "with open('jawiki-country.json', 'r') as f:\n",
    "    for line in f:\n",
    "        # Count files\n",
    "        n += 1\n",
    "\n",
    "        # Load the current file\n",
    "        article = json.loads(line)\n",
    "        text = remove_markup(article['text'])\n",
    "\n",
    "        # Collect all the nouns in the current file\n",
    "        node = tagger.parseToNode(text)\n",
    "        nouns = []\n",
    "\n",
    "        # Collect all the nouns in the current file\n",
    "        while node:\n",
    "            surface = node.surface\n",
    "            if re.fullmatch(r'[A-Za-z0-9]+', surface):\n",
    "                node = node.next\n",
    "                continue\n",
    "            if node.feature.split(',')[0] == '名詞':\n",
    "                nouns.append(surface)\n",
    "            node = node.next\n",
    "\n",
    "        # If the title is 日本, compute the times of appearing at article whose title is '日本'\n",
    "        # This is not a real tf_japan\n",
    "        if article['title'] == '日本':\n",
    "            tf_japan = Counter(nouns)\n",
    "            n_japan = len(nouns)\n",
    "        # Count df\n",
    "        for noun in set(nouns):\n",
    "            df[noun] += 1\n",
    "\n",
    "# Obtain the real tf_japan by deviding the number of words in article whose title is '日本'.\n",
    "for word in tf_japan:\n",
    "    tf_japan[word] /= n_japan\n",
    "results = []\n",
    "for noun, tf in tf_japan.items():\n",
    "    idf = math.log(n / df[noun])\n",
    "    tfidf = tf * idf\n",
    "    results.append((noun, tf, idf, tfidf))\n",
    "\n",
    "for noun, tf, idf, tfidf in sorted(results, key=lambda x: x[3], reverse=True)[:20]:\n",
    "    print(f'{noun}\\ttf: {tf}\\tidf: {idf:.4f}\\ttf * idf: {tfidf:.4f}')"
   ]
  },
  {
   "cell_type": "markdown",
   "id": "e25bbf89",
   "metadata": {},
   "source": [
    "## 39. Zipfの法則\n",
    "コーパスにおける単語の出現頻度順位を横軸、その出現頻度を縦軸として、両対数グラフをプロットせよ。"
   ]
  },
  {
   "cell_type": "code",
   "execution_count": 36,
   "id": "071fe10c",
   "metadata": {},
   "outputs": [],
   "source": [
    "import MeCab\n",
    "import json\n",
    "import pickle\n",
    "from collections import Counter\n",
    "\n",
    "\n",
    "tagger = MeCab.Tagger(f\"-r {mecabrc} -d {dicdir}\")\n",
    "\n",
    "freq = Counter()\n",
    "with open('jawiki-country.json', 'r') as f:\n",
    "    for line in f:\n",
    "        article = json.loads(line)\n",
    "        node = tagger.parseToNode(article['text'])\n",
    "        while node:\n",
    "            surface = node.surface\n",
    "            parts = node.feature.split('t')\n",
    "            if parts[0] != '記号' and surface.strip():\n",
    "                freq[surface] += 1\n",
    "            node = node.next\n",
    "\n",
    "counts = [count for _, count in freq.most_common()]\n",
    "ranks  = list(range(1, len(counts) + 1))\n",
    "\n",
    "# Use pkl file to store temporary data to avoid libraries collision (numpy).\n",
    "with open('zipf_data.pkl', 'wb') as f:\n",
    "    pickle.dump({'counts': counts, 'ranks': ranks}, f)"
   ]
  },
  {
   "cell_type": "code",
   "execution_count": 38,
   "id": "83c49ab6",
   "metadata": {},
   "outputs": [
    {
     "name": "stderr",
     "output_type": "stream",
     "text": [
      "/opt/anaconda3/envs/nlp100/lib/python3.13/site-packages/IPython/core/pylabtools.py:170: UserWarning: Glyph 20986 (\\N{CJK UNIFIED IDEOGRAPH-51FA}) missing from font(s) DejaVu Sans.\n",
      "  fig.canvas.print_figure(bytes_io, **kw)\n",
      "/opt/anaconda3/envs/nlp100/lib/python3.13/site-packages/IPython/core/pylabtools.py:170: UserWarning: Glyph 29694 (\\N{CJK UNIFIED IDEOGRAPH-73FE}) missing from font(s) DejaVu Sans.\n",
      "  fig.canvas.print_figure(bytes_io, **kw)\n",
      "/opt/anaconda3/envs/nlp100/lib/python3.13/site-packages/IPython/core/pylabtools.py:170: UserWarning: Glyph 38971 (\\N{CJK UNIFIED IDEOGRAPH-983B}) missing from font(s) DejaVu Sans.\n",
      "  fig.canvas.print_figure(bytes_io, **kw)\n",
      "/opt/anaconda3/envs/nlp100/lib/python3.13/site-packages/IPython/core/pylabtools.py:170: UserWarning: Glyph 24230 (\\N{CJK UNIFIED IDEOGRAPH-5EA6}) missing from font(s) DejaVu Sans.\n",
      "  fig.canvas.print_figure(bytes_io, **kw)\n",
      "/opt/anaconda3/envs/nlp100/lib/python3.13/site-packages/IPython/core/pylabtools.py:170: UserWarning: Glyph 38918 (\\N{CJK UNIFIED IDEOGRAPH-9806}) missing from font(s) DejaVu Sans.\n",
      "  fig.canvas.print_figure(bytes_io, **kw)\n",
      "/opt/anaconda3/envs/nlp100/lib/python3.13/site-packages/IPython/core/pylabtools.py:170: UserWarning: Glyph 20301 (\\N{CJK UNIFIED IDEOGRAPH-4F4D}) missing from font(s) DejaVu Sans.\n",
      "  fig.canvas.print_figure(bytes_io, **kw)\n"
     ]
    },
    {
     "data": {
      "image/png": "[encoded data removed]",
      "text/plain": [
       "<Figure size 640x480 with 1 Axes>"
      ]
     },
     "metadata": {},
     "output_type": "display_data"
    }
   ],
   "source": [
    "import pickle\n",
    "import matplotlib.pyplot as plt\n",
    "\n",
    "\n",
    "with open('zipf_data.pkl', 'rb') as f:\n",
    "    data = pickle.load(f)\n",
    "\n",
    "counts = data['counts']\n",
    "ranks = data['ranks']\n",
    "\n",
    "plt.figure()\n",
    "plt.loglog(ranks, counts)\n",
    "plt.xlabel('出現頻度順位')\n",
    "plt.ylabel('出現頻度')\n",
    "plt.title('Zipf')\n",
    "plt.show()"
   ]
  }
 ],
 "metadata": {
  "kernelspec": {
   "display_name": "nlp100",
   "language": "python",
   "name": "python3"
  },
  "language_info": {
   "codemirror_mode": {
    "name": "ipython",
    "version": 3
   },
   "file_extension": ".py",
   "mimetype": "text/x-python",
   "name": "python",
   "nbconvert_exporter": "python",
   "pygments_lexer": "ipython3",
   "version": "3.13.2"
  }
 },
 "nbformat": 4,
 "nbformat_minor": 5
}
