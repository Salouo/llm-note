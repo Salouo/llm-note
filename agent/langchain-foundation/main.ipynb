{
 "cells": [
  {
   "cell_type": "markdown",
   "id": "2bc5f08f",
   "metadata": {},
   "source": [
    "# Chapter04: LangChain Foundation"
   ]
  },
  {
   "cell_type": "markdown",
   "id": "f313cbe9",
   "metadata": {},
   "source": [
    "Export OPENAI_API_KEY"
   ]
  },
  {
   "cell_type": "code",
   "execution_count": 1,
   "id": "bd82c858",
   "metadata": {},
   "outputs": [],
   "source": [
    "from dotenv import load_dotenv\n",
    "\n",
    "loaded = load_dotenv()"
   ]
  },
  {
   "cell_type": "markdown",
   "id": "d35f06dd",
   "metadata": {},
   "source": [
    "## 4.1 Try a Simple Q&A"
   ]
  },
  {
   "cell_type": "code",
   "execution_count": 3,
   "id": "6ac2ddd8",
   "metadata": {},
   "outputs": [
    {
     "name": "stdout",
     "output_type": "stream",
     "text": [
      "\n",
      "\n",
      "Hello, my name is [Name]. I am [age] years old and I am from [city/country]. I am a [occupation/study] and I am passionate about [interest/hobby]. In my free time, I enjoy [activity/hobby]. I am excited to get to know you and learn more about you.\n"
     ]
    }
   ],
   "source": [
    "from langchain_openai import OpenAI\n",
    "\n",
    "model = OpenAI(model=\"gpt-3.5-turbo-instruct\", temperature=0)\n",
    "output = model.invoke(\"Please introduce yourself.\")\n",
    "print(output)"
   ]
  },
  {
   "cell_type": "markdown",
   "id": "26713c48",
   "metadata": {},
   "source": [
    "## 4.2 Multi-turn Dialogue"
   ]
  },
  {
   "cell_type": "markdown",
   "id": "2d98c256",
   "metadata": {},
   "source": [
    "`SystemMessage`, `HumanMessage`, and `AIMessage` corresponds to components in OpenAI's Chat Completions.\n",
    "\n",
    "---\n",
    "\n",
    "```text\n",
    "`SystemMessage` <--> `\"role\": \"system\"`\n",
    "\n",
    "`HumanMessage` <--> `\"role\": \"user\"`\n",
    "\n",
    "`AIMessage` <--> `\"role\": \"assistant\"`\n",
    "```\n",
    "\n",
    "\n",
    "---\n",
    "\n",
    "```json\n",
    "{\n",
    "    \"model\": \"gpt-4o\"\n",
    "    \"messages\": [\n",
    "        {\"role\": \"system\", \"content\": \"You are a helpful assistant.\"},\n",
    "        {\"role\": \"user\", \"content\": \"Hi! I am Chen!\"},\n",
    "        {\"role\": \"assistant\", \"content\": \"Hi, Chen. How can I help you?\"},\n",
    "        {\"role\": \"user\", \"content\": \"Do you know my name?\"},\n",
    "    ],\n",
    "    // …omitted… //\n",
    "}\n",
    "```"
   ]
  },
  {
   "cell_type": "code",
   "execution_count": null,
   "id": "2adfbc5d",
   "metadata": {},
   "outputs": [
    {
     "name": "stdout",
     "output_type": "stream",
     "text": [
      "Yes, you mentioned that your name is Chen. How can I assist you today?\n"
     ]
    }
   ],
   "source": [
    "from langchain_core.messages import AIMessage, HumanMessage, SystemMessage\n",
    "from langchain_openai import ChatOpenAI\n",
    "\n",
    "model = ChatOpenAI(model=\"gpt-4o\", temperature=0)\n",
    "\n",
    "# `content=` can be omitted\n",
    "messages = [\n",
    "    SystemMessage(\"You are a helpful assistant.\"),\n",
    "    HumanMessage(\"Hi! I am Chen!\"),\n",
    "    AIMessage(content=\"Hi, Chen. How can I help you?\"),\n",
    "    HumanMessage(content=\"Do you know my name?\"),\n",
    "]\n",
    "\n",
    "ai_message = model.invoke(messages)\n",
    "print(ai_message.content)"
   ]
  },
  {
   "cell_type": "markdown",
   "id": "a0cba078",
   "metadata": {},
   "source": [
    "## 4.3 Streaming Mode"
   ]
  },
  {
   "cell_type": "markdown",
   "id": "4e1f30f7",
   "metadata": {},
   "source": [
    "It is similar to use `streaming mode` with to use based on OpenAI's Chat Completions."
   ]
  },
  {
   "cell_type": "code",
   "execution_count": 6,
   "id": "f3a8bfa2",
   "metadata": {},
   "outputs": [
    {
     "name": "stdout",
     "output_type": "stream",
     "text": [
      "Hello! I hope you're having a wonderful day. Remember to take a moment to appreciate the little things around you. Whether it's a warm cup of coffee, a good book, or a friendly smile, these small joys can make a big difference. Stay positive and keep moving forward!"
     ]
    }
   ],
   "source": [
    "from langchain_core.messages import SystemMessage, HumanMessage\n",
    "from langchain_openai import ChatOpenAI\n",
    "\n",
    "model = ChatOpenAI(model=\"gpt-4o\", temperature=0)\n",
    "\n",
    "messages = [\n",
    "    SystemMessage(\"You are a helpful assistant.\"),\n",
    "    HumanMessage(\"Hi! Please say something in 50 words.\"),\n",
    "]\n",
    "\n",
    "for chunk in model.stream(messages):\n",
    "    print(chunk.content, end=\"\", flush=True)"
   ]
  },
  {
   "cell_type": "markdown",
   "id": "a2d63747",
   "metadata": {},
   "source": [
    "## 4.4 Prompt Template"
   ]
  },
  {
   "cell_type": "code",
   "execution_count": 8,
   "id": "5276aabb",
   "metadata": {},
   "outputs": [
    {
     "name": "stdout",
     "output_type": "stream",
     "text": [
      "Please come up with a recipe for the following dish.\n",
      "                                      \n",
      "Dish name: Curry\n"
     ]
    }
   ],
   "source": [
    "from langchain_core.prompts import PromptTemplate\n",
    "\n",
    "prompt = PromptTemplate.from_template(\"\"\"Please come up with a recipe for the following dish.\n",
    "                                      \n",
    "Dish name: {dish}\"\"\")\n",
    "\n",
    "prompt_value = prompt.invoke({\"dish\": \"Curry\"})\n",
    "print(prompt_value.text)"
   ]
  },
  {
   "cell_type": "markdown",
   "id": "c77c748d",
   "metadata": {},
   "source": [
    "```text\n",
    "If we want to use OpenAI's Chat Completions format, we can use `ChatPromptTemplate`.\n",
    "```"
   ]
  },
  {
   "cell_type": "code",
   "execution_count": 10,
   "id": "7cd4c844",
   "metadata": {},
   "outputs": [
    {
     "name": "stdout",
     "output_type": "stream",
     "text": [
      "messages=[SystemMessage(content='Please come up with a recipe for the dish provided by users.', additional_kwargs={}, response_metadata={}), HumanMessage(content='Curry', additional_kwargs={}, response_metadata={})]\n"
     ]
    }
   ],
   "source": [
    "from langchain_core.prompts import ChatPromptTemplate\n",
    "\n",
    "prompt = ChatPromptTemplate.from_messages(\n",
    "    [\n",
    "        # {\"role\": \"system\", \"content\": \"Please come up with a recipe for the dish provided by users.\"}\n",
    "        (\"system\", \"Please come up with a recipe for the dish provided by users.\"),\n",
    "        # {\"role\": \"user\", \"content\": \"{dish}\"}\n",
    "        (\"human\", \"{dish}\"),\n",
    "    ]\n",
    ")\n",
    "\n",
    "prompt_value = prompt.invoke({\"dish\": \"Curry\"})\n",
    "print(prompt_value)"
   ]
  },
  {
   "cell_type": "markdown",
   "id": "41078cfa",
   "metadata": {},
   "source": [
    "### MessagePlaceholder"
   ]
  },
  {
   "cell_type": "code",
   "execution_count": 16,
   "id": "9776c80b",
   "metadata": {},
   "outputs": [
    {
     "name": "stdout",
     "output_type": "stream",
     "text": [
      "messages=[SystemMessage(content='You are a helpful assistant.', additional_kwargs={}, response_metadata={}), HumanMessage(content='Hi! I am Chen!', additional_kwargs={}, response_metadata={}), AIMessage(content='Hi! Chen! How can I help you?', additional_kwargs={}, response_metadata={}), HumanMessage(content='Do you know my name?', additional_kwargs={}, response_metadata={})]\n"
     ]
    }
   ],
   "source": [
    "from langchain_core.messages import AIMessage, HumanMessage\n",
    "from langchain_core.prompts import ChatPromptTemplate, MessagesPlaceholder\n",
    "\n",
    "prompt = ChatPromptTemplate.from_messages(\n",
    "    [\n",
    "        (\"system\", \"You are a helpful assistant.\"),\n",
    "        MessagesPlaceholder(\"chat_history\", optional=True),\n",
    "        (\"human\", \"{input}\"),\n",
    "    ]\n",
    ")\n",
    "\n",
    "prompt_value = prompt.invoke(\n",
    "    {\n",
    "        \"chat_history\": [\n",
    "            HumanMessage(content=\"Hi! I am Chen!\"),\n",
    "            AIMessage(\"Hi! Chen! How can I help you?\"),\n",
    "        ],\n",
    "        \"input\": \"Do you know my name?\"\n",
    "    }\n",
    ")\n",
    "\n",
    "print(prompt_value)"
   ]
  },
  {
   "cell_type": "markdown",
   "id": "3650ebc2",
   "metadata": {},
   "source": [
    "### LangSmith\n",
    "\n",
    "We can use prompts created by others by using `langsmith`."
   ]
  },
  {
   "cell_type": "code",
   "execution_count": 14,
   "id": "b0eacdae",
   "metadata": {},
   "outputs": [
    {
     "name": "stderr",
     "output_type": "stream",
     "text": [
      "/opt/anaconda3/envs/ai-agent-py310/lib/python3.10/site-packages/langsmith/client.py:241: LangSmithMissingAPIKeyWarning: API key must be provided when using hosted LangSmith API\n",
      "  warnings.warn(\n"
     ]
    },
    {
     "name": "stdout",
     "output_type": "stream",
     "text": [
      "messages=[SystemMessage(content='ユーザーが入力した料理のレシピを考えてください。', additional_kwargs={}, response_metadata={}), HumanMessage(content='カレー', additional_kwargs={}, response_metadata={})]\n"
     ]
    }
   ],
   "source": [
    "from langsmith import Client\n",
    "\n",
    "client = Client()\n",
    "prompt = client.pull_prompt(\"oshima/recipe\")\n",
    "\n",
    "prompt_value = prompt.invoke({\"dish\": \"カレー\"})\n",
    "print(prompt_value)"
   ]
  },
  {
   "cell_type": "markdown",
   "id": "3ec5f889",
   "metadata": {},
   "source": [
    "### Multimodal Model's Input Template "
   ]
  },
  {
   "cell_type": "code",
   "execution_count": 19,
   "id": "39a5dc0f",
   "metadata": {},
   "outputs": [],
   "source": [
    "import base64\n",
    "\n",
    "def jpg_to_data_uri(path: str) -> str:\n",
    "    '''\n",
    "    This function is used to convert *.jpg to urls which can be feed into GPT-4o.\n",
    "    '''\n",
    "    with open(path, \"rb\") as f:\n",
    "        b64 = base64.b64encode(f.read()).decode(\"ascii\")\n",
    "    return f\"data:image/jpeg;base64,{b64}\"\n",
    "\n",
    "image_path = \"example_image.jpeg\"\n",
    "image_uri = jpg_to_data_uri(image_path)"
   ]
  },
  {
   "cell_type": "code",
   "execution_count": 21,
   "id": "f41a4319",
   "metadata": {},
   "outputs": [],
   "source": [
    "from langchain_core.prompts import ChatPromptTemplate\n",
    "from langchain_openai import ChatOpenAI\n",
    "\n",
    "prompt = ChatPromptTemplate.from_messages(\n",
    "    [\n",
    "        (\n",
    "            \"user\",\n",
    "            [\n",
    "                {\"type\": \"text\", \"text\": \"Please describe this image.\"},\n",
    "                {\"type\": \"image_url\", \"image_url\": {\"url\": \"{image_url}\"}}\n",
    "            ],\n",
    "        ),\n",
    "    ]\n",
    ")\n",
    "\n",
    "prompt_value = prompt.invoke({\"image_url\": image_uri})"
   ]
  },
  {
   "cell_type": "code",
   "execution_count": 22,
   "id": "a709abdc",
   "metadata": {},
   "outputs": [
    {
     "name": "stdout",
     "output_type": "stream",
     "text": [
      "The image shows a simple, empty room with wooden flooring. There is a large window with sheer white curtains allowing light to enter. An air conditioning unit is mounted above the window. On the floor, there is a suitcase and several bags, including a tote bag and a backpack, placed against the wall. The room appears to be minimally furnished and tidy.\n"
     ]
    }
   ],
   "source": [
    "model = ChatOpenAI(model=\"gpt-4o\", temperature=0)\n",
    "ai_message = model.invoke(prompt_value)\n",
    "print(ai_message.content)"
   ]
  },
  {
   "cell_type": "markdown",
   "id": "6bc56292",
   "metadata": {},
   "source": [
    "## 4.5 PydanticOutputParser"
   ]
  },
  {
   "cell_type": "markdown",
   "id": "e40ea8d0",
   "metadata": {},
   "source": [
    "We can get Python objects from LLMs' outputs by using `PydanticOutputParser`."
   ]
  },
  {
   "cell_type": "code",
   "execution_count": 2,
   "id": "1737cf14",
   "metadata": {},
   "outputs": [],
   "source": [
    "from pydantic import BaseModel, Field\n",
    "from langchain_core.output_parsers import PydanticOutputParser\n",
    "\n",
    "class Recipe(BaseModel):\n",
    "    ingredientt: list[str] = Field(description=\"ingredients of the dish\")\n",
    "    steps: list[str] = Field(description=\"steps to make the dish\")\n",
    "\n",
    "output_parser = PydanticOutputParser(pydantic_object=Recipe)"
   ]
  },
  {
   "cell_type": "markdown",
   "id": "657eff89",
   "metadata": {},
   "source": [
    "Here are the instructions fed to the LLMs to guide their outputs. These instructions will **be embedded into** the prompts."
   ]
  },
  {
   "cell_type": "code",
   "execution_count": 3,
   "id": "ba17d50e",
   "metadata": {},
   "outputs": [
    {
     "name": "stdout",
     "output_type": "stream",
     "text": [
      "The output should be formatted as a JSON instance that conforms to the JSON schema below.\n",
      "\n",
      "As an example, for the schema {\"properties\": {\"foo\": {\"title\": \"Foo\", \"description\": \"a list of strings\", \"type\": \"array\", \"items\": {\"type\": \"string\"}}}, \"required\": [\"foo\"]}\n",
      "the object {\"foo\": [\"bar\", \"baz\"]} is a well-formatted instance of the schema. The object {\"properties\": {\"foo\": [\"bar\", \"baz\"]}} is not well-formatted.\n",
      "\n",
      "Here is the output schema:\n",
      "```\n",
      "{\"properties\": {\"ingredientt\": {\"description\": \"ingredients of the dish\", \"items\": {\"type\": \"string\"}, \"title\": \"Ingredientt\", \"type\": \"array\"}, \"steps\": {\"description\": \"steps to make the dish\", \"items\": {\"type\": \"string\"}, \"title\": \"Steps\", \"type\": \"array\"}}, \"required\": [\"ingredientt\", \"steps\"]}\n",
      "```\n"
     ]
    }
   ],
   "source": [
    "format_instructions = output_parser.get_format_instructions()\n",
    "print(format_instructions)"
   ]
  },
  {
   "cell_type": "code",
   "execution_count": 10,
   "id": "1774ee5e",
   "metadata": {},
   "outputs": [],
   "source": [
    "from langchain_core.prompts import ChatPromptTemplate\n",
    "\n",
    "prompt = ChatPromptTemplate(\n",
    "    [\n",
    "        (\n",
    "            \"system\",\n",
    "            \"Please come up with a recipe based on the given dish name.\\n\\n{format_instructions}\",\n",
    "        ),\n",
    "        (\"human\", \"{dish}\"),\n",
    "    ]\n",
    ")\n",
    "\n",
    "prompt_with_format_instructions = prompt.partial(\n",
    "    format_instructions=format_instructions\n",
    ")\n"
   ]
  },
  {
   "cell_type": "code",
   "execution_count": 11,
   "id": "7478d937",
   "metadata": {},
   "outputs": [
    {
     "name": "stdout",
     "output_type": "stream",
     "text": [
      "=== role: system ===\n",
      "Please come up with a recipe based on the given dish name.\n",
      "\n",
      "The output should be formatted as a JSON instance that conforms to the JSON schema below.\n",
      "\n",
      "As an example, for the schema {\"properties\": {\"foo\": {\"title\": \"Foo\", \"description\": \"a list of strings\", \"type\": \"array\", \"items\": {\"type\": \"string\"}}}, \"required\": [\"foo\"]}\n",
      "the object {\"foo\": [\"bar\", \"baz\"]} is a well-formatted instance of the schema. The object {\"properties\": {\"foo\": [\"bar\", \"baz\"]}} is not well-formatted.\n",
      "\n",
      "Here is the output schema:\n",
      "```\n",
      "{\"properties\": {\"ingredientt\": {\"description\": \"ingredients of the dish\", \"items\": {\"type\": \"string\"}, \"title\": \"Ingredientt\", \"type\": \"array\"}, \"steps\": {\"description\": \"steps to make the dish\", \"items\": {\"type\": \"string\"}, \"title\": \"Steps\", \"type\": \"array\"}}, \"required\": [\"ingredientt\", \"steps\"]}\n",
      "```\n",
      "=== role: user ===\n",
      "Curry\n"
     ]
    }
   ],
   "source": [
    "prompt_value = prompt_with_format_instructions.invoke({\"dish\": \"Curry\"})\n",
    "print(\"=== role: system ===\")\n",
    "print(prompt_value.messages[0].content)\n",
    "print(\"=== role: user ===\")\n",
    "print(prompt_value.messages[1].content)"
   ]
  },
  {
   "cell_type": "code",
   "execution_count": 14,
   "id": "e8019d77",
   "metadata": {},
   "outputs": [
    {
     "name": "stdout",
     "output_type": "stream",
     "text": [
      "```json\n",
      "{\n",
      "    \"ingredientt\": [\n",
      "        \"2 tablespoons vegetable oil\",\n",
      "        \"1 large onion, finely chopped\",\n",
      "        \"3 cloves garlic, minced\",\n",
      "        \"1 tablespoon fresh ginger, grated\",\n",
      "        \"2 teaspoons ground cumin\",\n",
      "        \"2 teaspoons ground coriander\",\n",
      "        \"1 teaspoon turmeric\",\n",
      "        \"1 teaspoon chili powder\",\n",
      "        \"1 teaspoon garam masala\",\n",
      "        \"1 can (14 oz) diced tomatoes\",\n",
      "        \"1 cup coconut milk\",\n",
      "        \"1 pound chicken breast, cut into bite-sized pieces\",\n",
      "        \"Salt to taste\",\n",
      "        \"Fresh cilantro, chopped (for garnish)\"\n",
      "    ],\n",
      "    \"steps\": [\n",
      "        \"Heat the vegetable oil in a large pan over medium heat.\",\n",
      "        \"Add the chopped onion and sauté until it becomes translucent.\",\n",
      "        \"Stir in the minced garlic and grated ginger, cooking for another minute until fragrant.\",\n",
      "        \"Add the ground cumin, coriander, turmeric, chili powder, and garam masala. Stir well to coat the onions and release the spices' aroma.\",\n",
      "        \"Pour in the diced tomatoes and coconut milk, stirring to combine.\",\n",
      "        \"Add the chicken pieces to the pan, ensuring they are submerged in the sauce.\",\n",
      "        \"Season with salt to taste.\",\n",
      "        \"Bring the mixture to a simmer, then reduce the heat to low and cover the pan.\",\n",
      "        \"Cook for 20-25 minutes, or until the chicken is cooked through and tender.\",\n",
      "        \"Garnish with fresh cilantro before serving.\",\n",
      "        \"Serve hot with rice or naan bread.\"\n",
      "    ]\n",
      "}\n",
      "```\n"
     ]
    }
   ],
   "source": [
    "from langchain_openai import ChatOpenAI\n",
    "\n",
    "model = ChatOpenAI(model=\"gpt-4o\", temperature=0)\n",
    "\n",
    "ai_message = model.invoke(prompt_value)\n",
    "print(ai_message.content)"
   ]
  },
  {
   "cell_type": "markdown",
   "id": "4725ae16",
   "metadata": {},
   "source": [
    "Now, we sucessfully obtain the Python object `Recipe`.\n",
    "\n",
    "- A string specifying the output format is automatically generated from the `Recipe` class definition.\n",
    "\n",
    "- The LLM’s output could then be easily converted into an instance of the `Recipe` class."
   ]
  },
  {
   "cell_type": "markdown",
   "id": "ad6cb1bd",
   "metadata": {},
   "source": [
    "**However, if the LLM returns incomplete JSON text, an error will be raised.**"
   ]
  },
  {
   "cell_type": "code",
   "execution_count": 15,
   "id": "fef07783",
   "metadata": {},
   "outputs": [
    {
     "name": "stdout",
     "output_type": "stream",
     "text": [
      "<class '__main__.Recipe'>\n",
      "ingredientt=['2 tablespoons vegetable oil', '1 large onion, finely chopped', '3 cloves garlic, minced', '1 tablespoon fresh ginger, grated', '2 teaspoons ground cumin', '2 teaspoons ground coriander', '1 teaspoon turmeric', '1 teaspoon chili powder', '1 teaspoon garam masala', '1 can (14 oz) diced tomatoes', '1 cup coconut milk', '1 pound chicken breast, cut into bite-sized pieces', 'Salt to taste', 'Fresh cilantro, chopped (for garnish)'] steps=['Heat the vegetable oil in a large pan over medium heat.', 'Add the chopped onion and sauté until it becomes translucent.', 'Stir in the minced garlic and grated ginger, cooking for another minute until fragrant.', \"Add the ground cumin, coriander, turmeric, chili powder, and garam masala. Stir well to coat the onions and release the spices' aroma.\", 'Pour in the diced tomatoes and coconut milk, stirring to combine.', 'Add the chicken pieces to the pan, ensuring they are submerged in the sauce.', 'Season with salt to taste.', 'Bring the mixture to a simmer, then reduce the heat to low and cover the pan.', 'Cook for 20-25 minutes, or until the chicken is cooked through and tender.', 'Garnish with fresh cilantro before serving.', 'Serve hot with rice or naan bread.']\n"
     ]
    }
   ],
   "source": [
    "recipe = output_parser.invoke(ai_message)\n",
    "print(type(recipe))\n",
    "print(recipe)"
   ]
  },
  {
   "cell_type": "markdown",
   "id": "57433665",
   "metadata": {},
   "source": [
    "## 4.6 StrOutputParser"
   ]
  },
  {
   "cell_type": "code",
   "execution_count": 19,
   "id": "f05b43b3",
   "metadata": {},
   "outputs": [
    {
     "name": "stdout",
     "output_type": "stream",
     "text": [
      "<class 'langchain_core.messages.ai.AIMessage'>\n",
      "Hi! I am an AI assistant.\n",
      "-----------------------------\n",
      "<class 'str'>\n",
      "Hi! I am an AI assistant.\n"
     ]
    }
   ],
   "source": [
    "from langchain_core.messages import AIMessage\n",
    "from langchain_core.output_parsers import StrOutputParser\n",
    "\n",
    "output_parser = StrOutputParser()\n",
    "\n",
    "ai_message = AIMessage(content=\"Hi! I am an AI assistant.\")\n",
    "print(type(ai_message))\n",
    "print(ai_message.content)\n",
    "print(\"-----------------------------\")\n",
    "output = output_parser.invoke(ai_message)\n",
    "print(type(output))\n",
    "print(output)"
   ]
  },
  {
   "cell_type": "markdown",
   "id": "dac48164",
   "metadata": {},
   "source": [
    "## 4.7 LangChain Expression Language (LCEL)"
   ]
  },
  {
   "cell_type": "markdown",
   "id": "399528ec",
   "metadata": {},
   "source": [
    "### Try a simple example"
   ]
  },
  {
   "cell_type": "code",
   "execution_count": 21,
   "id": "0416762b",
   "metadata": {},
   "outputs": [],
   "source": [
    "from langchain_core.prompts import ChatPromptTemplate\n",
    "from langchain_openai import ChatOpenAI\n",
    "\n",
    "prompt = ChatPromptTemplate(\n",
    "    [\n",
    "        (\"system\", \"Please come up with a recipe based on the given dish name.\"),\n",
    "        (\"human\", \"{dish}\"),\n",
    "    ]\n",
    ")\n",
    "\n",
    "model = ChatOpenAI(model_name=\"gpt-4o\", temperature=0)"
   ]
  },
  {
   "cell_type": "markdown",
   "id": "a95c256c",
   "metadata": {},
   "source": [
    "**Create a `Chain`**"
   ]
  },
  {
   "cell_type": "code",
   "execution_count": 22,
   "id": "8ab29987",
   "metadata": {},
   "outputs": [],
   "source": [
    "chain = prompt | model"
   ]
  },
  {
   "cell_type": "code",
   "execution_count": 23,
   "id": "b67b99da",
   "metadata": {},
   "outputs": [
    {
     "name": "stdout",
     "output_type": "stream",
     "text": [
      "Certainly! Here's a simple and delicious recipe for a classic Chicken Curry:\n",
      "\n",
      "### Ingredients:\n",
      "- 1.5 lbs (about 700g) chicken thighs, boneless and skinless, cut into bite-sized pieces\n",
      "- 2 tablespoons vegetable oil\n",
      "- 1 large onion, finely chopped\n",
      "- 3 cloves garlic, minced\n",
      "- 1 tablespoon fresh ginger, grated\n",
      "- 2 teaspoons ground cumin\n",
      "- 2 teaspoons ground coriander\n",
      "- 1 teaspoon turmeric powder\n",
      "- 1 teaspoon garam masala\n",
      "- 1 teaspoon chili powder (adjust to taste)\n",
      "- 1 can (14 oz) coconut milk\n",
      "- 1 cup chicken broth\n",
      "- 2 tablespoons tomato paste\n",
      "- Salt and pepper to taste\n",
      "- Fresh cilantro, chopped, for garnish\n",
      "- Cooked basmati rice, for serving\n",
      "\n",
      "### Instructions:\n",
      "\n",
      "1. **Prepare the Chicken:**\n",
      "   - Season the chicken pieces with salt and pepper.\n",
      "\n",
      "2. **Cook the Aromatics:**\n",
      "   - Heat the vegetable oil in a large pan over medium heat.\n",
      "   - Add the chopped onion and sauté until it becomes translucent, about 5 minutes.\n",
      "   - Stir in the garlic and ginger, cooking for another 2 minutes until fragrant.\n",
      "\n",
      "3. **Add the Spices:**\n",
      "   - Add the cumin, coriander, turmeric, garam masala, and chili powder to the pan.\n",
      "   - Stir well to coat the onions, garlic, and ginger with the spices, cooking for about 1 minute.\n",
      "\n",
      "4. **Cook the Chicken:**\n",
      "   - Add the chicken pieces to the pan, stirring to coat them with the spice mixture.\n",
      "   - Cook until the chicken is browned on all sides, about 5-7 minutes.\n",
      "\n",
      "5. **Simmer the Curry:**\n",
      "   - Pour in the coconut milk and chicken broth, stirring to combine.\n",
      "   - Add the tomato paste and mix well.\n",
      "   - Bring the mixture to a gentle simmer, then reduce the heat to low.\n",
      "   - Cover the pan and let the curry simmer for about 20-25 minutes, or until the chicken is cooked through and tender.\n",
      "\n",
      "6. **Adjust Seasoning:**\n",
      "   - Taste the curry and adjust the seasoning with more salt, pepper, or chili powder if needed.\n",
      "\n",
      "7. **Serve:**\n",
      "   - Serve the chicken curry hot over a bed of cooked basmati rice.\n",
      "   - Garnish with freshly chopped cilantro.\n",
      "\n",
      "Enjoy your homemade chicken curry! Feel free to adjust the spice levels and ingredients to suit your taste preferences.\n"
     ]
    }
   ],
   "source": [
    "ai_message = chain.invoke({\"dish\": \"Curry\"})\n",
    "print(ai_message.content)"
   ]
  },
  {
   "cell_type": "markdown",
   "id": "2e6610e0",
   "metadata": {},
   "source": [
    "### From `prompt template`  to  `parser`"
   ]
  },
  {
   "cell_type": "markdown",
   "id": "f912a394",
   "metadata": {},
   "source": [
    "1. Prepare the `Recipe` class and `parser`"
   ]
  },
  {
   "cell_type": "code",
   "execution_count": 25,
   "id": "b7b3d1d2",
   "metadata": {},
   "outputs": [],
   "source": [
    "from pydantic import BaseModel, Field\n",
    "from langchain_core.output_parsers import PydanticOutputParser\n",
    "\n",
    "class Recipe(BaseModel):\n",
    "    ingredientt: list[str] = Field(description=\"ingredients of the dish\")\n",
    "    steps: list[str] = Field(description=\"steps to make the dish\")\n",
    "\n",
    "output_parser = PydanticOutputParser(pydantic_object=Recipe)"
   ]
  },
  {
   "cell_type": "markdown",
   "id": "a7f60014",
   "metadata": {},
   "source": [
    "2. Prepare the `prompt template` and the `model`"
   ]
  },
  {
   "cell_type": "code",
   "execution_count": 26,
   "id": "2545cf03",
   "metadata": {},
   "outputs": [],
   "source": [
    "from langchain_core.prompts import ChatPromptTemplate\n",
    "from langchain_openai import ChatOpenAI\n",
    "\n",
    "prompt = ChatPromptTemplate(\n",
    "    [\n",
    "        (\"system\", \"Please come up with a recipe based on the given dish name.\\n\\n{format_instructions}\"),\n",
    "        (\"human\", \"{dish}\"),\n",
    "    ]\n",
    ")\n",
    "\n",
    "prompt_with_format_instructions = prompt.partial(\n",
    "    format_instructions=output_parser.get_format_instructions()\n",
    ")\n",
    "\n",
    "# Guide the model to use `JSON mode`\n",
    "model = ChatOpenAI(model=\"gpt-4o\", temperature=0).bind(\n",
    "    response_format={\"type\": \"json_object\"}\n",
    ")"
   ]
  },
  {
   "cell_type": "markdown",
   "id": "260a4f44",
   "metadata": {},
   "source": [
    "3. Create a chain"
   ]
  },
  {
   "cell_type": "code",
   "execution_count": 27,
   "id": "7de4fc69",
   "metadata": {},
   "outputs": [],
   "source": [
    "chain = prompt_with_format_instructions | model | output_parser"
   ]
  },
  {
   "cell_type": "markdown",
   "id": "eea0f6cb",
   "metadata": {},
   "source": [
    "4. Obtain the results"
   ]
  },
  {
   "cell_type": "code",
   "execution_count": 28,
   "id": "d4907cc0",
   "metadata": {},
   "outputs": [
    {
     "name": "stdout",
     "output_type": "stream",
     "text": [
      "<class '__main__.Recipe'>\n",
      "ingredientt=['2 tablespoons vegetable oil', '1 large onion, finely chopped', '3 cloves garlic, minced', '1 tablespoon fresh ginger, grated', '2 tablespoons curry powder', '1 teaspoon ground cumin', '1 teaspoon ground coriander', '1/2 teaspoon turmeric', '1/2 teaspoon cayenne pepper', '1 can (14 oz) coconut milk', '1 can (14 oz) diced tomatoes', '1 pound chicken breast, cut into bite-sized pieces', 'Salt to taste', 'Fresh cilantro, chopped (for garnish)'] steps=['Heat the vegetable oil in a large pan over medium heat.', 'Add the chopped onion and sauté until translucent, about 5 minutes.', 'Stir in the minced garlic and grated ginger, cooking for another 2 minutes.', \"Add the curry powder, ground cumin, ground coriander, turmeric, and cayenne pepper. Stir well to coat the onions and cook for 1 minute to release the spices' aroma.\", 'Pour in the coconut milk and diced tomatoes, stirring to combine.', 'Add the chicken pieces to the pan, ensuring they are submerged in the sauce.', 'Bring the mixture to a simmer, then reduce the heat to low and cover the pan.', 'Cook for 20-25 minutes, or until the chicken is cooked through and tender.', 'Season with salt to taste.', 'Garnish with fresh cilantro before serving.']\n"
     ]
    }
   ],
   "source": [
    "recipe = chain.invoke({\"dish\": \"Curry\"})\n",
    "print(type(recipe))\n",
    "print(recipe)"
   ]
  },
  {
   "cell_type": "markdown",
   "id": "122e5fa1",
   "metadata": {},
   "source": [
    "**A simpler example with using `.with_structured_output`**"
   ]
  },
  {
   "cell_type": "markdown",
   "id": "ae0f9794",
   "metadata": {},
   "source": [
    "However, some models may not support this function."
   ]
  },
  {
   "cell_type": "code",
   "execution_count": null,
   "id": "9d89c505",
   "metadata": {},
   "outputs": [
    {
     "name": "stdout",
     "output_type": "stream",
     "text": [
      "<class '__main__.Recipe'>\n",
      "ingredients=['2 tablespoons vegetable oil', '1 large onion, finely chopped', '3 cloves garlic, minced', '1 tablespoon fresh ginger, grated', '2 tablespoons curry powder', '1 teaspoon ground cumin', '1 teaspoon ground coriander', '1/2 teaspoon turmeric', '1/4 teaspoon cayenne pepper (optional)', '1 can (14 oz) coconut milk', '1 can (14 oz) diced tomatoes', '1 pound chicken breast, cut into bite-sized pieces', 'Salt and pepper to taste', '2 cups cooked rice', 'Fresh cilantro, chopped (for garnish)'] steps=['Heat the vegetable oil in a large pot over medium heat.', 'Add the chopped onion and sauté until translucent, about 5 minutes.', 'Stir in the minced garlic and grated ginger, cooking until fragrant, about 1 minute.', 'Add the curry powder, ground cumin, ground coriander, turmeric, and cayenne pepper (if using) to the pot. Stir well to coat the onions and garlic with the spices.', 'Pour in the coconut milk and diced tomatoes. Stir to combine.', 'Add the chicken pieces to the pot, ensuring they are covered with the sauce.', 'Season with salt and pepper to taste, then bring the mixture to a simmer.', 'Cover the pot and let it cook for about 20-25 minutes, or until the chicken is cooked through and tender.', 'Serve the curry over cooked rice and garnish with fresh cilantro.']\n"
     ]
    }
   ],
   "source": [
    "from langchain_core.prompts import ChatPromptTemplate\n",
    "from langchain_openai import ChatOpenAI\n",
    "from pydantic import BaseModel, Field\n",
    "\n",
    "class Recipe(BaseModel):\n",
    "    ingredients: list[str] = Field(description=\"ingredients of the dish\")\n",
    "    steps: list[str] = Field(description=\"steps to make the dish\")\n",
    "\n",
    "prompt = ChatPromptTemplate.from_messages(\n",
    "    [\n",
    "        (\"system\", \"Please come up with a recipe based on the given dish name.\"),\n",
    "        (\"human\", \"{dish}\"),\n",
    "    ]\n",
    ")\n",
    "\n",
    "model = ChatOpenAI(model=\"gpt-4o\")\n",
    "\n",
    "# `.with_structured_output is uesd to guide the model to output in JSON format.`\n",
    "chain = prompt | model.with_structured_output(Recipe)\n",
    "\n",
    "recipe = chain.invoke({\"dish\": \"Curry\"})\n",
    "print(type(recipe))\n",
    "print(recipe)"
   ]
  },
  {
   "cell_type": "markdown",
   "id": "59161dba",
   "metadata": {},
   "source": [
    "## 4.8 Attemption of RAG"
   ]
  },
  {
   "cell_type": "code",
   "execution_count": 5,
   "id": "5043bf86",
   "metadata": {},
   "outputs": [
    {
     "name": "stdout",
     "output_type": "stream",
     "text": [
      "419\n"
     ]
    }
   ],
   "source": [
    "from langchain_community.document_loaders import GitLoader\n",
    "\n",
    "def file_filter(file_path: str) -> bool:\n",
    "    return file_path.endswith(\".mdx\")\n",
    "\n",
    "loader = GitLoader(\n",
    "    clone_url=\"https://github.com/langchain-ai/langchain\",\n",
    "    repo_path=\"./langchain\",\n",
    "    branch=\"master\",\n",
    "    file_filter=file_filter,\n",
    ")\n",
    "\n",
    "# type of `raw_docs`: list\n",
    "raw_docs = loader.load()\n",
    "print(len(raw_docs))"
   ]
  },
  {
   "cell_type": "markdown",
   "id": "b634ad97",
   "metadata": {},
   "source": [
    "Split documents into chunks (whose size is 1000) based on number of characters"
   ]
  },
  {
   "cell_type": "markdown",
   "id": "167d28ee",
   "metadata": {},
   "source": [
    "Iterate through each document, splitting it into chunks of size 1000 with an overlap of 50 between consecutive chunks to maintain continuity."
   ]
  },
  {
   "cell_type": "code",
   "execution_count": 6,
   "id": "9a1f4c9e",
   "metadata": {},
   "outputs": [
    {
     "name": "stderr",
     "output_type": "stream",
     "text": [
      "Created a chunk of size 6803, which is longer than the specified 1000\n",
      "Created a chunk of size 3302, which is longer than the specified 1000\n",
      "Created a chunk of size 1851, which is longer than the specified 1000\n",
      "Created a chunk of size 1639, which is longer than the specified 1000\n",
      "Created a chunk of size 9269, which is longer than the specified 1000\n",
      "Created a chunk of size 2579, which is longer than the specified 1000\n",
      "Created a chunk of size 17715, which is longer than the specified 1000\n",
      "Created a chunk of size 1700, which is longer than the specified 1000\n",
      "Created a chunk of size 1135, which is longer than the specified 1000\n",
      "Created a chunk of size 1126, which is longer than the specified 1000\n",
      "Created a chunk of size 1098, which is longer than the specified 1000\n",
      "Created a chunk of size 1433, which is longer than the specified 1000\n",
      "Created a chunk of size 1300, which is longer than the specified 1000\n",
      "Created a chunk of size 1166, which is longer than the specified 1000\n",
      "Created a chunk of size 1351, which is longer than the specified 1000\n",
      "Created a chunk of size 1756, which is longer than the specified 1000\n",
      "Created a chunk of size 1643, which is longer than the specified 1000\n",
      "Created a chunk of size 1091, which is longer than the specified 1000\n",
      "Created a chunk of size 1313, which is longer than the specified 1000\n",
      "Created a chunk of size 1422, which is longer than the specified 1000\n",
      "Created a chunk of size 1662, which is longer than the specified 1000\n",
      "Created a chunk of size 1123, which is longer than the specified 1000\n",
      "Created a chunk of size 1174, which is longer than the specified 1000\n",
      "Created a chunk of size 1936, which is longer than the specified 1000\n",
      "Created a chunk of size 1441, which is longer than the specified 1000\n",
      "Created a chunk of size 1498, which is longer than the specified 1000\n",
      "Created a chunk of size 1046, which is longer than the specified 1000\n",
      "Created a chunk of size 1057, which is longer than the specified 1000\n",
      "Created a chunk of size 1363, which is longer than the specified 1000\n",
      "Created a chunk of size 1432, which is longer than the specified 1000\n",
      "Created a chunk of size 1662, which is longer than the specified 1000\n",
      "Created a chunk of size 1281, which is longer than the specified 1000\n",
      "Created a chunk of size 1752, which is longer than the specified 1000\n",
      "Created a chunk of size 1705, which is longer than the specified 1000\n",
      "Created a chunk of size 1266, which is longer than the specified 1000\n",
      "Created a chunk of size 1764, which is longer than the specified 1000\n",
      "Created a chunk of size 1378, which is longer than the specified 1000\n",
      "Created a chunk of size 1596, which is longer than the specified 1000\n",
      "Created a chunk of size 1063, which is longer than the specified 1000\n",
      "Created a chunk of size 1540, which is longer than the specified 1000\n",
      "Created a chunk of size 1888, which is longer than the specified 1000\n",
      "Created a chunk of size 1739, which is longer than the specified 1000\n",
      "Created a chunk of size 42090, which is longer than the specified 1000\n",
      "Created a chunk of size 1147, which is longer than the specified 1000\n",
      "Created a chunk of size 5835, which is longer than the specified 1000\n",
      "Created a chunk of size 1819, which is longer than the specified 1000\n",
      "Created a chunk of size 1182, which is longer than the specified 1000\n",
      "Created a chunk of size 3563, which is longer than the specified 1000\n",
      "Created a chunk of size 1053, which is longer than the specified 1000\n",
      "Created a chunk of size 1140, which is longer than the specified 1000\n",
      "Created a chunk of size 5053, which is longer than the specified 1000\n",
      "Created a chunk of size 1006, which is longer than the specified 1000\n",
      "Created a chunk of size 1651, which is longer than the specified 1000\n",
      "Created a chunk of size 2096, which is longer than the specified 1000\n",
      "Created a chunk of size 8206, which is longer than the specified 1000\n",
      "Created a chunk of size 2933, which is longer than the specified 1000\n",
      "Created a chunk of size 2134, which is longer than the specified 1000\n",
      "Created a chunk of size 1915, which is longer than the specified 1000\n",
      "Created a chunk of size 1129, which is longer than the specified 1000\n",
      "Created a chunk of size 1021, which is longer than the specified 1000\n",
      "Created a chunk of size 1393, which is longer than the specified 1000\n",
      "Created a chunk of size 2357, which is longer than the specified 1000\n",
      "Created a chunk of size 2373, which is longer than the specified 1000\n",
      "Created a chunk of size 2989, which is longer than the specified 1000\n",
      "Created a chunk of size 2736, which is longer than the specified 1000\n",
      "Created a chunk of size 1208, which is longer than the specified 1000\n",
      "Created a chunk of size 1048, which is longer than the specified 1000\n",
      "Created a chunk of size 1083, which is longer than the specified 1000\n",
      "Created a chunk of size 1014, which is longer than the specified 1000\n",
      "Created a chunk of size 1044, which is longer than the specified 1000\n",
      "Created a chunk of size 1012, which is longer than the specified 1000\n",
      "Created a chunk of size 1438, which is longer than the specified 1000\n",
      "Created a chunk of size 1141, which is longer than the specified 1000\n",
      "Created a chunk of size 1036, which is longer than the specified 1000\n",
      "Created a chunk of size 1137, which is longer than the specified 1000\n",
      "Created a chunk of size 1113, which is longer than the specified 1000\n",
      "Created a chunk of size 1337, which is longer than the specified 1000\n",
      "Created a chunk of size 1162, which is longer than the specified 1000\n",
      "Created a chunk of size 1011, which is longer than the specified 1000\n",
      "Created a chunk of size 1158, which is longer than the specified 1000\n",
      "Created a chunk of size 3603, which is longer than the specified 1000\n",
      "Created a chunk of size 1330, which is longer than the specified 1000\n",
      "Created a chunk of size 1188, which is longer than the specified 1000\n",
      "Created a chunk of size 1170, which is longer than the specified 1000\n",
      "Created a chunk of size 1443, which is longer than the specified 1000\n",
      "Created a chunk of size 3138, which is longer than the specified 1000\n",
      "Created a chunk of size 1121, which is longer than the specified 1000\n"
     ]
    },
    {
     "name": "stdout",
     "output_type": "stream",
     "text": [
      "1469\n"
     ]
    }
   ],
   "source": [
    "from langchain_text_splitters import CharacterTextSplitter\n",
    "\n",
    "text_splitter = CharacterTextSplitter(chunk_size=1000, chunk_overlap=50)\n",
    "\n",
    "docs = text_splitter.split_documents(raw_docs)\n",
    "print(len(docs))"
   ]
  },
  {
   "cell_type": "markdown",
   "id": "4cb3d0b5",
   "metadata": {},
   "source": [
    "`CharacterTextSplitter` doesn’t blindly cut at a fixed length (like 1000); it splits on the separators we specify (by default **[\"\\n\\n\", \"\\n\", \" \"]**) and then builds chunks no larger than `chunk_size` at those split points. (We can enable a `force split` option to strictly split every 1000 characters.)"
   ]
  },
  {
   "cell_type": "code",
   "execution_count": null,
   "id": "c152ce21",
   "metadata": {},
   "outputs": [
    {
     "name": "stdout",
     "output_type": "stream",
     "text": [
      "1536\n",
      "[0.02095509134232998, -0.005143425893038511, 0.03000243566930294, -0.02733272686600685, 0.049665048718452454, 0.024027373641729355, -0.01388883963227272, 0.0217390526086092, 0.02608262561261654, -0.021198755130171776, 0.007648926228284836, -0.00954526662826538, -0.01538260467350483, -0.006626597139984369, -0.011483983136713505, 0.06420012563467026, 0.0356808640062809, -0.0003671511076390743, -0.04525791108608246, 0.027290351688861847, 0.031485605984926224, 0.037524234503507614, -0.039070967584848404, 0.020912714302539825, 0.01807350106537342, -0.015859337523579597, -0.022607767954468727, 0.033519670367240906, -0.007018578238785267, -0.10068614035844803, -0.010276257991790771, -0.05674189329147339, -0.03449432551860809, 0.0468682125210762, -0.02498084120452404, 0.034642644226551056, 0.023052718490362167, 0.015107158571481705, -0.0075959558598697186, -0.03667670488357544, -0.0009289684239774942, -0.021654300391674042, 0.02124113216996193, 0.01549914013594389, 0.007272836286574602, 0.004695826210081577, 0.008168036118149757, -0.0016447310335934162, -0.04729197546839714, 0.009190364740788937, -0.037630174309015274, 0.0334349162876606, -0.0006008829805068672, -0.0256376750767231, -0.0006141255726106465, 0.04771573841571808, -0.017956966534256935, 0.02665470726788044, 0.00021684759121853858, -0.022247569635510445, 0.016420824453234673, 0.0038271115627139807, -0.05042782425880432, 0.062166064977645874, -0.0016540008364245296, 0.033625610172748566, 0.002881589811295271, -0.03210006281733513, -0.063522107899189, 0.0032523826230317354, -0.03826581686735153, 0.037842053920030594, 0.03182461857795715, -0.03771492466330528, -0.006314071826636791, -0.011897152289748192, -0.03032025881111622, 0.036528389900922775, -0.01192893460392952, 0.030616892501711845, -0.007346994709223509, 0.05487733706831932, -0.026675894856452942, -0.05093633756041527, 0.025235099717974663, 0.016050031408667564, 0.00379268079996109, 0.02866758219897747, -0.001751996111124754, 0.007516500074416399, 0.03951591998338699, 0.01922825537621975, -0.0256588626652956, 0.028752334415912628, 0.01315784826874733, 0.037185221910476685, 0.0256376750767231, -0.04214325174689293, -0.002252566395327449, 0.025235099717974663, -0.022586580365896225, -0.03252382576465607, 0.038965027779340744, -0.03371036425232887, 0.06081002205610275, -0.056911401450634, 0.043774738907814026, -0.002990179229527712, 0.03078639693558216, 0.004261469002813101, -0.05500446632504463, -1.2135601537011098e-05, -0.023349354043602943, -0.033286601305007935, 0.01584874466061592, -0.014958841726183891, 0.01873033493757248, 0.019662613049149513, -0.003310650121420622, -0.0031967638060450554, -0.032862838357686996, 0.038414135575294495, -0.018274789676070213, -0.036062248051166534, 0.007770758122205734, -0.034642644226551056, -0.00022793826065026224, -0.05987774208188057, -0.03557492047548294, -0.0029266148339957, 0.05758942291140556, -0.017098845914006233, 0.0858544260263443, -0.06538666784763336, 0.05640288442373276, -0.01637844927608967, 0.0011719701578840613, -0.027904808521270752, -3.7575879105133936e-05, 0.009391652420163155, 0.020647862926125526, -0.023116283118724823, 0.025489358231425285, 0.02976936660706997, -0.0479699969291687, 0.016283102333545685, 0.016431419178843498, -0.01883627474308014, -0.04415612667798996, -0.03657076507806778, -0.05695377662777901, -0.02090212143957615, -0.03157036006450653, -0.04004562273621559, -0.06487815082073212, 0.0048653315752744675, -0.01555211003869772, 0.02385786920785904, 0.03415531665086746, 0.02519272267818451, -0.05318228527903557, -0.01760736107826233, 0.019715582951903343, 0.023052718490362167, 0.004502484109252691, 0.01794637180864811, 0.023667175322771072, -0.019313009455800056, -0.01794637180864811, -0.06233556941151619, -0.00577377388253808, -0.010456357151269913, -0.017755677923560143, 0.004518375266343355, 0.015816962346434593, -0.03044738806784153, -0.016569141298532486, -0.019418949261307716, -0.003721170825883746, -0.0295574851334095, -0.0034457247238606215, -0.04424088075757027, -0.024620642885565758, 0.04987693205475807, -0.048690393567085266, -0.02531985193490982, -0.022565390914678574, 0.05839456990361214, -0.04034226015210152, 0.007018578238785267, -0.03186699375510216, 0.07737916707992554, -0.00942873116582632, 0.014905870892107487, 0.02510797046124935, -0.008099174126982689, -0.0019625534769147635, -0.009121503680944443, 0.01315784826874733, -0.003925106953829527, 0.030362633988261223, 0.0018062907038256526, 0.015806367620825768, 0.016452606767416, -0.022607767954468727, 0.02765055000782013, -0.023582423105835915, 0.008072689175605774, -0.017098845914006233, -0.03633769601583481, 0.009969029575586319, 0.048351384699344635, -0.021569548174738884, 0.02047835662961006, -0.022883214056491852, -0.027586985379457474, 0.01689755916595459, 0.06843776255846024, -0.0028498077299445868, 0.015467357821762562, -0.00596446730196476, 0.03712165728211403, -0.013528640381991863, -0.0024512053932994604, -0.018253600224852562, 0.03521472215652466, -0.02136825956404209, -0.05513159558176994, 0.006997390184551477, -0.029282039031386375, 0.053563669323921204, 0.0009230092400684953, -0.013486264273524284, 0.016569141298532486, -0.006229319144040346, 0.009174473583698273, -0.056275755167007446, 0.03760898485779762, -0.00966709852218628, -0.038753144443035126, -0.03032025881111622, -0.016389042139053345, -0.026845399290323257, 0.032968778163194656, -0.03756660968065262, -0.030362633988261223, -0.0087877893820405, -0.01657973602414131, 0.0103080403059721, 0.05487733706831932, 0.007452935446053743, -0.025171535089612007, 0.03256620466709137, -0.05508921667933464, -0.04860563948750496, -0.015181316994130611, -0.01807350106537342, 0.0009276441414840519, -0.001969174714758992, -0.0048918165266513824, 0.016473794355988503, 0.02398499846458435, 0.007405262440443039, 0.023709552362561226, -0.0034059968311339617, -0.032057687640190125, 0.036973342299461365, -0.0028445105999708176, 0.0013242600252851844, 0.028243819251656532, 0.022056875750422478, -0.013422699645161629, 0.0624203234910965, -0.017692115157842636, -0.008591799065470695, 0.031739864498376846, 0.005410926416516304, -0.05203812196850777, 0.030849961563944817, 0.03565967455506325, 0.009407543577253819, 0.006033328827470541, -0.025256287306547165, 0.03599868714809418, -0.0108695263043046, 0.008035610429942608, -0.02864639274775982, -0.014725771732628345, -0.06076764687895775, 0.004989811684936285, 0.002738569863140583, -0.022247569635510445, 0.016431419178843498, -0.018327759578824043, 0.008072689175605774, 0.024048563092947006, -0.013761710375547409, 0.0074953120201826096, 0.018009936437010765, -0.0041343397460877895, 0.008273976854979992, 0.04025750607252121, 0.01556270383298397, 0.01410072110593319, -0.013857057318091393, -0.002633953234180808, -0.05419931560754776, -0.04061770439147949, 0.029493920505046844, -0.016908152028918266, -0.00924863200634718, 0.028709957376122475, 0.004611073527485132, 0.017067063599824905, -0.0011256210273131728, -0.05297040194272995, -0.014852900989353657, 0.0005336768226698041, 0.02663351781666279, -0.011505171656608582, 0.021569548174738884, 0.008989077061414719, -0.019037563353776932, -0.008978483267128468, -0.06432725489139557, 0.013316758908331394, -0.04224919155240059, -0.01815825328230858, -0.027375103905797005, -0.005736694671213627, 0.029282039031386375, 0.008035610429942608, 0.01668567582964897, -0.006059814244508743, 0.016103003174066544, -0.010805961675941944, -0.00630347803235054, 0.017988748848438263, -0.007007984444499016, -0.019048156216740608, -0.04585117846727371, 0.022904401645064354, -0.007331103552132845, -0.044876523315906525, 0.019546078518033028, 0.007368182763457298, -0.012087846174836159, 0.04224919155240059, 0.011971310712397099, -0.024048563092947006, 0.017745085060596466, 0.007023875135928392, 0.002469744998961687, 0.012066657654941082, 0.01661151833832264, 0.009524078108370304, -0.028964215889573097, -0.06233556941151619, 0.012914184480905533, -0.055809617042541504, -0.023243412375450134, 0.014736365526914597, 0.015361417084932327, -0.0018446942558512092, 0.0075217969715595245, 0.014789336360991001, 0.018592610955238342, -0.0008448779117316008, 0.026146190240979195, -0.01668567582964897, 0.03646482527256012, 0.015477951616048813, 0.013073095120489597, -0.0345790795981884, 0.000725694524589926, 0.010620566084980965, -0.03324422612786293, 0.02001221850514412, -0.020711427554488182, 0.020393604412674904, -0.012479826807975769, 0.04171948879957199, 0.025595298036932945, 0.01460923720151186, 0.009439325891435146, 0.020467763766646385, -0.015234287828207016, 0.019885089248418808, 0.01967320777475834, -0.02765055000782013, -0.005858526565134525, -0.01171705313026905, -0.027247974649071693, 0.023222224786877632, -0.01588052697479725, -0.015266070142388344, 0.008533531799912453, 0.002056575845927, -0.0006727240979671478, 0.010615268722176552, 0.005641347728669643, 0.031379666179418564, 0.03076520934700966, 0.005689021199941635, 0.019948653876781464, 0.017151815816760063, 0.022332321852445602, -0.007707193493843079, 0.009878979995846748, -0.057250410318374634, 0.022713707759976387, -0.011070813983678818, 0.028476888313889503, -0.036867398768663406, -0.010064376518130302, 0.023328164592385292, -0.04038463532924652, 0.009253929369151592, -0.022480638697743416, 0.035850368440151215, 0.008586502633988857, -0.016357259824872017, -0.02529866434633732, -0.030532140284776688, -0.033286601305007935, 0.02430281974375248, 0.07542984932661057, -0.03534185141324997, 0.017713302746415138, -0.010673535987734795, 0.03078639693558216, -0.03667670488357544, 0.050893962383270264, 0.021664895117282867, -0.0379268079996109, 0.017173005267977715, 0.002068494213744998, -0.017586173489689827, 0.03862601891160011, -0.01857142336666584, 0.005980358459055424, 0.0064147156663239, -0.0407024584710598, 0.03847770020365715, -0.07335340976715088, 0.016494983807206154, 0.019757959991693497, 0.05886071175336838, 0.0015705723781138659, -0.001234210329130292, 0.062377944588661194, -0.047334350645542145, -0.017978154122829437, -0.014291414059698582, -0.011282695457339287, -0.009057939052581787, -0.02097627893090248, -0.047207221388816833, 0.06517478078603745, -0.030066000297665596, 0.004356815479695797, 0.04919891059398651, -0.033837493509054184, 0.018868057057261467, -0.01655854843556881, -0.04750385507941246, 0.03883789852261543, 0.021389449015259743, 0.01928122714161873, 0.005106346681714058, 0.03121016174554825, 0.006081002298742533, -0.027714114636182785, 0.014005374163389206, -0.03614700213074684, -0.01962023787200451, -0.01415369100868702, -0.030913526192307472, -0.02262895554304123, -0.0289854034781456, 0.010710615664720535, 0.018825680017471313, -0.03460026532411575, -0.031527984887361526, 0.02500203065574169, 0.10433050245046616, -0.01550973393023014, 0.033392541110515594, 0.011452200822532177, 0.02136825956404209, -0.013613393530249596, 0.019048156216740608, 0.03565967455506325, -0.005310283042490482, -0.005487733520567417, -0.014852900989353657, -0.036740269511938095, -0.0362105667591095, -0.027947183698415756, 0.0025478764437139034, -0.03813869133591652, -0.0635644793510437, -0.04958029463887215, 0.010848338715732098, -0.020213505253195763, -0.09314315766096115, -0.06932765990495682, 0.008046204224228859, -0.011028437875211239, -0.052377134561538696, 0.018539641052484512, 0.05377555266022682, -0.0075217969715595245, 0.01762855052947998, -0.018550235778093338, -0.005106346681714058, -0.001279235235415399, 0.027947183698415756, 0.0004873276920989156, 0.01264933217316866, -0.0278836190700531, 0.0011203240137547255, 0.040088001638650894, -0.05106346681714058, -0.010721209459006786, 0.0457240529358387, -0.0401303768157959, -0.04750385507941246, 0.02241707406938076, -0.0015374659560620785, -0.002412801841273904, -0.05322466045618057, -0.011293290182948112, -0.023391729220747948, -0.006261101458221674, -0.06047100946307182, 0.022586580365896225, -0.014005374163389206, -0.021145785227417946, -0.010705318301916122, 0.010546406731009483, 0.016865776851773262, -0.025701239705085754, 0.03532066568732262, 0.027735302224755287, -0.026591142639517784, 0.0029372088611125946, -0.04402899742126465, -0.0016937286127358675, 0.01823241263628006, -0.008522938005626202, -0.00014550307241734117, 0.015975873917341232, 0.015859337523579597, 0.035638485103845596, 0.0047832271084189415, 0.0003037521382793784, 0.030616892501711845, -0.03758779913187027, 0.010281555354595184, -0.025722427293658257, -0.004449513740837574, -0.018687957897782326, 0.011653488501906395, -0.008401106111705303, -0.004070775583386421, -0.02688777633011341, -0.065810427069664, -0.016728052869439125, 0.012755272909998894, 0.006891449447721243, 0.04428325593471527, 0.006478280294686556, 0.06424250453710556, -6.720619421685115e-05, 0.007463529706001282, 0.027396291494369507, -0.05093633756041527, -0.005736694671213627, -0.005116940941661596, 0.015287257730960846, -0.02207806333899498, -0.020128753036260605, 0.01695052906870842, -0.012797649018466473, 0.018995186313986778, 0.04585117846727371, -0.035405416041612625, -0.012882402166724205, -0.009635316208004951, 0.013337947428226471, -0.011642894707620144, 0.010244475677609444, -0.011102596297860146, 0.01171705313026905, -0.014143097214400768, 0.01778746023774147, 0.011981905438005924, -0.05568248778581619, 0.025277476757764816, 0.04258820414543152, -0.03777848929166794, 0.0068967463448643684, 0.037524234503507614, -0.0033503780141472816, 0.01679161749780178, 0.01056759525090456, -0.01564745604991913, 0.033180661499500275, 0.022332321852445602, 0.059114970266819, -0.0035172346979379654, -0.03322303667664528, -0.03635888546705246, -0.00016230462642852217, 0.025489358231425285, -0.020573703572154045, 0.009810118936002254, -0.003824463114142418, 0.009995514526963234, -0.012384479865431786, -0.004547508899122477, 0.029832931235432625, 0.016050031408667564, -0.03498165309429169, -0.00237704673781991, -0.03436719626188278, 0.011346260085701942, -0.059369225054979324, 0.04057532921433449, -0.0692005306482315, 0.05051257461309433, -0.00649417145177722, -0.007993233390152454, 0.030489763244986534, 0.011971310712397099, 0.028159065172076225, -0.007823728024959564, -0.025468168780207634, 0.025468168780207634, -0.008221006020903587, 0.0011951447231695056, 0.024620642885565758, -0.02275608479976654, 0.03813869133591652, -0.0034351306967437267, -0.016251320019364357, 0.03716403245925903, -0.0001996322098420933, -0.020054593682289124, -0.008401106111705303, -0.012935372069478035, 0.011123784817755222, 0.0019294469384476542, 0.017045876011252403, 0.006833181716501713, -0.006001546513289213, -0.014619830995798111, 0.019683800637722015, 0.0038509482983499765, -0.018243007361888885, -0.04898702725768089, -0.01778746023774147, 0.027820054441690445, -0.014503296464681625, -0.008454076014459133, 0.004168770741671324, 0.031083032488822937, 0.008051501587033272, 0.012384479865431786, -0.005667833145707846, 0.0059273880906403065, 0.022480638697743416, -0.019832119345664978, 0.015626268461346626, -0.017406074330210686, -0.003210006281733513, 0.002044657478109002, -0.010678833350539207, 0.020753802731633186, -0.009068532846868038, 0.012416262179613113, -0.0003446386836003512, -0.055809617042541504, 0.015605080872774124, -0.011325071565806866, -0.0032576797530055046, 0.008517640642821789, 0.031612735241651535, -0.0007329779327847064, 0.021018655970692635, -0.008967889472842216, -0.010334525257349014, -0.044325631111860275, 0.0005131507641635835, 0.032841648906469345, -0.012712896801531315, 0.015107158571481705, -0.02377311699092388, 0.015266070142388344, -0.005222881678491831, -0.03532066568732262, -0.010292149148881435, -0.020764397457242012, -0.02642163634300232, -0.018507858738303185, -0.008560016751289368, -0.004179364535957575, 0.009863088838756084, -0.027502233162522316, -0.0502159409224987, 0.0023664527107030153, -0.03758779913187027, -0.010260366834700108, -0.030277881771326065, -0.03044738806784153, 0.00568372430279851, -0.007648926228284836, -0.031400855630636215, 0.006329962983727455, -0.004499835893511772, 0.010943684726953506, -0.007839619182050228, -0.0468258373439312, 0.02877352200448513, 0.010143832303583622, 0.0039145126938819885, 0.003382160095497966, 0.005789665039628744, 0.02887946367263794, 0.03648601472377777, -0.02485371194779873, -0.02775649167597294, 0.008639472536742687, 0.001973147504031658, -0.011875963769853115, -0.011060220189392567, 0.03371036425232887, -0.03748185560107231, -0.014143097214400768, -0.033413730561733246, -0.004147582687437534, 0.04716484621167183, 0.04614781588315964, -0.022374697029590607, -0.023688364773988724, 0.0017387534026056528, 0.06530191004276276, -0.003043149597942829, -0.015424980781972408, 0.016569141298532486, 0.003631121013313532, 0.008586502633988857, -0.03201531246304512, 0.015732210129499435, -0.007564173545688391, 0.007542985491454601, -0.0071086278185248375, -0.0029213177040219307, -0.00826338306069374, 0.012024281546473503, 0.036083437502384186, 0.028604017570614815, 0.02576480433344841, -0.014588048681616783, 0.025955496355891228, -0.06513240933418274, 0.000994519330561161, 0.026188567280769348, -0.012363292276859283, 0.003074931912124157, 0.0014686044305562973, 0.05364842340350151, 0.002577010076493025, 0.006049219984561205, 0.012331509962677956, -0.006006843410432339, -0.01823241263628006, -0.009518781676888466, -0.024281632155179977, -0.013454481959342957, -0.0025147697888314724, -0.004502484109252691, -0.02987530641257763, -0.025828368961811066, 0.030659269541502, -0.03760898485779762, 0.0334349162876606, 0.009042047895491123, -0.022607767954468727, -0.024790147319436073, -0.016431419178843498, 0.014566860161721706, -0.009990218095481396, 0.008109768852591515, -0.008035610429942608, -0.017776867374777794, -0.018656175583600998, -0.04368998855352402, -0.00271738157607615, -0.010270960628986359, -0.005326173733919859, -0.0020022811368107796, 0.035871557891368866, 0.11255151033401489, -0.009010265581309795, -0.034303631633520126, 0.001366636366583407, -0.04407137632369995, -0.02976936660706997, -0.02743866853415966, 0.018253600224852562, -0.0054983277805149555, 0.015011811628937721, -0.01909053325653076, -0.0030961199663579464, -0.006976202130317688, 0.007060954812914133, 0.006827884819358587, 0.03989730775356293, 0.026845399290323257, -0.02809550054371357, -0.01120853703469038, -0.014863494783639908, 0.038075126707553864, 0.005466545466333628, 0.03633769601583481, 0.00997962336987257, -0.02163311280310154, -0.05390268191695213, 0.014132503420114517, 0.04252463951706886, 0.01995924673974514, -0.010525219142436981, 0.04974980279803276, 0.017745085060596466, -0.0015162777854129672, -0.05432644486427307, -0.03498165309429169, -0.030828773975372314, -0.043223846703767776, -0.018433699384331703, 0.01621953770518303, -0.028709957376122475, -0.003999265376478434, -0.010202099569141865, -0.02176024205982685, 0.02298915386199951, -0.005916793830692768, -0.06453913450241089, 0.014789336360991001, 0.008030313067138195, -0.028582828119397163, -0.014842306263744831, 0.020552515983581543, 0.06292884051799774, -0.01188655849546194, -0.04619019106030464, -0.028159065172076225, 0.017702708020806313, 0.017310727387666702, 0.016208942979574203, -0.03760898485779762, 0.029578672721982002, 0.01175942923873663, 0.014121909625828266, 0.010811259038746357, 0.0004078721103724092, 0.03591393306851387, 0.00513283209875226, 0.03298996761441231, 0.022226380184292793, -0.04038463532924652, 0.004695826210081577, -0.008623581379652023, -0.04068126901984215, -0.00528379762545228, 0.061276160180568695, -0.02058429829776287, 0.002624683314934373, -0.03210006281733513, -0.00481236120685935, -0.05110584571957588, 0.030722834169864655, -0.009916059672832489, -0.035108782351017, 0.02498084120452404, -0.006531250663101673, 0.03298996761441231, 0.023730739951133728, -0.01768152043223381, 0.02195093408226967, -0.01304131280630827, -0.007362885866314173, 0.02754460833966732, 0.02129410207271576, -0.012278539128601551, 0.0060386257246136665, 0.003559611039236188, 0.024260444566607475, 0.010996655561029911, 0.013390917330980301, 0.0004572007746901363, 0.010276257991790771, 0.027269162237644196, -0.009481701999902725, 0.012553985230624676, 0.047800492495298386, -0.006933825556188822, -0.013147253543138504, 0.01315784826874733, 0.015181316994130611, 0.0005998897831887007, -0.024175692349672318, 0.02989649586379528, 0.0007905832608230412, -0.013518046587705612, 0.023836681619286537, 0.0036019873805344105, -0.008221006020903587, 0.02809550054371357, -0.016982311382889748, 0.011738240718841553, 0.017925184220075607, -0.00630347803235054, -0.0066954586654901505, 0.0019665262661874294, -0.04224919155240059, -0.01652676612138748, -0.0010110725415870547, 0.011791211552917957, -0.004351518582552671, -0.03648601472377777, 0.007161598186939955, 0.0076383319683372974, -0.05076683312654495, 0.03534185141324997, -0.012501015327870846, 0.00038668393972329795, 0.001732132164761424, -0.0035887446720153093, 0.0228408370167017, 0.0139312157407403, 0.0037741411942988634, 0.0362105667591095, -0.018274789676070213, 0.019736772403120995, -0.019058750942349434, 0.008507046848535538, -0.005238772835582495, -0.01287180744111538, -0.005503624677658081, 0.025913121178746223, -0.02887946367263794, -0.011505171656608582, -0.003090823069214821, 0.0624626986682415, -0.005466545466333628, 0.031167784705758095, 0.009396949782967567, 0.01812647096812725, -0.0036496606189757586, -0.007463529706001282, -0.014556266367435455, 0.02090212143957615, 0.00012414937373250723, 0.006748429033905268, 0.02430281974375248, -0.017098845914006233, -0.010758289135992527, -0.009434028528630733, 0.03839294612407684, -0.017098845914006233, 0.023730739951133728, -0.027078470215201378, -0.0031040655449032784, 0.021887369453907013, -0.02932441420853138, 0.013009530492126942, 0.01807350106537342, 0.04716484621167183, 0.02262895554304123, 0.015319040045142174, -0.016982311382889748, 0.005535406991839409, -0.0015520327724516392, 0.013761710375547409, -0.021389449015259743, 0.035871557891368866, 0.007352291606366634, 0.024006186053156853, 0.0027001663111150265, -0.02987530641257763, -0.010281555354595184, 0.0023479131050407887, -0.0020711426623165607, 0.012373886071145535, -0.021103408187627792, 0.019037563353776932, 0.022607767954468727, -0.01287180744111538, -0.029409166425466537, 0.0012077251449227333, 0.01637844927608967, 0.024557078257203102, 0.0317610539495945, 0.008978483267128468, -0.01810528337955475, -0.012056063860654831, 0.01160051766782999, 0.010747694410383701, 0.019164690747857094, -0.0037556015886366367, 0.012882402166724205, -0.012183192186057568, -0.0568690225481987, -0.044791772961616516, -0.0045713456347584724, -0.006616003345698118, 0.006621300242841244, 0.006086299195885658, -0.035426605492830276, -0.04585117846727371, 0.04360523447394371, -0.011473389342427254, 0.02432400919497013, 0.002051278715953231, 0.017755677923560143, 0.06966667622327805, 0.03981255367398262, 0.011738240718841553, 0.021124595776200294, -0.001467280089855194, 0.02877352200448513, -0.009434028528630733, 0.03436719626188278, -0.0031861697789281607, 0.03794799745082855, 0.03582917898893356, -0.011812400072813034, 0.0009541293838992715, 0.004383300896733999, 0.01321081817150116, 0.007818431593477726, -0.014185473322868347, 0.04898702725768089, 0.020107565447688103, 0.0423763208091259, -0.028392136096954346, 0.04631732031702995, -0.0001812580885598436, 0.01411131490021944, -0.05106346681714058, 0.016473794355988503, 0.03521472215652466, 0.022692520171403885, 0.030659269541502, 0.012278539128601551, 0.014302008785307407, -0.009630018845200539, 0.02633688412606716, 0.018921026960015297, 0.025510545819997787, -0.011123784817755222, -0.01760736107826233, -0.0018341002287343144, 0.0012997612357139587, 0.015816962346434593, 0.03591393306851387, 0.013274382799863815, 0.009513484314084053, -0.0049580298364162445, 0.034091752022504807, 0.01103903166949749, -0.007203974761068821, -0.01053051557391882, -0.030405011028051376, -0.003816517535597086, -0.010911902412772179, 0.005651941988617182, -0.02820144221186638, 0.00577377388253808, -0.013751116581261158, -0.004240280482918024, -0.01998043619096279, 0.014566860161721706, 0.01377230416983366, -0.04328741133213043, 0.043329790234565735, -0.026252131909132004, 0.031061843037605286, -0.013073095120489597, -0.0020949793979525566, -0.005328822415322065, -0.008560016751289368, 0.03561729937791824, 0.010768882930278778, -0.013465076684951782, -0.03326541185379028, 0.02079617977142334, 0.007903183810412884, -0.018793899565935135, 0.014725771732628345, -0.0016500280471518636, -0.002457826631143689, -0.003379511646926403, -0.019524890929460526, 0.014524484053254128, 0.058733582496643066, -0.002573037287220359, 0.007463529706001282, -0.0025929012335836887, -0.03110422007739544, 0.010027296841144562, 0.054029811173677444, -0.010901308618485928, -0.010684129782021046, -0.012087846174836159, -0.013337947428226471, -0.025129158049821854, 0.01160051766782999, 0.019927464425563812, -0.008416997268795967, -0.03292640298604965, 0.0009051317465491593, -0.018984591588377953, -0.011727646924555302, 0.010440465994179249, -0.02966342493891716, 0.010964873246848583, 0.03915572166442871, -0.0005472504417411983, -0.005540703888982534, 0.005747288465499878, 0.02555292285978794, -0.00271738157607615, 0.009391652420163155, -0.015361417084932327, 0.010493436828255653, 0.010419278405606747, -0.00507456436753273, 0.01741666905581951, -0.040999092161655426, 0.012236163020133972, 0.020149940624833107, 0.049114156514406204, 0.008199818432331085, 0.0107265068218112, -0.012162004597485065, 0.02466301992535591, -0.04949554428458214, 0.0012971126707270741, -0.03504521772265434, 0.009852495044469833, 0.010440465994179249, 0.0071827867068350315, 0.016050031408667564, -0.0007786648930050433, -0.018264194950461388, -0.02943035587668419, 0.015181316994130611, 0.015033000148832798, -0.0014275523135438561, 0.0234341062605381, 0.0031967638060450554, -0.0012414938537403941, -0.018327759578824043, -0.005048079416155815, 0.001892367610707879, -0.014566860161721706, -0.035066407173871994, -0.026294507086277008, -0.004105206113308668, 0.00907912664115429, 0.005948576144874096, -0.0306804571300745, 0.01846548169851303, 0.009238038212060928, -0.015319040045142174, 0.010546406731009483, 0.025277476757764816, -0.030701644718647003, -0.05919972062110901, 0.0014580102870240808, -0.040871962904930115, -0.021230537444353104, 0.015011811628937721, -0.0063405572436749935, 0.03498165309429169, -0.030383823439478874, 0.011812400072813034, -0.03913453221321106, -0.020573703572154045, 0.026845399290323257, 0.006229319144040346, -0.052928026765584946, 0.02019231766462326, -0.025807179510593414, 0.04496127739548683, 0.027269162237644196, -0.005641347728669643, -0.00694441981613636, 0.01760736107826233, 0.009147988632321358, 0.0490717813372612, -0.0034218879882246256, 0.009434028528630733, 0.006642488297075033, 0.009608831256628036, -0.002080412581562996, 0.029599860310554504, -0.020764397457242012, 0.024599455296993256, -0.02798956073820591, 0.004746147897094488, 0.023455293849110603, -0.021654300391674042, 0.0306804571300745, 0.02095509134232998, -0.0036655517760664225, -0.003612581407651305, 0.048012372106313705, 0.010090861469507217, 0.02631569653749466, -0.01958845555782318, 0.0026604384183883667, 0.005236124154180288, -0.0036231754347682, -0.001767887151800096, 0.02652757801115513, 0.031167784705758095, -0.001336840563453734, 0.033307790756225586, 0.010043187998235226, 0.014736365526914597, 0.019471919164061546, 0.030574515461921692, -0.002081736922264099, -0.0010627186857163906, 0.03481214866042137, 0.03981255367398262, 0.004417731426656246, 0.022099250927567482, -0.042778898030519485, 0.003647012170404196, 0.018009936437010765, -0.0014169582864269614, 0.021166972815990448, -0.011070813983678818, -0.034621454775333405, 0.006335259880870581, 0.0027001663111150265, 0.020658457651734352, 0.004661395214498043, -0.006208131089806557, -0.009179770946502686, -0.01849726401269436, 0.03034144639968872, 0.003106713993474841, 0.02079617977142334, -0.03468501940369606, -0.0017202137969434261, -0.028074312955141068, -0.002333346288651228, -0.003559611039236188, 0.008729522116482258, -0.011250913143157959, -0.009524078108370304, -0.0015665995888411999, 0.007066251710057259, 0.023688364773988724, 0.0059379818849265575, -0.0059379818849265575, -0.00696560787037015, -0.00877719558775425, 0.01193952839821577, 0.016833994537591934, 0.013253194279968739, 0.013295571319758892, -0.026739459484815598, -0.001287180813960731, 0.034642644226551056, 0.0063405572436749935, 0.007389371283352375, -0.006224022246897221, 0.034621454775333405, -0.038520075380802155, -0.031527984887361526, 0.004475999157875776, 0.025341039523482323, 0.0142278503626585, 0.01794637180864811, 0.03146442025899887, -0.030299069359898567, 0.009963732212781906, 0.0014619830762967467, -0.004076072480529547, 0.009868386201560497, -0.014736365526914597, -0.013539235107600689, 0.013655769638717175, 0.02286202646791935, -0.002316130790859461, -0.006478280294686556, -0.016982311382889748, -0.015838149935007095, -0.011579330079257488, -0.010572892613708973, 0.02620975486934185, -0.021389449015259743, 0.014386761002242565, 0.013083688914775848, -0.025171535089612007, -0.005440060514956713, 0.03201531246304512, -0.0161877553910017, 0.01919647306203842, -0.0323755107820034, -0.0023346703965216875, 0.009354572743177414, -0.012638738378882408, -0.0021254373714327812, -0.019599048420786858, -0.006276992615312338, 0.0024194230791181326, 0.001567923929542303, 0.028582828119397163, -0.005418871995061636, 0.034748584032058716, 0.007516500074416399, 0.008671254850924015, -0.007548282388597727, 0.0009389003971591592, 0.007643628865480423, 0.023497670888900757, -0.02822262980043888, 0.011632299982011318, -0.008766601793467999, 0.023688364773988724, -0.00048600343870930374, 0.004658746998757124, 0.008756007067859173, 0.016833994537591934, 0.025150347501039505, -0.002337319077923894, 0.007919074967503548, -0.00796674843877554, 0.007362885866314173, 0.01716241054236889, -0.004587236791849136, 0.03315947204828262, -0.011346260085701942, -0.017956966534256935, -0.0407024584710598, 0.019599048420786858, -0.013507452793419361, 0.022798461839556694, -0.0048838709481060505, 0.03021431714296341, -0.021590735763311386, 0.0446222685277462, -0.0035781506448984146, -0.014376167207956314, -0.016781022772192955, 0.033964622765779495, 0.021622518077492714, 0.009762445464730263, 0.03549017012119293, -0.006531250663101673, -0.005768476985394955, -0.003959537483751774, -0.031188972294330597, 0.05763179808855057, -0.002449881052598357, -0.018380729481577873, 0.03337135165929794, 0.03248145058751106, -0.00032245731563307345, 0.012638738378882408, -0.0017572931246832013, -0.01663270592689514, -0.003607284277677536, -0.004091963637620211, -0.01851845346391201, -0.019313009455800056, 0.07411618530750275, 0.00775486696511507, 0.01584874466061592, -0.005355307832360268, 0.048690393567085266, -0.003106713993474841, 0.03275689855217934, 0.039664238691329956, 0.028921838849782944, 0.004979217890650034, 0.00048434812924824655, 0.012183192186057568, -0.019079938530921936, -0.01460923720151186, 0.03135847672820091, -0.005376495886594057, -0.03445195034146309, 0.033731553703546524, -0.028137877583503723, 0.010631159879267216, -0.001967850374057889, -0.020933903753757477, 0.015022406354546547, -0.0010885418159887195, -0.0067961025051772594, -0.020986873656511307, -0.011187348514795303, -0.01555211003869772, -0.025383416563272476, 0.023667175322771072, -0.00352782872505486, 0.027692927047610283, 0.0039304038509726524, 0.02976936660706997, -0.027184410020709038, 0.0007733678794465959, -0.0214742012321949, -0.024684207513928413, -0.01815825328230858, -0.013390917330980301, -0.002865698654204607, 0.001162700355052948, 0.009190364740788937, 0.0014937653904780746, 0.0017255108105018735, -0.015530921518802643, -0.001120986184105277, 0.01958845555782318, -0.03818106651306152, -0.009481701999902725, -0.01962023787200451, -0.008671254850924015, 0.022162815555930138, 0.009905464947223663, -0.023031530901789665, 0.007002687081694603, -0.029387978836894035, -0.011822993867099285, -0.02129410207271576, 0.012882402166724205, -0.01689755916595459, 0.0035860962234437466, -0.04316028207540512, -0.014217255637049675, -0.02531985193490982, -0.006033328827470541, 0.006186943035572767, 0.008549422957003117, 0.00624521030113101, 0.011462794616818428, -0.0054983277805149555, -0.024938466027379036, 0.005704912357032299, 0.02699371613562107, -0.0046640438959002495, 0.017384886741638184, -0.012501015327870846, 0.018115878105163574, -0.003138496307656169, 0.025574110448360443, 0.04949554428458214, 0.01070002093911171, 0.03538423031568527, -0.021410636603832245, 0.015064782463014126, 0.008570611476898193, 0.03811750188469887, -0.009566454216837883, -0.006573626771569252, -0.004987163469195366, -0.0052122874185442924, 0.025044405832886696, 0.008687146008014679, -0.0256588626652956, 0.02521391212940216, 0.014630424790084362, 0.04218562692403793, 0.02220519259572029, 0.017204785719513893, 0.03021431714296341, -0.02440876141190529, -0.01598646678030491, -0.023624800145626068, -0.010901308618485928, -0.027586985379457474, -0.00907912664115429, 0.025446981191635132, -0.012956560589373112, -0.04640207067131996, -0.027968373149633408, 0.001979768741875887, 0.006933825556188822, -0.00783432275056839, 0.01582755707204342, -0.010419278405606747, -0.028943028301000595, -0.008199818432331085, 0.013708740472793579, 0.03371036425232887, 0.007956154644489288, 0.01136744860559702, 0.011346260085701942, -0.0004916315665468574, 0.0026114408392459154, -0.004407137632369995, 0.016124190762639046, -0.016622113063931465, -0.005365901626646519, -0.014354978688061237, 0.014132503420114517, -0.016198348253965378, -0.02731153927743435, -0.007564173545688391, 0.0456816740334034, -0.01679161749780178, 0.029409166425466537, -0.004862682893872261, -0.02241707406938076, 0.0031120111234486103, 0.029282039031386375, 0.028392136096954346, -0.023794304579496384, -0.00898378062993288, 0.03356204554438591, 0.0003209675196558237, -0.00256641604937613, 0.0117064593359828, -0.019863901659846306, 0.007331103552132845, -0.006388230714946985, 0.02697252854704857]\n"
     ]
    }
   ],
   "source": [
    "from langchain_openai import OpenAIEmbeddings\n",
    "\n",
    "embeddings = OpenAIEmbeddings(model=\"text-embedding-3-small\")\n",
    "\n",
    "query = \"Is there a document loader for loading data from AWS S3?\"\n",
    "\n",
    "vector = embeddings.embed_query(query)\n",
    "print(len(vector))\n",
    "print(vector)"
   ]
  },
  {
   "cell_type": "code",
   "execution_count": 11,
   "id": "baa7d927",
   "metadata": {},
   "outputs": [
    {
     "name": "stderr",
     "output_type": "stream",
     "text": [
      "Failed to send telemetry event ClientStartEvent: capture() takes 1 positional argument but 3 were given\n",
      "Failed to send telemetry event ClientCreateCollectionEvent: capture() takes 1 positional argument but 3 were given\n"
     ]
    },
    {
     "name": "stdout",
     "output_type": "stream",
     "text": [
      "len = 4\n",
      "metadata = {'file_name': 'aws.mdx', 'file_path': 'docs/docs/integrations/providers/aws.mdx', 'file_type': '.mdx', 'source': 'docs/docs/integrations/providers/aws.mdx'}\n",
      "## Document loaders\n",
      "\n",
      "### AWS S3 Directory and File\n",
      "\n",
      ">[Amazon Simple Storage Service (Amazon S3)](https://docs.aws.amazon.com/AmazonS3/latest/userguide/using-folders.html)\n",
      "> is an object storage service.\n",
      ">[AWS S3 Directory](https://docs.aws.amazon.com/AmazonS3/latest/userguide/using-folders.html)\n",
      ">[AWS S3 Buckets](https://docs.aws.amazon.com/AmazonS3/latest/userguide/UsingBucket.html)\n",
      "\n",
      "See a [usage example for S3DirectoryLoader](/docs/integrations/document_loaders/aws_s3_directory).\n",
      "\n",
      "See a [usage example for S3FileLoader](/docs/integrations/document_loaders/aws_s3_file).\n",
      "\n",
      "```python\n",
      "from langchain_community.document_loaders import S3DirectoryLoader, S3FileLoader\n",
      "```\n",
      "\n",
      "### Amazon Textract\n",
      "\n",
      ">[Amazon Textract](https://docs.aws.amazon.com/managedservices/latest/userguide/textract.html) is a machine \n",
      "> learning (ML) service that automatically extracts text, handwriting, and data from scanned documents.\n",
      "\n",
      "See a [usage example](/docs/integrations/document_loaders/amazon_textract).\n"
     ]
    }
   ],
   "source": [
    "from langchain_chroma import Chroma\n",
    "\n",
    "db = Chroma.from_documents(docs, embeddings)\n",
    "\n",
    "retriever = db.as_retriever()\n",
    "\n",
    "query = \"Is there a document loader for loading data from AWS S3?\"\n",
    "\n",
    "context_docs = retriever.invoke(query)\n",
    "print(f\"len = {len(context_docs)}\")\n",
    "\n",
    "first_doc = context_docs[0]\n",
    "print(f\"metadata = {first_doc.metadata}\")\n",
    "print(first_doc.page_content)"
   ]
  },
  {
   "cell_type": "code",
   "execution_count": 12,
   "id": "c15a6093",
   "metadata": {},
   "outputs": [
    {
     "name": "stdout",
     "output_type": "stream",
     "text": [
      "Yes, there are document loaders for loading data from AWS S3. The context mentions two specific loaders: `S3DirectoryLoader` and `S3FileLoader`. These loaders are used to load data from AWS S3 directories and files, respectively.\n"
     ]
    }
   ],
   "source": [
    "from langchain_core.prompts import ChatPromptTemplate\n",
    "from langchain_openai import ChatOpenAI\n",
    "from langchain_core.output_parsers import StrOutputParser\n",
    "from langchain_core.runnables import RunnablePassthrough\n",
    "\n",
    "prompt = ChatPromptTemplate.from_template('''\\\n",
    "Please refer to the following context and answer the question.\n",
    "\n",
    "Context: \"\"\"\n",
    "{context}             \n",
    "\"\"\"\n",
    "\n",
    "Question: {question}\n",
    "''')\n",
    "\n",
    "model = ChatOpenAI(model=\"gpt-4o\", temperature=0)\n",
    "\n",
    "chain = (\n",
    "    {\"context\": retriever, \"question\": RunnablePassthrough()}\n",
    "    | prompt\n",
    "    | model\n",
    "    | StrOutputParser()\n",
    ")\n",
    "\n",
    "output = chain.invoke(query)\n",
    "print(output)"
   ]
  },
  {
   "cell_type": "markdown",
   "id": "ca8ceba8",
   "metadata": {},
   "source": [
    "## 4.9 The Basic Components of LCEL: `Runnable` & `RunnableSequence`"
   ]
  },
  {
   "cell_type": "markdown",
   "id": "ab96085a",
   "metadata": {},
   "source": [
    "Define the default variables"
   ]
  },
  {
   "cell_type": "code",
   "execution_count": 14,
   "id": "82769388",
   "metadata": {},
   "outputs": [],
   "source": [
    "from langchain_core.output_parsers import StrOutputParser\n",
    "from langchain_core.prompts import ChatPromptTemplate\n",
    "from langchain_openai import ChatOpenAI\n",
    "\n",
    "prompt = ChatPromptTemplate.from_messages(\n",
    "    [\n",
    "        (\"system\", \"Please come up with a recipe based on the given dish name.\"),\n",
    "        (\"human\", \"{dish}\"),\n",
    "    ]\n",
    ")\n",
    "\n",
    "model = ChatOpenAI(model=\"gpt-4o\", temperature=0)\n",
    "\n",
    "output_parser = StrOutputParser()"
   ]
  },
  {
   "cell_type": "markdown",
   "id": "ff92f483",
   "metadata": {},
   "source": [
    "Obtain `output` without using `chain`"
   ]
  },
  {
   "cell_type": "code",
   "execution_count": null,
   "id": "991f16eb",
   "metadata": {},
   "outputs": [
    {
     "name": "stdout",
     "output_type": "stream",
     "text": [
      "Certainly! Here's a simple and delicious recipe for a classic Chicken Curry:\n",
      "\n",
      "### Ingredients:\n",
      "- 1.5 lbs (about 700g) chicken thighs, boneless and skinless, cut into bite-sized pieces\n",
      "- 2 tablespoons vegetable oil\n",
      "- 1 large onion, finely chopped\n",
      "- 3 cloves garlic, minced\n",
      "- 1 tablespoon fresh ginger, grated\n",
      "- 2 teaspoons ground cumin\n",
      "- 2 teaspoons ground coriander\n",
      "- 1 teaspoon turmeric powder\n",
      "- 1 teaspoon garam masala\n",
      "- 1 teaspoon chili powder (adjust to taste)\n",
      "- 1 can (14 oz) coconut milk\n",
      "- 1 cup chicken broth\n",
      "- 2 tablespoons tomato paste\n",
      "- Salt and pepper to taste\n",
      "- Fresh cilantro, chopped, for garnish\n",
      "- Cooked basmati rice, for serving\n",
      "\n",
      "### Instructions:\n",
      "\n",
      "1. **Prepare the Chicken:**\n",
      "   - Season the chicken pieces with salt and pepper.\n",
      "\n",
      "2. **Cook the Aromatics:**\n",
      "   - Heat the vegetable oil in a large pan over medium heat.\n",
      "   - Add the chopped onion and sauté until it becomes translucent, about 5 minutes.\n",
      "   - Stir in the garlic and ginger, cooking for another 2 minutes until fragrant.\n",
      "\n",
      "3. **Add the Spices:**\n",
      "   - Add the cumin, coriander, turmeric, garam masala, and chili powder to the pan.\n",
      "   - Stir well to coat the onions, garlic, and ginger with the spices, cooking for about 1 minute.\n",
      "\n",
      "4. **Cook the Chicken:**\n",
      "   - Add the chicken pieces to the pan, stirring to coat them with the spice mixture.\n",
      "   - Cook until the chicken is browned on all sides, about 5-7 minutes.\n",
      "\n",
      "5. **Simmer the Curry:**\n",
      "   - Pour in the coconut milk and chicken broth, stirring to combine.\n",
      "   - Add the tomato paste and mix well.\n",
      "   - Bring the mixture to a gentle simmer, then reduce the heat to low.\n",
      "   - Cover the pan and let the curry simmer for about 20-25 minutes, or until the chicken is cooked through and tender.\n",
      "\n",
      "6. **Adjust Seasoning:**\n",
      "   - Taste the curry and adjust the seasoning with more salt, pepper, or chili powder if needed.\n",
      "\n",
      "7. **Serve:**\n",
      "   - Serve the chicken curry hot over a bed of cooked basmati rice.\n",
      "   - Garnish with fresh cilantro.\n",
      "\n",
      "Enjoy your homemade chicken curry! Feel free to adjust the spices and ingredients to suit your taste preferences.\n"
     ]
    }
   ],
   "source": [
    "prompt_value = prompt.invoke({\"dish\": \"Curry\"})\n",
    "ai_message = model.invoke(prompt_value)\n",
    "output = output_parser.invoke(ai_message)\n",
    "print(output)"
   ]
  },
  {
   "cell_type": "markdown",
   "id": "2f0a6df0",
   "metadata": {},
   "source": [
    "We can obtain the same results by using `RunnableSequence`.\n",
    "\n",
    "```text\n",
    "When we invoke a `RunnableSequence, it invokes each of the linked Runnable objects in sequence.`\n",
    "```"
   ]
  },
  {
   "cell_type": "code",
   "execution_count": null,
   "id": "3b4255f5",
   "metadata": {},
   "outputs": [
    {
     "name": "stdout",
     "output_type": "stream",
     "text": [
      "Certainly! Here's a simple and delicious recipe for a classic Chicken Curry:\n",
      "\n",
      "### Ingredients:\n",
      "- 1.5 lbs (about 700g) chicken breast or thighs, cut into bite-sized pieces\n",
      "- 2 tablespoons vegetable oil\n",
      "- 1 large onion, finely chopped\n",
      "- 3 cloves garlic, minced\n",
      "- 1 tablespoon fresh ginger, grated\n",
      "- 2 teaspoons ground cumin\n",
      "- 2 teaspoons ground coriander\n",
      "- 1 teaspoon turmeric powder\n",
      "- 1 teaspoon garam masala\n",
      "- 1 teaspoon chili powder (adjust to taste)\n",
      "- 1 can (14 oz) coconut milk\n",
      "- 1 cup chicken broth\n",
      "- 2 tablespoons tomato paste\n",
      "- Salt and pepper to taste\n",
      "- Fresh cilantro, chopped, for garnish\n",
      "- Cooked basmati rice, for serving\n",
      "\n",
      "### Instructions:\n",
      "\n",
      "1. **Prepare the Chicken:**\n",
      "   - Season the chicken pieces with salt and pepper.\n",
      "\n",
      "2. **Cook the Aromatics:**\n",
      "   - Heat the vegetable oil in a large pan over medium heat.\n",
      "   - Add the chopped onion and sauté until it becomes translucent, about 5 minutes.\n",
      "   - Stir in the garlic and ginger, cooking for another 2 minutes until fragrant.\n",
      "\n",
      "3. **Add the Spices:**\n",
      "   - Add the cumin, coriander, turmeric, garam masala, and chili powder to the pan.\n",
      "   - Stir well to coat the onions, garlic, and ginger with the spices, cooking for about 1 minute.\n",
      "\n",
      "4. **Cook the Chicken:**\n",
      "   - Add the chicken pieces to the pan, stirring to coat them with the spice mixture.\n",
      "   - Cook until the chicken is browned on all sides, about 5-7 minutes.\n",
      "\n",
      "5. **Simmer the Curry:**\n",
      "   - Pour in the coconut milk, chicken broth, and tomato paste.\n",
      "   - Stir well to combine all the ingredients.\n",
      "   - Bring the mixture to a gentle simmer, then reduce the heat to low.\n",
      "   - Cover the pan and let it simmer for about 20-25 minutes, or until the chicken is cooked through and tender.\n",
      "\n",
      "6. **Adjust Seasoning:**\n",
      "   - Taste the curry and adjust the seasoning with more salt, pepper, or chili powder if needed.\n",
      "\n",
      "7. **Serve:**\n",
      "   - Serve the chicken curry hot over a bed of cooked basmati rice.\n",
      "   - Garnish with freshly chopped cilantro.\n",
      "\n",
      "Enjoy your homemade chicken curry! Feel free to adjust the spices and ingredients to suit your taste preferences.\n"
     ]
    }
   ],
   "source": [
    "chain = prompt | model | output_parser\n",
    "\n",
    "output = chain.invoke({\"dish\": \"Curry\"})\n",
    "print(output)"
   ]
  },
  {
   "cell_type": "markdown",
   "id": "d25e99b2",
   "metadata": {},
   "source": [
    "`Runnable` objects' executable methods: `invoke`, `stream`, `batch`"
   ]
  },
  {
   "cell_type": "markdown",
   "id": "ba724820",
   "metadata": {},
   "source": [
    "**stream method**"
   ]
  },
  {
   "cell_type": "markdown",
   "id": "70262801",
   "metadata": {},
   "source": [
    "To execute a Runnable in **streaming mode**, use the `stream` method as follows."
   ]
  },
  {
   "cell_type": "code",
   "execution_count": 19,
   "id": "7aaa1be4",
   "metadata": {},
   "outputs": [
    {
     "name": "stdout",
     "output_type": "stream",
     "text": [
      "Certainly! Here's a simple and delicious recipe for a classic Chicken Curry:\n",
      "\n",
      "### Ingredients:\n",
      "- 1.5 lbs (about 700g) chicken thighs or breasts, cut into bite-sized pieces\n",
      "- 2 tablespoons vegetable oil\n",
      "- 1 large onion, finely chopped\n",
      "- 3 cloves garlic, minced\n",
      "- 1 tablespoon fresh ginger, grated\n",
      "- 2 teaspoons ground cumin\n",
      "- 2 teaspoons ground coriander\n",
      "- 1 teaspoon turmeric powder\n",
      "- 1 teaspoon garam masala\n",
      "- 1 teaspoon chili powder (adjust to taste)\n",
      "- 1 can (14 oz) coconut milk\n",
      "- 1 cup chicken broth\n",
      "- 2 tablespoons tomato paste\n",
      "- Salt and pepper to taste\n",
      "- Fresh cilantro, chopped, for garnish\n",
      "- Cooked basmati rice, for serving\n",
      "\n",
      "### Instructions:\n",
      "\n",
      "1. **Prepare the Chicken:**\n",
      "   - Season the chicken pieces with salt and pepper.\n",
      "\n",
      "2. **Cook the Aromatics:**\n",
      "   - Heat the vegetable oil in a large pan over medium heat.\n",
      "   - Add the chopped onion and sauté until it becomes translucent, about 5 minutes.\n",
      "   - Stir in the garlic and ginger, cooking for another 2 minutes until fragrant.\n",
      "\n",
      "3. **Add the Spices:**\n",
      "   - Add the cumin, coriander, turmeric, garam masala, and chili powder to the pan.\n",
      "   - Stir well to coat the onions, garlic, and ginger with the spices, cooking for about 1 minute.\n",
      "\n",
      "4. **Cook the Chicken:**\n",
      "   - Add the chicken pieces to the pan, stirring to coat them with the spice mixture.\n",
      "   - Cook until the chicken is browned on all sides, about 5-7 minutes.\n",
      "\n",
      "5. **Simmer the Curry:**\n",
      "   - Pour in the coconut milk, chicken broth, and tomato paste.\n",
      "   - Stir well to combine all the ingredients.\n",
      "   - Bring the mixture to a gentle simmer, then reduce the heat to low.\n",
      "   - Cover the pan and let it simmer for about 20-25 minutes, or until the chicken is cooked through and tender.\n",
      "\n",
      "6. **Adjust Seasoning:**\n",
      "   - Taste the curry and adjust the seasoning with more salt, pepper, or chili powder if needed.\n",
      "\n",
      "7. **Serve:**\n",
      "   - Serve the chicken curry hot over a bed of cooked basmati rice.\n",
      "   - Garnish with fresh cilantro for added flavor and color.\n",
      "\n",
      "Enjoy your homemade chicken curry! Feel free to adjust the spice levels and ingredients to suit your taste preferences."
     ]
    }
   ],
   "source": [
    "chain = prompt | model | output_parser\n",
    "\n",
    "for chunk in chain.stream({\"dish\": \"Curry\"}):\n",
    "    print(chunk, end=\"\", flush=True)"
   ]
  },
  {
   "cell_type": "markdown",
   "id": "bf9515eb",
   "metadata": {},
   "source": [
    "**batch method**"
   ]
  },
  {
   "cell_type": "markdown",
   "id": "a60237b7",
   "metadata": {},
   "source": [
    "By using the **batch** method, you can process `multiple inputs` together."
   ]
  },
  {
   "cell_type": "code",
   "execution_count": 20,
   "id": "37ecab55",
   "metadata": {},
   "outputs": [
    {
     "name": "stdout",
     "output_type": "stream",
     "text": [
      "[\"Certainly! Here's a simple and delicious recipe for a classic Chicken Curry:\\n\\n### Ingredients:\\n- 1.5 lbs (about 700g) chicken thighs or breasts, cut into bite-sized pieces\\n- 2 tablespoons vegetable oil\\n- 1 large onion, finely chopped\\n- 3 cloves garlic, minced\\n- 1 tablespoon fresh ginger, grated\\n- 2 teaspoons ground cumin\\n- 2 teaspoons ground coriander\\n- 1 teaspoon turmeric powder\\n- 1 teaspoon garam masala\\n- 1 teaspoon chili powder (adjust to taste)\\n- 1 can (14 oz) diced tomatoes\\n- 1 cup coconut milk\\n- Salt to taste\\n- Fresh cilantro, chopped, for garnish\\n\\n### Instructions:\\n\\n1. **Prepare the Ingredients:**\\n   - Chop the onion, mince the garlic, and grate the ginger. Cut the chicken into bite-sized pieces.\\n\\n2. **Cook the Aromatics:**\\n   - Heat the vegetable oil in a large pan over medium heat. Add the chopped onion and sauté until it becomes translucent, about 5 minutes.\\n   - Add the minced garlic and grated ginger, and cook for another 2 minutes until fragrant.\\n\\n3. **Add the Spices:**\\n   - Stir in the ground cumin, coriander, turmeric, garam masala, and chili powder. Cook for 1-2 minutes, stirring constantly to prevent burning, until the spices are well mixed and aromatic.\\n\\n4. **Cook the Chicken:**\\n   - Add the chicken pieces to the pan, stirring to coat them with the spice mixture. Cook for about 5-7 minutes until the chicken is browned on all sides.\\n\\n5. **Simmer the Curry:**\\n   - Pour in the diced tomatoes and coconut milk. Stir well to combine. Bring the mixture to a gentle simmer.\\n   - Reduce the heat to low, cover the pan, and let it simmer for 20-25 minutes, or until the chicken is cooked through and tender. Stir occasionally.\\n\\n6. **Season and Serve:**\\n   - Taste the curry and add salt as needed. If you prefer a thicker curry, let it simmer uncovered for a few more minutes to reduce the sauce.\\n   - Garnish with fresh cilantro before serving.\\n\\n7. **Serve:**\\n   - Serve the chicken curry hot with steamed basmati rice or warm naan bread.\\n\\nEnjoy your homemade chicken curry! Feel free to adjust the spices to suit your taste preferences.\", \"Sure! Here's a simple and delicious recipe for Udon Noodle Soup, a classic Japanese dish:\\n\\n### Ingredients:\\n\\n#### For the Broth:\\n- 4 cups dashi stock (you can use instant dashi powder if preferred)\\n- 2 tablespoons soy sauce\\n- 1 tablespoon mirin\\n- 1 tablespoon sake\\n- Salt to taste\\n\\n#### For the Udon:\\n- 400g fresh udon noodles (or dried, cooked according to package instructions)\\n- 200g chicken breast or thigh, thinly sliced (optional)\\n- 1 cup shiitake mushrooms, sliced\\n- 1 cup bok choy or spinach, chopped\\n- 2 green onions, finely chopped\\n- 2 soft-boiled eggs (optional)\\n- 1 sheet nori, cut into strips (optional)\\n- Toasted sesame seeds for garnish\\n- Chili flakes or shichimi togarashi (Japanese seven-spice) for garnish\\n\\n### Instructions:\\n\\n1. **Prepare the Broth:**\\n   - In a medium-sized pot, combine the dashi stock, soy sauce, mirin, and sake. Bring to a gentle simmer over medium heat. Taste and adjust the seasoning with salt if needed.\\n\\n2. **Cook the Chicken (if using):**\\n   - Add the sliced chicken to the simmering broth and cook until the chicken is fully cooked, about 5-7 minutes. Remove any foam that rises to the surface.\\n\\n3. **Add Vegetables:**\\n   - Add the shiitake mushrooms to the broth and simmer for another 3-4 minutes until they are tender.\\n   - Add the bok choy or spinach and cook for an additional 1-2 minutes until wilted.\\n\\n4. **Cook the Udon Noodles:**\\n   - If using fresh udon noodles, cook them in a separate pot of boiling water for 2-3 minutes until they are just tender. If using dried noodles, follow the package instructions. Drain and rinse under cold water to stop the cooking process.\\n\\n5. **Assemble the Soup:**\\n   - Divide the cooked udon noodles among serving bowls.\\n   - Ladle the hot broth with chicken and vegetables over the noodles.\\n\\n6. **Garnish:**\\n   - Top each bowl with a soft-boiled egg, green onions, nori strips, and a sprinkle of toasted sesame seeds.\\n   - Add chili flakes or shichimi togarashi for a bit of heat, if desired.\\n\\n7. **Serve:**\\n   - Serve the udon noodle soup hot and enjoy!\\n\\nThis udon noodle soup is comforting and can be customized with your favorite proteins and vegetables. Enjoy your meal!\"]\n"
     ]
    }
   ],
   "source": [
    "chain = prompt | model | output_parser\n",
    "\n",
    "outputs = chain.batch([{\"dish\": \"Curry\"}, {\"dish\": \"udon\"}])\n",
    "print(outputs)"
   ]
  },
  {
   "cell_type": "markdown",
   "id": "168af5bd",
   "metadata": {},
   "source": [
    "```text\n",
    "In this way, any class inheriting from `Runnable` can be invoked through a unified interface using methods like invoke, stream, and batch. Furthermore, asynchronous counterparts —- ainvoke, astream, and abatch —- are also provided.\n",
    "```"
   ]
  },
  {
   "cell_type": "markdown",
   "id": "c94c3584",
   "metadata": {},
   "source": [
    "### 4.10 Multiple chains"
   ]
  },
  {
   "cell_type": "code",
   "execution_count": 2,
   "id": "a15967b3",
   "metadata": {},
   "outputs": [],
   "source": [
    "from langchain_core.output_parsers import StrOutputParser\n",
    "from langchain_core.prompts import ChatPromptTemplate\n",
    "from langchain_openai import ChatOpenAI\n",
    "\n",
    "model = ChatOpenAI(model=\"gpt-4o\")\n",
    "output_parser = StrOutputParser()"
   ]
  },
  {
   "cell_type": "code",
   "execution_count": 3,
   "id": "8d26c347",
   "metadata": {},
   "outputs": [],
   "source": [
    "cot_prompt = ChatPromptTemplate.from_messages(\n",
    "    [\n",
    "        (\"system\", \"Please think step by step to answer this question.\"),\n",
    "        (\"human\", \"{question}\"),\n",
    "    ]\n",
    ")\n",
    "\n",
    "cot_chain = cot_prompt | model | output_parser"
   ]
  },
  {
   "cell_type": "code",
   "execution_count": 10,
   "id": "3bb5d520",
   "metadata": {},
   "outputs": [],
   "source": [
    "summarize_prompt = ChatPromptTemplate.from_messages(\n",
    "    [\n",
    "        (\"system\", \"Please just give me the final answer from the step-by-step solution.\"),\n",
    "        # Only one placeholder is required.\n",
    "        # After running the `cot_chain``, it produces a dictionary like {\"text\": \"…\"}.”\n",
    "        (\"human\", \"{text}\"),\n",
    "    ]\n",
    ")\n",
    "\n",
    "summarize_chain = summarize_prompt | model | output_parser"
   ]
  },
  {
   "cell_type": "code",
   "execution_count": 11,
   "id": "a130ab75",
   "metadata": {},
   "outputs": [
    {
     "data": {
      "text/plain": [
       "'16'"
      ]
     },
     "execution_count": 11,
     "metadata": {},
     "output_type": "execute_result"
    }
   ],
   "source": [
    "cot_summarize_chain = cot_chain | summarize_chain\n",
    "\n",
    "cot_summarize_chain.invoke({\"question\": \"10 + 2 * 3\"})"
   ]
  }
 ],
 "metadata": {
  "kernelspec": {
   "display_name": "ai-agent-py310",
   "language": "python",
   "name": "python3"
  },
  "language_info": {
   "codemirror_mode": {
    "name": "ipython",
    "version": 3
   },
   "file_extension": ".py",
   "mimetype": "text/x-python",
   "name": "python",
   "nbconvert_exporter": "python",
   "pygments_lexer": "ipython3",
   "version": "3.10.18"
  }
 },
 "nbformat": 4,
 "nbformat_minor": 5
}
