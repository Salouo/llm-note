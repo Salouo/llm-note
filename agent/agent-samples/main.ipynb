{
 "cells": [
  {
   "cell_type": "markdown",
   "id": "396517e1",
   "metadata": {},
   "source": [
    "# Chapter12"
   ]
  },
  {
   "cell_type": "code",
   "execution_count": 1,
   "id": "c3d2e89d",
   "metadata": {},
   "outputs": [],
   "source": [
    "from dotenv import load_dotenv\n",
    "\n",
    "# Set up environment variables\n",
    "loaded = load_dotenv()"
   ]
  },
  {
   "cell_type": "markdown",
   "id": "7fd98ead",
   "metadata": {},
   "source": [
    "## Note\n",
    "\n",
    "- When returning elements to the state, if no reducer is specified, the values are overwritten (updated) by default.\n",
    "\n",
    "- An underscore (_) indicates that it is an internal implementation of the class and is not intended to be called from outside."
   ]
  }
 ],
 "metadata": {
  "kernelspec": {
   "display_name": "agent-py310",
   "language": "python",
   "name": "python3"
  },
  "language_info": {
   "codemirror_mode": {
    "name": "ipython",
    "version": 3
   },
   "file_extension": ".py",
   "mimetype": "text/x-python",
   "name": "python",
   "nbconvert_exporter": "python",
   "pygments_lexer": "ipython3",
   "version": "3.10.18"
  }
 },
 "nbformat": 4,
 "nbformat_minor": 5
}
