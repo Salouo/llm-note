{
 "cells": [
  {
   "cell_type": "markdown",
   "id": "0462c8ec",
   "metadata": {},
   "source": [
    "# 第2章: UNIXコマンド"
   ]
  },
  {
   "cell_type": "markdown",
   "id": "690161f3",
   "metadata": {},
   "source": [
    "## 10. 行数のカウント\n",
    "ファイルの行数をカウントせよ。確認にはwcコマンドを用いよ。"
   ]
  },
  {
   "cell_type": "code",
   "execution_count": null,
   "id": "dd64ee33",
   "metadata": {},
   "outputs": [
    {
     "name": "stdout",
     "output_type": "stream",
     "text": [
      "2780\n"
     ]
    }
   ],
   "source": [
    "with open('popular-names.txt', 'r') as f:\n",
    "    line_count = sum(1 for _ in f)\n",
    "print(line_count)"
   ]
  },
  {
   "cell_type": "markdown",
   "id": "b13867de",
   "metadata": {},
   "source": [
    "## 11. 先頭からN行を出力\n",
    "ファイルの先頭N行だけを表示せよ。例えば、N=10として先頭10行を表示せよ。確認にはheadコマンドを用いよ。"
   ]
  },
  {
   "cell_type": "code",
   "execution_count": null,
   "id": "37bc03c4",
   "metadata": {},
   "outputs": [
    {
     "name": "stdout",
     "output_type": "stream",
     "text": [
      "Mary\tF\t7065\t1880\n",
      "Anna\tF\t2604\t1880\n",
      "Emma\tF\t2003\t1880\n",
      "Elizabeth\tF\t1939\t1880\n",
      "Minnie\tF\t1746\t1880\n",
      "Margaret\tF\t1578\t1880\n",
      "Ida\tF\t1472\t1880\n",
      "Alice\tF\t1414\t1880\n",
      "Bertha\tF\t1320\t1880\n",
      "Sarah\tF\t1288\t1880\n",
      "\n"
     ]
    }
   ],
   "source": [
    "with open('popular-names.txt', 'r') as f:\n",
    "    lines = f.readlines()\n",
    "\n",
    "lines_first_10 = lines[:10]\n",
    "print(''.join(lines_first_10))"
   ]
  },
  {
   "cell_type": "markdown",
   "id": "e8ad5379",
   "metadata": {},
   "source": [
    "## 12. 末尾のN行を出力\n",
    "ファイルの末尾N行だけを表示せよ。例えば、N=10として末尾10行を表示せよ。確認にはtailコマンドを用いよ。"
   ]
  },
  {
   "cell_type": "code",
   "execution_count": null,
   "id": "3294b8db",
   "metadata": {},
   "outputs": [
    {
     "name": "stdout",
     "output_type": "stream",
     "text": [
      "Liam\tM\t19837\t2018\n",
      "Noah\tM\t18267\t2018\n",
      "William\tM\t14516\t2018\n",
      "James\tM\t13525\t2018\n",
      "Oliver\tM\t13389\t2018\n",
      "Benjamin\tM\t13381\t2018\n",
      "Elijah\tM\t12886\t2018\n",
      "Lucas\tM\t12585\t2018\n",
      "Mason\tM\t12435\t2018\n",
      "Logan\tM\t12352\t2018\n"
     ]
    }
   ],
   "source": [
    "N = 10\n",
    "\n",
    "# Read the whole file (all the lines).\n",
    "with open('popular-names.txt', 'r') as f:\n",
    "    lines = f.readlines()\n",
    "\n",
    "for line in lines[-N:]:\n",
    "    print(line, end='')"
   ]
  },
  {
   "cell_type": "markdown",
   "id": "a31db171",
   "metadata": {},
   "source": [
    "## 13. タブをスペースに置換\n",
    "ファイルの先頭10行に対して、タブ1文字につきスペース1文字に置換して出力せよ。確認にはsedコマンド、trコマンド、もしくはexpandコマンドなどを用いよ。"
   ]
  },
  {
   "cell_type": "code",
   "execution_count": null,
   "id": "17525333",
   "metadata": {},
   "outputs": [
    {
     "name": "stdout",
     "output_type": "stream",
     "text": [
      "Mary F 7065 1880\n",
      "Anna F 2604 1880\n",
      "Emma F 2003 1880\n",
      "Elizabeth F 1939 1880\n",
      "Minnie F 1746 1880\n",
      "Margaret F 1578 1880\n",
      "Ida F 1472 1880\n",
      "Alice F 1414 1880\n",
      "Bertha F 1320 1880\n",
      "Sarah F 1288 1880\n",
      "\n"
     ]
    }
   ],
   "source": [
    "lines_10_list = []\n",
    "\n",
    "# Open the file and replace '\\t' with ' ' cross first 10 lines.\n",
    "with open('popular-names.txt', 'r') as f:\n",
    "    for _ in range(10):\n",
    "        line = f.readline()\n",
    "        lines_10_list.append(line.replace('\\t', ' '))\n",
    "\n",
    "lines_10 = ''.join(lines_10_list)   # Join the list\n",
    "print(lines_10)\n"
   ]
  },
  {
   "cell_type": "markdown",
   "id": "d5684c38",
   "metadata": {},
   "source": [
    "## 14. 1列目を出力\n",
    "ファイルの先頭10行に対して、各行の1列目だけを抜き出して表示せよ。確認にはcutコマンドなどを用いよ。"
   ]
  },
  {
   "cell_type": "code",
   "execution_count": 1,
   "id": "8d700309",
   "metadata": {},
   "outputs": [
    {
     "name": "stdout",
     "output_type": "stream",
     "text": [
      "Mary\n",
      "Anna\n",
      "Emma\n",
      "Elizabeth\n",
      "Minnie\n",
      "Margaret\n",
      "Ida\n",
      "Alice\n",
      "Bertha\n",
      "Sarah\n"
     ]
    }
   ],
   "source": [
    "columns_10_list = []\n",
    "\n",
    "with open('popular-names.txt', 'r') as f:\n",
    "    for _ in range(10):\n",
    "        line = f.readline()\n",
    "        columns_10_list.append(line.split('\\t')[0])\n",
    "\n",
    "columns_10 = '\\n'.join(columns_10_list)\n",
    "print(columns_10)\n"
   ]
  },
  {
   "cell_type": "markdown",
   "id": "d90fac21",
   "metadata": {},
   "source": [
    "## 15. ファイルをN分割する\n",
    "ファイルを行単位でN分割し、別のファイルに格納せよ。例えば、N=10としてファイルを10分割せよ。同様の処理をsplitコマンドで実現せよ。"
   ]
  },
  {
   "cell_type": "code",
   "execution_count": null,
   "id": "ab65200c",
   "metadata": {},
   "outputs": [],
   "source": [
    "N = 10\n",
    "\n",
    "with open('popular-names.txt', 'r') as f:\n",
    "    lines = f.readlines()\n",
    "\n",
    "chunk_size = (len(lines) + N - 1) // N      # Round up to ensure no lines are missed.\n",
    "\n",
    "# Iterate over each chunk.\n",
    "for i in range(N):\n",
    "    start = i * chunk_size\n",
    "    end = min((i + 1) * chunk_size, len(lines))     # Cap the end index to avoid overflow.\n",
    "    \n",
    "    # Write each line one by one for the current chunk\n",
    "    with open(f'15/line_{i + 1}.txt', 'w') as f:    # Create a new txt file to store a chunk of lines.\n",
    "        for line in lines[start:end]:\n",
    "            f.write(line)\n"
   ]
  },
  {
   "cell_type": "markdown",
   "id": "0181fea1",
   "metadata": {},
   "source": [
    "## 16. ランダムに各行を並び替える\n",
    "ファイルを行単位でランダムに並び替えよ（注意: 各行の内容は変更せずに並び替えよ）。同様の処理をshufコマンドで実現せよ。"
   ]
  },
  {
   "cell_type": "code",
   "execution_count": 19,
   "id": "25402faf",
   "metadata": {},
   "outputs": [
    {
     "name": "stdout",
     "output_type": "stream",
     "text": [
      "Before exchange\n",
      "Mary\tF\t7065\t1880\n",
      "Anna\tF\t2604\t1880\n",
      "Emma\tF\t2003\t1880\n",
      "\n",
      "After exchange:\n",
      "Mark\tM\t53504\t1962\n",
      "Linda\tF\t23633\t1964\n",
      "Carol\tF\t30456\t1944\n",
      "\n"
     ]
    }
   ],
   "source": [
    "import random\n",
    "\n",
    "\n",
    "with open(\"popular-names.txt\", 'r') as f:\n",
    "    lines = f.readlines()\n",
    "\n",
    "print(\"Before exchange\\n\" + ''.join(lines[:3]))\n",
    "\n",
    "shuffled_lines = random.sample(lines, len(lines))\n",
    "\n",
    "print(\"After exchange:\\n\" + ''.join(shuffled_lines[:3]))"
   ]
  },
  {
   "cell_type": "markdown",
   "id": "a2284bc1",
   "metadata": {},
   "source": [
    "## 17. １列目の文字列の異なり\n",
    "1列目の文字列の異なり（文字列の種類）を求めよ。確認にはcut, sort, uniqコマンドを用いよ。"
   ]
  },
  {
   "cell_type": "code",
   "execution_count": 22,
   "id": "c46ceea6",
   "metadata": {},
   "outputs": [
    {
     "name": "stdout",
     "output_type": "stream",
     "text": [
      "136\n"
     ]
    }
   ],
   "source": [
    "with open(\"popular-names.txt\", 'r') as f:\n",
    "    first_column = [line.split('\\t')[0] for line in f.readlines()]\n",
    "\n",
    "ans = len(set(first_column))\n",
    "print(ans)"
   ]
  },
  {
   "cell_type": "markdown",
   "id": "3685c486",
   "metadata": {},
   "source": [
    "## 18. 各行の1列目の文字列の出現頻度を求め、出現頻度の高い順に並べる\n",
    "1列目の文字列の出現頻度を求め、出現頻度と名前を出現頻度の多い順に並べて表示せよ。確認にはcut, uniq, sortコマンドを用いよ。"
   ]
  },
  {
   "cell_type": "code",
   "execution_count": 10,
   "id": "e38aa792",
   "metadata": {},
   "outputs": [
    {
     "name": "stdout",
     "output_type": "stream",
     "text": [
      "name:James, frequency:118\n",
      "name:William, frequency:111\n",
      "name:John, frequency:108\n",
      "name:Robert, frequency:108\n",
      "name:Mary, frequency:92\n"
     ]
    }
   ],
   "source": [
    "with open(\"popular-names.txt\", 'r') as f:\n",
    "    names = [line.split('\\t')[0] for line in f.readlines()]\n",
    "\n",
    "unique_names = set(names)\n",
    "name_count_dict = {name: 0 for name in unique_names}\n",
    "\n",
    "for name in names:\n",
    "    name_count_dict[name] += 1\n",
    "\n",
    "ranked_name_count_tuples = sorted(name_count_dict.items(), key=lambda x: x[1], reverse=True)\n",
    "\n",
    "for name, count in ranked_name_count_tuples[:5]:\n",
    "    print(f'name:{name}, frequency:{count}')"
   ]
  },
  {
   "cell_type": "markdown",
   "id": "570ec243",
   "metadata": {},
   "source": [
    "## 19. 3列目の数値の降順に各行を並び替える\n",
    "3列目の数値の逆順でファイルの各行を整列せよ（注意: 各行の内容は変更せずに並び替えよ）。同様の処理をsortコマンドで実現せよ。"
   ]
  },
  {
   "cell_type": "code",
   "execution_count": 17,
   "id": "d6060e9e",
   "metadata": {},
   "outputs": [
    {
     "name": "stdout",
     "output_type": "stream",
     "text": [
      "Linda\tF\t99689\t1947\n",
      "Linda\tF\t96211\t1948\n",
      "James\tM\t94757\t1947\n",
      "Michael\tM\t92704\t1957\n",
      "Robert\tM\t91640\t1947\n",
      "\n"
     ]
    }
   ],
   "source": [
    "with open(\"popular-names.txt\", 'r') as f:\n",
    "    lines = f.readlines()\n",
    "\n",
    "sorted_lines = sorted(lines, key=lambda x: int(x.split('\\t')[2]), reverse=True)\n",
    "\n",
    "print(''.join(sorted_lines[:5]))"
   ]
  }
 ],
 "metadata": {
  "kernelspec": {
   "display_name": "python38",
   "language": "python",
   "name": "python3"
  },
  "language_info": {
   "codemirror_mode": {
    "name": "ipython",
    "version": 3
   },
   "file_extension": ".py",
   "mimetype": "text/x-python",
   "name": "python",
   "nbconvert_exporter": "python",
   "pygments_lexer": "ipython3",
   "version": "3.8.20"
  }
 },
 "nbformat": 4,
 "nbformat_minor": 5
}
