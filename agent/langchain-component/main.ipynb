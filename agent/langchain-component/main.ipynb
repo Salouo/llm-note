{
 "cells": [
  {
   "cell_type": "markdown",
   "id": "66938579",
   "metadata": {},
   "source": [
    "# Chapter05"
   ]
  },
  {
   "cell_type": "code",
   "execution_count": 2,
   "id": "04f61ebd",
   "metadata": {},
   "outputs": [],
   "source": [
    "from dotenv import load_dotenv\n",
    "\n",
    "loaded = load_dotenv()"
   ]
  },
  {
   "cell_type": "markdown",
   "id": "059ef457",
   "metadata": {},
   "source": [
    "## 5.1 RunnableLambda"
   ]
  },
  {
   "cell_type": "markdown",
   "id": "a1f5b772",
   "metadata": {},
   "source": [
    "`RunnableLambda` allows a function to be converted into a `Runnable` type, enabling it to be added to a chain."
   ]
  },
  {
   "cell_type": "code",
   "execution_count": 2,
   "id": "a032b922",
   "metadata": {},
   "outputs": [],
   "source": [
    "from langchain_core.output_parsers import StrOutputParser\n",
    "from langchain_core.prompts import ChatPromptTemplate\n",
    "from langchain_openai import ChatOpenAI\n",
    "\n",
    "prompt = ChatPromptTemplate.from_messages(\n",
    "    [\n",
    "        (\"system\", \"You are a helpful assistant.\"),\n",
    "        (\"human\", \"{input}\"),\n",
    "    ]\n",
    ")\n",
    "\n",
    "model = ChatOpenAI(model=\"gpt-4o\", temperature=0)\n",
    "\n",
    "output_parser = StrOutputParser()"
   ]
  },
  {
   "cell_type": "code",
   "execution_count": 4,
   "id": "19bc127b",
   "metadata": {},
   "outputs": [
    {
     "name": "stdout",
     "output_type": "stream",
     "text": [
      "HELLO! HOW CAN I ASSIST YOU TODAY?\n"
     ]
    }
   ],
   "source": [
    "from langchain_core.runnables import RunnableLambda\n",
    "\n",
    "def upper(text: str) -> str:\n",
    "    return text.upper()\n",
    "\n",
    "chain = prompt | model | output_parser | RunnableLambda(upper)\n",
    "\n",
    "output = chain.invoke({\"input\": \"Hello!\"})\n",
    "print(output)"
   ]
  },
  {
   "cell_type": "markdown",
   "id": "fc53f0e3",
   "metadata": {},
   "source": [
    "We can also use `decorator` to obtain the same effect."
   ]
  },
  {
   "cell_type": "code",
   "execution_count": 6,
   "id": "b1413711",
   "metadata": {},
   "outputs": [
    {
     "name": "stdout",
     "output_type": "stream",
     "text": [
      "HELLO! HOW CAN I ASSIST YOU TODAY?\n"
     ]
    }
   ],
   "source": [
    "from langchain_core.runnables import chain\n",
    "\n",
    "@chain\n",
    "def upper(text: str) -> str:\n",
    "    return text.upper()\n",
    "\n",
    "chain = prompt | model | output_parser | upper\n",
    "\n",
    "output = chain.invoke({\"input\": \"Hello!\"})\n",
    "print(output)"
   ]
  },
  {
   "cell_type": "markdown",
   "id": "921175a0",
   "metadata": {},
   "source": [
    "**Automatic conversion** is the most commonly used approach. Whenever nearby objects in the chain are a `Runnable`, the object is automatically converted into a `Runnable`. "
   ]
  },
  {
   "cell_type": "code",
   "execution_count": 6,
   "id": "7943329c",
   "metadata": {},
   "outputs": [
    {
     "name": "stdout",
     "output_type": "stream",
     "text": [
      "HELLO! HOW CAN I ASSIST YOU TODAY?\n"
     ]
    }
   ],
   "source": [
    "def upper(text: str) -> str:\n",
    "    return text.upper()\n",
    "\n",
    "chain = prompt | model | output_parser | upper\n",
    "\n",
    "output = chain.invoke({\"input\": \"Hello!\"})\n",
    "print(output)"
   ]
  },
  {
   "cell_type": "markdown",
   "id": "7ed58b47",
   "metadata": {},
   "source": [
    "### streaming mode"
   ]
  },
  {
   "cell_type": "markdown",
   "id": "7dd2df3b",
   "metadata": {},
   "source": [
    "Because `upper` batches all its input and returns a single result, calling the chain with .stream() won't emit anything until it's fully done."
   ]
  },
  {
   "cell_type": "code",
   "execution_count": 8,
   "id": "837b00a4",
   "metadata": {},
   "outputs": [
    {
     "name": "stdout",
     "output_type": "stream",
     "text": [
      "HELLO! IT'S GREAT TO CONNECT WITH YOU. I HOPE YOU'RE HAVING A WONDERFUL DAY. IF THERE'S ANYTHING SPECIFIC YOU'D LIKE TO DISCUSS OR ANY QUESTIONS YOU HAVE, FEEL FREE TO ASK. I'M HERE TO HELP WITH INFORMATION, ADVICE, OR JUST A FRIENDLY CHAT. LOOKING FORWARD TO OUR CONVERSATION!"
     ]
    }
   ],
   "source": [
    "from typing import Iterator\n",
    "\n",
    "def upper(input_stream: Iterator[str]) -> Iterator[str]:\n",
    "    for text in input_stream:\n",
    "        yield text.upper()\n",
    "\n",
    "chain = prompt | model | StrOutputParser() | upper\n",
    "\n",
    "for chunk in chain.stream({\"input\": \"Hello! Say something in 50 words.\"}):\n",
    "    print(chunk, end=\"\", flush=True)"
   ]
  },
  {
   "cell_type": "markdown",
   "id": "3d469182",
   "metadata": {},
   "source": [
    "## 5.2 RunnableParallel"
   ]
  },
  {
   "cell_type": "markdown",
   "id": "4b25c28a",
   "metadata": {},
   "source": [
    "Define basic conponents"
   ]
  },
  {
   "cell_type": "code",
   "execution_count": 26,
   "id": "c5d4ee6c",
   "metadata": {},
   "outputs": [],
   "source": [
    "from langchain_core.output_parsers import StrOutputParser\n",
    "from langchain_core.prompts import ChatPromptTemplate\n",
    "from langchain_openai import ChatOpenAI\n",
    "\n",
    "model = ChatOpenAI(model=\"gpt-4o\", temperature=0)\n",
    "output_parser = StrOutputParser()"
   ]
  },
  {
   "cell_type": "markdown",
   "id": "88ef4a68",
   "metadata": {},
   "source": [
    "Create optimistic chain"
   ]
  },
  {
   "cell_type": "code",
   "execution_count": 28,
   "id": "6bb43607",
   "metadata": {},
   "outputs": [],
   "source": [
    "optimistic_prompt = ChatPromptTemplate.from_messages(\n",
    "    [\n",
    "        (\"system\", \"あなたは楽観主義者です。ユーザーの入力に対して楽観的な意見をください。\"),\n",
    "        (\"human\", \"{topic}\"),\n",
    "    ]\n",
    ")\n",
    "optimistic_chain = optimistic_prompt | model | output_parser"
   ]
  },
  {
   "cell_type": "markdown",
   "id": "3ef99567",
   "metadata": {},
   "source": [
    "Create pessimistic chain"
   ]
  },
  {
   "cell_type": "code",
   "execution_count": 31,
   "id": "55334c2c",
   "metadata": {},
   "outputs": [],
   "source": [
    "pessimistic_prompt = ChatPromptTemplate.from_messages(\n",
    "    [\n",
    "        (\"system\", \"あなたは悲観主義者です。ユーザーの入力に対して悲観的な意見をください。\"),\n",
    "        (\"human\", \"{topic}\"),\n",
    "    ]\n",
    ")\n",
    "pessimistic_chain = pessimistic_prompt | model | output_parser"
   ]
  },
  {
   "cell_type": "markdown",
   "id": "b64b9f74",
   "metadata": {},
   "source": [
    "Let model output optimistic answer and pessimistic answer parallelly"
   ]
  },
  {
   "cell_type": "code",
   "execution_count": 32,
   "id": "29b7f67e",
   "metadata": {},
   "outputs": [
    {
     "name": "stdout",
     "output_type": "stream",
     "text": [
      "{'optimistic_opinion': '生成AIの進化は本当にワクワクするものですね！この技術の進歩は、私たちの生活をより便利で豊かにしてくれる可能性を秘めています。例えば、クリエイティブなプロジェクトの支援や、日常業務の効率化、さらには新しいアイデアの発掘など、さまざまな分野での活用が期待されています。\\n'\n",
      "                       '\\n'\n",
      "                       'また、生成AIは教育や医療、エンターテインメントなど、多くの分野で革新をもたらすことができるでしょう。これからの進化によって、私たちがまだ想像もしていないような新しい可能性が開かれるかもしれません。技術が進化することで、より多くの人々がその恩恵を受けられるようになり、世界がより良い場所になることを期待しています！',\n",
      " 'pessimistic_opinion': '生成AIの進化は確かに目覚ましいものがありますが、悲観的に考えると、これにはいくつかの懸念が伴います。まず、生成AIが進化することで、人間の仕事が奪われる可能性が高まります。特にクリエイティブな分野での自動化が進むと、多くの人が職を失うかもしれません。\\n'\n",
      "                        '\\n'\n",
      "                        'また、生成AIが進化することで、フェイクニュースや偽情報の拡散がさらに容易になります。AIが生成したコンテンツはますますリアルになり、真偽を見分けることが難しくなるでしょう。これにより、社会の混乱や不信感が増大する可能性があります。\\n'\n",
      "                        '\\n'\n",
      "                        'さらに、生成AIの進化は倫理的な問題も引き起こします。AIが人間のように振る舞うことで、責任の所在が曖昧になり、誤った判断や偏見が助長されるリスクがあります。技術の進化が必ずしも人類にとって良い方向に進むとは限らないのです。'}\n"
     ]
    }
   ],
   "source": [
    "import pprint\n",
    "from langchain_core.runnables import RunnableParallel\n",
    "\n",
    "parallel_chain = RunnableParallel(\n",
    "    {\n",
    "        \"optimistic_opinion\": optimistic_chain,\n",
    "        \"pessimistic_opinion\": pessimistic_chain,\n",
    "    }\n",
    ")\n",
    "\n",
    "output = parallel_chain.invoke({\"topic\": \"生成AIの進化について\"})\n",
    "pprint.pprint(output)"
   ]
  },
  {
   "cell_type": "code",
   "execution_count": 20,
   "id": "94035aa1",
   "metadata": {},
   "outputs": [],
   "source": [
    "synthesize_prompt = ChatPromptTemplate.from_messages(\n",
    "    [\n",
    "        (\"system\", \"あなたは客観的AIです。二つの意見をまとめてください。\"),\n",
    "        (\"human\", \"楽観的な意見: {optimistic_opinion}\\n客観的意見: {pessimistic_opinion}\"),\n",
    "    ]\n",
    ")"
   ]
  },
  {
   "cell_type": "code",
   "execution_count": 22,
   "id": "58d7539c",
   "metadata": {},
   "outputs": [
    {
     "name": "stdout",
     "output_type": "stream",
     "text": [
      "生成AIの進化に関する意見は、楽観的な見方と懸念を抱く見方の両方が存在します。楽観的な意見では、生成AIの進歩が私たちの生活をより便利で豊かにし、クリエイティブなプロジェクトの支援や日常業務の効率化、新しいアイデアの発掘など、多くの分野での応用が期待されています。特に教育や医療、環境保護といった重要な分野での影響が強調され、個々の学習スタイルに合わせた教材の提供や、医療診断の精度向上、新薬の開発促進などが可能になるとされています。\n",
      "\n",
      "一方で、客観的な意見では、生成AIの進化に伴う懸念が指摘されています。AIの進化により人間の仕事が奪われる可能性があり、経済的不安が増大することが懸念されています。また、AIが生成するコンテンツの質が向上する一方で、偽情報やプロパガンダの拡散が容易になり、社会の分断が深まる恐れがあります。さらに、AI技術の悪用によるプライバシーの侵害やセキュリティの脆弱性の増加も問題視されています。\n",
      "\n",
      "このように、生成AIの進化は多くの可能性を秘めている一方で、社会的、経済的な課題も伴うため、バランスの取れたアプローチが求められています。\n"
     ]
    }
   ],
   "source": [
    "synthesize_chain = (\n",
    "    RunnableParallel(\n",
    "        {\n",
    "            \"optimistic_opinion\": optimistic_chain,\n",
    "            \"pessimistic_opinion\": pessimistic_chain,\n",
    "        }\n",
    "    )\n",
    "    | synthesize_prompt\n",
    "    | model\n",
    "    | output_parser\n",
    ")\n",
    "\n",
    "output = synthesize_chain.invoke({\"topic\": \"生成AIの進化について\"})\n",
    "print(output)"
   ]
  },
  {
   "cell_type": "markdown",
   "id": "e5d19b32",
   "metadata": {},
   "source": [
    "Similar to how a single object is automatically converted into a Runnable, when we use a dict in a chain, it’s automatically converted into a `RunnableParallel`."
   ]
  },
  {
   "cell_type": "code",
   "execution_count": 23,
   "id": "2b037cb4",
   "metadata": {},
   "outputs": [
    {
     "name": "stdout",
     "output_type": "stream",
     "text": [
      "生成AIの進化に関する意見は、楽観的な見方と客観的な懸念の両方が存在します。楽観的な意見では、生成AIの進歩が私たちの生活を便利で豊かにし、クリエイティブなプロジェクトの支援や日常業務の効率化、教育、医療、エンターテインメントなど多くの分野での革新をもたらすと期待されています。また、異なる文化や言語の壁を越えて人々をつなげ、グローバルなコミュニケーションを促進する可能性も指摘されています。\n",
      "\n",
      "一方で、客観的な意見では、生成AIの進化が必ずしも人類にとって良い方向に進むとは限らないとされています。AIが人間の仕事を奪う可能性があり、失業率の増加が懸念されています。また、AIが生成するコンテンツの質が向上する一方で、フェイクニュースや偽情報の拡散が巧妙になり、社会の混乱を招く恐れがあります。さらに、プライバシーの侵害や倫理的な問題も増加し、技術の進化が人間の生活を脅かす要因になる可能性も指摘されています。\n",
      "\n",
      "このように、生成AIの進化には多くの可能性と同時に課題が存在し、これらをバランスよく考慮することが重要です。\n"
     ]
    }
   ],
   "source": [
    "synthesize_chain = (\n",
    "    {\n",
    "        \"optimistic_opinion\": optimistic_chain,\n",
    "        \"pessimistic_opinion\": pessimistic_chain,\n",
    "    }\n",
    "    | synthesize_prompt\n",
    "    | model\n",
    "    | output_parser\n",
    ")\n",
    "\n",
    "output = synthesize_chain.invoke({\"topic\": \"生成AIの進化について\"})\n",
    "print(output)"
   ]
  },
  {
   "cell_type": "markdown",
   "id": "f00a3eae",
   "metadata": {},
   "source": [
    "## 5.3 itemgetter"
   ]
  },
  {
   "cell_type": "markdown",
   "id": "eb11f21c",
   "metadata": {},
   "source": [
    "`itemgetter` is part of the Python standard library and is often used with RunnableLambda. It provides an easy way to retrieve the value associated with a given key."
   ]
  },
  {
   "cell_type": "code",
   "execution_count": 5,
   "id": "3b41b28b",
   "metadata": {},
   "outputs": [
    {
     "name": "stdout",
     "output_type": "stream",
     "text": [
      "生成AIの進化について\n"
     ]
    }
   ],
   "source": [
    "from operator import itemgetter\n",
    "\n",
    "topic_getter = itemgetter(\"topic\")\n",
    "topic = topic_getter({\"topic\": \"生成AIの進化について\"})\n",
    "print(topic)"
   ]
  },
  {
   "cell_type": "code",
   "execution_count": 8,
   "id": "ad407b28",
   "metadata": {},
   "outputs": [],
   "source": [
    "from langchain_openai import ChatOpenAI\n",
    "from langchain_core.output_parsers import StrOutputParser\n",
    "\n",
    "model = ChatOpenAI(model=\"gpt-4o\", temperature=0)\n",
    "output_parser = StrOutputParser()"
   ]
  },
  {
   "cell_type": "code",
   "execution_count": 9,
   "id": "ff1ff03b",
   "metadata": {},
   "outputs": [],
   "source": [
    "from langchain_core.prompts import ChatPromptTemplate\n",
    "\n",
    "optimistic_prompt = ChatPromptTemplate.from_messages(\n",
    "    [\n",
    "        (\"system\", \"あなたは楽観主義者です。ユーザーの入力に対して楽観的な意見をください。\"),\n",
    "        (\"human\", \"{topic}\"),\n",
    "    ]\n",
    ")\n",
    "optimistic_chain = optimistic_prompt | model | output_parser\n",
    "\n",
    "pessimistic_prompt = ChatPromptTemplate.from_messages(\n",
    "    [\n",
    "        (\"system\", \"あなたは悲観主義者です。ユーザーの入力に対して悲観的な意見をください。\"),\n",
    "        (\"human\", \"{topic}\"),\n",
    "    ]\n",
    ")\n",
    "pessimistic_chain = pessimistic_prompt | model | output_parser"
   ]
  },
  {
   "cell_type": "code",
   "execution_count": 10,
   "id": "2206ebc7",
   "metadata": {},
   "outputs": [
    {
     "name": "stdout",
     "output_type": "stream",
     "text": [
      "生成AIの進化に関する意見は、楽観的な見方と悲観的な見方の両方が存在します。\n",
      "\n",
      "楽観的な意見では、生成AIの進化は非常にエキサイティングであり、私たちの生活をより便利で豊かにする可能性を秘めているとされています。この技術の進歩は、クリエイティブなプロジェクトの支援や日常業務の効率化、新しいアイデアの発掘など、多岐にわたる分野での応用が期待されています。さらに、教育、医療、エンターテインメントなどの分野で革新をもたらし、多くの人々に新しい機会を提供し、より良い未来を築く手助けとなると考えられています。技術の進化によって、私たちの想像を超える素晴らしい可能性が広がることに期待が寄せられています。\n",
      "\n",
      "一方、悲観的な意見では、生成AIの進化には多くの懸念が伴うとされています。AIの進化により、人間の仕事が奪われる可能性が高まり、多くの職業が自動化されることで職を失う人々が増えるかもしれません。また、AIが生成するコンテンツの質が向上する一方で、偽情報やプロパガンダの拡散が容易になり、社会に混乱をもたらすリスクも指摘されています。さらに、AIの進化に伴い、倫理的な問題やプライバシーの侵害といった新たな課題が浮上し、これらに対処するための法整備や規制が追いつかない可能性も懸念されています。全体として、生成AIの進化は多くの問題を引き起こす可能性があり、楽観視するのは難しいという見方もあります。\n"
     ]
    }
   ],
   "source": [
    "from operator import itemgetter\n",
    "\n",
    "synthesize_prompt = ChatPromptTemplate.from_messages(\n",
    "    [\n",
    "        (\n",
    "            \"system\",\n",
    "            \"あなたは客観的AIです。{topic}について二つの意見をまとめてください。\",\n",
    "        ),\n",
    "        (\n",
    "            \"human\",\n",
    "            \"楽観的意見: {optimistic_opinion}\\n悲観的な意見: {pessimistic_opinion}\",\n",
    "        ),\n",
    "    ]\n",
    ")\n",
    "\n",
    "synthesize_chain = (\n",
    "    {\n",
    "        \"optimistic_opinion\": optimistic_chain,\n",
    "        \"pessimistic_opinion\": pessimistic_chain,\n",
    "        \"topic\": itemgetter(\"topic\"),   # `RunnableLambda(itemgetter)` is automatically executed\n",
    "    }\n",
    "    # Value obtained from `topic` will be fed into synthesize_prompt.\n",
    "    | synthesize_prompt\n",
    "    | model\n",
    "    | output_parser\n",
    ")\n",
    "\n",
    "output = synthesize_chain.invoke({\"topic\": \"生成AIの進化について\"})\n",
    "print(output)"
   ]
  },
  {
   "cell_type": "markdown",
   "id": "2eaeb1db",
   "metadata": {},
   "source": [
    "## 5.4 RunnablePassthrough"
   ]
  },
  {
   "cell_type": "markdown",
   "id": "cd5a69a8",
   "metadata": {},
   "source": [
    "When intermediate chain values need to be displayed in the UI, `RunnablePassthrough.assign()` can be helpful."
   ]
  },
  {
   "cell_type": "code",
   "execution_count": 6,
   "id": "84dbe08b",
   "metadata": {},
   "outputs": [],
   "source": [
    "from langchain_core.prompts import ChatPromptTemplate\n",
    "from langchain_openai import ChatOpenAI\n",
    "from langchain_core.output_parsers import StrOutputParser\n",
    "\n",
    "prompt = ChatPromptTemplate.from_template('''\\\n",
    "以下の文脈だけを踏まえて質問に回答してください。\n",
    "                                          \n",
    "文脈: \"\"\"\n",
    "{context}\n",
    "\"\"\"\n",
    "                                          \n",
    "質問: {question}\n",
    "''')\n",
    "\n",
    "model = ChatOpenAI(model=\"gpt-4o\", temperature=0)"
   ]
  },
  {
   "cell_type": "code",
   "execution_count": 4,
   "id": "bb65ede5",
   "metadata": {},
   "outputs": [],
   "source": [
    "from langchain_community.retrievers import TavilySearchAPIRetriever\n",
    "\n",
    "# The parameter `k` specifies the number of search results to return.\n",
    "retriever = TavilySearchAPIRetriever(k=3)"
   ]
  },
  {
   "cell_type": "code",
   "execution_count": 7,
   "id": "2957380f",
   "metadata": {},
   "outputs": [
    {
     "name": "stdout",
     "output_type": "stream",
     "text": [
      "今日の東京の天気は「曇のち雨」です。昼頃から所々で雨雲が湧き、夜には広く雨が降る予報です。\n"
     ]
    }
   ],
   "source": [
    "from langchain_core.runnables import RunnablePassthrough\n",
    "\n",
    "chain = (\n",
    "    {\"context\": retriever, \"question\": RunnablePassthrough()}   # This part is automatically converted to `RunnableParallel`\n",
    "    | prompt\n",
    "    | model\n",
    "    | StrOutputParser()\n",
    ")\n",
    "\n",
    "output = chain.invoke(\"東京の今日の天気は？\")\n",
    "print(output)"
   ]
  },
  {
   "cell_type": "markdown",
   "id": "d1ca671f",
   "metadata": {},
   "source": [
    "Using `RunnablePassthrough.assign()` also outputs the retrieved content."
   ]
  },
  {
   "cell_type": "code",
   "execution_count": 8,
   "id": "30139c8d",
   "metadata": {},
   "outputs": [
    {
     "name": "stdout",
     "output_type": "stream",
     "text": [
      "{'answer': '東京の今日の天気は「曇のち雨」です。昼頃から所々で雨雲が湧き、夜には広く雨になる予報です。',\n",
      " 'context': [Document(metadata={'title': '東京都の天気 - 日本気象協会 tenki.jp', 'source': 'https://tenki.jp/forecast/3/16/', 'score': 0.7803451, 'images': []}, page_content='# tenki.jp 雨雲レーダー) 天気図 PM2.5分布予測 地震情報 日直予報士 熱中症情報 東京都の天気 ### 05月29日(木) 東京都の天気 曇のち雨 曇のち雨 曇のち雨 曇のち雨 曇のち雨 曇のち雨 曇のち雨 曇のち雨 晴時々曇 曇のち雨 曇のち雨 曇のち雨 曇のち雨 曇のち雨 最新の天気履歴 渋谷区 曇のち雨 豊島区 曇のち雨 江東区 曇のち雨 港区 曇のち雨 大田区 曇のち雨 府中市 曇のち雨 奥多摩町 曇のち雨 関東・甲信 ### 気象予報士のポイント解説(日直予報士) newマーク 関東甲信\\u3000今日29日は天気下り坂\\u3000昼頃から所々で雨雲が湧く\\u3000夜は広く雨に 関東甲信\\u3000今日29日は天気下り坂\\u3000昼頃から所々で雨雲が湧く\\u3000夜は広く雨に newマーク 今日29日は気圧が低下\\u3000沖縄や九州から近畿は影響度「大」の所も\\u3000頭痛など注意 今日29日は気圧が低下\\u3000沖縄や九州から近畿は影響度「大」の所も\\u3000頭痛など注意 今日29日\\u3000九州から関東は次第に雨\\u3000東北と北海道は晴れて気温上昇\\u3000真夏日も 今日29日\\u3000九州から関東は次第に雨\\u3000東北と北海道は晴れて気温上昇\\u3000真夏日も ### 東京都各地の天気 #### 東京23区 #### 多摩 #### 伊豆諸島北部(大島) #### 伊豆諸島南部(八丈島) #### 小笠原諸島(父島) ### おすすめ記事 LINEの友達追加 ### 天気ガイド 雨雲 ### 注目の情報 アプリに便利なサブスクプラン開始 「tenki.jpライト」なら現在地の雨雲接近通知が受け取れる！ 新サービス「気圧予報」 気圧変化を確認して、頭痛やめまい、倦怠感といった症状に備えましょう。 X（旧Twitter） tenki.jpの公式X（旧Twitter） 最新の気象・防災情報や、生活に役立つ情報を毎日リアルタイムに配信中！ 天気予報 観測 防災情報 天気図 指数情報 レジャー天気 季節特集 天気ニュース X(旧：Twitter) Youtube Facebook Instagram LINEの友達追加 tenki.jp tenki.jp tenki.jp 登山天気 tenki.jp 登山天気 全国のコンテンツ tenki.jpトップ 天気予報 観測 防災情報 天気図'),\n",
      "             Document(metadata={'title': '東京（東京）の天気 - Yahoo!天気・災害 - Yahoo! JAPAN', 'source': 'https://weather.yahoo.co.jp/weather/jp/13/4410.html', 'score': 0.7336813, 'images': []}, page_content='東京（東京）の天気 - Yahoo! - Yahoo! Yahoo! | 6月25日(水)  曇一時雨曇一時雨   - *29*℃[-1] - *25*℃[-1]  |  |  |  |  |  | | --- | --- | --- | --- | --- | | 時間 | 0-6 | 6-12 | 12-18 | 18-24 | | 降水 | --- | --- | --- | 50％ |   風：  南東の風後北東の風  波：  0.5メートル | 6月26日(木)  曇一時雨曇一時雨   - *31*℃[+2] - *25*℃[0]  |  |  |  |  |  | | --- | --- | --- | --- | --- | | 時間 | 0-6 | 6-12 | 12-18 | 18-24 | | 降水 | 70％ | 20％ | 20％ | 40％ |   風：  北の風後南の風２３区西部では南西の風やや強く  波：  0.5メートル後1.5メートル | - 6月25日(水) - 6月26日(木) (C) LY Corporation Yahoo! (C) LY Corporation Yahoo! cpt_n=safetymail&cpt_m=bnr&cpt_s=yahoo&cpt_c=weatherbnr) Yahoo!'),\n",
      "             Document(metadata={'title': '東京の天気 - ウェザーニュース', 'source': 'https://weathernews.jp/onebox/tenki/tokyo/', 'score': 0.69199765, 'images': []}, page_content='{{item.cityname}} {{item.high}} {{item.low}} è\\x87ªç\\x84¶ã\\x83»å\\xad£ç¯\\x80ã\\x83»ã\\x83¬ã\\x82¸ã\\x83£ã\\x83¼æ\\x83\\x85å ± æ¢\\x85é\\x9b¨æ\\x83\\x85å ± è\\x8a±ç²\\x89é£\\x9bæ\\x95£æ\\x83\\x85å ± å\\x9c°é\\x9c\\x87æ\\x83\\x85å ± å\\x8f°é¢¨æ\\x83\\x85å ± é\\x95·æ\\x9c\\x9fäº\\x88å ± å\\x8f°é¢¨æ\\x83\\x85å ± å\\x9c°é\\x9c\\x87æ\\x83\\x85å ± æ´¥æ³¢æ\\x83\\x85å ± ç\\x81«å±±æ\\x83\\x85å ± æ¸\\x9bç\\x81½æ\\x83\\x85å ± é\\x81¿é\\x9b£æ\\x83\\x85å ± ã\\x81\\x95ã\\x81\\x8fã\\x82\\x89é\\x96\\x8bè\\x8a±æ\\x83\\x85å ± ã\\x82¹ã\\x82\\xadã\\x83¼ï¼\\x86ã\\x82¹ã\\x83\\x8eã\\x83\\x9cæ\\x83\\x85å ± è\\x8a±ç\\x81«å¤©æ°\\x97 Ch. ã\\x81»ã\\x81\\x9fã\\x82\\x8bæ\\x83\\x85å ± ã\\x81\\x82ã\\x81\\x98ã\\x81\\x95ã\\x81\\x84æ\\x83\\x85å ± æ\\x98\\x9fç©ºæ\\x83\\x85å ± å\\x88\\x9dæ\\x97¥ã\\x81®å\\x87ºæ\\x83\\x85å ± å\\x88\\x9dè©£æ\\x83\\x85å ± ç´\\x85è\\x91\\x89æ\\x83\\x85å ± ã\\x82¤ã\\x83«ã\\x83\\x9fã\\x83\\x8dã\\x83¼ã\\x82·ã\\x83§ã\\x83³æ\\x83\\x85å ± è\\x8a±ç²\\x89é£\\x9bæ\\x95£æ\\x83\\x85å ± å¤©æ°\\x97ç\\x97\\x9bäº\\x88å ± ç\\x86±ä¸\\xadç\\x97\\x87äº\\x88å ± ç´«å¤\\x96ç·\\x9aäº\\x88å ± æ\\x9c\\x8dè£\\x85äº\\x88å ± ã\\x81\\x8aæ´\\x97æ¿¯æ\\x83\\x85å ± Labs Ch. # æ\\x9d±äº¬ã\\x81®å¤©æ°\\x97äº\\x88å ± ## {{pref\\\\_jp}}{{cityname}}ã\\x81®1æ\\x99\\x82é\\x96\\x93æ¯\\x8eã\\x81®å¤©æ°\\x97 {{daily.date}}æ\\x97¥{{daily.youbi\\\\_str}} {{hourly.time}} {{hourly.prec}} {{hourly.temp}} {{hourly.wndspd}} ## {{pref\\\\_jp}}{{cityname}}ã\\x81®é\\x80±é\\x96\\x93å¤©æ°\\x97äº\\x88å ±ï¼\\x8810æ\\x97¥é\\x96\\x93ï¼\\x89 {{item.date}}   {{item.youbi\\\\_str}} {{item.high}} {{item.low}} {{item.pop}} ## å¸\\x82å\\x8cºç\\x94ºæ\\x9d\\x91å\\x88¥ã\\x81®å¤©æ°\\x97äº\\x88å ± {{point.rank}} ({{point.pref}}) ({{point.dateRecord}}) ## å\\x90\\x84ã\\x82¨ã\\x83ªã\\x82¢ã\\x81®å¤©æ°\\x97äº\\x88å ± {{point.rank}} ({{point.pref}}) ({{point.dateRecord}}) ### è\\x87ªç\\x84¶ã\\x83»å\\xad£ç¯\\x80ã\\x83»ã\\x83¬ã\\x82¸ã\\x83£ã\\x83¼æ\\x83\\x85å ±')],\n",
      " 'question': '東京の今日の天気は？'}\n"
     ]
    }
   ],
   "source": [
    "import pprint\n",
    "\n",
    "chain = {\n",
    "    \"question\": RunnablePassthrough(),\n",
    "    \"context\": retriever,\n",
    "} | RunnablePassthrough.assign(answer=prompt | model | StrOutputParser())\n",
    "\n",
    "output = chain.invoke(\"東京の今日の天気は？\")\n",
    "\n",
    "# `pprint` automatically provides appropriate indentation, \n",
    "# line breaks, and alignment to make nested structures clear and easy to read.\n",
    "pprint.pprint(output)"
   ]
  },
  {
   "cell_type": "markdown",
   "id": "551b68be",
   "metadata": {},
   "source": [
    "We can achieve the same effect as follows."
   ]
  },
  {
   "cell_type": "code",
   "execution_count": 9,
   "id": "3d0bda48",
   "metadata": {},
   "outputs": [
    {
     "name": "stdout",
     "output_type": "stream",
     "text": [
      "{'answer': '東京の今日の天気は「曇のち雨」です。昼頃から所々で雨雲が湧き、夜には広く雨になる予報です。',\n",
      " 'context': [Document(metadata={'title': '東京都の天気 - 日本気象協会 tenki.jp', 'source': 'https://tenki.jp/forecast/3/16/', 'score': 0.7803451, 'images': []}, page_content='# tenki.jp 雨雲レーダー) 天気図 PM2.5分布予測 地震情報 日直予報士 熱中症情報 東京都の天気 ### 05月29日(木) 東京都の天気 曇のち雨 曇のち雨 曇のち雨 曇のち雨 曇のち雨 曇のち雨 曇のち雨 曇のち雨 晴時々曇 曇のち雨 曇のち雨 曇のち雨 曇のち雨 曇のち雨 最新の天気履歴 渋谷区 曇のち雨 豊島区 曇のち雨 江東区 曇のち雨 港区 曇のち雨 大田区 曇のち雨 府中市 曇のち雨 奥多摩町 曇のち雨 関東・甲信 ### 気象予報士のポイント解説(日直予報士) newマーク 関東甲信\\u3000今日29日は天気下り坂\\u3000昼頃から所々で雨雲が湧く\\u3000夜は広く雨に 関東甲信\\u3000今日29日は天気下り坂\\u3000昼頃から所々で雨雲が湧く\\u3000夜は広く雨に newマーク 今日29日は気圧が低下\\u3000沖縄や九州から近畿は影響度「大」の所も\\u3000頭痛など注意 今日29日は気圧が低下\\u3000沖縄や九州から近畿は影響度「大」の所も\\u3000頭痛など注意 今日29日\\u3000九州から関東は次第に雨\\u3000東北と北海道は晴れて気温上昇\\u3000真夏日も 今日29日\\u3000九州から関東は次第に雨\\u3000東北と北海道は晴れて気温上昇\\u3000真夏日も ### 東京都各地の天気 #### 東京23区 #### 多摩 #### 伊豆諸島北部(大島) #### 伊豆諸島南部(八丈島) #### 小笠原諸島(父島) ### おすすめ記事 LINEの友達追加 ### 天気ガイド 雨雲 ### 注目の情報 アプリに便利なサブスクプラン開始 「tenki.jpライト」なら現在地の雨雲接近通知が受け取れる！ 新サービス「気圧予報」 気圧変化を確認して、頭痛やめまい、倦怠感といった症状に備えましょう。 X（旧Twitter） tenki.jpの公式X（旧Twitter） 最新の気象・防災情報や、生活に役立つ情報を毎日リアルタイムに配信中！ 天気予報 観測 防災情報 天気図 指数情報 レジャー天気 季節特集 天気ニュース X(旧：Twitter) Youtube Facebook Instagram LINEの友達追加 tenki.jp tenki.jp tenki.jp 登山天気 tenki.jp 登山天気 全国のコンテンツ tenki.jpトップ 天気予報 観測 防災情報 天気図'),\n",
      "             Document(metadata={'title': '東京（東京）の天気 - Yahoo!天気・災害 - Yahoo! JAPAN', 'source': 'https://weather.yahoo.co.jp/weather/jp/13/4410.html', 'score': 0.7336813, 'images': []}, page_content='東京（東京）の天気 - Yahoo! - Yahoo! Yahoo! | 6月25日(水)  曇一時雨曇一時雨   - *29*℃[-1] - *25*℃[-1]  |  |  |  |  |  | | --- | --- | --- | --- | --- | | 時間 | 0-6 | 6-12 | 12-18 | 18-24 | | 降水 | --- | --- | --- | 50％ |   風：  南東の風後北東の風  波：  0.5メートル | 6月26日(木)  曇一時雨曇一時雨   - *31*℃[+2] - *25*℃[0]  |  |  |  |  |  | | --- | --- | --- | --- | --- | | 時間 | 0-6 | 6-12 | 12-18 | 18-24 | | 降水 | 70％ | 20％ | 20％ | 40％ |   風：  北の風後南の風２３区西部では南西の風やや強く  波：  0.5メートル後1.5メートル | - 6月25日(水) - 6月26日(木) (C) LY Corporation Yahoo! (C) LY Corporation Yahoo! cpt_n=safetymail&cpt_m=bnr&cpt_s=yahoo&cpt_c=weatherbnr) Yahoo!'),\n",
      "             Document(metadata={'title': '東京の天気 - ウェザーニュース', 'source': 'https://weathernews.jp/onebox/tenki/tokyo/', 'score': 0.69199765, 'images': []}, page_content='{{item.cityname}} {{item.high}} {{item.low}} è\\x87ªç\\x84¶ã\\x83»å\\xad£ç¯\\x80ã\\x83»ã\\x83¬ã\\x82¸ã\\x83£ã\\x83¼æ\\x83\\x85å ± æ¢\\x85é\\x9b¨æ\\x83\\x85å ± è\\x8a±ç²\\x89é£\\x9bæ\\x95£æ\\x83\\x85å ± å\\x9c°é\\x9c\\x87æ\\x83\\x85å ± å\\x8f°é¢¨æ\\x83\\x85å ± é\\x95·æ\\x9c\\x9fäº\\x88å ± å\\x8f°é¢¨æ\\x83\\x85å ± å\\x9c°é\\x9c\\x87æ\\x83\\x85å ± æ´¥æ³¢æ\\x83\\x85å ± ç\\x81«å±±æ\\x83\\x85å ± æ¸\\x9bç\\x81½æ\\x83\\x85å ± é\\x81¿é\\x9b£æ\\x83\\x85å ± ã\\x81\\x95ã\\x81\\x8fã\\x82\\x89é\\x96\\x8bè\\x8a±æ\\x83\\x85å ± ã\\x82¹ã\\x82\\xadã\\x83¼ï¼\\x86ã\\x82¹ã\\x83\\x8eã\\x83\\x9cæ\\x83\\x85å ± è\\x8a±ç\\x81«å¤©æ°\\x97 Ch. ã\\x81»ã\\x81\\x9fã\\x82\\x8bæ\\x83\\x85å ± ã\\x81\\x82ã\\x81\\x98ã\\x81\\x95ã\\x81\\x84æ\\x83\\x85å ± æ\\x98\\x9fç©ºæ\\x83\\x85å ± å\\x88\\x9dæ\\x97¥ã\\x81®å\\x87ºæ\\x83\\x85å ± å\\x88\\x9dè©£æ\\x83\\x85å ± ç´\\x85è\\x91\\x89æ\\x83\\x85å ± ã\\x82¤ã\\x83«ã\\x83\\x9fã\\x83\\x8dã\\x83¼ã\\x82·ã\\x83§ã\\x83³æ\\x83\\x85å ± è\\x8a±ç²\\x89é£\\x9bæ\\x95£æ\\x83\\x85å ± å¤©æ°\\x97ç\\x97\\x9bäº\\x88å ± ç\\x86±ä¸\\xadç\\x97\\x87äº\\x88å ± ç´«å¤\\x96ç·\\x9aäº\\x88å ± æ\\x9c\\x8dè£\\x85äº\\x88å ± ã\\x81\\x8aæ´\\x97æ¿¯æ\\x83\\x85å ± Labs Ch. # æ\\x9d±äº¬ã\\x81®å¤©æ°\\x97äº\\x88å ± ## {{pref\\\\_jp}}{{cityname}}ã\\x81®1æ\\x99\\x82é\\x96\\x93æ¯\\x8eã\\x81®å¤©æ°\\x97 {{daily.date}}æ\\x97¥{{daily.youbi\\\\_str}} {{hourly.time}} {{hourly.prec}} {{hourly.temp}} {{hourly.wndspd}} ## {{pref\\\\_jp}}{{cityname}}ã\\x81®é\\x80±é\\x96\\x93å¤©æ°\\x97äº\\x88å ±ï¼\\x8810æ\\x97¥é\\x96\\x93ï¼\\x89 {{item.date}}   {{item.youbi\\\\_str}} {{item.high}} {{item.low}} {{item.pop}} ## å¸\\x82å\\x8cºç\\x94ºæ\\x9d\\x91å\\x88¥ã\\x81®å¤©æ°\\x97äº\\x88å ± {{point.rank}} ({{point.pref}}) ({{point.dateRecord}}) ## å\\x90\\x84ã\\x82¨ã\\x83ªã\\x82¢ã\\x81®å¤©æ°\\x97äº\\x88å ± {{point.rank}} ({{point.pref}}) ({{point.dateRecord}}) ### è\\x87ªç\\x84¶ã\\x83»å\\xad£ç¯\\x80ã\\x83»ã\\x83¬ã\\x82¸ã\\x83£ã\\x83¼æ\\x83\\x85å ±')],\n",
      " 'question': '東京の今日の天気は？'}\n"
     ]
    }
   ],
   "source": [
    "from langchain_core.runnables import RunnableParallel\n",
    "\n",
    "chain = RunnableParallel(\n",
    "    {\n",
    "        \"question\": RunnablePassthrough(),\n",
    "        \"context\": retriever,\n",
    "    }\n",
    ").assign(answer=prompt | model | StrOutputParser())\n",
    "\n",
    "output = chain.invoke(\"東京の今日の天気は？\")\n",
    "pprint.pprint(output)"
   ]
  },
  {
   "cell_type": "markdown",
   "id": "eb5c348d",
   "metadata": {},
   "source": [
    "We can use `RunnablePassthrough.assign().pick()` to determine the final output component."
   ]
  },
  {
   "cell_type": "code",
   "execution_count": 11,
   "id": "63161049",
   "metadata": {},
   "outputs": [
    {
     "name": "stdout",
     "output_type": "stream",
     "text": [
      "{'answer': '東京の今日の天気は「曇のち雨」です。昼頃から所々で雨雲が湧き、夜には広く雨になる予報です。',\n",
      " 'context': [Document(metadata={'title': '東京都の天気 - 日本気象協会 tenki.jp', 'source': 'https://tenki.jp/forecast/3/16/', 'score': 0.7803451, 'images': []}, page_content='# tenki.jp 雨雲レーダー) 天気図 PM2.5分布予測 地震情報 日直予報士 熱中症情報 東京都の天気 ### 05月29日(木) 東京都の天気 曇のち雨 曇のち雨 曇のち雨 曇のち雨 曇のち雨 曇のち雨 曇のち雨 曇のち雨 晴時々曇 曇のち雨 曇のち雨 曇のち雨 曇のち雨 曇のち雨 最新の天気履歴 渋谷区 曇のち雨 豊島区 曇のち雨 江東区 曇のち雨 港区 曇のち雨 大田区 曇のち雨 府中市 曇のち雨 奥多摩町 曇のち雨 関東・甲信 ### 気象予報士のポイント解説(日直予報士) newマーク 関東甲信\\u3000今日29日は天気下り坂\\u3000昼頃から所々で雨雲が湧く\\u3000夜は広く雨に 関東甲信\\u3000今日29日は天気下り坂\\u3000昼頃から所々で雨雲が湧く\\u3000夜は広く雨に newマーク 今日29日は気圧が低下\\u3000沖縄や九州から近畿は影響度「大」の所も\\u3000頭痛など注意 今日29日は気圧が低下\\u3000沖縄や九州から近畿は影響度「大」の所も\\u3000頭痛など注意 今日29日\\u3000九州から関東は次第に雨\\u3000東北と北海道は晴れて気温上昇\\u3000真夏日も 今日29日\\u3000九州から関東は次第に雨\\u3000東北と北海道は晴れて気温上昇\\u3000真夏日も ### 東京都各地の天気 #### 東京23区 #### 多摩 #### 伊豆諸島北部(大島) #### 伊豆諸島南部(八丈島) #### 小笠原諸島(父島) ### おすすめ記事 LINEの友達追加 ### 天気ガイド 雨雲 ### 注目の情報 アプリに便利なサブスクプラン開始 「tenki.jpライト」なら現在地の雨雲接近通知が受け取れる！ 新サービス「気圧予報」 気圧変化を確認して、頭痛やめまい、倦怠感といった症状に備えましょう。 X（旧Twitter） tenki.jpの公式X（旧Twitter） 最新の気象・防災情報や、生活に役立つ情報を毎日リアルタイムに配信中！ 天気予報 観測 防災情報 天気図 指数情報 レジャー天気 季節特集 天気ニュース X(旧：Twitter) Youtube Facebook Instagram LINEの友達追加 tenki.jp tenki.jp tenki.jp 登山天気 tenki.jp 登山天気 全国のコンテンツ tenki.jpトップ 天気予報 観測 防災情報 天気図'),\n",
      "             Document(metadata={'title': '東京（東京）の天気 - Yahoo!天気・災害 - Yahoo! JAPAN', 'source': 'https://weather.yahoo.co.jp/weather/jp/13/4410.html', 'score': 0.7336813, 'images': []}, page_content='東京（東京）の天気 - Yahoo! - Yahoo! Yahoo! | 6月25日(水)  曇一時雨曇一時雨   - *29*℃[-1] - *25*℃[-1]  |  |  |  |  |  | | --- | --- | --- | --- | --- | | 時間 | 0-6 | 6-12 | 12-18 | 18-24 | | 降水 | --- | --- | --- | 50％ |   風：  南東の風後北東の風  波：  0.5メートル | 6月26日(木)  曇一時雨曇一時雨   - *31*℃[+2] - *25*℃[0]  |  |  |  |  |  | | --- | --- | --- | --- | --- | | 時間 | 0-6 | 6-12 | 12-18 | 18-24 | | 降水 | 70％ | 20％ | 20％ | 40％ |   風：  北の風後南の風２３区西部では南西の風やや強く  波：  0.5メートル後1.5メートル | - 6月25日(水) - 6月26日(木) (C) LY Corporation Yahoo! (C) LY Corporation Yahoo! cpt_n=safetymail&cpt_m=bnr&cpt_s=yahoo&cpt_c=weatherbnr) Yahoo!'),\n",
      "             Document(metadata={'title': '東京の天気 - ウェザーニュース', 'source': 'https://weathernews.jp/onebox/tenki/tokyo/', 'score': 0.69199765, 'images': []}, page_content='{{item.cityname}} {{item.high}} {{item.low}} è\\x87ªç\\x84¶ã\\x83»å\\xad£ç¯\\x80ã\\x83»ã\\x83¬ã\\x82¸ã\\x83£ã\\x83¼æ\\x83\\x85å ± æ¢\\x85é\\x9b¨æ\\x83\\x85å ± è\\x8a±ç²\\x89é£\\x9bæ\\x95£æ\\x83\\x85å ± å\\x9c°é\\x9c\\x87æ\\x83\\x85å ± å\\x8f°é¢¨æ\\x83\\x85å ± é\\x95·æ\\x9c\\x9fäº\\x88å ± å\\x8f°é¢¨æ\\x83\\x85å ± å\\x9c°é\\x9c\\x87æ\\x83\\x85å ± æ´¥æ³¢æ\\x83\\x85å ± ç\\x81«å±±æ\\x83\\x85å ± æ¸\\x9bç\\x81½æ\\x83\\x85å ± é\\x81¿é\\x9b£æ\\x83\\x85å ± ã\\x81\\x95ã\\x81\\x8fã\\x82\\x89é\\x96\\x8bè\\x8a±æ\\x83\\x85å ± ã\\x82¹ã\\x82\\xadã\\x83¼ï¼\\x86ã\\x82¹ã\\x83\\x8eã\\x83\\x9cæ\\x83\\x85å ± è\\x8a±ç\\x81«å¤©æ°\\x97 Ch. ã\\x81»ã\\x81\\x9fã\\x82\\x8bæ\\x83\\x85å ± ã\\x81\\x82ã\\x81\\x98ã\\x81\\x95ã\\x81\\x84æ\\x83\\x85å ± æ\\x98\\x9fç©ºæ\\x83\\x85å ± å\\x88\\x9dæ\\x97¥ã\\x81®å\\x87ºæ\\x83\\x85å ± å\\x88\\x9dè©£æ\\x83\\x85å ± ç´\\x85è\\x91\\x89æ\\x83\\x85å ± ã\\x82¤ã\\x83«ã\\x83\\x9fã\\x83\\x8dã\\x83¼ã\\x82·ã\\x83§ã\\x83³æ\\x83\\x85å ± è\\x8a±ç²\\x89é£\\x9bæ\\x95£æ\\x83\\x85å ± å¤©æ°\\x97ç\\x97\\x9bäº\\x88å ± ç\\x86±ä¸\\xadç\\x97\\x87äº\\x88å ± ç´«å¤\\x96ç·\\x9aäº\\x88å ± æ\\x9c\\x8dè£\\x85äº\\x88å ± ã\\x81\\x8aæ´\\x97æ¿¯æ\\x83\\x85å ± Labs Ch. # æ\\x9d±äº¬ã\\x81®å¤©æ°\\x97äº\\x88å ± ## {{pref\\\\_jp}}{{cityname}}ã\\x81®1æ\\x99\\x82é\\x96\\x93æ¯\\x8eã\\x81®å¤©æ°\\x97 {{daily.date}}æ\\x97¥{{daily.youbi\\\\_str}} {{hourly.time}} {{hourly.prec}} {{hourly.temp}} {{hourly.wndspd}} ## {{pref\\\\_jp}}{{cityname}}ã\\x81®é\\x80±é\\x96\\x93å¤©æ°\\x97äº\\x88å ±ï¼\\x8810æ\\x97¥é\\x96\\x93ï¼\\x89 {{item.date}}   {{item.youbi\\\\_str}} {{item.high}} {{item.low}} {{item.pop}} ## å¸\\x82å\\x8cºç\\x94ºæ\\x9d\\x91å\\x88¥ã\\x81®å¤©æ°\\x97äº\\x88å ± {{point.rank}} ({{point.pref}}) ({{point.dateRecord}}) ## å\\x90\\x84ã\\x82¨ã\\x83ªã\\x82¢ã\\x81®å¤©æ°\\x97äº\\x88å ± {{point.rank}} ({{point.pref}}) ({{point.dateRecord}}) ### è\\x87ªç\\x84¶ã\\x83»å\\xad£ç¯\\x80ã\\x83»ã\\x83¬ã\\x82¸ã\\x83£ã\\x83¼æ\\x83\\x85å ±')]}\n"
     ]
    }
   ],
   "source": [
    "chain = (\n",
    "    RunnableParallel(\n",
    "        {\n",
    "            \"question\": RunnablePassthrough(),\n",
    "            \"context\": retriever,\n",
    "        }\n",
    "    )\n",
    "    .assign(answer=prompt | model | StrOutputParser())\n",
    "    .pick([\"context\", \"answer\"])\n",
    ")\n",
    "\n",
    "output = chain.invoke(\"東京の今日の天気は？\")\n",
    "pprint.pprint(output)"
   ]
  },
  {
   "cell_type": "markdown",
   "id": "763cfde2",
   "metadata": {},
   "source": [
    "### chain.astream_events()"
   ]
  },
  {
   "cell_type": "markdown",
   "id": "67a0e679",
   "metadata": {},
   "source": [
    "Using `chain.astream_events()` will print the events for each stage of the chain.\n"
   ]
  },
  {
   "cell_type": "code",
   "execution_count": 12,
   "id": "58e89e57",
   "metadata": {},
   "outputs": [
    {
     "name": "stdout",
     "output_type": "stream",
     "text": [
      "{'event': 'on_chain_start', 'data': {'input': '東京の今日の天気は？'}, 'name': 'RunnableSequence', 'tags': [], 'run_id': 'fda32799-d750-43e9-b8eb-ddc3aa379043', 'metadata': {}, 'parent_ids': []}\n",
      "{'event': 'on_chain_start', 'data': {}, 'name': 'RunnableParallel<context,question>', 'tags': ['seq:step:1'], 'run_id': '059bd87c-1070-4592-b12e-affc3fb186d5', 'metadata': {}, 'parent_ids': ['fda32799-d750-43e9-b8eb-ddc3aa379043']}\n",
      "{'event': 'on_retriever_start', 'data': {'input': {'query': '東京の今日の天気は？'}}, 'name': 'TavilySearchAPIRetriever', 'tags': ['map:key:context'], 'run_id': 'cde42286-a560-475a-ba77-037c5c72a361', 'metadata': {'ls_retriever_name': 'tavilysearchapi'}, 'parent_ids': ['fda32799-d750-43e9-b8eb-ddc3aa379043', '059bd87c-1070-4592-b12e-affc3fb186d5']}\n",
      "{'event': 'on_chain_start', 'data': {}, 'name': 'RunnablePassthrough', 'tags': ['map:key:question'], 'run_id': '63d05043-6951-4829-af0a-3ac8d4e198a2', 'metadata': {}, 'parent_ids': ['fda32799-d750-43e9-b8eb-ddc3aa379043', '059bd87c-1070-4592-b12e-affc3fb186d5']}\n",
      "{'event': 'on_chain_stream', 'run_id': '63d05043-6951-4829-af0a-3ac8d4e198a2', 'name': 'RunnablePassthrough', 'tags': ['map:key:question'], 'metadata': {}, 'data': {'chunk': '東京の今日の天気は？'}, 'parent_ids': ['fda32799-d750-43e9-b8eb-ddc3aa379043', '059bd87c-1070-4592-b12e-affc3fb186d5']}\n",
      "{'event': 'on_chain_stream', 'run_id': '059bd87c-1070-4592-b12e-affc3fb186d5', 'name': 'RunnableParallel<context,question>', 'tags': ['seq:step:1'], 'metadata': {}, 'data': {'chunk': {'question': '東京の今日の天気は？'}}, 'parent_ids': ['fda32799-d750-43e9-b8eb-ddc3aa379043']}\n",
      "{'event': 'on_chain_end', 'data': {'output': '東京の今日の天気は？', 'input': '東京の今日の天気は？'}, 'run_id': '63d05043-6951-4829-af0a-3ac8d4e198a2', 'name': 'RunnablePassthrough', 'tags': ['map:key:question'], 'metadata': {}, 'parent_ids': ['fda32799-d750-43e9-b8eb-ddc3aa379043', '059bd87c-1070-4592-b12e-affc3fb186d5']}\n",
      "{'event': 'on_retriever_end', 'data': {'output': [Document(metadata={'title': '東京都の天気 - 日本気象協会 tenki.jp', 'source': 'https://tenki.jp/forecast/3/16/', 'score': 0.7803451, 'images': []}, page_content='# tenki.jp 雨雲レーダー) 天気図 PM2.5分布予測 地震情報 日直予報士 熱中症情報 東京都の天気 ### 05月29日(木) 東京都の天気 曇のち雨 曇のち雨 曇のち雨 曇のち雨 曇のち雨 曇のち雨 曇のち雨 曇のち雨 晴時々曇 曇のち雨 曇のち雨 曇のち雨 曇のち雨 曇のち雨 最新の天気履歴 渋谷区 曇のち雨 豊島区 曇のち雨 江東区 曇のち雨 港区 曇のち雨 大田区 曇のち雨 府中市 曇のち雨 奥多摩町 曇のち雨 関東・甲信 ### 気象予報士のポイント解説(日直予報士) newマーク 関東甲信\\u3000今日29日は天気下り坂\\u3000昼頃から所々で雨雲が湧く\\u3000夜は広く雨に 関東甲信\\u3000今日29日は天気下り坂\\u3000昼頃から所々で雨雲が湧く\\u3000夜は広く雨に newマーク 今日29日は気圧が低下\\u3000沖縄や九州から近畿は影響度「大」の所も\\u3000頭痛など注意 今日29日は気圧が低下\\u3000沖縄や九州から近畿は影響度「大」の所も\\u3000頭痛など注意 今日29日\\u3000九州から関東は次第に雨\\u3000東北と北海道は晴れて気温上昇\\u3000真夏日も 今日29日\\u3000九州から関東は次第に雨\\u3000東北と北海道は晴れて気温上昇\\u3000真夏日も ### 東京都各地の天気 #### 東京23区 #### 多摩 #### 伊豆諸島北部(大島) #### 伊豆諸島南部(八丈島) #### 小笠原諸島(父島) ### おすすめ記事 LINEの友達追加 ### 天気ガイド 雨雲 ### 注目の情報 アプリに便利なサブスクプラン開始 「tenki.jpライト」なら現在地の雨雲接近通知が受け取れる！ 新サービス「気圧予報」 気圧変化を確認して、頭痛やめまい、倦怠感といった症状に備えましょう。 X（旧Twitter） tenki.jpの公式X（旧Twitter） 最新の気象・防災情報や、生活に役立つ情報を毎日リアルタイムに配信中！ 天気予報 観測 防災情報 天気図 指数情報 レジャー天気 季節特集 天気ニュース X(旧：Twitter) Youtube Facebook Instagram LINEの友達追加 tenki.jp tenki.jp tenki.jp 登山天気 tenki.jp 登山天気 全国のコンテンツ tenki.jpトップ 天気予報 観測 防災情報 天気図'), Document(metadata={'title': '東京（東京）の天気 - Yahoo!天気・災害 - Yahoo! JAPAN', 'source': 'https://weather.yahoo.co.jp/weather/jp/13/4410.html', 'score': 0.7336813, 'images': []}, page_content='東京（東京）の天気 - Yahoo! - Yahoo! Yahoo! | 6月25日(水)  曇一時雨曇一時雨   - *29*℃[-1] - *25*℃[-1]  |  |  |  |  |  | | --- | --- | --- | --- | --- | | 時間 | 0-6 | 6-12 | 12-18 | 18-24 | | 降水 | --- | --- | --- | 50％ |   風：  南東の風後北東の風  波：  0.5メートル | 6月26日(木)  曇一時雨曇一時雨   - *31*℃[+2] - *25*℃[0]  |  |  |  |  |  | | --- | --- | --- | --- | --- | | 時間 | 0-6 | 6-12 | 12-18 | 18-24 | | 降水 | 70％ | 20％ | 20％ | 40％ |   風：  北の風後南の風２３区西部では南西の風やや強く  波：  0.5メートル後1.5メートル | - 6月25日(水) - 6月26日(木) (C) LY Corporation Yahoo! (C) LY Corporation Yahoo! cpt_n=safetymail&cpt_m=bnr&cpt_s=yahoo&cpt_c=weatherbnr) Yahoo!'), Document(metadata={'title': '東京の天気 - ウェザーニュース', 'source': 'https://weathernews.jp/onebox/tenki/tokyo/', 'score': 0.69199765, 'images': []}, page_content='{{item.cityname}} {{item.high}} {{item.low}} è\\x87ªç\\x84¶ã\\x83»å\\xad£ç¯\\x80ã\\x83»ã\\x83¬ã\\x82¸ã\\x83£ã\\x83¼æ\\x83\\x85å ± æ¢\\x85é\\x9b¨æ\\x83\\x85å ± è\\x8a±ç²\\x89é£\\x9bæ\\x95£æ\\x83\\x85å ± å\\x9c°é\\x9c\\x87æ\\x83\\x85å ± å\\x8f°é¢¨æ\\x83\\x85å ± é\\x95·æ\\x9c\\x9fäº\\x88å ± å\\x8f°é¢¨æ\\x83\\x85å ± å\\x9c°é\\x9c\\x87æ\\x83\\x85å ± æ´¥æ³¢æ\\x83\\x85å ± ç\\x81«å±±æ\\x83\\x85å ± æ¸\\x9bç\\x81½æ\\x83\\x85å ± é\\x81¿é\\x9b£æ\\x83\\x85å ± ã\\x81\\x95ã\\x81\\x8fã\\x82\\x89é\\x96\\x8bè\\x8a±æ\\x83\\x85å ± ã\\x82¹ã\\x82\\xadã\\x83¼ï¼\\x86ã\\x82¹ã\\x83\\x8eã\\x83\\x9cæ\\x83\\x85å ± è\\x8a±ç\\x81«å¤©æ°\\x97 Ch. ã\\x81»ã\\x81\\x9fã\\x82\\x8bæ\\x83\\x85å ± ã\\x81\\x82ã\\x81\\x98ã\\x81\\x95ã\\x81\\x84æ\\x83\\x85å ± æ\\x98\\x9fç©ºæ\\x83\\x85å ± å\\x88\\x9dæ\\x97¥ã\\x81®å\\x87ºæ\\x83\\x85å ± å\\x88\\x9dè©£æ\\x83\\x85å ± ç´\\x85è\\x91\\x89æ\\x83\\x85å ± ã\\x82¤ã\\x83«ã\\x83\\x9fã\\x83\\x8dã\\x83¼ã\\x82·ã\\x83§ã\\x83³æ\\x83\\x85å ± è\\x8a±ç²\\x89é£\\x9bæ\\x95£æ\\x83\\x85å ± å¤©æ°\\x97ç\\x97\\x9bäº\\x88å ± ç\\x86±ä¸\\xadç\\x97\\x87äº\\x88å ± ç´«å¤\\x96ç·\\x9aäº\\x88å ± æ\\x9c\\x8dè£\\x85äº\\x88å ± ã\\x81\\x8aæ´\\x97æ¿¯æ\\x83\\x85å ± Labs Ch. # æ\\x9d±äº¬ã\\x81®å¤©æ°\\x97äº\\x88å ± ## {{pref\\\\_jp}}{{cityname}}ã\\x81®1æ\\x99\\x82é\\x96\\x93æ¯\\x8eã\\x81®å¤©æ°\\x97 {{daily.date}}æ\\x97¥{{daily.youbi\\\\_str}} {{hourly.time}} {{hourly.prec}} {{hourly.temp}} {{hourly.wndspd}} ## {{pref\\\\_jp}}{{cityname}}ã\\x81®é\\x80±é\\x96\\x93å¤©æ°\\x97äº\\x88å ±ï¼\\x8810æ\\x97¥é\\x96\\x93ï¼\\x89 {{item.date}}   {{item.youbi\\\\_str}} {{item.high}} {{item.low}} {{item.pop}} ## å¸\\x82å\\x8cºç\\x94ºæ\\x9d\\x91å\\x88¥ã\\x81®å¤©æ°\\x97äº\\x88å ± {{point.rank}} ({{point.pref}}) ({{point.dateRecord}}) ## å\\x90\\x84ã\\x82¨ã\\x83ªã\\x82¢ã\\x81®å¤©æ°\\x97äº\\x88å ± {{point.rank}} ({{point.pref}}) ({{point.dateRecord}}) ### è\\x87ªç\\x84¶ã\\x83»å\\xad£ç¯\\x80ã\\x83»ã\\x83¬ã\\x82¸ã\\x83£ã\\x83¼æ\\x83\\x85å ±')], 'input': {'query': '東京の今日の天気は？'}}, 'run_id': 'cde42286-a560-475a-ba77-037c5c72a361', 'name': 'TavilySearchAPIRetriever', 'tags': ['map:key:context'], 'metadata': {'ls_retriever_name': 'tavilysearchapi'}, 'parent_ids': ['fda32799-d750-43e9-b8eb-ddc3aa379043', '059bd87c-1070-4592-b12e-affc3fb186d5']}\n",
      "{'event': 'on_chain_stream', 'run_id': '059bd87c-1070-4592-b12e-affc3fb186d5', 'name': 'RunnableParallel<context,question>', 'tags': ['seq:step:1'], 'metadata': {}, 'data': {'chunk': {'context': [Document(metadata={'title': '東京都の天気 - 日本気象協会 tenki.jp', 'source': 'https://tenki.jp/forecast/3/16/', 'score': 0.7803451, 'images': []}, page_content='# tenki.jp 雨雲レーダー) 天気図 PM2.5分布予測 地震情報 日直予報士 熱中症情報 東京都の天気 ### 05月29日(木) 東京都の天気 曇のち雨 曇のち雨 曇のち雨 曇のち雨 曇のち雨 曇のち雨 曇のち雨 曇のち雨 晴時々曇 曇のち雨 曇のち雨 曇のち雨 曇のち雨 曇のち雨 最新の天気履歴 渋谷区 曇のち雨 豊島区 曇のち雨 江東区 曇のち雨 港区 曇のち雨 大田区 曇のち雨 府中市 曇のち雨 奥多摩町 曇のち雨 関東・甲信 ### 気象予報士のポイント解説(日直予報士) newマーク 関東甲信\\u3000今日29日は天気下り坂\\u3000昼頃から所々で雨雲が湧く\\u3000夜は広く雨に 関東甲信\\u3000今日29日は天気下り坂\\u3000昼頃から所々で雨雲が湧く\\u3000夜は広く雨に newマーク 今日29日は気圧が低下\\u3000沖縄や九州から近畿は影響度「大」の所も\\u3000頭痛など注意 今日29日は気圧が低下\\u3000沖縄や九州から近畿は影響度「大」の所も\\u3000頭痛など注意 今日29日\\u3000九州から関東は次第に雨\\u3000東北と北海道は晴れて気温上昇\\u3000真夏日も 今日29日\\u3000九州から関東は次第に雨\\u3000東北と北海道は晴れて気温上昇\\u3000真夏日も ### 東京都各地の天気 #### 東京23区 #### 多摩 #### 伊豆諸島北部(大島) #### 伊豆諸島南部(八丈島) #### 小笠原諸島(父島) ### おすすめ記事 LINEの友達追加 ### 天気ガイド 雨雲 ### 注目の情報 アプリに便利なサブスクプラン開始 「tenki.jpライト」なら現在地の雨雲接近通知が受け取れる！ 新サービス「気圧予報」 気圧変化を確認して、頭痛やめまい、倦怠感といった症状に備えましょう。 X（旧Twitter） tenki.jpの公式X（旧Twitter） 最新の気象・防災情報や、生活に役立つ情報を毎日リアルタイムに配信中！ 天気予報 観測 防災情報 天気図 指数情報 レジャー天気 季節特集 天気ニュース X(旧：Twitter) Youtube Facebook Instagram LINEの友達追加 tenki.jp tenki.jp tenki.jp 登山天気 tenki.jp 登山天気 全国のコンテンツ tenki.jpトップ 天気予報 観測 防災情報 天気図'), Document(metadata={'title': '東京（東京）の天気 - Yahoo!天気・災害 - Yahoo! JAPAN', 'source': 'https://weather.yahoo.co.jp/weather/jp/13/4410.html', 'score': 0.7336813, 'images': []}, page_content='東京（東京）の天気 - Yahoo! - Yahoo! Yahoo! | 6月25日(水)  曇一時雨曇一時雨   - *29*℃[-1] - *25*℃[-1]  |  |  |  |  |  | | --- | --- | --- | --- | --- | | 時間 | 0-6 | 6-12 | 12-18 | 18-24 | | 降水 | --- | --- | --- | 50％ |   風：  南東の風後北東の風  波：  0.5メートル | 6月26日(木)  曇一時雨曇一時雨   - *31*℃[+2] - *25*℃[0]  |  |  |  |  |  | | --- | --- | --- | --- | --- | | 時間 | 0-6 | 6-12 | 12-18 | 18-24 | | 降水 | 70％ | 20％ | 20％ | 40％ |   風：  北の風後南の風２３区西部では南西の風やや強く  波：  0.5メートル後1.5メートル | - 6月25日(水) - 6月26日(木) (C) LY Corporation Yahoo! (C) LY Corporation Yahoo! cpt_n=safetymail&cpt_m=bnr&cpt_s=yahoo&cpt_c=weatherbnr) Yahoo!'), Document(metadata={'title': '東京の天気 - ウェザーニュース', 'source': 'https://weathernews.jp/onebox/tenki/tokyo/', 'score': 0.69199765, 'images': []}, page_content='{{item.cityname}} {{item.high}} {{item.low}} è\\x87ªç\\x84¶ã\\x83»å\\xad£ç¯\\x80ã\\x83»ã\\x83¬ã\\x82¸ã\\x83£ã\\x83¼æ\\x83\\x85å ± æ¢\\x85é\\x9b¨æ\\x83\\x85å ± è\\x8a±ç²\\x89é£\\x9bæ\\x95£æ\\x83\\x85å ± å\\x9c°é\\x9c\\x87æ\\x83\\x85å ± å\\x8f°é¢¨æ\\x83\\x85å ± é\\x95·æ\\x9c\\x9fäº\\x88å ± å\\x8f°é¢¨æ\\x83\\x85å ± å\\x9c°é\\x9c\\x87æ\\x83\\x85å ± æ´¥æ³¢æ\\x83\\x85å ± ç\\x81«å±±æ\\x83\\x85å ± æ¸\\x9bç\\x81½æ\\x83\\x85å ± é\\x81¿é\\x9b£æ\\x83\\x85å ± ã\\x81\\x95ã\\x81\\x8fã\\x82\\x89é\\x96\\x8bè\\x8a±æ\\x83\\x85å ± ã\\x82¹ã\\x82\\xadã\\x83¼ï¼\\x86ã\\x82¹ã\\x83\\x8eã\\x83\\x9cæ\\x83\\x85å ± è\\x8a±ç\\x81«å¤©æ°\\x97 Ch. ã\\x81»ã\\x81\\x9fã\\x82\\x8bæ\\x83\\x85å ± ã\\x81\\x82ã\\x81\\x98ã\\x81\\x95ã\\x81\\x84æ\\x83\\x85å ± æ\\x98\\x9fç©ºæ\\x83\\x85å ± å\\x88\\x9dæ\\x97¥ã\\x81®å\\x87ºæ\\x83\\x85å ± å\\x88\\x9dè©£æ\\x83\\x85å ± ç´\\x85è\\x91\\x89æ\\x83\\x85å ± ã\\x82¤ã\\x83«ã\\x83\\x9fã\\x83\\x8dã\\x83¼ã\\x82·ã\\x83§ã\\x83³æ\\x83\\x85å ± è\\x8a±ç²\\x89é£\\x9bæ\\x95£æ\\x83\\x85å ± å¤©æ°\\x97ç\\x97\\x9bäº\\x88å ± ç\\x86±ä¸\\xadç\\x97\\x87äº\\x88å ± ç´«å¤\\x96ç·\\x9aäº\\x88å ± æ\\x9c\\x8dè£\\x85äº\\x88å ± ã\\x81\\x8aæ´\\x97æ¿¯æ\\x83\\x85å ± Labs Ch. # æ\\x9d±äº¬ã\\x81®å¤©æ°\\x97äº\\x88å ± ## {{pref\\\\_jp}}{{cityname}}ã\\x81®1æ\\x99\\x82é\\x96\\x93æ¯\\x8eã\\x81®å¤©æ°\\x97 {{daily.date}}æ\\x97¥{{daily.youbi\\\\_str}} {{hourly.time}} {{hourly.prec}} {{hourly.temp}} {{hourly.wndspd}} ## {{pref\\\\_jp}}{{cityname}}ã\\x81®é\\x80±é\\x96\\x93å¤©æ°\\x97äº\\x88å ±ï¼\\x8810æ\\x97¥é\\x96\\x93ï¼\\x89 {{item.date}}   {{item.youbi\\\\_str}} {{item.high}} {{item.low}} {{item.pop}} ## å¸\\x82å\\x8cºç\\x94ºæ\\x9d\\x91å\\x88¥ã\\x81®å¤©æ°\\x97äº\\x88å ± {{point.rank}} ({{point.pref}}) ({{point.dateRecord}}) ## å\\x90\\x84ã\\x82¨ã\\x83ªã\\x82¢ã\\x81®å¤©æ°\\x97äº\\x88å ± {{point.rank}} ({{point.pref}}) ({{point.dateRecord}}) ### è\\x87ªç\\x84¶ã\\x83»å\\xad£ç¯\\x80ã\\x83»ã\\x83¬ã\\x82¸ã\\x83£ã\\x83¼æ\\x83\\x85å ±')]}}, 'parent_ids': ['fda32799-d750-43e9-b8eb-ddc3aa379043']}\n",
      "{'event': 'on_chain_end', 'data': {'output': {'question': '東京の今日の天気は？', 'context': [Document(metadata={'title': '東京都の天気 - 日本気象協会 tenki.jp', 'source': 'https://tenki.jp/forecast/3/16/', 'score': 0.7803451, 'images': []}, page_content='# tenki.jp 雨雲レーダー) 天気図 PM2.5分布予測 地震情報 日直予報士 熱中症情報 東京都の天気 ### 05月29日(木) 東京都の天気 曇のち雨 曇のち雨 曇のち雨 曇のち雨 曇のち雨 曇のち雨 曇のち雨 曇のち雨 晴時々曇 曇のち雨 曇のち雨 曇のち雨 曇のち雨 曇のち雨 最新の天気履歴 渋谷区 曇のち雨 豊島区 曇のち雨 江東区 曇のち雨 港区 曇のち雨 大田区 曇のち雨 府中市 曇のち雨 奥多摩町 曇のち雨 関東・甲信 ### 気象予報士のポイント解説(日直予報士) newマーク 関東甲信\\u3000今日29日は天気下り坂\\u3000昼頃から所々で雨雲が湧く\\u3000夜は広く雨に 関東甲信\\u3000今日29日は天気下り坂\\u3000昼頃から所々で雨雲が湧く\\u3000夜は広く雨に newマーク 今日29日は気圧が低下\\u3000沖縄や九州から近畿は影響度「大」の所も\\u3000頭痛など注意 今日29日は気圧が低下\\u3000沖縄や九州から近畿は影響度「大」の所も\\u3000頭痛など注意 今日29日\\u3000九州から関東は次第に雨\\u3000東北と北海道は晴れて気温上昇\\u3000真夏日も 今日29日\\u3000九州から関東は次第に雨\\u3000東北と北海道は晴れて気温上昇\\u3000真夏日も ### 東京都各地の天気 #### 東京23区 #### 多摩 #### 伊豆諸島北部(大島) #### 伊豆諸島南部(八丈島) #### 小笠原諸島(父島) ### おすすめ記事 LINEの友達追加 ### 天気ガイド 雨雲 ### 注目の情報 アプリに便利なサブスクプラン開始 「tenki.jpライト」なら現在地の雨雲接近通知が受け取れる！ 新サービス「気圧予報」 気圧変化を確認して、頭痛やめまい、倦怠感といった症状に備えましょう。 X（旧Twitter） tenki.jpの公式X（旧Twitter） 最新の気象・防災情報や、生活に役立つ情報を毎日リアルタイムに配信中！ 天気予報 観測 防災情報 天気図 指数情報 レジャー天気 季節特集 天気ニュース X(旧：Twitter) Youtube Facebook Instagram LINEの友達追加 tenki.jp tenki.jp tenki.jp 登山天気 tenki.jp 登山天気 全国のコンテンツ tenki.jpトップ 天気予報 観測 防災情報 天気図'), Document(metadata={'title': '東京（東京）の天気 - Yahoo!天気・災害 - Yahoo! JAPAN', 'source': 'https://weather.yahoo.co.jp/weather/jp/13/4410.html', 'score': 0.7336813, 'images': []}, page_content='東京（東京）の天気 - Yahoo! - Yahoo! Yahoo! | 6月25日(水)  曇一時雨曇一時雨   - *29*℃[-1] - *25*℃[-1]  |  |  |  |  |  | | --- | --- | --- | --- | --- | | 時間 | 0-6 | 6-12 | 12-18 | 18-24 | | 降水 | --- | --- | --- | 50％ |   風：  南東の風後北東の風  波：  0.5メートル | 6月26日(木)  曇一時雨曇一時雨   - *31*℃[+2] - *25*℃[0]  |  |  |  |  |  | | --- | --- | --- | --- | --- | | 時間 | 0-6 | 6-12 | 12-18 | 18-24 | | 降水 | 70％ | 20％ | 20％ | 40％ |   風：  北の風後南の風２３区西部では南西の風やや強く  波：  0.5メートル後1.5メートル | - 6月25日(水) - 6月26日(木) (C) LY Corporation Yahoo! (C) LY Corporation Yahoo! cpt_n=safetymail&cpt_m=bnr&cpt_s=yahoo&cpt_c=weatherbnr) Yahoo!'), Document(metadata={'title': '東京の天気 - ウェザーニュース', 'source': 'https://weathernews.jp/onebox/tenki/tokyo/', 'score': 0.69199765, 'images': []}, page_content='{{item.cityname}} {{item.high}} {{item.low}} è\\x87ªç\\x84¶ã\\x83»å\\xad£ç¯\\x80ã\\x83»ã\\x83¬ã\\x82¸ã\\x83£ã\\x83¼æ\\x83\\x85å ± æ¢\\x85é\\x9b¨æ\\x83\\x85å ± è\\x8a±ç²\\x89é£\\x9bæ\\x95£æ\\x83\\x85å ± å\\x9c°é\\x9c\\x87æ\\x83\\x85å ± å\\x8f°é¢¨æ\\x83\\x85å ± é\\x95·æ\\x9c\\x9fäº\\x88å ± å\\x8f°é¢¨æ\\x83\\x85å ± å\\x9c°é\\x9c\\x87æ\\x83\\x85å ± æ´¥æ³¢æ\\x83\\x85å ± ç\\x81«å±±æ\\x83\\x85å ± æ¸\\x9bç\\x81½æ\\x83\\x85å ± é\\x81¿é\\x9b£æ\\x83\\x85å ± ã\\x81\\x95ã\\x81\\x8fã\\x82\\x89é\\x96\\x8bè\\x8a±æ\\x83\\x85å ± ã\\x82¹ã\\x82\\xadã\\x83¼ï¼\\x86ã\\x82¹ã\\x83\\x8eã\\x83\\x9cæ\\x83\\x85å ± è\\x8a±ç\\x81«å¤©æ°\\x97 Ch. ã\\x81»ã\\x81\\x9fã\\x82\\x8bæ\\x83\\x85å ± ã\\x81\\x82ã\\x81\\x98ã\\x81\\x95ã\\x81\\x84æ\\x83\\x85å ± æ\\x98\\x9fç©ºæ\\x83\\x85å ± å\\x88\\x9dæ\\x97¥ã\\x81®å\\x87ºæ\\x83\\x85å ± å\\x88\\x9dè©£æ\\x83\\x85å ± ç´\\x85è\\x91\\x89æ\\x83\\x85å ± ã\\x82¤ã\\x83«ã\\x83\\x9fã\\x83\\x8dã\\x83¼ã\\x82·ã\\x83§ã\\x83³æ\\x83\\x85å ± è\\x8a±ç²\\x89é£\\x9bæ\\x95£æ\\x83\\x85å ± å¤©æ°\\x97ç\\x97\\x9bäº\\x88å ± ç\\x86±ä¸\\xadç\\x97\\x87äº\\x88å ± ç´«å¤\\x96ç·\\x9aäº\\x88å ± æ\\x9c\\x8dè£\\x85äº\\x88å ± ã\\x81\\x8aæ´\\x97æ¿¯æ\\x83\\x85å ± Labs Ch. # æ\\x9d±äº¬ã\\x81®å¤©æ°\\x97äº\\x88å ± ## {{pref\\\\_jp}}{{cityname}}ã\\x81®1æ\\x99\\x82é\\x96\\x93æ¯\\x8eã\\x81®å¤©æ°\\x97 {{daily.date}}æ\\x97¥{{daily.youbi\\\\_str}} {{hourly.time}} {{hourly.prec}} {{hourly.temp}} {{hourly.wndspd}} ## {{pref\\\\_jp}}{{cityname}}ã\\x81®é\\x80±é\\x96\\x93å¤©æ°\\x97äº\\x88å ±ï¼\\x8810æ\\x97¥é\\x96\\x93ï¼\\x89 {{item.date}}   {{item.youbi\\\\_str}} {{item.high}} {{item.low}} {{item.pop}} ## å¸\\x82å\\x8cºç\\x94ºæ\\x9d\\x91å\\x88¥ã\\x81®å¤©æ°\\x97äº\\x88å ± {{point.rank}} ({{point.pref}}) ({{point.dateRecord}}) ## å\\x90\\x84ã\\x82¨ã\\x83ªã\\x82¢ã\\x81®å¤©æ°\\x97äº\\x88å ± {{point.rank}} ({{point.pref}}) ({{point.dateRecord}}) ### è\\x87ªç\\x84¶ã\\x83»å\\xad£ç¯\\x80ã\\x83»ã\\x83¬ã\\x82¸ã\\x83£ã\\x83¼æ\\x83\\x85å ±')]}, 'input': '東京の今日の天気は？'}, 'run_id': '059bd87c-1070-4592-b12e-affc3fb186d5', 'name': 'RunnableParallel<context,question>', 'tags': ['seq:step:1'], 'metadata': {}, 'parent_ids': ['fda32799-d750-43e9-b8eb-ddc3aa379043']}\n",
      "{'event': 'on_prompt_start', 'data': {'input': {'question': '東京の今日の天気は？', 'context': [Document(metadata={'title': '東京都の天気 - 日本気象協会 tenki.jp', 'source': 'https://tenki.jp/forecast/3/16/', 'score': 0.7803451, 'images': []}, page_content='# tenki.jp 雨雲レーダー) 天気図 PM2.5分布予測 地震情報 日直予報士 熱中症情報 東京都の天気 ### 05月29日(木) 東京都の天気 曇のち雨 曇のち雨 曇のち雨 曇のち雨 曇のち雨 曇のち雨 曇のち雨 曇のち雨 晴時々曇 曇のち雨 曇のち雨 曇のち雨 曇のち雨 曇のち雨 最新の天気履歴 渋谷区 曇のち雨 豊島区 曇のち雨 江東区 曇のち雨 港区 曇のち雨 大田区 曇のち雨 府中市 曇のち雨 奥多摩町 曇のち雨 関東・甲信 ### 気象予報士のポイント解説(日直予報士) newマーク 関東甲信\\u3000今日29日は天気下り坂\\u3000昼頃から所々で雨雲が湧く\\u3000夜は広く雨に 関東甲信\\u3000今日29日は天気下り坂\\u3000昼頃から所々で雨雲が湧く\\u3000夜は広く雨に newマーク 今日29日は気圧が低下\\u3000沖縄や九州から近畿は影響度「大」の所も\\u3000頭痛など注意 今日29日は気圧が低下\\u3000沖縄や九州から近畿は影響度「大」の所も\\u3000頭痛など注意 今日29日\\u3000九州から関東は次第に雨\\u3000東北と北海道は晴れて気温上昇\\u3000真夏日も 今日29日\\u3000九州から関東は次第に雨\\u3000東北と北海道は晴れて気温上昇\\u3000真夏日も ### 東京都各地の天気 #### 東京23区 #### 多摩 #### 伊豆諸島北部(大島) #### 伊豆諸島南部(八丈島) #### 小笠原諸島(父島) ### おすすめ記事 LINEの友達追加 ### 天気ガイド 雨雲 ### 注目の情報 アプリに便利なサブスクプラン開始 「tenki.jpライト」なら現在地の雨雲接近通知が受け取れる！ 新サービス「気圧予報」 気圧変化を確認して、頭痛やめまい、倦怠感といった症状に備えましょう。 X（旧Twitter） tenki.jpの公式X（旧Twitter） 最新の気象・防災情報や、生活に役立つ情報を毎日リアルタイムに配信中！ 天気予報 観測 防災情報 天気図 指数情報 レジャー天気 季節特集 天気ニュース X(旧：Twitter) Youtube Facebook Instagram LINEの友達追加 tenki.jp tenki.jp tenki.jp 登山天気 tenki.jp 登山天気 全国のコンテンツ tenki.jpトップ 天気予報 観測 防災情報 天気図'), Document(metadata={'title': '東京（東京）の天気 - Yahoo!天気・災害 - Yahoo! JAPAN', 'source': 'https://weather.yahoo.co.jp/weather/jp/13/4410.html', 'score': 0.7336813, 'images': []}, page_content='東京（東京）の天気 - Yahoo! - Yahoo! Yahoo! | 6月25日(水)  曇一時雨曇一時雨   - *29*℃[-1] - *25*℃[-1]  |  |  |  |  |  | | --- | --- | --- | --- | --- | | 時間 | 0-6 | 6-12 | 12-18 | 18-24 | | 降水 | --- | --- | --- | 50％ |   風：  南東の風後北東の風  波：  0.5メートル | 6月26日(木)  曇一時雨曇一時雨   - *31*℃[+2] - *25*℃[0]  |  |  |  |  |  | | --- | --- | --- | --- | --- | | 時間 | 0-6 | 6-12 | 12-18 | 18-24 | | 降水 | 70％ | 20％ | 20％ | 40％ |   風：  北の風後南の風２３区西部では南西の風やや強く  波：  0.5メートル後1.5メートル | - 6月25日(水) - 6月26日(木) (C) LY Corporation Yahoo! (C) LY Corporation Yahoo! cpt_n=safetymail&cpt_m=bnr&cpt_s=yahoo&cpt_c=weatherbnr) Yahoo!'), Document(metadata={'title': '東京の天気 - ウェザーニュース', 'source': 'https://weathernews.jp/onebox/tenki/tokyo/', 'score': 0.69199765, 'images': []}, page_content='{{item.cityname}} {{item.high}} {{item.low}} è\\x87ªç\\x84¶ã\\x83»å\\xad£ç¯\\x80ã\\x83»ã\\x83¬ã\\x82¸ã\\x83£ã\\x83¼æ\\x83\\x85å ± æ¢\\x85é\\x9b¨æ\\x83\\x85å ± è\\x8a±ç²\\x89é£\\x9bæ\\x95£æ\\x83\\x85å ± å\\x9c°é\\x9c\\x87æ\\x83\\x85å ± å\\x8f°é¢¨æ\\x83\\x85å ± é\\x95·æ\\x9c\\x9fäº\\x88å ± å\\x8f°é¢¨æ\\x83\\x85å ± å\\x9c°é\\x9c\\x87æ\\x83\\x85å ± æ´¥æ³¢æ\\x83\\x85å ± ç\\x81«å±±æ\\x83\\x85å ± æ¸\\x9bç\\x81½æ\\x83\\x85å ± é\\x81¿é\\x9b£æ\\x83\\x85å ± ã\\x81\\x95ã\\x81\\x8fã\\x82\\x89é\\x96\\x8bè\\x8a±æ\\x83\\x85å ± ã\\x82¹ã\\x82\\xadã\\x83¼ï¼\\x86ã\\x82¹ã\\x83\\x8eã\\x83\\x9cæ\\x83\\x85å ± è\\x8a±ç\\x81«å¤©æ°\\x97 Ch. ã\\x81»ã\\x81\\x9fã\\x82\\x8bæ\\x83\\x85å ± ã\\x81\\x82ã\\x81\\x98ã\\x81\\x95ã\\x81\\x84æ\\x83\\x85å ± æ\\x98\\x9fç©ºæ\\x83\\x85å ± å\\x88\\x9dæ\\x97¥ã\\x81®å\\x87ºæ\\x83\\x85å ± å\\x88\\x9dè©£æ\\x83\\x85å ± ç´\\x85è\\x91\\x89æ\\x83\\x85å ± ã\\x82¤ã\\x83«ã\\x83\\x9fã\\x83\\x8dã\\x83¼ã\\x82·ã\\x83§ã\\x83³æ\\x83\\x85å ± è\\x8a±ç²\\x89é£\\x9bæ\\x95£æ\\x83\\x85å ± å¤©æ°\\x97ç\\x97\\x9bäº\\x88å ± ç\\x86±ä¸\\xadç\\x97\\x87äº\\x88å ± ç´«å¤\\x96ç·\\x9aäº\\x88å ± æ\\x9c\\x8dè£\\x85äº\\x88å ± ã\\x81\\x8aæ´\\x97æ¿¯æ\\x83\\x85å ± Labs Ch. # æ\\x9d±äº¬ã\\x81®å¤©æ°\\x97äº\\x88å ± ## {{pref\\\\_jp}}{{cityname}}ã\\x81®1æ\\x99\\x82é\\x96\\x93æ¯\\x8eã\\x81®å¤©æ°\\x97 {{daily.date}}æ\\x97¥{{daily.youbi\\\\_str}} {{hourly.time}} {{hourly.prec}} {{hourly.temp}} {{hourly.wndspd}} ## {{pref\\\\_jp}}{{cityname}}ã\\x81®é\\x80±é\\x96\\x93å¤©æ°\\x97äº\\x88å ±ï¼\\x8810æ\\x97¥é\\x96\\x93ï¼\\x89 {{item.date}}   {{item.youbi\\\\_str}} {{item.high}} {{item.low}} {{item.pop}} ## å¸\\x82å\\x8cºç\\x94ºæ\\x9d\\x91å\\x88¥ã\\x81®å¤©æ°\\x97äº\\x88å ± {{point.rank}} ({{point.pref}}) ({{point.dateRecord}}) ## å\\x90\\x84ã\\x82¨ã\\x83ªã\\x82¢ã\\x81®å¤©æ°\\x97äº\\x88å ± {{point.rank}} ({{point.pref}}) ({{point.dateRecord}}) ### è\\x87ªç\\x84¶ã\\x83»å\\xad£ç¯\\x80ã\\x83»ã\\x83¬ã\\x82¸ã\\x83£ã\\x83¼æ\\x83\\x85å ±')]}}, 'name': 'ChatPromptTemplate', 'tags': ['seq:step:2'], 'run_id': '3797447e-0d55-46d0-b429-75b75bfe4ba7', 'metadata': {}, 'parent_ids': ['fda32799-d750-43e9-b8eb-ddc3aa379043']}\n",
      "{'event': 'on_prompt_end', 'data': {'output': ChatPromptValue(messages=[HumanMessage(content='以下の文脈だけを踏まえて質問に回答してください。\\n                                          \\n文脈: \"\"\"\\n[Document(metadata={\\'title\\': \\'東京都の天気 - 日本気象協会 tenki.jp\\', \\'source\\': \\'https://tenki.jp/forecast/3/16/\\', \\'score\\': 0.7803451, \\'images\\': []}, page_content=\\'# tenki.jp 雨雲レーダー) 天気図 PM2.5分布予測 地震情報 日直予報士 熱中症情報 東京都の天気 ### 05月29日(木) 東京都の天気 曇のち雨 曇のち雨 曇のち雨 曇のち雨 曇のち雨 曇のち雨 曇のち雨 曇のち雨 晴時々曇 曇のち雨 曇のち雨 曇のち雨 曇のち雨 曇のち雨 最新の天気履歴 渋谷区 曇のち雨 豊島区 曇のち雨 江東区 曇のち雨 港区 曇のち雨 大田区 曇のち雨 府中市 曇のち雨 奥多摩町 曇のち雨 関東・甲信 ### 気象予報士のポイント解説(日直予報士) newマーク 関東甲信\\\\u3000今日29日は天気下り坂\\\\u3000昼頃から所々で雨雲が湧く\\\\u3000夜は広く雨に 関東甲信\\\\u3000今日29日は天気下り坂\\\\u3000昼頃から所々で雨雲が湧く\\\\u3000夜は広く雨に newマーク 今日29日は気圧が低下\\\\u3000沖縄や九州から近畿は影響度「大」の所も\\\\u3000頭痛など注意 今日29日は気圧が低下\\\\u3000沖縄や九州から近畿は影響度「大」の所も\\\\u3000頭痛など注意 今日29日\\\\u3000九州から関東は次第に雨\\\\u3000東北と北海道は晴れて気温上昇\\\\u3000真夏日も 今日29日\\\\u3000九州から関東は次第に雨\\\\u3000東北と北海道は晴れて気温上昇\\\\u3000真夏日も ### 東京都各地の天気 #### 東京23区 #### 多摩 #### 伊豆諸島北部(大島) #### 伊豆諸島南部(八丈島) #### 小笠原諸島(父島) ### おすすめ記事 LINEの友達追加 ### 天気ガイド 雨雲 ### 注目の情報 アプリに便利なサブスクプラン開始 「tenki.jpライト」なら現在地の雨雲接近通知が受け取れる！ 新サービス「気圧予報」 気圧変化を確認して、頭痛やめまい、倦怠感といった症状に備えましょう。 X（旧Twitter） tenki.jpの公式X（旧Twitter） 最新の気象・防災情報や、生活に役立つ情報を毎日リアルタイムに配信中！ 天気予報 観測 防災情報 天気図 指数情報 レジャー天気 季節特集 天気ニュース X(旧：Twitter) Youtube Facebook Instagram LINEの友達追加 tenki.jp tenki.jp tenki.jp 登山天気 tenki.jp 登山天気 全国のコンテンツ tenki.jpトップ 天気予報 観測 防災情報 天気図\\'), Document(metadata={\\'title\\': \\'東京（東京）の天気 - Yahoo!天気・災害 - Yahoo! JAPAN\\', \\'source\\': \\'https://weather.yahoo.co.jp/weather/jp/13/4410.html\\', \\'score\\': 0.7336813, \\'images\\': []}, page_content=\\'東京（東京）の天気 - Yahoo! - Yahoo! Yahoo! | 6月25日(水)  曇一時雨曇一時雨   - *29*℃[-1] - *25*℃[-1]  |  |  |  |  |  | | --- | --- | --- | --- | --- | | 時間 | 0-6 | 6-12 | 12-18 | 18-24 | | 降水 | --- | --- | --- | 50％ |   風：  南東の風後北東の風  波：  0.5メートル | 6月26日(木)  曇一時雨曇一時雨   - *31*℃[+2] - *25*℃[0]  |  |  |  |  |  | | --- | --- | --- | --- | --- | | 時間 | 0-6 | 6-12 | 12-18 | 18-24 | | 降水 | 70％ | 20％ | 20％ | 40％ |   風：  北の風後南の風２３区西部では南西の風やや強く  波：  0.5メートル後1.5メートル | - 6月25日(水) - 6月26日(木) (C) LY Corporation Yahoo! (C) LY Corporation Yahoo! cpt_n=safetymail&cpt_m=bnr&cpt_s=yahoo&cpt_c=weatherbnr) Yahoo!\\'), Document(metadata={\\'title\\': \\'東京の天気 - ウェザーニュース\\', \\'source\\': \\'https://weathernews.jp/onebox/tenki/tokyo/\\', \\'score\\': 0.69199765, \\'images\\': []}, page_content=\\'{{item.cityname}} {{item.high}} {{item.low}} è\\\\x87ªç\\\\x84¶ã\\\\x83»å\\\\xad£ç¯\\\\x80ã\\\\x83»ã\\\\x83¬ã\\\\x82¸ã\\\\x83£ã\\\\x83¼æ\\\\x83\\\\x85å ± æ¢\\\\x85é\\\\x9b¨æ\\\\x83\\\\x85å ± è\\\\x8a±ç²\\\\x89é£\\\\x9bæ\\\\x95£æ\\\\x83\\\\x85å ± å\\\\x9c°é\\\\x9c\\\\x87æ\\\\x83\\\\x85å ± å\\\\x8f°é¢¨æ\\\\x83\\\\x85å ± é\\\\x95·æ\\\\x9c\\\\x9fäº\\\\x88å ± å\\\\x8f°é¢¨æ\\\\x83\\\\x85å ± å\\\\x9c°é\\\\x9c\\\\x87æ\\\\x83\\\\x85å ± æ´¥æ³¢æ\\\\x83\\\\x85å ± ç\\\\x81«å±±æ\\\\x83\\\\x85å ± æ¸\\\\x9bç\\\\x81½æ\\\\x83\\\\x85å ± é\\\\x81¿é\\\\x9b£æ\\\\x83\\\\x85å ± ã\\\\x81\\\\x95ã\\\\x81\\\\x8fã\\\\x82\\\\x89é\\\\x96\\\\x8bè\\\\x8a±æ\\\\x83\\\\x85å ± ã\\\\x82¹ã\\\\x82\\\\xadã\\\\x83¼ï¼\\\\x86ã\\\\x82¹ã\\\\x83\\\\x8eã\\\\x83\\\\x9cæ\\\\x83\\\\x85å ± è\\\\x8a±ç\\\\x81«å¤©æ°\\\\x97 Ch. ã\\\\x81»ã\\\\x81\\\\x9fã\\\\x82\\\\x8bæ\\\\x83\\\\x85å ± ã\\\\x81\\\\x82ã\\\\x81\\\\x98ã\\\\x81\\\\x95ã\\\\x81\\\\x84æ\\\\x83\\\\x85å ± æ\\\\x98\\\\x9fç©ºæ\\\\x83\\\\x85å ± å\\\\x88\\\\x9dæ\\\\x97¥ã\\\\x81®å\\\\x87ºæ\\\\x83\\\\x85å ± å\\\\x88\\\\x9dè©£æ\\\\x83\\\\x85å ± ç´\\\\x85è\\\\x91\\\\x89æ\\\\x83\\\\x85å ± ã\\\\x82¤ã\\\\x83«ã\\\\x83\\\\x9fã\\\\x83\\\\x8dã\\\\x83¼ã\\\\x82·ã\\\\x83§ã\\\\x83³æ\\\\x83\\\\x85å ± è\\\\x8a±ç²\\\\x89é£\\\\x9bæ\\\\x95£æ\\\\x83\\\\x85å ± å¤©æ°\\\\x97ç\\\\x97\\\\x9bäº\\\\x88å ± ç\\\\x86±ä¸\\\\xadç\\\\x97\\\\x87äº\\\\x88å ± ç´«å¤\\\\x96ç·\\\\x9aäº\\\\x88å ± æ\\\\x9c\\\\x8dè£\\\\x85äº\\\\x88å ± ã\\\\x81\\\\x8aæ´\\\\x97æ¿¯æ\\\\x83\\\\x85å ± Labs Ch. # æ\\\\x9d±äº¬ã\\\\x81®å¤©æ°\\\\x97äº\\\\x88å ± ## {{pref\\\\\\\\_jp}}{{cityname}}ã\\\\x81®1æ\\\\x99\\\\x82é\\\\x96\\\\x93æ¯\\\\x8eã\\\\x81®å¤©æ°\\\\x97 {{daily.date}}æ\\\\x97¥{{daily.youbi\\\\\\\\_str}} {{hourly.time}} {{hourly.prec}} {{hourly.temp}} {{hourly.wndspd}} ## {{pref\\\\\\\\_jp}}{{cityname}}ã\\\\x81®é\\\\x80±é\\\\x96\\\\x93å¤©æ°\\\\x97äº\\\\x88å ±ï¼\\\\x8810æ\\\\x97¥é\\\\x96\\\\x93ï¼\\\\x89 {{item.date}}   {{item.youbi\\\\\\\\_str}} {{item.high}} {{item.low}} {{item.pop}} ## å¸\\\\x82å\\\\x8cºç\\\\x94ºæ\\\\x9d\\\\x91å\\\\x88¥ã\\\\x81®å¤©æ°\\\\x97äº\\\\x88å ± {{point.rank}} ({{point.pref}}) ({{point.dateRecord}}) ## å\\\\x90\\\\x84ã\\\\x82¨ã\\\\x83ªã\\\\x82¢ã\\\\x81®å¤©æ°\\\\x97äº\\\\x88å ± {{point.rank}} ({{point.pref}}) ({{point.dateRecord}}) ### è\\\\x87ªç\\\\x84¶ã\\\\x83»å\\\\xad£ç¯\\\\x80ã\\\\x83»ã\\\\x83¬ã\\\\x82¸ã\\\\x83£ã\\\\x83¼æ\\\\x83\\\\x85å ±\\')]\\n\"\"\"\\n                                          \\n質問: 東京の今日の天気は？\\n', additional_kwargs={}, response_metadata={})]), 'input': {'question': '東京の今日の天気は？', 'context': [Document(metadata={'title': '東京都の天気 - 日本気象協会 tenki.jp', 'source': 'https://tenki.jp/forecast/3/16/', 'score': 0.7803451, 'images': []}, page_content='# tenki.jp 雨雲レーダー) 天気図 PM2.5分布予測 地震情報 日直予報士 熱中症情報 東京都の天気 ### 05月29日(木) 東京都の天気 曇のち雨 曇のち雨 曇のち雨 曇のち雨 曇のち雨 曇のち雨 曇のち雨 曇のち雨 晴時々曇 曇のち雨 曇のち雨 曇のち雨 曇のち雨 曇のち雨 最新の天気履歴 渋谷区 曇のち雨 豊島区 曇のち雨 江東区 曇のち雨 港区 曇のち雨 大田区 曇のち雨 府中市 曇のち雨 奥多摩町 曇のち雨 関東・甲信 ### 気象予報士のポイント解説(日直予報士) newマーク 関東甲信\\u3000今日29日は天気下り坂\\u3000昼頃から所々で雨雲が湧く\\u3000夜は広く雨に 関東甲信\\u3000今日29日は天気下り坂\\u3000昼頃から所々で雨雲が湧く\\u3000夜は広く雨に newマーク 今日29日は気圧が低下\\u3000沖縄や九州から近畿は影響度「大」の所も\\u3000頭痛など注意 今日29日は気圧が低下\\u3000沖縄や九州から近畿は影響度「大」の所も\\u3000頭痛など注意 今日29日\\u3000九州から関東は次第に雨\\u3000東北と北海道は晴れて気温上昇\\u3000真夏日も 今日29日\\u3000九州から関東は次第に雨\\u3000東北と北海道は晴れて気温上昇\\u3000真夏日も ### 東京都各地の天気 #### 東京23区 #### 多摩 #### 伊豆諸島北部(大島) #### 伊豆諸島南部(八丈島) #### 小笠原諸島(父島) ### おすすめ記事 LINEの友達追加 ### 天気ガイド 雨雲 ### 注目の情報 アプリに便利なサブスクプラン開始 「tenki.jpライト」なら現在地の雨雲接近通知が受け取れる！ 新サービス「気圧予報」 気圧変化を確認して、頭痛やめまい、倦怠感といった症状に備えましょう。 X（旧Twitter） tenki.jpの公式X（旧Twitter） 最新の気象・防災情報や、生活に役立つ情報を毎日リアルタイムに配信中！ 天気予報 観測 防災情報 天気図 指数情報 レジャー天気 季節特集 天気ニュース X(旧：Twitter) Youtube Facebook Instagram LINEの友達追加 tenki.jp tenki.jp tenki.jp 登山天気 tenki.jp 登山天気 全国のコンテンツ tenki.jpトップ 天気予報 観測 防災情報 天気図'), Document(metadata={'title': '東京（東京）の天気 - Yahoo!天気・災害 - Yahoo! JAPAN', 'source': 'https://weather.yahoo.co.jp/weather/jp/13/4410.html', 'score': 0.7336813, 'images': []}, page_content='東京（東京）の天気 - Yahoo! - Yahoo! Yahoo! | 6月25日(水)  曇一時雨曇一時雨   - *29*℃[-1] - *25*℃[-1]  |  |  |  |  |  | | --- | --- | --- | --- | --- | | 時間 | 0-6 | 6-12 | 12-18 | 18-24 | | 降水 | --- | --- | --- | 50％ |   風：  南東の風後北東の風  波：  0.5メートル | 6月26日(木)  曇一時雨曇一時雨   - *31*℃[+2] - *25*℃[0]  |  |  |  |  |  | | --- | --- | --- | --- | --- | | 時間 | 0-6 | 6-12 | 12-18 | 18-24 | | 降水 | 70％ | 20％ | 20％ | 40％ |   風：  北の風後南の風２３区西部では南西の風やや強く  波：  0.5メートル後1.5メートル | - 6月25日(水) - 6月26日(木) (C) LY Corporation Yahoo! (C) LY Corporation Yahoo! cpt_n=safetymail&cpt_m=bnr&cpt_s=yahoo&cpt_c=weatherbnr) Yahoo!'), Document(metadata={'title': '東京の天気 - ウェザーニュース', 'source': 'https://weathernews.jp/onebox/tenki/tokyo/', 'score': 0.69199765, 'images': []}, page_content='{{item.cityname}} {{item.high}} {{item.low}} è\\x87ªç\\x84¶ã\\x83»å\\xad£ç¯\\x80ã\\x83»ã\\x83¬ã\\x82¸ã\\x83£ã\\x83¼æ\\x83\\x85å ± æ¢\\x85é\\x9b¨æ\\x83\\x85å ± è\\x8a±ç²\\x89é£\\x9bæ\\x95£æ\\x83\\x85å ± å\\x9c°é\\x9c\\x87æ\\x83\\x85å ± å\\x8f°é¢¨æ\\x83\\x85å ± é\\x95·æ\\x9c\\x9fäº\\x88å ± å\\x8f°é¢¨æ\\x83\\x85å ± å\\x9c°é\\x9c\\x87æ\\x83\\x85å ± æ´¥æ³¢æ\\x83\\x85å ± ç\\x81«å±±æ\\x83\\x85å ± æ¸\\x9bç\\x81½æ\\x83\\x85å ± é\\x81¿é\\x9b£æ\\x83\\x85å ± ã\\x81\\x95ã\\x81\\x8fã\\x82\\x89é\\x96\\x8bè\\x8a±æ\\x83\\x85å ± ã\\x82¹ã\\x82\\xadã\\x83¼ï¼\\x86ã\\x82¹ã\\x83\\x8eã\\x83\\x9cæ\\x83\\x85å ± è\\x8a±ç\\x81«å¤©æ°\\x97 Ch. ã\\x81»ã\\x81\\x9fã\\x82\\x8bæ\\x83\\x85å ± ã\\x81\\x82ã\\x81\\x98ã\\x81\\x95ã\\x81\\x84æ\\x83\\x85å ± æ\\x98\\x9fç©ºæ\\x83\\x85å ± å\\x88\\x9dæ\\x97¥ã\\x81®å\\x87ºæ\\x83\\x85å ± å\\x88\\x9dè©£æ\\x83\\x85å ± ç´\\x85è\\x91\\x89æ\\x83\\x85å ± ã\\x82¤ã\\x83«ã\\x83\\x9fã\\x83\\x8dã\\x83¼ã\\x82·ã\\x83§ã\\x83³æ\\x83\\x85å ± è\\x8a±ç²\\x89é£\\x9bæ\\x95£æ\\x83\\x85å ± å¤©æ°\\x97ç\\x97\\x9bäº\\x88å ± ç\\x86±ä¸\\xadç\\x97\\x87äº\\x88å ± ç´«å¤\\x96ç·\\x9aäº\\x88å ± æ\\x9c\\x8dè£\\x85äº\\x88å ± ã\\x81\\x8aæ´\\x97æ¿¯æ\\x83\\x85å ± Labs Ch. # æ\\x9d±äº¬ã\\x81®å¤©æ°\\x97äº\\x88å ± ## {{pref\\\\_jp}}{{cityname}}ã\\x81®1æ\\x99\\x82é\\x96\\x93æ¯\\x8eã\\x81®å¤©æ°\\x97 {{daily.date}}æ\\x97¥{{daily.youbi\\\\_str}} {{hourly.time}} {{hourly.prec}} {{hourly.temp}} {{hourly.wndspd}} ## {{pref\\\\_jp}}{{cityname}}ã\\x81®é\\x80±é\\x96\\x93å¤©æ°\\x97äº\\x88å ±ï¼\\x8810æ\\x97¥é\\x96\\x93ï¼\\x89 {{item.date}}   {{item.youbi\\\\_str}} {{item.high}} {{item.low}} {{item.pop}} ## å¸\\x82å\\x8cºç\\x94ºæ\\x9d\\x91å\\x88¥ã\\x81®å¤©æ°\\x97äº\\x88å ± {{point.rank}} ({{point.pref}}) ({{point.dateRecord}}) ## å\\x90\\x84ã\\x82¨ã\\x83ªã\\x82¢ã\\x81®å¤©æ°\\x97äº\\x88å ± {{point.rank}} ({{point.pref}}) ({{point.dateRecord}}) ### è\\x87ªç\\x84¶ã\\x83»å\\xad£ç¯\\x80ã\\x83»ã\\x83¬ã\\x82¸ã\\x83£ã\\x83¼æ\\x83\\x85å ±')]}}, 'run_id': '3797447e-0d55-46d0-b429-75b75bfe4ba7', 'name': 'ChatPromptTemplate', 'tags': ['seq:step:2'], 'metadata': {}, 'parent_ids': ['fda32799-d750-43e9-b8eb-ddc3aa379043']}\n",
      "{'event': 'on_chat_model_start', 'data': {'input': {'messages': [[HumanMessage(content='以下の文脈だけを踏まえて質問に回答してください。\\n                                          \\n文脈: \"\"\"\\n[Document(metadata={\\'title\\': \\'東京都の天気 - 日本気象協会 tenki.jp\\', \\'source\\': \\'https://tenki.jp/forecast/3/16/\\', \\'score\\': 0.7803451, \\'images\\': []}, page_content=\\'# tenki.jp 雨雲レーダー) 天気図 PM2.5分布予測 地震情報 日直予報士 熱中症情報 東京都の天気 ### 05月29日(木) 東京都の天気 曇のち雨 曇のち雨 曇のち雨 曇のち雨 曇のち雨 曇のち雨 曇のち雨 曇のち雨 晴時々曇 曇のち雨 曇のち雨 曇のち雨 曇のち雨 曇のち雨 最新の天気履歴 渋谷区 曇のち雨 豊島区 曇のち雨 江東区 曇のち雨 港区 曇のち雨 大田区 曇のち雨 府中市 曇のち雨 奥多摩町 曇のち雨 関東・甲信 ### 気象予報士のポイント解説(日直予報士) newマーク 関東甲信\\\\u3000今日29日は天気下り坂\\\\u3000昼頃から所々で雨雲が湧く\\\\u3000夜は広く雨に 関東甲信\\\\u3000今日29日は天気下り坂\\\\u3000昼頃から所々で雨雲が湧く\\\\u3000夜は広く雨に newマーク 今日29日は気圧が低下\\\\u3000沖縄や九州から近畿は影響度「大」の所も\\\\u3000頭痛など注意 今日29日は気圧が低下\\\\u3000沖縄や九州から近畿は影響度「大」の所も\\\\u3000頭痛など注意 今日29日\\\\u3000九州から関東は次第に雨\\\\u3000東北と北海道は晴れて気温上昇\\\\u3000真夏日も 今日29日\\\\u3000九州から関東は次第に雨\\\\u3000東北と北海道は晴れて気温上昇\\\\u3000真夏日も ### 東京都各地の天気 #### 東京23区 #### 多摩 #### 伊豆諸島北部(大島) #### 伊豆諸島南部(八丈島) #### 小笠原諸島(父島) ### おすすめ記事 LINEの友達追加 ### 天気ガイド 雨雲 ### 注目の情報 アプリに便利なサブスクプラン開始 「tenki.jpライト」なら現在地の雨雲接近通知が受け取れる！ 新サービス「気圧予報」 気圧変化を確認して、頭痛やめまい、倦怠感といった症状に備えましょう。 X（旧Twitter） tenki.jpの公式X（旧Twitter） 最新の気象・防災情報や、生活に役立つ情報を毎日リアルタイムに配信中！ 天気予報 観測 防災情報 天気図 指数情報 レジャー天気 季節特集 天気ニュース X(旧：Twitter) Youtube Facebook Instagram LINEの友達追加 tenki.jp tenki.jp tenki.jp 登山天気 tenki.jp 登山天気 全国のコンテンツ tenki.jpトップ 天気予報 観測 防災情報 天気図\\'), Document(metadata={\\'title\\': \\'東京（東京）の天気 - Yahoo!天気・災害 - Yahoo! JAPAN\\', \\'source\\': \\'https://weather.yahoo.co.jp/weather/jp/13/4410.html\\', \\'score\\': 0.7336813, \\'images\\': []}, page_content=\\'東京（東京）の天気 - Yahoo! - Yahoo! Yahoo! | 6月25日(水)  曇一時雨曇一時雨   - *29*℃[-1] - *25*℃[-1]  |  |  |  |  |  | | --- | --- | --- | --- | --- | | 時間 | 0-6 | 6-12 | 12-18 | 18-24 | | 降水 | --- | --- | --- | 50％ |   風：  南東の風後北東の風  波：  0.5メートル | 6月26日(木)  曇一時雨曇一時雨   - *31*℃[+2] - *25*℃[0]  |  |  |  |  |  | | --- | --- | --- | --- | --- | | 時間 | 0-6 | 6-12 | 12-18 | 18-24 | | 降水 | 70％ | 20％ | 20％ | 40％ |   風：  北の風後南の風２３区西部では南西の風やや強く  波：  0.5メートル後1.5メートル | - 6月25日(水) - 6月26日(木) (C) LY Corporation Yahoo! (C) LY Corporation Yahoo! cpt_n=safetymail&cpt_m=bnr&cpt_s=yahoo&cpt_c=weatherbnr) Yahoo!\\'), Document(metadata={\\'title\\': \\'東京の天気 - ウェザーニュース\\', \\'source\\': \\'https://weathernews.jp/onebox/tenki/tokyo/\\', \\'score\\': 0.69199765, \\'images\\': []}, page_content=\\'{{item.cityname}} {{item.high}} {{item.low}} è\\\\x87ªç\\\\x84¶ã\\\\x83»å\\\\xad£ç¯\\\\x80ã\\\\x83»ã\\\\x83¬ã\\\\x82¸ã\\\\x83£ã\\\\x83¼æ\\\\x83\\\\x85å ± æ¢\\\\x85é\\\\x9b¨æ\\\\x83\\\\x85å ± è\\\\x8a±ç²\\\\x89é£\\\\x9bæ\\\\x95£æ\\\\x83\\\\x85å ± å\\\\x9c°é\\\\x9c\\\\x87æ\\\\x83\\\\x85å ± å\\\\x8f°é¢¨æ\\\\x83\\\\x85å ± é\\\\x95·æ\\\\x9c\\\\x9fäº\\\\x88å ± å\\\\x8f°é¢¨æ\\\\x83\\\\x85å ± å\\\\x9c°é\\\\x9c\\\\x87æ\\\\x83\\\\x85å ± æ´¥æ³¢æ\\\\x83\\\\x85å ± ç\\\\x81«å±±æ\\\\x83\\\\x85å ± æ¸\\\\x9bç\\\\x81½æ\\\\x83\\\\x85å ± é\\\\x81¿é\\\\x9b£æ\\\\x83\\\\x85å ± ã\\\\x81\\\\x95ã\\\\x81\\\\x8fã\\\\x82\\\\x89é\\\\x96\\\\x8bè\\\\x8a±æ\\\\x83\\\\x85å ± ã\\\\x82¹ã\\\\x82\\\\xadã\\\\x83¼ï¼\\\\x86ã\\\\x82¹ã\\\\x83\\\\x8eã\\\\x83\\\\x9cæ\\\\x83\\\\x85å ± è\\\\x8a±ç\\\\x81«å¤©æ°\\\\x97 Ch. ã\\\\x81»ã\\\\x81\\\\x9fã\\\\x82\\\\x8bæ\\\\x83\\\\x85å ± ã\\\\x81\\\\x82ã\\\\x81\\\\x98ã\\\\x81\\\\x95ã\\\\x81\\\\x84æ\\\\x83\\\\x85å ± æ\\\\x98\\\\x9fç©ºæ\\\\x83\\\\x85å ± å\\\\x88\\\\x9dæ\\\\x97¥ã\\\\x81®å\\\\x87ºæ\\\\x83\\\\x85å ± å\\\\x88\\\\x9dè©£æ\\\\x83\\\\x85å ± ç´\\\\x85è\\\\x91\\\\x89æ\\\\x83\\\\x85å ± ã\\\\x82¤ã\\\\x83«ã\\\\x83\\\\x9fã\\\\x83\\\\x8dã\\\\x83¼ã\\\\x82·ã\\\\x83§ã\\\\x83³æ\\\\x83\\\\x85å ± è\\\\x8a±ç²\\\\x89é£\\\\x9bæ\\\\x95£æ\\\\x83\\\\x85å ± å¤©æ°\\\\x97ç\\\\x97\\\\x9bäº\\\\x88å ± ç\\\\x86±ä¸\\\\xadç\\\\x97\\\\x87äº\\\\x88å ± ç´«å¤\\\\x96ç·\\\\x9aäº\\\\x88å ± æ\\\\x9c\\\\x8dè£\\\\x85äº\\\\x88å ± ã\\\\x81\\\\x8aæ´\\\\x97æ¿¯æ\\\\x83\\\\x85å ± Labs Ch. # æ\\\\x9d±äº¬ã\\\\x81®å¤©æ°\\\\x97äº\\\\x88å ± ## {{pref\\\\\\\\_jp}}{{cityname}}ã\\\\x81®1æ\\\\x99\\\\x82é\\\\x96\\\\x93æ¯\\\\x8eã\\\\x81®å¤©æ°\\\\x97 {{daily.date}}æ\\\\x97¥{{daily.youbi\\\\\\\\_str}} {{hourly.time}} {{hourly.prec}} {{hourly.temp}} {{hourly.wndspd}} ## {{pref\\\\\\\\_jp}}{{cityname}}ã\\\\x81®é\\\\x80±é\\\\x96\\\\x93å¤©æ°\\\\x97äº\\\\x88å ±ï¼\\\\x8810æ\\\\x97¥é\\\\x96\\\\x93ï¼\\\\x89 {{item.date}}   {{item.youbi\\\\\\\\_str}} {{item.high}} {{item.low}} {{item.pop}} ## å¸\\\\x82å\\\\x8cºç\\\\x94ºæ\\\\x9d\\\\x91å\\\\x88¥ã\\\\x81®å¤©æ°\\\\x97äº\\\\x88å ± {{point.rank}} ({{point.pref}}) ({{point.dateRecord}}) ## å\\\\x90\\\\x84ã\\\\x82¨ã\\\\x83ªã\\\\x82¢ã\\\\x81®å¤©æ°\\\\x97äº\\\\x88å ± {{point.rank}} ({{point.pref}}) ({{point.dateRecord}}) ### è\\\\x87ªç\\\\x84¶ã\\\\x83»å\\\\xad£ç¯\\\\x80ã\\\\x83»ã\\\\x83¬ã\\\\x82¸ã\\\\x83£ã\\\\x83¼æ\\\\x83\\\\x85å ±\\')]\\n\"\"\"\\n                                          \\n質問: 東京の今日の天気は？\\n', additional_kwargs={}, response_metadata={})]]}}, 'name': 'ChatOpenAI', 'tags': ['seq:step:3'], 'run_id': '3eafbea1-a9bb-462f-9d88-41fa817ccb63', 'metadata': {'ls_provider': 'openai', 'ls_model_name': 'gpt-4o', 'ls_model_type': 'chat', 'ls_temperature': 0.0}, 'parent_ids': ['fda32799-d750-43e9-b8eb-ddc3aa379043']}\n",
      "{'event': 'on_chat_model_stream', 'data': {'chunk': AIMessageChunk(content='', additional_kwargs={}, response_metadata={}, id='run--3eafbea1-a9bb-462f-9d88-41fa817ccb63')}, 'run_id': '3eafbea1-a9bb-462f-9d88-41fa817ccb63', 'name': 'ChatOpenAI', 'tags': ['seq:step:3'], 'metadata': {'ls_provider': 'openai', 'ls_model_name': 'gpt-4o', 'ls_model_type': 'chat', 'ls_temperature': 0.0}, 'parent_ids': ['fda32799-d750-43e9-b8eb-ddc3aa379043']}\n",
      "{'event': 'on_parser_start', 'data': {}, 'name': 'StrOutputParser', 'tags': ['seq:step:4'], 'run_id': '5e416a05-a3c5-4dff-b418-45cbebc24974', 'metadata': {}, 'parent_ids': ['fda32799-d750-43e9-b8eb-ddc3aa379043']}\n",
      "{'event': 'on_parser_stream', 'run_id': '5e416a05-a3c5-4dff-b418-45cbebc24974', 'name': 'StrOutputParser', 'tags': ['seq:step:4'], 'metadata': {}, 'data': {'chunk': ''}, 'parent_ids': ['fda32799-d750-43e9-b8eb-ddc3aa379043']}\n",
      "{'event': 'on_chain_stream', 'run_id': 'fda32799-d750-43e9-b8eb-ddc3aa379043', 'name': 'RunnableSequence', 'tags': [], 'metadata': {}, 'data': {'chunk': ''}, 'parent_ids': []}\n",
      "{'event': 'on_chat_model_stream', 'data': {'chunk': AIMessageChunk(content='今日', additional_kwargs={}, response_metadata={}, id='run--3eafbea1-a9bb-462f-9d88-41fa817ccb63')}, 'run_id': '3eafbea1-a9bb-462f-9d88-41fa817ccb63', 'name': 'ChatOpenAI', 'tags': ['seq:step:3'], 'metadata': {'ls_provider': 'openai', 'ls_model_name': 'gpt-4o', 'ls_model_type': 'chat', 'ls_temperature': 0.0}, 'parent_ids': ['fda32799-d750-43e9-b8eb-ddc3aa379043']}\n",
      "{'event': 'on_parser_stream', 'run_id': '5e416a05-a3c5-4dff-b418-45cbebc24974', 'name': 'StrOutputParser', 'tags': ['seq:step:4'], 'metadata': {}, 'data': {'chunk': '今日'}, 'parent_ids': ['fda32799-d750-43e9-b8eb-ddc3aa379043']}\n",
      "{'event': 'on_chain_stream', 'run_id': 'fda32799-d750-43e9-b8eb-ddc3aa379043', 'name': 'RunnableSequence', 'tags': [], 'metadata': {}, 'data': {'chunk': '今日'}, 'parent_ids': []}\n",
      "{'event': 'on_chat_model_stream', 'data': {'chunk': AIMessageChunk(content='の', additional_kwargs={}, response_metadata={}, id='run--3eafbea1-a9bb-462f-9d88-41fa817ccb63')}, 'run_id': '3eafbea1-a9bb-462f-9d88-41fa817ccb63', 'name': 'ChatOpenAI', 'tags': ['seq:step:3'], 'metadata': {'ls_provider': 'openai', 'ls_model_name': 'gpt-4o', 'ls_model_type': 'chat', 'ls_temperature': 0.0}, 'parent_ids': ['fda32799-d750-43e9-b8eb-ddc3aa379043']}\n",
      "{'event': 'on_parser_stream', 'run_id': '5e416a05-a3c5-4dff-b418-45cbebc24974', 'name': 'StrOutputParser', 'tags': ['seq:step:4'], 'metadata': {}, 'data': {'chunk': 'の'}, 'parent_ids': ['fda32799-d750-43e9-b8eb-ddc3aa379043']}\n",
      "{'event': 'on_chain_stream', 'run_id': 'fda32799-d750-43e9-b8eb-ddc3aa379043', 'name': 'RunnableSequence', 'tags': [], 'metadata': {}, 'data': {'chunk': 'の'}, 'parent_ids': []}\n",
      "{'event': 'on_chat_model_stream', 'data': {'chunk': AIMessageChunk(content='東京', additional_kwargs={}, response_metadata={}, id='run--3eafbea1-a9bb-462f-9d88-41fa817ccb63')}, 'run_id': '3eafbea1-a9bb-462f-9d88-41fa817ccb63', 'name': 'ChatOpenAI', 'tags': ['seq:step:3'], 'metadata': {'ls_provider': 'openai', 'ls_model_name': 'gpt-4o', 'ls_model_type': 'chat', 'ls_temperature': 0.0}, 'parent_ids': ['fda32799-d750-43e9-b8eb-ddc3aa379043']}\n",
      "{'event': 'on_parser_stream', 'run_id': '5e416a05-a3c5-4dff-b418-45cbebc24974', 'name': 'StrOutputParser', 'tags': ['seq:step:4'], 'metadata': {}, 'data': {'chunk': '東京'}, 'parent_ids': ['fda32799-d750-43e9-b8eb-ddc3aa379043']}\n",
      "{'event': 'on_chain_stream', 'run_id': 'fda32799-d750-43e9-b8eb-ddc3aa379043', 'name': 'RunnableSequence', 'tags': [], 'metadata': {}, 'data': {'chunk': '東京'}, 'parent_ids': []}\n",
      "{'event': 'on_chat_model_stream', 'data': {'chunk': AIMessageChunk(content='の', additional_kwargs={}, response_metadata={}, id='run--3eafbea1-a9bb-462f-9d88-41fa817ccb63')}, 'run_id': '3eafbea1-a9bb-462f-9d88-41fa817ccb63', 'name': 'ChatOpenAI', 'tags': ['seq:step:3'], 'metadata': {'ls_provider': 'openai', 'ls_model_name': 'gpt-4o', 'ls_model_type': 'chat', 'ls_temperature': 0.0}, 'parent_ids': ['fda32799-d750-43e9-b8eb-ddc3aa379043']}\n",
      "{'event': 'on_parser_stream', 'run_id': '5e416a05-a3c5-4dff-b418-45cbebc24974', 'name': 'StrOutputParser', 'tags': ['seq:step:4'], 'metadata': {}, 'data': {'chunk': 'の'}, 'parent_ids': ['fda32799-d750-43e9-b8eb-ddc3aa379043']}\n",
      "{'event': 'on_chain_stream', 'run_id': 'fda32799-d750-43e9-b8eb-ddc3aa379043', 'name': 'RunnableSequence', 'tags': [], 'metadata': {}, 'data': {'chunk': 'の'}, 'parent_ids': []}\n",
      "{'event': 'on_chat_model_stream', 'data': {'chunk': AIMessageChunk(content='天', additional_kwargs={}, response_metadata={}, id='run--3eafbea1-a9bb-462f-9d88-41fa817ccb63')}, 'run_id': '3eafbea1-a9bb-462f-9d88-41fa817ccb63', 'name': 'ChatOpenAI', 'tags': ['seq:step:3'], 'metadata': {'ls_provider': 'openai', 'ls_model_name': 'gpt-4o', 'ls_model_type': 'chat', 'ls_temperature': 0.0}, 'parent_ids': ['fda32799-d750-43e9-b8eb-ddc3aa379043']}\n",
      "{'event': 'on_parser_stream', 'run_id': '5e416a05-a3c5-4dff-b418-45cbebc24974', 'name': 'StrOutputParser', 'tags': ['seq:step:4'], 'metadata': {}, 'data': {'chunk': '天'}, 'parent_ids': ['fda32799-d750-43e9-b8eb-ddc3aa379043']}\n",
      "{'event': 'on_chain_stream', 'run_id': 'fda32799-d750-43e9-b8eb-ddc3aa379043', 'name': 'RunnableSequence', 'tags': [], 'metadata': {}, 'data': {'chunk': '天'}, 'parent_ids': []}\n",
      "{'event': 'on_chat_model_stream', 'data': {'chunk': AIMessageChunk(content='気', additional_kwargs={}, response_metadata={}, id='run--3eafbea1-a9bb-462f-9d88-41fa817ccb63')}, 'run_id': '3eafbea1-a9bb-462f-9d88-41fa817ccb63', 'name': 'ChatOpenAI', 'tags': ['seq:step:3'], 'metadata': {'ls_provider': 'openai', 'ls_model_name': 'gpt-4o', 'ls_model_type': 'chat', 'ls_temperature': 0.0}, 'parent_ids': ['fda32799-d750-43e9-b8eb-ddc3aa379043']}\n",
      "{'event': 'on_parser_stream', 'run_id': '5e416a05-a3c5-4dff-b418-45cbebc24974', 'name': 'StrOutputParser', 'tags': ['seq:step:4'], 'metadata': {}, 'data': {'chunk': '気'}, 'parent_ids': ['fda32799-d750-43e9-b8eb-ddc3aa379043']}\n",
      "{'event': 'on_chain_stream', 'run_id': 'fda32799-d750-43e9-b8eb-ddc3aa379043', 'name': 'RunnableSequence', 'tags': [], 'metadata': {}, 'data': {'chunk': '気'}, 'parent_ids': []}\n",
      "{'event': 'on_chat_model_stream', 'data': {'chunk': AIMessageChunk(content='は', additional_kwargs={}, response_metadata={}, id='run--3eafbea1-a9bb-462f-9d88-41fa817ccb63')}, 'run_id': '3eafbea1-a9bb-462f-9d88-41fa817ccb63', 'name': 'ChatOpenAI', 'tags': ['seq:step:3'], 'metadata': {'ls_provider': 'openai', 'ls_model_name': 'gpt-4o', 'ls_model_type': 'chat', 'ls_temperature': 0.0}, 'parent_ids': ['fda32799-d750-43e9-b8eb-ddc3aa379043']}\n",
      "{'event': 'on_parser_stream', 'run_id': '5e416a05-a3c5-4dff-b418-45cbebc24974', 'name': 'StrOutputParser', 'tags': ['seq:step:4'], 'metadata': {}, 'data': {'chunk': 'は'}, 'parent_ids': ['fda32799-d750-43e9-b8eb-ddc3aa379043']}\n",
      "{'event': 'on_chain_stream', 'run_id': 'fda32799-d750-43e9-b8eb-ddc3aa379043', 'name': 'RunnableSequence', 'tags': [], 'metadata': {}, 'data': {'chunk': 'は'}, 'parent_ids': []}\n",
      "{'event': 'on_chat_model_stream', 'data': {'chunk': AIMessageChunk(content='「', additional_kwargs={}, response_metadata={}, id='run--3eafbea1-a9bb-462f-9d88-41fa817ccb63')}, 'run_id': '3eafbea1-a9bb-462f-9d88-41fa817ccb63', 'name': 'ChatOpenAI', 'tags': ['seq:step:3'], 'metadata': {'ls_provider': 'openai', 'ls_model_name': 'gpt-4o', 'ls_model_type': 'chat', 'ls_temperature': 0.0}, 'parent_ids': ['fda32799-d750-43e9-b8eb-ddc3aa379043']}\n",
      "{'event': 'on_parser_stream', 'run_id': '5e416a05-a3c5-4dff-b418-45cbebc24974', 'name': 'StrOutputParser', 'tags': ['seq:step:4'], 'metadata': {}, 'data': {'chunk': '「'}, 'parent_ids': ['fda32799-d750-43e9-b8eb-ddc3aa379043']}\n",
      "{'event': 'on_chain_stream', 'run_id': 'fda32799-d750-43e9-b8eb-ddc3aa379043', 'name': 'RunnableSequence', 'tags': [], 'metadata': {}, 'data': {'chunk': '「'}, 'parent_ids': []}\n",
      "{'event': 'on_chat_model_stream', 'data': {'chunk': AIMessageChunk(content='曇', additional_kwargs={}, response_metadata={}, id='run--3eafbea1-a9bb-462f-9d88-41fa817ccb63')}, 'run_id': '3eafbea1-a9bb-462f-9d88-41fa817ccb63', 'name': 'ChatOpenAI', 'tags': ['seq:step:3'], 'metadata': {'ls_provider': 'openai', 'ls_model_name': 'gpt-4o', 'ls_model_type': 'chat', 'ls_temperature': 0.0}, 'parent_ids': ['fda32799-d750-43e9-b8eb-ddc3aa379043']}\n",
      "{'event': 'on_parser_stream', 'run_id': '5e416a05-a3c5-4dff-b418-45cbebc24974', 'name': 'StrOutputParser', 'tags': ['seq:step:4'], 'metadata': {}, 'data': {'chunk': '曇'}, 'parent_ids': ['fda32799-d750-43e9-b8eb-ddc3aa379043']}\n",
      "{'event': 'on_chain_stream', 'run_id': 'fda32799-d750-43e9-b8eb-ddc3aa379043', 'name': 'RunnableSequence', 'tags': [], 'metadata': {}, 'data': {'chunk': '曇'}, 'parent_ids': []}\n",
      "{'event': 'on_chat_model_stream', 'data': {'chunk': AIMessageChunk(content='の', additional_kwargs={}, response_metadata={}, id='run--3eafbea1-a9bb-462f-9d88-41fa817ccb63')}, 'run_id': '3eafbea1-a9bb-462f-9d88-41fa817ccb63', 'name': 'ChatOpenAI', 'tags': ['seq:step:3'], 'metadata': {'ls_provider': 'openai', 'ls_model_name': 'gpt-4o', 'ls_model_type': 'chat', 'ls_temperature': 0.0}, 'parent_ids': ['fda32799-d750-43e9-b8eb-ddc3aa379043']}\n",
      "{'event': 'on_parser_stream', 'run_id': '5e416a05-a3c5-4dff-b418-45cbebc24974', 'name': 'StrOutputParser', 'tags': ['seq:step:4'], 'metadata': {}, 'data': {'chunk': 'の'}, 'parent_ids': ['fda32799-d750-43e9-b8eb-ddc3aa379043']}\n",
      "{'event': 'on_chain_stream', 'run_id': 'fda32799-d750-43e9-b8eb-ddc3aa379043', 'name': 'RunnableSequence', 'tags': [], 'metadata': {}, 'data': {'chunk': 'の'}, 'parent_ids': []}\n",
      "{'event': 'on_chat_model_stream', 'data': {'chunk': AIMessageChunk(content='ち', additional_kwargs={}, response_metadata={}, id='run--3eafbea1-a9bb-462f-9d88-41fa817ccb63')}, 'run_id': '3eafbea1-a9bb-462f-9d88-41fa817ccb63', 'name': 'ChatOpenAI', 'tags': ['seq:step:3'], 'metadata': {'ls_provider': 'openai', 'ls_model_name': 'gpt-4o', 'ls_model_type': 'chat', 'ls_temperature': 0.0}, 'parent_ids': ['fda32799-d750-43e9-b8eb-ddc3aa379043']}\n",
      "{'event': 'on_parser_stream', 'run_id': '5e416a05-a3c5-4dff-b418-45cbebc24974', 'name': 'StrOutputParser', 'tags': ['seq:step:4'], 'metadata': {}, 'data': {'chunk': 'ち'}, 'parent_ids': ['fda32799-d750-43e9-b8eb-ddc3aa379043']}\n",
      "{'event': 'on_chain_stream', 'run_id': 'fda32799-d750-43e9-b8eb-ddc3aa379043', 'name': 'RunnableSequence', 'tags': [], 'metadata': {}, 'data': {'chunk': 'ち'}, 'parent_ids': []}\n",
      "{'event': 'on_chat_model_stream', 'data': {'chunk': AIMessageChunk(content='雨', additional_kwargs={}, response_metadata={}, id='run--3eafbea1-a9bb-462f-9d88-41fa817ccb63')}, 'run_id': '3eafbea1-a9bb-462f-9d88-41fa817ccb63', 'name': 'ChatOpenAI', 'tags': ['seq:step:3'], 'metadata': {'ls_provider': 'openai', 'ls_model_name': 'gpt-4o', 'ls_model_type': 'chat', 'ls_temperature': 0.0}, 'parent_ids': ['fda32799-d750-43e9-b8eb-ddc3aa379043']}\n",
      "{'event': 'on_parser_stream', 'run_id': '5e416a05-a3c5-4dff-b418-45cbebc24974', 'name': 'StrOutputParser', 'tags': ['seq:step:4'], 'metadata': {}, 'data': {'chunk': '雨'}, 'parent_ids': ['fda32799-d750-43e9-b8eb-ddc3aa379043']}\n",
      "{'event': 'on_chain_stream', 'run_id': 'fda32799-d750-43e9-b8eb-ddc3aa379043', 'name': 'RunnableSequence', 'tags': [], 'metadata': {}, 'data': {'chunk': '雨'}, 'parent_ids': []}\n",
      "{'event': 'on_chat_model_stream', 'data': {'chunk': AIMessageChunk(content='」です', additional_kwargs={}, response_metadata={}, id='run--3eafbea1-a9bb-462f-9d88-41fa817ccb63')}, 'run_id': '3eafbea1-a9bb-462f-9d88-41fa817ccb63', 'name': 'ChatOpenAI', 'tags': ['seq:step:3'], 'metadata': {'ls_provider': 'openai', 'ls_model_name': 'gpt-4o', 'ls_model_type': 'chat', 'ls_temperature': 0.0}, 'parent_ids': ['fda32799-d750-43e9-b8eb-ddc3aa379043']}\n",
      "{'event': 'on_parser_stream', 'run_id': '5e416a05-a3c5-4dff-b418-45cbebc24974', 'name': 'StrOutputParser', 'tags': ['seq:step:4'], 'metadata': {}, 'data': {'chunk': '」です'}, 'parent_ids': ['fda32799-d750-43e9-b8eb-ddc3aa379043']}\n",
      "{'event': 'on_chain_stream', 'run_id': 'fda32799-d750-43e9-b8eb-ddc3aa379043', 'name': 'RunnableSequence', 'tags': [], 'metadata': {}, 'data': {'chunk': '」です'}, 'parent_ids': []}\n",
      "{'event': 'on_chat_model_stream', 'data': {'chunk': AIMessageChunk(content='。', additional_kwargs={}, response_metadata={}, id='run--3eafbea1-a9bb-462f-9d88-41fa817ccb63')}, 'run_id': '3eafbea1-a9bb-462f-9d88-41fa817ccb63', 'name': 'ChatOpenAI', 'tags': ['seq:step:3'], 'metadata': {'ls_provider': 'openai', 'ls_model_name': 'gpt-4o', 'ls_model_type': 'chat', 'ls_temperature': 0.0}, 'parent_ids': ['fda32799-d750-43e9-b8eb-ddc3aa379043']}\n",
      "{'event': 'on_parser_stream', 'run_id': '5e416a05-a3c5-4dff-b418-45cbebc24974', 'name': 'StrOutputParser', 'tags': ['seq:step:4'], 'metadata': {}, 'data': {'chunk': '。'}, 'parent_ids': ['fda32799-d750-43e9-b8eb-ddc3aa379043']}\n",
      "{'event': 'on_chain_stream', 'run_id': 'fda32799-d750-43e9-b8eb-ddc3aa379043', 'name': 'RunnableSequence', 'tags': [], 'metadata': {}, 'data': {'chunk': '。'}, 'parent_ids': []}\n",
      "{'event': 'on_chat_model_stream', 'data': {'chunk': AIMessageChunk(content='昼', additional_kwargs={}, response_metadata={}, id='run--3eafbea1-a9bb-462f-9d88-41fa817ccb63')}, 'run_id': '3eafbea1-a9bb-462f-9d88-41fa817ccb63', 'name': 'ChatOpenAI', 'tags': ['seq:step:3'], 'metadata': {'ls_provider': 'openai', 'ls_model_name': 'gpt-4o', 'ls_model_type': 'chat', 'ls_temperature': 0.0}, 'parent_ids': ['fda32799-d750-43e9-b8eb-ddc3aa379043']}\n",
      "{'event': 'on_parser_stream', 'run_id': '5e416a05-a3c5-4dff-b418-45cbebc24974', 'name': 'StrOutputParser', 'tags': ['seq:step:4'], 'metadata': {}, 'data': {'chunk': '昼'}, 'parent_ids': ['fda32799-d750-43e9-b8eb-ddc3aa379043']}\n",
      "{'event': 'on_chain_stream', 'run_id': 'fda32799-d750-43e9-b8eb-ddc3aa379043', 'name': 'RunnableSequence', 'tags': [], 'metadata': {}, 'data': {'chunk': '昼'}, 'parent_ids': []}\n",
      "{'event': 'on_chat_model_stream', 'data': {'chunk': AIMessageChunk(content='頃', additional_kwargs={}, response_metadata={}, id='run--3eafbea1-a9bb-462f-9d88-41fa817ccb63')}, 'run_id': '3eafbea1-a9bb-462f-9d88-41fa817ccb63', 'name': 'ChatOpenAI', 'tags': ['seq:step:3'], 'metadata': {'ls_provider': 'openai', 'ls_model_name': 'gpt-4o', 'ls_model_type': 'chat', 'ls_temperature': 0.0}, 'parent_ids': ['fda32799-d750-43e9-b8eb-ddc3aa379043']}\n",
      "{'event': 'on_parser_stream', 'run_id': '5e416a05-a3c5-4dff-b418-45cbebc24974', 'name': 'StrOutputParser', 'tags': ['seq:step:4'], 'metadata': {}, 'data': {'chunk': '頃'}, 'parent_ids': ['fda32799-d750-43e9-b8eb-ddc3aa379043']}\n",
      "{'event': 'on_chain_stream', 'run_id': 'fda32799-d750-43e9-b8eb-ddc3aa379043', 'name': 'RunnableSequence', 'tags': [], 'metadata': {}, 'data': {'chunk': '頃'}, 'parent_ids': []}\n",
      "{'event': 'on_chat_model_stream', 'data': {'chunk': AIMessageChunk(content='から', additional_kwargs={}, response_metadata={}, id='run--3eafbea1-a9bb-462f-9d88-41fa817ccb63')}, 'run_id': '3eafbea1-a9bb-462f-9d88-41fa817ccb63', 'name': 'ChatOpenAI', 'tags': ['seq:step:3'], 'metadata': {'ls_provider': 'openai', 'ls_model_name': 'gpt-4o', 'ls_model_type': 'chat', 'ls_temperature': 0.0}, 'parent_ids': ['fda32799-d750-43e9-b8eb-ddc3aa379043']}\n",
      "{'event': 'on_parser_stream', 'run_id': '5e416a05-a3c5-4dff-b418-45cbebc24974', 'name': 'StrOutputParser', 'tags': ['seq:step:4'], 'metadata': {}, 'data': {'chunk': 'から'}, 'parent_ids': ['fda32799-d750-43e9-b8eb-ddc3aa379043']}\n",
      "{'event': 'on_chain_stream', 'run_id': 'fda32799-d750-43e9-b8eb-ddc3aa379043', 'name': 'RunnableSequence', 'tags': [], 'metadata': {}, 'data': {'chunk': 'から'}, 'parent_ids': []}\n",
      "{'event': 'on_chat_model_stream', 'data': {'chunk': AIMessageChunk(content='所', additional_kwargs={}, response_metadata={}, id='run--3eafbea1-a9bb-462f-9d88-41fa817ccb63')}, 'run_id': '3eafbea1-a9bb-462f-9d88-41fa817ccb63', 'name': 'ChatOpenAI', 'tags': ['seq:step:3'], 'metadata': {'ls_provider': 'openai', 'ls_model_name': 'gpt-4o', 'ls_model_type': 'chat', 'ls_temperature': 0.0}, 'parent_ids': ['fda32799-d750-43e9-b8eb-ddc3aa379043']}\n",
      "{'event': 'on_parser_stream', 'run_id': '5e416a05-a3c5-4dff-b418-45cbebc24974', 'name': 'StrOutputParser', 'tags': ['seq:step:4'], 'metadata': {}, 'data': {'chunk': '所'}, 'parent_ids': ['fda32799-d750-43e9-b8eb-ddc3aa379043']}\n",
      "{'event': 'on_chain_stream', 'run_id': 'fda32799-d750-43e9-b8eb-ddc3aa379043', 'name': 'RunnableSequence', 'tags': [], 'metadata': {}, 'data': {'chunk': '所'}, 'parent_ids': []}\n",
      "{'event': 'on_chat_model_stream', 'data': {'chunk': AIMessageChunk(content='々', additional_kwargs={}, response_metadata={}, id='run--3eafbea1-a9bb-462f-9d88-41fa817ccb63')}, 'run_id': '3eafbea1-a9bb-462f-9d88-41fa817ccb63', 'name': 'ChatOpenAI', 'tags': ['seq:step:3'], 'metadata': {'ls_provider': 'openai', 'ls_model_name': 'gpt-4o', 'ls_model_type': 'chat', 'ls_temperature': 0.0}, 'parent_ids': ['fda32799-d750-43e9-b8eb-ddc3aa379043']}\n",
      "{'event': 'on_parser_stream', 'run_id': '5e416a05-a3c5-4dff-b418-45cbebc24974', 'name': 'StrOutputParser', 'tags': ['seq:step:4'], 'metadata': {}, 'data': {'chunk': '々'}, 'parent_ids': ['fda32799-d750-43e9-b8eb-ddc3aa379043']}\n",
      "{'event': 'on_chain_stream', 'run_id': 'fda32799-d750-43e9-b8eb-ddc3aa379043', 'name': 'RunnableSequence', 'tags': [], 'metadata': {}, 'data': {'chunk': '々'}, 'parent_ids': []}\n",
      "{'event': 'on_chat_model_stream', 'data': {'chunk': AIMessageChunk(content='で', additional_kwargs={}, response_metadata={}, id='run--3eafbea1-a9bb-462f-9d88-41fa817ccb63')}, 'run_id': '3eafbea1-a9bb-462f-9d88-41fa817ccb63', 'name': 'ChatOpenAI', 'tags': ['seq:step:3'], 'metadata': {'ls_provider': 'openai', 'ls_model_name': 'gpt-4o', 'ls_model_type': 'chat', 'ls_temperature': 0.0}, 'parent_ids': ['fda32799-d750-43e9-b8eb-ddc3aa379043']}\n",
      "{'event': 'on_parser_stream', 'run_id': '5e416a05-a3c5-4dff-b418-45cbebc24974', 'name': 'StrOutputParser', 'tags': ['seq:step:4'], 'metadata': {}, 'data': {'chunk': 'で'}, 'parent_ids': ['fda32799-d750-43e9-b8eb-ddc3aa379043']}\n",
      "{'event': 'on_chain_stream', 'run_id': 'fda32799-d750-43e9-b8eb-ddc3aa379043', 'name': 'RunnableSequence', 'tags': [], 'metadata': {}, 'data': {'chunk': 'で'}, 'parent_ids': []}\n",
      "{'event': 'on_chat_model_stream', 'data': {'chunk': AIMessageChunk(content='雨', additional_kwargs={}, response_metadata={}, id='run--3eafbea1-a9bb-462f-9d88-41fa817ccb63')}, 'run_id': '3eafbea1-a9bb-462f-9d88-41fa817ccb63', 'name': 'ChatOpenAI', 'tags': ['seq:step:3'], 'metadata': {'ls_provider': 'openai', 'ls_model_name': 'gpt-4o', 'ls_model_type': 'chat', 'ls_temperature': 0.0}, 'parent_ids': ['fda32799-d750-43e9-b8eb-ddc3aa379043']}\n",
      "{'event': 'on_parser_stream', 'run_id': '5e416a05-a3c5-4dff-b418-45cbebc24974', 'name': 'StrOutputParser', 'tags': ['seq:step:4'], 'metadata': {}, 'data': {'chunk': '雨'}, 'parent_ids': ['fda32799-d750-43e9-b8eb-ddc3aa379043']}\n",
      "{'event': 'on_chain_stream', 'run_id': 'fda32799-d750-43e9-b8eb-ddc3aa379043', 'name': 'RunnableSequence', 'tags': [], 'metadata': {}, 'data': {'chunk': '雨'}, 'parent_ids': []}\n",
      "{'event': 'on_chat_model_stream', 'data': {'chunk': AIMessageChunk(content='雲', additional_kwargs={}, response_metadata={}, id='run--3eafbea1-a9bb-462f-9d88-41fa817ccb63')}, 'run_id': '3eafbea1-a9bb-462f-9d88-41fa817ccb63', 'name': 'ChatOpenAI', 'tags': ['seq:step:3'], 'metadata': {'ls_provider': 'openai', 'ls_model_name': 'gpt-4o', 'ls_model_type': 'chat', 'ls_temperature': 0.0}, 'parent_ids': ['fda32799-d750-43e9-b8eb-ddc3aa379043']}\n",
      "{'event': 'on_parser_stream', 'run_id': '5e416a05-a3c5-4dff-b418-45cbebc24974', 'name': 'StrOutputParser', 'tags': ['seq:step:4'], 'metadata': {}, 'data': {'chunk': '雲'}, 'parent_ids': ['fda32799-d750-43e9-b8eb-ddc3aa379043']}\n",
      "{'event': 'on_chain_stream', 'run_id': 'fda32799-d750-43e9-b8eb-ddc3aa379043', 'name': 'RunnableSequence', 'tags': [], 'metadata': {}, 'data': {'chunk': '雲'}, 'parent_ids': []}\n",
      "{'event': 'on_chat_model_stream', 'data': {'chunk': AIMessageChunk(content='が', additional_kwargs={}, response_metadata={}, id='run--3eafbea1-a9bb-462f-9d88-41fa817ccb63')}, 'run_id': '3eafbea1-a9bb-462f-9d88-41fa817ccb63', 'name': 'ChatOpenAI', 'tags': ['seq:step:3'], 'metadata': {'ls_provider': 'openai', 'ls_model_name': 'gpt-4o', 'ls_model_type': 'chat', 'ls_temperature': 0.0}, 'parent_ids': ['fda32799-d750-43e9-b8eb-ddc3aa379043']}\n",
      "{'event': 'on_parser_stream', 'run_id': '5e416a05-a3c5-4dff-b418-45cbebc24974', 'name': 'StrOutputParser', 'tags': ['seq:step:4'], 'metadata': {}, 'data': {'chunk': 'が'}, 'parent_ids': ['fda32799-d750-43e9-b8eb-ddc3aa379043']}\n",
      "{'event': 'on_chain_stream', 'run_id': 'fda32799-d750-43e9-b8eb-ddc3aa379043', 'name': 'RunnableSequence', 'tags': [], 'metadata': {}, 'data': {'chunk': 'が'}, 'parent_ids': []}\n",
      "{'event': 'on_chat_model_stream', 'data': {'chunk': AIMessageChunk(content='湧', additional_kwargs={}, response_metadata={}, id='run--3eafbea1-a9bb-462f-9d88-41fa817ccb63')}, 'run_id': '3eafbea1-a9bb-462f-9d88-41fa817ccb63', 'name': 'ChatOpenAI', 'tags': ['seq:step:3'], 'metadata': {'ls_provider': 'openai', 'ls_model_name': 'gpt-4o', 'ls_model_type': 'chat', 'ls_temperature': 0.0}, 'parent_ids': ['fda32799-d750-43e9-b8eb-ddc3aa379043']}\n",
      "{'event': 'on_parser_stream', 'run_id': '5e416a05-a3c5-4dff-b418-45cbebc24974', 'name': 'StrOutputParser', 'tags': ['seq:step:4'], 'metadata': {}, 'data': {'chunk': '湧'}, 'parent_ids': ['fda32799-d750-43e9-b8eb-ddc3aa379043']}\n",
      "{'event': 'on_chain_stream', 'run_id': 'fda32799-d750-43e9-b8eb-ddc3aa379043', 'name': 'RunnableSequence', 'tags': [], 'metadata': {}, 'data': {'chunk': '湧'}, 'parent_ids': []}\n",
      "{'event': 'on_chat_model_stream', 'data': {'chunk': AIMessageChunk(content='き', additional_kwargs={}, response_metadata={}, id='run--3eafbea1-a9bb-462f-9d88-41fa817ccb63')}, 'run_id': '3eafbea1-a9bb-462f-9d88-41fa817ccb63', 'name': 'ChatOpenAI', 'tags': ['seq:step:3'], 'metadata': {'ls_provider': 'openai', 'ls_model_name': 'gpt-4o', 'ls_model_type': 'chat', 'ls_temperature': 0.0}, 'parent_ids': ['fda32799-d750-43e9-b8eb-ddc3aa379043']}\n",
      "{'event': 'on_parser_stream', 'run_id': '5e416a05-a3c5-4dff-b418-45cbebc24974', 'name': 'StrOutputParser', 'tags': ['seq:step:4'], 'metadata': {}, 'data': {'chunk': 'き'}, 'parent_ids': ['fda32799-d750-43e9-b8eb-ddc3aa379043']}\n",
      "{'event': 'on_chain_stream', 'run_id': 'fda32799-d750-43e9-b8eb-ddc3aa379043', 'name': 'RunnableSequence', 'tags': [], 'metadata': {}, 'data': {'chunk': 'き'}, 'parent_ids': []}\n",
      "{'event': 'on_chat_model_stream', 'data': {'chunk': AIMessageChunk(content='、', additional_kwargs={}, response_metadata={}, id='run--3eafbea1-a9bb-462f-9d88-41fa817ccb63')}, 'run_id': '3eafbea1-a9bb-462f-9d88-41fa817ccb63', 'name': 'ChatOpenAI', 'tags': ['seq:step:3'], 'metadata': {'ls_provider': 'openai', 'ls_model_name': 'gpt-4o', 'ls_model_type': 'chat', 'ls_temperature': 0.0}, 'parent_ids': ['fda32799-d750-43e9-b8eb-ddc3aa379043']}\n",
      "{'event': 'on_parser_stream', 'run_id': '5e416a05-a3c5-4dff-b418-45cbebc24974', 'name': 'StrOutputParser', 'tags': ['seq:step:4'], 'metadata': {}, 'data': {'chunk': '、'}, 'parent_ids': ['fda32799-d750-43e9-b8eb-ddc3aa379043']}\n",
      "{'event': 'on_chain_stream', 'run_id': 'fda32799-d750-43e9-b8eb-ddc3aa379043', 'name': 'RunnableSequence', 'tags': [], 'metadata': {}, 'data': {'chunk': '、'}, 'parent_ids': []}\n",
      "{'event': 'on_chat_model_stream', 'data': {'chunk': AIMessageChunk(content='夜', additional_kwargs={}, response_metadata={}, id='run--3eafbea1-a9bb-462f-9d88-41fa817ccb63')}, 'run_id': '3eafbea1-a9bb-462f-9d88-41fa817ccb63', 'name': 'ChatOpenAI', 'tags': ['seq:step:3'], 'metadata': {'ls_provider': 'openai', 'ls_model_name': 'gpt-4o', 'ls_model_type': 'chat', 'ls_temperature': 0.0}, 'parent_ids': ['fda32799-d750-43e9-b8eb-ddc3aa379043']}\n",
      "{'event': 'on_parser_stream', 'run_id': '5e416a05-a3c5-4dff-b418-45cbebc24974', 'name': 'StrOutputParser', 'tags': ['seq:step:4'], 'metadata': {}, 'data': {'chunk': '夜'}, 'parent_ids': ['fda32799-d750-43e9-b8eb-ddc3aa379043']}\n",
      "{'event': 'on_chain_stream', 'run_id': 'fda32799-d750-43e9-b8eb-ddc3aa379043', 'name': 'RunnableSequence', 'tags': [], 'metadata': {}, 'data': {'chunk': '夜'}, 'parent_ids': []}\n",
      "{'event': 'on_chat_model_stream', 'data': {'chunk': AIMessageChunk(content='には', additional_kwargs={}, response_metadata={}, id='run--3eafbea1-a9bb-462f-9d88-41fa817ccb63')}, 'run_id': '3eafbea1-a9bb-462f-9d88-41fa817ccb63', 'name': 'ChatOpenAI', 'tags': ['seq:step:3'], 'metadata': {'ls_provider': 'openai', 'ls_model_name': 'gpt-4o', 'ls_model_type': 'chat', 'ls_temperature': 0.0}, 'parent_ids': ['fda32799-d750-43e9-b8eb-ddc3aa379043']}\n",
      "{'event': 'on_parser_stream', 'run_id': '5e416a05-a3c5-4dff-b418-45cbebc24974', 'name': 'StrOutputParser', 'tags': ['seq:step:4'], 'metadata': {}, 'data': {'chunk': 'には'}, 'parent_ids': ['fda32799-d750-43e9-b8eb-ddc3aa379043']}\n",
      "{'event': 'on_chain_stream', 'run_id': 'fda32799-d750-43e9-b8eb-ddc3aa379043', 'name': 'RunnableSequence', 'tags': [], 'metadata': {}, 'data': {'chunk': 'には'}, 'parent_ids': []}\n",
      "{'event': 'on_chat_model_stream', 'data': {'chunk': AIMessageChunk(content='広', additional_kwargs={}, response_metadata={}, id='run--3eafbea1-a9bb-462f-9d88-41fa817ccb63')}, 'run_id': '3eafbea1-a9bb-462f-9d88-41fa817ccb63', 'name': 'ChatOpenAI', 'tags': ['seq:step:3'], 'metadata': {'ls_provider': 'openai', 'ls_model_name': 'gpt-4o', 'ls_model_type': 'chat', 'ls_temperature': 0.0}, 'parent_ids': ['fda32799-d750-43e9-b8eb-ddc3aa379043']}\n",
      "{'event': 'on_parser_stream', 'run_id': '5e416a05-a3c5-4dff-b418-45cbebc24974', 'name': 'StrOutputParser', 'tags': ['seq:step:4'], 'metadata': {}, 'data': {'chunk': '広'}, 'parent_ids': ['fda32799-d750-43e9-b8eb-ddc3aa379043']}\n",
      "{'event': 'on_chain_stream', 'run_id': 'fda32799-d750-43e9-b8eb-ddc3aa379043', 'name': 'RunnableSequence', 'tags': [], 'metadata': {}, 'data': {'chunk': '広'}, 'parent_ids': []}\n",
      "{'event': 'on_chat_model_stream', 'data': {'chunk': AIMessageChunk(content='く', additional_kwargs={}, response_metadata={}, id='run--3eafbea1-a9bb-462f-9d88-41fa817ccb63')}, 'run_id': '3eafbea1-a9bb-462f-9d88-41fa817ccb63', 'name': 'ChatOpenAI', 'tags': ['seq:step:3'], 'metadata': {'ls_provider': 'openai', 'ls_model_name': 'gpt-4o', 'ls_model_type': 'chat', 'ls_temperature': 0.0}, 'parent_ids': ['fda32799-d750-43e9-b8eb-ddc3aa379043']}\n",
      "{'event': 'on_parser_stream', 'run_id': '5e416a05-a3c5-4dff-b418-45cbebc24974', 'name': 'StrOutputParser', 'tags': ['seq:step:4'], 'metadata': {}, 'data': {'chunk': 'く'}, 'parent_ids': ['fda32799-d750-43e9-b8eb-ddc3aa379043']}\n",
      "{'event': 'on_chain_stream', 'run_id': 'fda32799-d750-43e9-b8eb-ddc3aa379043', 'name': 'RunnableSequence', 'tags': [], 'metadata': {}, 'data': {'chunk': 'く'}, 'parent_ids': []}\n",
      "{'event': 'on_chat_model_stream', 'data': {'chunk': AIMessageChunk(content='雨', additional_kwargs={}, response_metadata={}, id='run--3eafbea1-a9bb-462f-9d88-41fa817ccb63')}, 'run_id': '3eafbea1-a9bb-462f-9d88-41fa817ccb63', 'name': 'ChatOpenAI', 'tags': ['seq:step:3'], 'metadata': {'ls_provider': 'openai', 'ls_model_name': 'gpt-4o', 'ls_model_type': 'chat', 'ls_temperature': 0.0}, 'parent_ids': ['fda32799-d750-43e9-b8eb-ddc3aa379043']}\n",
      "{'event': 'on_parser_stream', 'run_id': '5e416a05-a3c5-4dff-b418-45cbebc24974', 'name': 'StrOutputParser', 'tags': ['seq:step:4'], 'metadata': {}, 'data': {'chunk': '雨'}, 'parent_ids': ['fda32799-d750-43e9-b8eb-ddc3aa379043']}\n",
      "{'event': 'on_chain_stream', 'run_id': 'fda32799-d750-43e9-b8eb-ddc3aa379043', 'name': 'RunnableSequence', 'tags': [], 'metadata': {}, 'data': {'chunk': '雨'}, 'parent_ids': []}\n",
      "{'event': 'on_chat_model_stream', 'data': {'chunk': AIMessageChunk(content='になる', additional_kwargs={}, response_metadata={}, id='run--3eafbea1-a9bb-462f-9d88-41fa817ccb63')}, 'run_id': '3eafbea1-a9bb-462f-9d88-41fa817ccb63', 'name': 'ChatOpenAI', 'tags': ['seq:step:3'], 'metadata': {'ls_provider': 'openai', 'ls_model_name': 'gpt-4o', 'ls_model_type': 'chat', 'ls_temperature': 0.0}, 'parent_ids': ['fda32799-d750-43e9-b8eb-ddc3aa379043']}\n",
      "{'event': 'on_parser_stream', 'run_id': '5e416a05-a3c5-4dff-b418-45cbebc24974', 'name': 'StrOutputParser', 'tags': ['seq:step:4'], 'metadata': {}, 'data': {'chunk': 'になる'}, 'parent_ids': ['fda32799-d750-43e9-b8eb-ddc3aa379043']}\n",
      "{'event': 'on_chain_stream', 'run_id': 'fda32799-d750-43e9-b8eb-ddc3aa379043', 'name': 'RunnableSequence', 'tags': [], 'metadata': {}, 'data': {'chunk': 'になる'}, 'parent_ids': []}\n",
      "{'event': 'on_chat_model_stream', 'data': {'chunk': AIMessageChunk(content='予', additional_kwargs={}, response_metadata={}, id='run--3eafbea1-a9bb-462f-9d88-41fa817ccb63')}, 'run_id': '3eafbea1-a9bb-462f-9d88-41fa817ccb63', 'name': 'ChatOpenAI', 'tags': ['seq:step:3'], 'metadata': {'ls_provider': 'openai', 'ls_model_name': 'gpt-4o', 'ls_model_type': 'chat', 'ls_temperature': 0.0}, 'parent_ids': ['fda32799-d750-43e9-b8eb-ddc3aa379043']}\n",
      "{'event': 'on_parser_stream', 'run_id': '5e416a05-a3c5-4dff-b418-45cbebc24974', 'name': 'StrOutputParser', 'tags': ['seq:step:4'], 'metadata': {}, 'data': {'chunk': '予'}, 'parent_ids': ['fda32799-d750-43e9-b8eb-ddc3aa379043']}\n",
      "{'event': 'on_chain_stream', 'run_id': 'fda32799-d750-43e9-b8eb-ddc3aa379043', 'name': 'RunnableSequence', 'tags': [], 'metadata': {}, 'data': {'chunk': '予'}, 'parent_ids': []}\n",
      "{'event': 'on_chat_model_stream', 'data': {'chunk': AIMessageChunk(content='報', additional_kwargs={}, response_metadata={}, id='run--3eafbea1-a9bb-462f-9d88-41fa817ccb63')}, 'run_id': '3eafbea1-a9bb-462f-9d88-41fa817ccb63', 'name': 'ChatOpenAI', 'tags': ['seq:step:3'], 'metadata': {'ls_provider': 'openai', 'ls_model_name': 'gpt-4o', 'ls_model_type': 'chat', 'ls_temperature': 0.0}, 'parent_ids': ['fda32799-d750-43e9-b8eb-ddc3aa379043']}\n",
      "{'event': 'on_parser_stream', 'run_id': '5e416a05-a3c5-4dff-b418-45cbebc24974', 'name': 'StrOutputParser', 'tags': ['seq:step:4'], 'metadata': {}, 'data': {'chunk': '報'}, 'parent_ids': ['fda32799-d750-43e9-b8eb-ddc3aa379043']}\n",
      "{'event': 'on_chain_stream', 'run_id': 'fda32799-d750-43e9-b8eb-ddc3aa379043', 'name': 'RunnableSequence', 'tags': [], 'metadata': {}, 'data': {'chunk': '報'}, 'parent_ids': []}\n",
      "{'event': 'on_chat_model_stream', 'data': {'chunk': AIMessageChunk(content='です', additional_kwargs={}, response_metadata={}, id='run--3eafbea1-a9bb-462f-9d88-41fa817ccb63')}, 'run_id': '3eafbea1-a9bb-462f-9d88-41fa817ccb63', 'name': 'ChatOpenAI', 'tags': ['seq:step:3'], 'metadata': {'ls_provider': 'openai', 'ls_model_name': 'gpt-4o', 'ls_model_type': 'chat', 'ls_temperature': 0.0}, 'parent_ids': ['fda32799-d750-43e9-b8eb-ddc3aa379043']}\n",
      "{'event': 'on_parser_stream', 'run_id': '5e416a05-a3c5-4dff-b418-45cbebc24974', 'name': 'StrOutputParser', 'tags': ['seq:step:4'], 'metadata': {}, 'data': {'chunk': 'です'}, 'parent_ids': ['fda32799-d750-43e9-b8eb-ddc3aa379043']}\n",
      "{'event': 'on_chain_stream', 'run_id': 'fda32799-d750-43e9-b8eb-ddc3aa379043', 'name': 'RunnableSequence', 'tags': [], 'metadata': {}, 'data': {'chunk': 'です'}, 'parent_ids': []}\n",
      "{'event': 'on_chat_model_stream', 'data': {'chunk': AIMessageChunk(content='。', additional_kwargs={}, response_metadata={}, id='run--3eafbea1-a9bb-462f-9d88-41fa817ccb63')}, 'run_id': '3eafbea1-a9bb-462f-9d88-41fa817ccb63', 'name': 'ChatOpenAI', 'tags': ['seq:step:3'], 'metadata': {'ls_provider': 'openai', 'ls_model_name': 'gpt-4o', 'ls_model_type': 'chat', 'ls_temperature': 0.0}, 'parent_ids': ['fda32799-d750-43e9-b8eb-ddc3aa379043']}\n",
      "{'event': 'on_parser_stream', 'run_id': '5e416a05-a3c5-4dff-b418-45cbebc24974', 'name': 'StrOutputParser', 'tags': ['seq:step:4'], 'metadata': {}, 'data': {'chunk': '。'}, 'parent_ids': ['fda32799-d750-43e9-b8eb-ddc3aa379043']}\n",
      "{'event': 'on_chain_stream', 'run_id': 'fda32799-d750-43e9-b8eb-ddc3aa379043', 'name': 'RunnableSequence', 'tags': [], 'metadata': {}, 'data': {'chunk': '。'}, 'parent_ids': []}\n",
      "{'event': 'on_chat_model_stream', 'data': {'chunk': AIMessageChunk(content='', additional_kwargs={}, response_metadata={'finish_reason': 'stop', 'model_name': 'gpt-4o-2024-08-06', 'system_fingerprint': 'fp_a288987b44'}, id='run--3eafbea1-a9bb-462f-9d88-41fa817ccb63')}, 'run_id': '3eafbea1-a9bb-462f-9d88-41fa817ccb63', 'name': 'ChatOpenAI', 'tags': ['seq:step:3'], 'metadata': {'ls_provider': 'openai', 'ls_model_name': 'gpt-4o', 'ls_model_type': 'chat', 'ls_temperature': 0.0}, 'parent_ids': ['fda32799-d750-43e9-b8eb-ddc3aa379043']}\n",
      "{'event': 'on_parser_stream', 'run_id': '5e416a05-a3c5-4dff-b418-45cbebc24974', 'name': 'StrOutputParser', 'tags': ['seq:step:4'], 'metadata': {}, 'data': {'chunk': ''}, 'parent_ids': ['fda32799-d750-43e9-b8eb-ddc3aa379043']}\n",
      "{'event': 'on_chain_stream', 'run_id': 'fda32799-d750-43e9-b8eb-ddc3aa379043', 'name': 'RunnableSequence', 'tags': [], 'metadata': {}, 'data': {'chunk': ''}, 'parent_ids': []}\n",
      "{'event': 'on_chat_model_end', 'data': {'output': AIMessageChunk(content='今日の東京の天気は「曇のち雨」です。昼頃から所々で雨雲が湧き、夜には広く雨になる予報です。', additional_kwargs={}, response_metadata={'finish_reason': 'stop', 'model_name': 'gpt-4o-2024-08-06', 'system_fingerprint': 'fp_a288987b44'}, id='run--3eafbea1-a9bb-462f-9d88-41fa817ccb63'), 'input': {'messages': [[HumanMessage(content='以下の文脈だけを踏まえて質問に回答してください。\\n                                          \\n文脈: \"\"\"\\n[Document(metadata={\\'title\\': \\'東京都の天気 - 日本気象協会 tenki.jp\\', \\'source\\': \\'https://tenki.jp/forecast/3/16/\\', \\'score\\': 0.7803451, \\'images\\': []}, page_content=\\'# tenki.jp 雨雲レーダー) 天気図 PM2.5分布予測 地震情報 日直予報士 熱中症情報 東京都の天気 ### 05月29日(木) 東京都の天気 曇のち雨 曇のち雨 曇のち雨 曇のち雨 曇のち雨 曇のち雨 曇のち雨 曇のち雨 晴時々曇 曇のち雨 曇のち雨 曇のち雨 曇のち雨 曇のち雨 最新の天気履歴 渋谷区 曇のち雨 豊島区 曇のち雨 江東区 曇のち雨 港区 曇のち雨 大田区 曇のち雨 府中市 曇のち雨 奥多摩町 曇のち雨 関東・甲信 ### 気象予報士のポイント解説(日直予報士) newマーク 関東甲信\\\\u3000今日29日は天気下り坂\\\\u3000昼頃から所々で雨雲が湧く\\\\u3000夜は広く雨に 関東甲信\\\\u3000今日29日は天気下り坂\\\\u3000昼頃から所々で雨雲が湧く\\\\u3000夜は広く雨に newマーク 今日29日は気圧が低下\\\\u3000沖縄や九州から近畿は影響度「大」の所も\\\\u3000頭痛など注意 今日29日は気圧が低下\\\\u3000沖縄や九州から近畿は影響度「大」の所も\\\\u3000頭痛など注意 今日29日\\\\u3000九州から関東は次第に雨\\\\u3000東北と北海道は晴れて気温上昇\\\\u3000真夏日も 今日29日\\\\u3000九州から関東は次第に雨\\\\u3000東北と北海道は晴れて気温上昇\\\\u3000真夏日も ### 東京都各地の天気 #### 東京23区 #### 多摩 #### 伊豆諸島北部(大島) #### 伊豆諸島南部(八丈島) #### 小笠原諸島(父島) ### おすすめ記事 LINEの友達追加 ### 天気ガイド 雨雲 ### 注目の情報 アプリに便利なサブスクプラン開始 「tenki.jpライト」なら現在地の雨雲接近通知が受け取れる！ 新サービス「気圧予報」 気圧変化を確認して、頭痛やめまい、倦怠感といった症状に備えましょう。 X（旧Twitter） tenki.jpの公式X（旧Twitter） 最新の気象・防災情報や、生活に役立つ情報を毎日リアルタイムに配信中！ 天気予報 観測 防災情報 天気図 指数情報 レジャー天気 季節特集 天気ニュース X(旧：Twitter) Youtube Facebook Instagram LINEの友達追加 tenki.jp tenki.jp tenki.jp 登山天気 tenki.jp 登山天気 全国のコンテンツ tenki.jpトップ 天気予報 観測 防災情報 天気図\\'), Document(metadata={\\'title\\': \\'東京（東京）の天気 - Yahoo!天気・災害 - Yahoo! JAPAN\\', \\'source\\': \\'https://weather.yahoo.co.jp/weather/jp/13/4410.html\\', \\'score\\': 0.7336813, \\'images\\': []}, page_content=\\'東京（東京）の天気 - Yahoo! - Yahoo! Yahoo! | 6月25日(水)  曇一時雨曇一時雨   - *29*℃[-1] - *25*℃[-1]  |  |  |  |  |  | | --- | --- | --- | --- | --- | | 時間 | 0-6 | 6-12 | 12-18 | 18-24 | | 降水 | --- | --- | --- | 50％ |   風：  南東の風後北東の風  波：  0.5メートル | 6月26日(木)  曇一時雨曇一時雨   - *31*℃[+2] - *25*℃[0]  |  |  |  |  |  | | --- | --- | --- | --- | --- | | 時間 | 0-6 | 6-12 | 12-18 | 18-24 | | 降水 | 70％ | 20％ | 20％ | 40％ |   風：  北の風後南の風２３区西部では南西の風やや強く  波：  0.5メートル後1.5メートル | - 6月25日(水) - 6月26日(木) (C) LY Corporation Yahoo! (C) LY Corporation Yahoo! cpt_n=safetymail&cpt_m=bnr&cpt_s=yahoo&cpt_c=weatherbnr) Yahoo!\\'), Document(metadata={\\'title\\': \\'東京の天気 - ウェザーニュース\\', \\'source\\': \\'https://weathernews.jp/onebox/tenki/tokyo/\\', \\'score\\': 0.69199765, \\'images\\': []}, page_content=\\'{{item.cityname}} {{item.high}} {{item.low}} è\\\\x87ªç\\\\x84¶ã\\\\x83»å\\\\xad£ç¯\\\\x80ã\\\\x83»ã\\\\x83¬ã\\\\x82¸ã\\\\x83£ã\\\\x83¼æ\\\\x83\\\\x85å ± æ¢\\\\x85é\\\\x9b¨æ\\\\x83\\\\x85å ± è\\\\x8a±ç²\\\\x89é£\\\\x9bæ\\\\x95£æ\\\\x83\\\\x85å ± å\\\\x9c°é\\\\x9c\\\\x87æ\\\\x83\\\\x85å ± å\\\\x8f°é¢¨æ\\\\x83\\\\x85å ± é\\\\x95·æ\\\\x9c\\\\x9fäº\\\\x88å ± å\\\\x8f°é¢¨æ\\\\x83\\\\x85å ± å\\\\x9c°é\\\\x9c\\\\x87æ\\\\x83\\\\x85å ± æ´¥æ³¢æ\\\\x83\\\\x85å ± ç\\\\x81«å±±æ\\\\x83\\\\x85å ± æ¸\\\\x9bç\\\\x81½æ\\\\x83\\\\x85å ± é\\\\x81¿é\\\\x9b£æ\\\\x83\\\\x85å ± ã\\\\x81\\\\x95ã\\\\x81\\\\x8fã\\\\x82\\\\x89é\\\\x96\\\\x8bè\\\\x8a±æ\\\\x83\\\\x85å ± ã\\\\x82¹ã\\\\x82\\\\xadã\\\\x83¼ï¼\\\\x86ã\\\\x82¹ã\\\\x83\\\\x8eã\\\\x83\\\\x9cæ\\\\x83\\\\x85å ± è\\\\x8a±ç\\\\x81«å¤©æ°\\\\x97 Ch. ã\\\\x81»ã\\\\x81\\\\x9fã\\\\x82\\\\x8bæ\\\\x83\\\\x85å ± ã\\\\x81\\\\x82ã\\\\x81\\\\x98ã\\\\x81\\\\x95ã\\\\x81\\\\x84æ\\\\x83\\\\x85å ± æ\\\\x98\\\\x9fç©ºæ\\\\x83\\\\x85å ± å\\\\x88\\\\x9dæ\\\\x97¥ã\\\\x81®å\\\\x87ºæ\\\\x83\\\\x85å ± å\\\\x88\\\\x9dè©£æ\\\\x83\\\\x85å ± ç´\\\\x85è\\\\x91\\\\x89æ\\\\x83\\\\x85å ± ã\\\\x82¤ã\\\\x83«ã\\\\x83\\\\x9fã\\\\x83\\\\x8dã\\\\x83¼ã\\\\x82·ã\\\\x83§ã\\\\x83³æ\\\\x83\\\\x85å ± è\\\\x8a±ç²\\\\x89é£\\\\x9bæ\\\\x95£æ\\\\x83\\\\x85å ± å¤©æ°\\\\x97ç\\\\x97\\\\x9bäº\\\\x88å ± ç\\\\x86±ä¸\\\\xadç\\\\x97\\\\x87äº\\\\x88å ± ç´«å¤\\\\x96ç·\\\\x9aäº\\\\x88å ± æ\\\\x9c\\\\x8dè£\\\\x85äº\\\\x88å ± ã\\\\x81\\\\x8aæ´\\\\x97æ¿¯æ\\\\x83\\\\x85å ± Labs Ch. # æ\\\\x9d±äº¬ã\\\\x81®å¤©æ°\\\\x97äº\\\\x88å ± ## {{pref\\\\\\\\_jp}}{{cityname}}ã\\\\x81®1æ\\\\x99\\\\x82é\\\\x96\\\\x93æ¯\\\\x8eã\\\\x81®å¤©æ°\\\\x97 {{daily.date}}æ\\\\x97¥{{daily.youbi\\\\\\\\_str}} {{hourly.time}} {{hourly.prec}} {{hourly.temp}} {{hourly.wndspd}} ## {{pref\\\\\\\\_jp}}{{cityname}}ã\\\\x81®é\\\\x80±é\\\\x96\\\\x93å¤©æ°\\\\x97äº\\\\x88å ±ï¼\\\\x8810æ\\\\x97¥é\\\\x96\\\\x93ï¼\\\\x89 {{item.date}}   {{item.youbi\\\\\\\\_str}} {{item.high}} {{item.low}} {{item.pop}} ## å¸\\\\x82å\\\\x8cºç\\\\x94ºæ\\\\x9d\\\\x91å\\\\x88¥ã\\\\x81®å¤©æ°\\\\x97äº\\\\x88å ± {{point.rank}} ({{point.pref}}) ({{point.dateRecord}}) ## å\\\\x90\\\\x84ã\\\\x82¨ã\\\\x83ªã\\\\x82¢ã\\\\x81®å¤©æ°\\\\x97äº\\\\x88å ± {{point.rank}} ({{point.pref}}) ({{point.dateRecord}}) ### è\\\\x87ªç\\\\x84¶ã\\\\x83»å\\\\xad£ç¯\\\\x80ã\\\\x83»ã\\\\x83¬ã\\\\x82¸ã\\\\x83£ã\\\\x83¼æ\\\\x83\\\\x85å ±\\')]\\n\"\"\"\\n                                          \\n質問: 東京の今日の天気は？\\n', additional_kwargs={}, response_metadata={})]]}}, 'run_id': '3eafbea1-a9bb-462f-9d88-41fa817ccb63', 'name': 'ChatOpenAI', 'tags': ['seq:step:3'], 'metadata': {'ls_provider': 'openai', 'ls_model_name': 'gpt-4o', 'ls_model_type': 'chat', 'ls_temperature': 0.0}, 'parent_ids': ['fda32799-d750-43e9-b8eb-ddc3aa379043']}\n",
      "{'event': 'on_parser_end', 'data': {'output': '今日の東京の天気は「曇のち雨」です。昼頃から所々で雨雲が湧き、夜には広く雨になる予報です。', 'input': AIMessageChunk(content='今日の東京の天気は「曇のち雨」です。昼頃から所々で雨雲が湧き、夜には広く雨になる予報です。', additional_kwargs={}, response_metadata={'finish_reason': 'stop', 'model_name': 'gpt-4o-2024-08-06', 'system_fingerprint': 'fp_a288987b44'}, id='run--3eafbea1-a9bb-462f-9d88-41fa817ccb63')}, 'run_id': '5e416a05-a3c5-4dff-b418-45cbebc24974', 'name': 'StrOutputParser', 'tags': ['seq:step:4'], 'metadata': {}, 'parent_ids': ['fda32799-d750-43e9-b8eb-ddc3aa379043']}\n",
      "{'event': 'on_chain_end', 'data': {'output': '今日の東京の天気は「曇のち雨」です。昼頃から所々で雨雲が湧き、夜には広く雨になる予報です。'}, 'run_id': 'fda32799-d750-43e9-b8eb-ddc3aa379043', 'name': 'RunnableSequence', 'tags': [], 'metadata': {}, 'parent_ids': []}\n"
     ]
    }
   ],
   "source": [
    "chain = (\n",
    "    {\"context\": retriever, \"question\": RunnablePassthrough()}\n",
    "    | prompt\n",
    "    | model\n",
    "    | StrOutputParser()\n",
    ")\n",
    "\n",
    "async for event in chain.astream_events(\"東京の今日の天気は？\", version=\"v2\"):\n",
    "    print(event, flush=True)"
   ]
  },
  {
   "cell_type": "code",
   "execution_count": 14,
   "id": "3e648275",
   "metadata": {},
   "outputs": [
    {
     "name": "stdout",
     "output_type": "stream",
     "text": [
      "==== Retrieve Results ===\n",
      "page_content='# tenki.jp 雨雲レーダー) 天気図 PM2.5分布予測 地震情報 日直予報士 熱中症情報 東京都の天気 ### 05月29日(木) 東京都の天気 曇のち雨 曇のち雨 曇のち雨 曇のち雨 曇のち雨 曇のち雨 曇のち雨 曇のち雨 晴時々曇 曇のち雨 曇のち雨 曇のち雨 曇のち雨 曇のち雨 最新の天気履歴 渋谷区 曇のち雨 豊島区 曇のち雨 江東区 曇のち雨 港区 曇のち雨 大田区 曇のち雨 府中市 曇のち雨 奥多摩町 曇のち雨 関東・甲信 ### 気象予報士のポイント解説(日直予報士) newマーク 関東甲信　今日29日は天気下り坂　昼頃から所々で雨雲が湧く　夜は広く雨に 関東甲信　今日29日は天気下り坂　昼頃から所々で雨雲が湧く　夜は広く雨に newマーク 今日29日は気圧が低下　沖縄や九州から近畿は影響度「大」の所も　頭痛など注意 今日29日は気圧が低下　沖縄や九州から近畿は影響度「大」の所も　頭痛など注意 今日29日　九州から関東は次第に雨　東北と北海道は晴れて気温上昇　真夏日も 今日29日　九州から関東は次第に雨　東北と北海道は晴れて気温上昇　真夏日も ### 東京都各地の天気 #### 東京23区 #### 多摩 #### 伊豆諸島北部(大島) #### 伊豆諸島南部(八丈島) #### 小笠原諸島(父島) ### おすすめ記事 LINEの友達追加 ### 天気ガイド 雨雲 ### 注目の情報 アプリに便利なサブスクプラン開始 「tenki.jpライト」なら現在地の雨雲接近通知が受け取れる！ 新サービス「気圧予報」 気圧変化を確認して、頭痛やめまい、倦怠感といった症状に備えましょう。 X（旧Twitter） tenki.jpの公式X（旧Twitter） 最新の気象・防災情報や、生活に役立つ情報を毎日リアルタイムに配信中！ 天気予報 観測 防災情報 天気図 指数情報 レジャー天気 季節特集 天気ニュース X(旧：Twitter) Youtube Facebook Instagram LINEの友達追加 tenki.jp tenki.jp tenki.jp 登山天気 tenki.jp 登山天気 全国のコンテンツ tenki.jpトップ 天気予報 観測 防災情報 天気図' metadata={'title': '東京都の天気 - 日本気象協会 tenki.jp', 'source': 'https://tenki.jp/forecast/3/16/', 'score': 0.7803451, 'images': []}\n",
      "page_content='東京（東京）の天気 - Yahoo! - Yahoo! Yahoo! | 6月25日(水)  曇一時雨曇一時雨   - *29*℃[-1] - *25*℃[-1]  |  |  |  |  |  | | --- | --- | --- | --- | --- | | 時間 | 0-6 | 6-12 | 12-18 | 18-24 | | 降水 | --- | --- | --- | 50％ |   風：  南東の風後北東の風  波：  0.5メートル | 6月26日(木)  曇一時雨曇一時雨   - *31*℃[+2] - *25*℃[0]  |  |  |  |  |  | | --- | --- | --- | --- | --- | | 時間 | 0-6 | 6-12 | 12-18 | 18-24 | | 降水 | 70％ | 20％ | 20％ | 40％ |   風：  北の風後南の風２３区西部では南西の風やや強く  波：  0.5メートル後1.5メートル | - 6月25日(水) - 6月26日(木) (C) LY Corporation Yahoo! (C) LY Corporation Yahoo! cpt_n=safetymail&cpt_m=bnr&cpt_s=yahoo&cpt_c=weatherbnr) Yahoo!' metadata={'title': '東京（東京）の天気 - Yahoo!天気・災害 - Yahoo! JAPAN', 'source': 'https://weather.yahoo.co.jp/weather/jp/13/4410.html', 'score': 0.7336813, 'images': []}\n",
      "page_content='{{item.cityname}} {{item.high}} {{item.low}} èªç¶ã»å­£ç¯ã»ã¬ã¸ã£ã¼æå ± æ¢é¨æå ± è±ç²é£æ£æå ± å°éæå ± å°é¢¨æå ± é·æäºå ± å°é¢¨æå ± å°éæå ± æ´¥æ³¢æå ± ç«å±±æå ± æ¸ç½æå ± é¿é£æå ± ãããéè±æå ± ã¹ã­ã¼ï¼ã¹ããæå ± è±ç«å¤©æ° Ch. ã»ããæå ± ããããæå ± æç©ºæå ± åæ¥ã®åºæå ± åè©£æå ± ç´èæå ± ã¤ã«ããã¼ã·ã§ã³æå ± è±ç²é£æ£æå ± å¤©æ°çäºå ± ç±ä¸­çäºå ± ç´«å¤ç·äºå ± æè£äºå ± ãæ´æ¿¯æå ± Labs Ch. # æ±äº¬ã®å¤©æ°äºå ± ## {{pref\\_jp}}{{cityname}}ã®1æéæ¯ã®å¤©æ° {{daily.date}}æ¥{{daily.youbi\\_str}} {{hourly.time}} {{hourly.prec}} {{hourly.temp}} {{hourly.wndspd}} ## {{pref\\_jp}}{{cityname}}ã®é±éå¤©æ°äºå ±ï¼10æ¥éï¼ {{item.date}}   {{item.youbi\\_str}} {{item.high}} {{item.low}} {{item.pop}} ## å¸åºçºæå¥ã®å¤©æ°äºå ± {{point.rank}} ({{point.pref}}) ({{point.dateRecord}}) ## åã¨ãªã¢ã®å¤©æ°äºå ± {{point.rank}} ({{point.pref}}) ({{point.dateRecord}}) ### èªç¶ã»å­£ç¯ã»ã¬ã¸ã£ã¼æå ±' metadata={'title': '東京の天気 - ウェザーニュース', 'source': 'https://weathernews.jp/onebox/tenki/tokyo/', 'score': 0.69199765, 'images': []}\n",
      "=== Final Output ===\n",
      "今日の東京の天気は「曇のち雨」です。昼頃から所々で雨雲が湧き、夜には広く雨になる予報です。"
     ]
    }
   ],
   "source": [
    "async for event in chain.astream_events(\"東京の今日の天気は？\", version=\"v2\"):\n",
    "    event_kind = event[\"event\"]\n",
    "\n",
    "    if event_kind == \"on_retriever_end\":\n",
    "        print(\"==== Retrieve Results ===\")\n",
    "        documents = event[\"data\"][\"output\"]\n",
    "        for document in documents:\n",
    "            print(document)\n",
    "    \n",
    "    elif event_kind == \"on_parser_start\":\n",
    "        print(\"=== Final Output ===\")\n",
    "    \n",
    "    elif event_kind == \"on_parser_stream\":\n",
    "        chunk = event[\"data\"][\"chunk\"]\n",
    "        print(chunk, end=\"\", flush=True)"
   ]
  },
  {
   "cell_type": "markdown",
   "id": "003ada65",
   "metadata": {},
   "source": [
    "## 5.5 Chat History"
   ]
  }
 ],
 "metadata": {
  "kernelspec": {
   "display_name": "ai-agent-py310",
   "language": "python",
   "name": "python3"
  },
  "language_info": {
   "codemirror_mode": {
    "name": "ipython",
    "version": 3
   },
   "file_extension": ".py",
   "mimetype": "text/x-python",
   "name": "python",
   "nbconvert_exporter": "python",
   "pygments_lexer": "ipython3",
   "version": "3.10.18"
  }
 },
 "nbformat": 4,
 "nbformat_minor": 5
}
