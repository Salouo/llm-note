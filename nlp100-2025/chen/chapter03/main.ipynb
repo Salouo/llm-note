{
 "cells": [
  {
   "cell_type": "markdown",
   "id": "9ca16956",
   "metadata": {},
   "source": [
    "# 第3章: 正規表現"
   ]
  },
  {
   "cell_type": "markdown",
   "id": "77e70bf4",
   "metadata": {},
   "source": [
    "## 20. JSONデータの読み込み\n",
    "Wikipedia記事のJSONファイルを読み込み、「イギリス」に関する記事本文を表示せよ。問題21-29では、ここで抽出した記事本文に対して実行せよ。"
   ]
  },
  {
   "cell_type": "code",
   "execution_count": 1,
   "id": "c3cdb57d",
   "metadata": {},
   "outputs": [],
   "source": [
    "import json\n",
    "\n",
    "\n",
    "target_title = \"イギリス\"\n",
    "article_text = \"\"\n",
    "\n",
    "with open(\"jawiki-country.json\", 'r') as f:\n",
    "    for line in f:\n",
    "        article = json.loads(line)\n",
    "        if article.get(\"title\") == target_title:\n",
    "            article_text = article.get(\"text\")\n",
    "            break\n",
    "\n",
    "# print(article_text)\n"
   ]
  },
  {
   "cell_type": "markdown",
   "id": "9f13e77c",
   "metadata": {},
   "source": [
    "## 21. カテゴリ名を含む行を抽出\n",
    "記事中でカテゴリ名を宣言している行を抽出せよ。"
   ]
  },
  {
   "cell_type": "code",
   "execution_count": 14,
   "id": "5b44dba5",
   "metadata": {},
   "outputs": [
    {
     "name": "stdout",
     "output_type": "stream",
     "text": [
      "[[Category:イギリス|*]]\n",
      "[[Category:イギリス連邦加盟国]]\n",
      "[[Category:英連邦王国|*]]\n",
      "[[Category:G8加盟国]]\n",
      "[[Category:欧州連合加盟国|元]]\n",
      "[[Category:海洋国家]]\n",
      "[[Category:現存する君主国]]\n",
      "[[Category:島国]]\n",
      "[[Category:1801年に成立した国家・領域]]\n"
     ]
    }
   ],
   "source": [
    "category_lines = []\n",
    "\n",
    "for line in article_text.split('\\n'):\n",
    "    if \"[[Category:\" in line:\n",
    "        category_lines.append(line)\n",
    "\n",
    "print('\\n'.join(category_lines))"
   ]
  },
  {
   "cell_type": "markdown",
   "id": "cfe1947b",
   "metadata": {},
   "source": [
    "## 22. カテゴリ名の抽出\n",
    "記事のカテゴリ名を（行単位ではなく名前で）抽出せよ。"
   ]
  },
  {
   "cell_type": "code",
   "execution_count": 15,
   "id": "6af073f6",
   "metadata": {},
   "outputs": [
    {
     "name": "stdout",
     "output_type": "stream",
     "text": [
      "イギリス\n",
      "イギリス連邦加盟国\n",
      "英連邦王国\n",
      "G8加盟国\n",
      "欧州連合加盟国\n",
      "海洋国家\n",
      "現存する君主国\n",
      "島国\n",
      "1801年に成立した国家・領域\n"
     ]
    }
   ],
   "source": [
    "import re\n",
    "\n",
    "\n",
    "p = re.compile(r'Category:([^|*\\]]+)')\n",
    "category_names = p.findall(''.join(category_lines))\n",
    "print('\\n'.join(category_names))"
   ]
  },
  {
   "cell_type": "markdown",
   "id": "2faf5770",
   "metadata": {},
   "source": [
    "## 23. セクション構造\n",
    "記事中に含まれるセクション名とそのレベル（例えば”== セクション名 ==”なら1）を表示せよ。"
   ]
  },
  {
   "cell_type": "code",
   "execution_count": 4,
   "id": "1de27410",
   "metadata": {},
   "outputs": [
    {
     "name": "stdout",
     "output_type": "stream",
     "text": [
      "level: 1 国名\n",
      "level: 1 歴史\n",
      "level: 1 地理\n",
      "level: 2 主要都市\n",
      "level: 2 気候\n"
     ]
    }
   ],
   "source": [
    "import re\n",
    "\n",
    "\n",
    "p = re.compile(r'^(=+)\\s*(.*?)\\s*\\1', re.M)\n",
    "level_and_section = p.findall(article_text)\n",
    "\n",
    "for level, section_name in level_and_section[:5]:\n",
    "    print(f\"level: {len(level) - 1} {section_name}\")"
   ]
  },
  {
   "cell_type": "markdown",
   "id": "75b64405",
   "metadata": {},
   "source": [
    "## 24. ファイル参照の抽出\n",
    "記事から参照されているメディアファイルをすべて抜き出せ。"
   ]
  },
  {
   "cell_type": "code",
   "execution_count": 13,
   "id": "5ed2afc4",
   "metadata": {},
   "outputs": [
    {
     "name": "stdout",
     "output_type": "stream",
     "text": [
      "Royal Coat of Arms of the United Kingdom.svg\n",
      "United States Navy Band - God Save the Queen.ogg\n",
      "Descriptio Prime Tabulae Europae.jpg\n"
     ]
    }
   ],
   "source": [
    "import re\n",
    "\n",
    "\n",
    "p = re.compile(r'\\[\\[(?:ファイル|File):\\s*(.+?\\.(?:jpg|jpeg|png|svg|gif|bmp|tiff|ogg))', re.IGNORECASE)\n",
    "print('\\n'.join(p.findall(article_text)[:3]))"
   ]
  },
  {
   "cell_type": "markdown",
   "id": "a6d5968c",
   "metadata": {},
   "source": [
    "## 25. テンプレートの抽出\n",
    "記事中に含まれる「基礎情報」テンプレートのフィールド名と値を抽出し、辞書オブジェクトとして格納せよ。"
   ]
  },
  {
   "cell_type": "code",
   "execution_count": 6,
   "id": "7b4a6804",
   "metadata": {},
   "outputs": [
    {
     "name": "stdout",
     "output_type": "stream",
     "text": [
      "略名, イギリス\n",
      "日本語国名, グレートブリテン及び北アイルランド連合王国\n",
      "公式国名, {{lang|en|United Kingdom of Great Britain and Northern Ireland}}<ref>英語以外での正式国名:<br />\n"
     ]
    }
   ],
   "source": [
    "import re\n",
    "\n",
    "\n",
    "# Firstly, obtain 「基礎情報」template.\n",
    "template_p = re.compile(r'\\{\\{基礎情報.*\\n\\}\\}', re.DOTALL)   # re.DOTALL -> see all the text as only one line\n",
    "template_text = template_p.findall(article_text)[0]\n",
    "# print(template_text)\n",
    "\n",
    "# Secondly, extract what we need.\n",
    "p = re.compile(r'\\|(.*?)\\s*?=\\s*(.*)')\n",
    "tuples = p.findall(template_text)\n",
    "# print(tuples)\n",
    "\n",
    "template_dict = {}\n",
    "\n",
    "for key, value in tuples:\n",
    "    template_dict[key] = value\n",
    "\n",
    "\n",
    "i = 0\n",
    "for k, v in template_dict.items():\n",
    "    if i < 3:\n",
    "        print(f\"{k}, {v}\")\n",
    "    i += 1\n",
    "\n"
   ]
  },
  {
   "cell_type": "markdown",
   "id": "5d710ddb",
   "metadata": {},
   "source": [
    "## 26. 強調マークアップの除去\n",
    "25の処理時に、テンプレートの値からMediaWikiの強調マークアップ（弱い強調、強調、強い強調のすべて）を除去してテキストに変換せよ（参考: マークアップ早見表）。"
   ]
  },
  {
   "cell_type": "code",
   "execution_count": 7,
   "id": "3926d1a8",
   "metadata": {},
   "outputs": [
    {
     "name": "stdout",
     "output_type": "stream",
     "text": [
      "略名, イギリス\n",
      "日本語国名, グレートブリテン及び北アイルランド連合王国\n",
      "公式国名, {{lang|en|United Kingdom of Great Britain and Northern Ireland}}<ref>英語以外での正式国名:<br />\n"
     ]
    }
   ],
   "source": [
    "import re\n",
    "\n",
    "\n",
    "template_dict_without_emphasis = {}\n",
    "\n",
    "for key, value in template_dict.items():\n",
    "    new_key = key.strip()\n",
    "    new_value = re.sub(r'\\'{2,5}', '', value).strip()\n",
    "    template_dict_without_emphasis[new_key] = new_value\n",
    "\n",
    "i = 0\n",
    "for k, v in template_dict_without_emphasis.items():\n",
    "    if i < 3:\n",
    "        print(f\"{k}, {v}\")\n",
    "    i += 1\n"
   ]
  },
  {
   "cell_type": "markdown",
   "id": "b1721c16",
   "metadata": {},
   "source": [
    "## 27. 内部リンクの除去\n",
    "26の処理に加えて、テンプレートの値からMediaWikiの内部リンクマークアップを除去し、テキストに変換せよ（参考: マークアップ早見表）。"
   ]
  },
  {
   "cell_type": "code",
   "execution_count": null,
   "id": "d430cac4",
   "metadata": {},
   "outputs": [
    {
     "name": "stdout",
     "output_type": "stream",
     "text": [
      "略名, イギリス\n",
      "日本語国名, グレートブリテン及び北アイルランド連合王国\n",
      "公式国名, {{lang|en|United Kingdom of Great Britain and Northern Ireland}}<ref>英語以外での正式国名:<br />\n"
     ]
    }
   ],
   "source": [
    "import re\n",
    "\n",
    "\n",
    "template_dict_without_emphasis_and_links = {}\n",
    "\n",
    "for key, value in template_dict_without_emphasis.items():\n",
    "    new_value = re.sub(r'\\[\\[([^|\\]]*\\|)?(.*?)\\]\\]', r'\\2', value)\n",
    "    template_dict_without_emphasis_and_links[key] = new_value\n",
    "\n",
    "i = 0\n",
    "for k, v in template_dict_without_emphasis_and_links.items():\n",
    "    if i < 3:\n",
    "        print(f\"{k}, {v}\")\n",
    "    i += 1"
   ]
  },
  {
   "cell_type": "markdown",
   "id": "043bf6e3",
   "metadata": {},
   "source": [
    "## 28. MediaWikiマークアップの除去\n",
    "27の処理に加えて、テンプレートの値からMediaWikiマークアップを可能な限り除去し、国の基本情報を整形せよ。"
   ]
  },
  {
   "cell_type": "code",
   "execution_count": 12,
   "id": "81cb8bc4",
   "metadata": {},
   "outputs": [
    {
     "name": "stdout",
     "output_type": "stream",
     "text": [
      "略名, イギリス\n",
      "日本語国名, グレートブリテン及び北アイルランド連合王国\n",
      "公式国名, 英語以外での正式国名:\n"
     ]
    }
   ],
   "source": [
    "import re\n",
    "\n",
    "\n",
    "def clean_mediawiki_markup(text):\n",
    "    text = re.sub(r'(<br />)*', '', text)  # Clean <br /> markup\n",
    "    text = re.sub(r'(<ref.*?>.*?</ref>|<ref>|<ref.*?\\/>)', '', text)  # Clean <ref>...</ref> or <ref...> markup\n",
    "    text = re.sub(r'\\{\\{.*?\\}\\}', '', text)  # Clean {{...}} markup\n",
    "    return text\n",
    "\n",
    "clean_template_dict = {}\n",
    "\n",
    "\n",
    "for key, value in template_dict_without_emphasis_and_links.items():\n",
    "    new_value = clean_mediawiki_markup(value)\n",
    "    clean_template_dict[key] = new_value\n",
    "\n",
    "i = 0\n",
    "for k, v in clean_template_dict.items():\n",
    "    if i < 3:\n",
    "        print(f\"{k}, {v}\")\n",
    "    i += 1"
   ]
  },
  {
   "cell_type": "markdown",
   "id": "9166d09c",
   "metadata": {},
   "source": [
    "## 29. 国旗画像のURLを取得する\n",
    "テンプレートの内容を利用し、国旗画像のURLを取得せよ。（ヒント: MediaWiki APIのimageinfoを呼び出して、ファイル参照をURLに変換すればよい）"
   ]
  },
  {
   "cell_type": "code",
   "execution_count": 56,
   "id": "c3e3e9ad",
   "metadata": {},
   "outputs": [
    {
     "name": "stdout",
     "output_type": "stream",
     "text": [
      "国旗画像URL: https://upload.wikimedia.org/wikipedia/commons/8/83/Flag_of_the_United_Kingdom_%283-5%29.svg\n"
     ]
    },
    {
     "data": {
      "text/html": [
       "<img src=\"https://upload.wikimedia.org/wikipedia/commons/8/83/Flag_of_the_United_Kingdom_%283-5%29.svg\"/>"
      ],
      "text/plain": [
       "<IPython.core.display.Image object>"
      ]
     },
     "execution_count": 56,
     "metadata": {},
     "output_type": "execute_result"
    }
   ],
   "source": [
    "import requests\n",
    "from IPython.display import Image\n",
    "\n",
    "\n",
    "# Obtain the file name.\n",
    "filename = template_dict[\"国旗画像\"]  # \"Flag of the United Kingdom.svg\"\n",
    "title = f\"File:{filename}\"\n",
    "\n",
    "params = {\n",
    "    \"action\": \"query\",\n",
    "    \"titles\": title,\n",
    "    \"prop\": \"imageinfo\",\n",
    "    \"iiprop\": \"url\",\n",
    "    \"format\": \"json\"\n",
    "}\n",
    "\n",
    "url = \"https://ja.wikipedia.org/w/api.php\"\n",
    "response = requests.get(url, params=params)\n",
    "data = response.json()\n",
    "\n",
    "pages = data['query']['pages']\n",
    "for page in pages.values():\n",
    "    image_url = page['imageinfo'][0]['url']\n",
    "    print(\"国旗画像URL:\", image_url)\n",
    "\n",
    "Image(url=image_url)"
   ]
  }
 ],
 "metadata": {
  "kernelspec": {
   "display_name": "base",
   "language": "python",
   "name": "python3"
  },
  "language_info": {
   "codemirror_mode": {
    "name": "ipython",
    "version": 3
   },
   "file_extension": ".py",
   "mimetype": "text/x-python",
   "name": "python",
   "nbconvert_exporter": "python",
   "pygments_lexer": "ipython3",
   "version": "3.12.4"
  }
 },
 "nbformat": 4,
 "nbformat_minor": 5
}
