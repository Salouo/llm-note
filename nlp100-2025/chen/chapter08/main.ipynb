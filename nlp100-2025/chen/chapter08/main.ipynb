{
 "cells": [
  {
   "cell_type": "markdown",
   "metadata": {},
   "source": [
    "# 第8章: ニューラルネット\n",
    "第7章で取り組んだポジネガ分類を題材として、ニューラルネットワークで分類モデルを実装する。なお、この章ではPyTorchやTensorFlow、JAXなどの深層学習フレームワークを活用せよ。"
   ]
  },
  {
   "cell_type": "markdown",
   "metadata": {},
   "source": [
    "## 70. 単語埋め込みの読み込み\n",
    "\n",
    "事前学習済み単語埋め込みを活用し、$|V| \\times d_{\\mathrm{emb}}$ の単語埋め込み行列$\\mathbf{E}$を作成せよ。ここで、$|V|$は単語埋め込みの語彙数、$d_{\\mathrm{emb}}$は単語埋め込みの次元数である。ただし、単語埋め込み行列の先頭の行ベクトル$\\mathbf{E}_{0,:}$は、将来的にパディング（`<PAD>`）トークンの埋め込みベクトルとして用いたいので、ゼロベクトルとして予約せよ。ゆえに、$\\mathbf{E}$の2行目以降に事前学習済み単語埋め込みを読み込むことになる。\n",
    "\n",
    "もし、Google Newsデータセットの[学習済み単語ベクトル](https://drive.google.com/file/d/0B7XkCwpI5KDYNlNUTTlSS21pQmM/edit?usp=sharing)（300万単語・フレーズ、300次元）を全て読み込んだ場合、$|V|=3000001, d_{\\mathrm{emb}}=300$になるはずである（ただ、300万単語の中には、殆ど用いられない稀な単語も含まれるので、語彙を削減した方がメモリの節約になる）。\n",
    "\n",
    "また、単語埋め込み行列の構築と同時に、単語埋め込み行列の各行のインデックス番号（トークンID）と、単語（トークン）への双方向の対応付けを保持せよ。\n"
   ]
  },
  {
   "cell_type": "code",
   "execution_count": 135,
   "metadata": {},
   "outputs": [
    {
     "name": "stdout",
     "output_type": "stream",
     "text": [
      "Shape of the embedding matrix: torch.Size([3000001, 300])\n",
      "token2id [('<PAD>', 0), ('</s>', 1), ('in', 2), ('for', 3), ('that', 4)]:\n",
      "id2token: [(0, '<PAD>'), (1, '</s>'), (2, 'in'), (3, 'for'), (4, 'that')]\n"
     ]
    }
   ],
   "source": [
    "import torch\n",
    "import numpy as np\n",
    "from gensim.models import KeyedVectors\n",
    "\n",
    "# Load Word2Vec model\n",
    "path = 'GoogleNews-vectors-negative300.bin'\n",
    "w2v = KeyedVectors.load_word2vec_format(path, binary=True)\n",
    "\n",
    "emb_dim = w2v.vector_size   # Set embedding size: 300\n",
    "vocab_size = len(w2v.key_to_index) + 1  # Add `<PAD>`\n",
    "\n",
    "# Initialize the embedding matrix\n",
    "E = np.zeros((vocab_size, emb_dim), dtype=np.float32)\n",
    "token2id = {'<PAD>': 0}\n",
    "id2token = {0: '<PAD>'}\n",
    "\n",
    "# Fulfill the embedding matrix\n",
    "for word, idx in w2v.key_to_index.items():\n",
    "    token_id = idx + 1\n",
    "    E[token_id] = w2v[word]     # Match the `token_id` and the corresponding word vector\n",
    "    token2id[word] = token_id\n",
    "    id2token[token_id] = word\n",
    "\n",
    "# Convert embedding matrix to tensor\n",
    "E_tensor = torch.Tensor(E)\n",
    "\n",
    "# Verify\n",
    "print(f\"Shape of the embedding matrix: {E_tensor.size()}\")       # (3000001, 300)\n",
    "print(f\"token2id {list(token2id.items())[:5]}:\")\n",
    "print(f\"id2token: {list(id2token.items())[:5]}\")"
   ]
  },
  {
   "cell_type": "markdown",
   "metadata": {},
   "source": [
    "## 71. データセットの読み込み\n",
    "General Language Understanding Evaluation (GLUE) ベンチマークで配布されているStanford Sentiment Treebank (SST) をダウンロードし、訓練セット（train.tsv）と開発セット（dev.tsv）のテキストと極性ラベルと読み込み、全てのテキストをトークンID列に変換せよ。このとき、単語埋め込みの語彙でカバーされていない単語は無視し、トークン列に含めないことにせよ。また、テキストの全トークンが単語埋め込みの語彙に含まれておらず、空のトークン列となってしまう事例は、訓練セットおよび開発セットから削除せよ（このため、第7章の実験で得られた正解率と比較できなくなることに注意せよ）。\n",
    "\n",
    "事例の表現方法は任意でよいが、例えば”contains no wit , only labored gags”がネガティブに分類される事例は、次のような辞書オブジェクトで表現すればよい。\n",
    "\n",
    "<div style=\"border:1px solid #ccc; padding:10px; background-color:#f9f9f9; font-family:monospace;\">\n",
    "{'text': 'contains no wit , only labored gags',\n",
    " 'label': tensor([0.]),\n",
    " 'input_ids': tensor([ 3475,    87, 15888,    90, 27695, 42637])}\n",
    "</div>\n",
    "\n",
    "この例では、`text`はテキスト、`label`は分類ラベル（ポジティブなら`tensor([1.])`、ネガティブなら`tensor([0.])`）、`input_ids`はテキストのトークン列をID列で表現している。"
   ]
  },
  {
   "cell_type": "code",
   "execution_count": 128,
   "metadata": {},
   "outputs": [
    {
     "name": "stdout",
     "output_type": "stream",
     "text": [
      "Number of training data: 66650\n",
      "Number of validation data: 872\n",
      "('text', 'hide new secretions from the parental units ')\n",
      "('label', tensor([0.]))\n",
      "('input_ids', tensor([  5785,     66, 113845,     18,     12,  15095,   1594]))\n"
     ]
    }
   ],
   "source": [
    "import pandas as pd\n",
    "import torch\n",
    "\n",
    "def encode_sst(path_tsv: str, token2id: dict):\n",
    "    df = pd.read_csv(path_tsv, sep='\\t', usecols=['sentence', 'label'])\n",
    "    examples = []\n",
    "    # Iterate over each row\n",
    "    for _, row in df.iterrows():\n",
    "        text = row['sentence']\n",
    "        label = torch.tensor([int(row['label'])], dtype=torch.float32)\n",
    "        # Tokenize\n",
    "        words = text.strip().split()\n",
    "        ids = torch.tensor([token2id[word] for word in words if word in token2id], dtype=torch.long)\n",
    "        # If the exmaple is empty, skip it\n",
    "        if len(ids) == 0:\n",
    "            continue\n",
    "        examples.append({\n",
    "            'text': text,\n",
    "            'label': label,\n",
    "            'input_ids': ids\n",
    "        })\n",
    "    return examples\n",
    "\n",
    "train_data = encode_sst('train.tsv', token2id)\n",
    "valid_data = encode_sst('dev.tsv', token2id)\n",
    "\n",
    "print(f\"Number of training data: {len(train_data)}\")\n",
    "print(f\"Number of validation data: {len(valid_data)}\")\n",
    "for e in train_data[0].items():\n",
    "    print(e)\n"
   ]
  },
  {
   "cell_type": "markdown",
   "metadata": {},
   "source": [
    "## 72. Bag of wordsモデルの構築\n",
    "単語埋め込みの平均ベクトルでテキストの特徴ベクトルを表現し、重みベクトルとの内積でポジティブ及びネガティブを分類するニューラルネットワーク（ロジスティック回帰モデル）を設計せよ。"
   ]
  },
  {
   "cell_type": "code",
   "execution_count": 129,
   "metadata": {},
   "outputs": [],
   "source": [
    "import torch\n",
    "import torch.nn as nn\n",
    "import torch.nn.functional as F\n",
    "\n",
    "class BoWClassifier(nn.Module):\n",
    "    def __init__(self, embed_matrix: torch.Tensor):\n",
    "        '''\n",
    "        embed_matrix: torch.Tensor of shape (3000001, 300)\n",
    "        '''\n",
    "        super().__init__()\n",
    "        # Obtain the embedding dimension: 300\n",
    "        dim_emb = embed_matrix.size()[1]\n",
    "        # Load the pretrained embedding layer and freeze it\n",
    "        self.embedding = nn.Embedding.from_pretrained(embed_matrix, freeze=True, padding_idx=0)\n",
    "        # Output a logits\n",
    "        self.fc = nn.Linear(dim_emb, 1)\n",
    "    \n",
    "    def forward(self, input_ids: torch.Tensor):\n",
    "        '''\n",
    "        input_ids: torch.Tensor of shape (batch_size, seq_len)\n",
    "        '''\n",
    "        # Obtain the embedding representation\n",
    "        emb = self.embedding(input_ids)    # shape: (batch_size, seq_len, dim_emb)\n",
    "\n",
    "        # Assign zero vector to the word vector of `<PAD>`\n",
    "        mask = (input_ids != 0).unsqueeze(-1)   # shape: (batch_size, seq_len, 1)\n",
    "        emb = emb * mask    # shape: (batch_size, seq_len, dim_emb)\n",
    "\n",
    "        # Obtain average embedding representation\n",
    "        sum_emb = emb.sum(dim=1)    # shape: (batch_size, dim_emb)\n",
    "        lengths = mask.sum(dim=1).clamp(min=1)  # Obtain the length of each sentence, excluding `<PAD>`\n",
    "        avg_emb = sum_emb / lengths   # shape: (batch_size, dim_emb)\n",
    "\n",
    "        # Obtain the output (logits)\n",
    "        logits = self.fc(avg_emb)    # shape: (batch_size, 1)\n",
    "        return logits"
   ]
  },
  {
   "cell_type": "markdown",
   "metadata": {},
   "source": [
    "## 73. モデルの学習\n",
    "問題72で設計したモデルの重みベクトルを訓練セット上で学習せよ。ただし、学習中は単語埋め込み行列の値を固定せよ（単語埋め込み行列のファインチューニングは行わない）。また、学習時に損失値を表示するなど、学習の進捗状況をモニタリングできるようにせよ。"
   ]
  },
  {
   "cell_type": "code",
   "execution_count": 103,
   "metadata": {},
   "outputs": [
    {
     "name": "stdout",
     "output_type": "stream",
     "text": [
      "Epoch 5 training loss: 0.3763\n",
      "Epoch 5 validation loss: 0.4569\n",
      "\n",
      "Epoch 10 training loss: 0.3691\n",
      "Epoch 10 validation loss: 0.4492\n",
      "\n",
      "Epoch 15 training loss: 0.3674\n",
      "Epoch 15 validation loss: 0.4536\n",
      "\n",
      "Epoch 20 training loss: 0.3665\n",
      "Epoch 20 validation loss: 0.4467\n",
      "\n",
      "Epoch 25 training loss: 0.3662\n",
      "Epoch 25 validation loss: 0.4471\n",
      "\n",
      "Epoch 30 training loss: 0.3659\n",
      "Epoch 30 validation loss: 0.4461\n",
      "\n"
     ]
    },
    {
     "data": {
      "image/png": "[encoded data removed]",
      "text/plain": [
       "<Figure size 640x480 with 1 Axes>"
      ]
     },
     "metadata": {},
     "output_type": "display_data"
    }
   ],
   "source": [
    "import torch\n",
    "import torch.nn as nn\n",
    "import torch.optim as optim\n",
    "import matplotlib.pyplot as plt\n",
    "from torch.utils.data import DataLoader\n",
    "from torch.nn.utils.rnn import pad_sequence\n",
    "\n",
    "# === 1. collate_fn ===\n",
    "def collate_fn(batch):\n",
    "    ids = [b['input_ids'] for b in batch]\n",
    "    # Concatenate the label list into \n",
    "    labels = torch.cat([b['label'] for b in batch], dim=0)  # [tensor(0.), tensor(1.)] -> tensor([0., 1.]); shape: (batch, 1)\n",
    "    # Padding based on sequence with the maximum length in the current batch\n",
    "    padded_ids = pad_sequence(ids, batch_first=True, padding_value=0)  # (batch, L)\n",
    "    return padded_ids, labels\n",
    "\n",
    "# === 2. Load data ===\n",
    "batch_size = 32\n",
    "train_loader = DataLoader(train_data, batch_size=batch_size, shuffle=True, collate_fn=collate_fn)\n",
    "valid_loader = DataLoader(valid_data, batch_size=batch_size, shuffle=False, collate_fn=collate_fn)\n",
    "\n",
    "# === 3. Set model, optimizer, and loss ===\n",
    "device = torch.device('cuda' if torch.cuda.is_available() else 'cpu')\n",
    "model_73 = BoWClassifier(E_tensor).to(device)\n",
    "optimizer = optim.Adam(model_73.parameters(), lr=1e-3)\n",
    "loss_fn   = nn.BCEWithLogitsLoss()\n",
    "\n",
    "# === 4. Training and Evaluation ===\n",
    "def train(epoch, model, optimizer, loss_fn, train_dl):\n",
    "    model.train()\n",
    "    curr_total_loss = 0.0\n",
    "\n",
    "    for input_ids, labels in train_dl:\n",
    "        input_ids = input_ids.to(device)    # (batch_size, L)\n",
    "        labels = labels.to(device)  # (batch_size,)\n",
    "\n",
    "        optimizer.zero_grad()\n",
    "        logits = model(input_ids).squeeze(-1)   # (batch_size,)\n",
    "        loss = loss_fn(logits, labels)  # (batch_size,)\n",
    "        loss.backward()\n",
    "        optimizer.step()\n",
    "\n",
    "        curr_total_loss += loss.item()\n",
    "\n",
    "    train_loss = curr_total_loss / len(train_dl)\n",
    "    return train_loss\n",
    "\n",
    "def eval(epoch, model, loss_fn, valid_dl):\n",
    "    model.eval()\n",
    "    curr_total_val_loss = 0.0\n",
    "    \n",
    "    with torch.no_grad():\n",
    "        for input_ids, labels in valid_dl:\n",
    "            input_ids = input_ids.to(device)    # (batch_size, L)\n",
    "            labels = labels.to(device).squeeze(-1)  # (batch_size,)\n",
    "            \n",
    "            logits = model(input_ids).squeeze(-1)\n",
    "            curr_total_val_loss += loss_fn(logits, labels).item()\n",
    "\n",
    "        valid_loss = curr_total_val_loss / len(valid_dl)\n",
    "    return valid_loss\n",
    "\n",
    "epochs = 30\n",
    "train_losses, valid_losses = [], []\n",
    "valid_accs = []\n",
    "for epoch in range(1, epochs + 1):\n",
    "    train_losses.append(train(epoch, model_73, optimizer, loss_fn, train_loader))\n",
    "    valid_losses.append(eval(epoch, model_73, loss_fn, valid_loader))\n",
    "    if epoch % 5 == 0:\n",
    "        print(f\"Epoch {epoch} training loss: {train_losses[-1]:.4f}\")\n",
    "        print(f\"Epoch {epoch} validation loss: {valid_losses[-1]:.4f}\\n\")\n",
    "\n",
    "# === 5. Plot ===\n",
    "x = list(range(1, len(train_losses) + 1))\n",
    "plt.figure()\n",
    "plt.plot(x, train_losses, label='Train Loss')\n",
    "plt.plot(x, valid_losses, label='Validation Loss')\n",
    "plt.xlabel('Epoch')\n",
    "plt.ylabel('Loss')\n",
    "plt.title('Training and Validation Loss')\n",
    "plt.legend()\n",
    "plt.show()"
   ]
  },
  {
   "cell_type": "markdown",
   "metadata": {},
   "source": [
    "## 74. モデルの評価\n",
    "問題73で学習したモデルの開発セットにおける正解率を求めよ。"
   ]
  },
  {
   "cell_type": "code",
   "execution_count": 104,
   "metadata": {},
   "outputs": [
    {
     "name": "stdout",
     "output_type": "stream",
     "text": [
      "validation loss: 0.4462, accuracy: 83.49%\n"
     ]
    }
   ],
   "source": [
    "model_73.eval()\n",
    "curr_correct, total = 0, 0\n",
    "\n",
    "with torch.no_grad():\n",
    "    for input_ids, labels in valid_loader:\n",
    "        input_ids = input_ids.to(device)    # (batch_size, L)\n",
    "        labels = labels.to(device).squeeze(-1)  # (batch_size,)\n",
    "        \n",
    "        logits = model_73(input_ids).squeeze(-1)\n",
    "\n",
    "        preds = (torch.sigmoid(logits) > 0.5).long()\n",
    "        curr_correct += (preds == labels.long()).sum().item()\n",
    "        total += labels.size(0)\n",
    "\n",
    "    accuracy = correct / total\n",
    "    print(f\"validation loss: {valid_loss:.4f}, accuracy: {accuracy * 100:.2f}%\")\n",
    "\n",
    "    \n"
   ]
  },
  {
   "cell_type": "markdown",
   "metadata": {},
   "source": [
    "## 75. パディング\n",
    "複数の事例が与えられたとき、これらをまとめて一つのテンソル・オブジェクトで表現する関数`collate`を実装せよ。与えられた複数の事例のトークン列の長さが異なるときは、トークン列の長さが最も長いものに揃え、0番のトークンIDでパディングをせよ。さらに、トークン列の長さが長いものから順に、事例を並び替えよ。\n",
    "\n",
    "例えば、訓練データセットの冒頭の4事例が次のように表されているとき、"
   ]
  },
  {
   "cell_type": "markdown",
   "metadata": {},
   "source": [
    "<div style=\"border:1px solid #ccc;\n",
    "            padding:10px;\n",
    "            background-color:#f9f9f9;\n",
    "            font-family:monospace;\n",
    "            white-space: pre;\">\n",
    "[{'text': 'hide new secretions from the parental units',\n",
    "  'label': tensor([0.]),\n",
    "  'input_ids': tensor([  5785,     66, 113845,     18,     12,  15095,   1594])},\n",
    " {'text': 'contains no wit , only labored gags',\n",
    "  'label': tensor([0.]),\n",
    "  'input_ids': tensor([ 3475,    87, 15888,    90, 27695, 42637])},\n",
    " {'text': 'that loves its characters and communicates something rather beautiful about human nature',\n",
    "  'label': tensor([1.]),\n",
    "  'input_ids': tensor([    4,  5053,    45,  3305, 31647,   348,   904,  2815,    47,  1276,  1964])},\n",
    " {'text': 'remains utterly satisfied to remain the same throughout',\n",
    "  'label': tensor([0.]),\n",
    "  'input_ids': tensor([  987, 14528,  4941,   873,    12,   208,   898])}]\n",
    "</div>\n"
   ]
  },
  {
   "cell_type": "markdown",
   "metadata": {},
   "source": [
    "`collate`関数を通した結果は以下のようになることが想定される。"
   ]
  },
  {
   "cell_type": "markdown",
   "metadata": {},
   "source": [
    "<div style=\"border:1px solid #ccc;\n",
    "            padding:10px;\n",
    "            background-color:#f9f9f9;\n",
    "            font-family:monospace;\">\n",
    "  <pre style=\"margin:0;\">\n",
    "{'input_ids': tensor([\n",
    "    [     4,   5053,     45,   3305,  31647,    348,    904,   2815,     47,   1276,   1964],\n",
    "    [  5785,     66, 113845,     18,     12,  15095,   1594,      0,      0,      0,      0],\n",
    "    [   987,  14528,   4941,    873,     12,    208,    898,      0,      0,      0,      0],\n",
    "    [  3475,     87,  15888,     90,  27695,  42637,      0,      0,      0,      0,      0]\n",
    "]),\n",
    " 'label': tensor([\n",
    "    [1.],\n",
    "    [0.],\n",
    "    [0.],\n",
    "    [0.]\n",
    "])\n",
    "}\n",
    "  </pre>\n",
    "</div>\n"
   ]
  },
  {
   "cell_type": "code",
   "execution_count": 105,
   "metadata": {},
   "outputs": [
    {
     "name": "stdout",
     "output_type": "stream",
     "text": [
      "{'input_ids': tensor([[   12,  3652,  1122,    25,    53,    12, 19163,  8072,   581,   245,\n",
      "          6372,    49,   977,    51,  7403],\n",
      "        [   16,  3808,  7688,    70,  6858,    12,   133,  3190,  3577,  3527,\n",
      "          1416, 25426,     0,     0,     0],\n",
      "        [12057,   338,     0,     0,     0,     0,     0,     0,     0,     0,\n",
      "             0,     0,     0,     0,     0],\n",
      "        [  138,    14,    17,   268,  1869, 21828,     0,     0,     0,     0,\n",
      "             0,     0,     0,     0,     0]]), 'label': tensor([1., 1., 0., 0.])}\n"
     ]
    }
   ],
   "source": [
    "def collate_fn(batch):\n",
    "    ids = [b['input_ids'] for b in batch]\n",
    "    # Concatenate the label list into \n",
    "    labels = torch.cat([b['label'] for b in batch], dim=0)  # [tensor(0.), tensor(1.)] -> tensor([0., 1.]); shape: (batch, 1)\n",
    "    # Padding based on sequence with the maximum length in the current batch\n",
    "    padded_ids = pad_sequence(ids, batch_first=True, padding_value=0)  # (batch, L)\n",
    "    return {\n",
    "        'input_ids': padded_ids,\n",
    "        'label': labels\n",
    "    }\n",
    "\n",
    "train_dl = DataLoader(train_data, batch_size=4, shuffle=True, collate_fn=collate_fn)\n",
    "\n",
    "# Print the result\n",
    "print(next(iter(train_dl)))\n"
   ]
  },
  {
   "cell_type": "markdown",
   "metadata": {},
   "source": [
    "## 76. ミニバッチ学習\n",
    "問題75のパディングの処理を活用して、ミニバッチでモデルを学習せよ。また、学習したモデルの開発セットにおける正解率を求めよ。"
   ]
  },
  {
   "cell_type": "code",
   "execution_count": 106,
   "metadata": {},
   "outputs": [
    {
     "name": "stdout",
     "output_type": "stream",
     "text": [
      "Epoch 5 training loss: 0.3763\n",
      "Epoch 5 validation loss: 0.4611\n",
      "\n",
      "Epoch 10 training loss: 0.3692\n",
      "Epoch 10 validation loss: 0.4493\n",
      "\n",
      "Epoch 15 training loss: 0.3673\n",
      "Epoch 15 validation loss: 0.4506\n",
      "\n",
      "Epoch 20 training loss: 0.3666\n",
      "Epoch 20 validation loss: 0.4456\n",
      "\n",
      "Epoch 25 training loss: 0.3662\n",
      "Epoch 25 validation loss: 0.4484\n",
      "\n",
      "Epoch 30 training loss: 0.3660\n",
      "Epoch 30 validation loss: 0.4439\n",
      "\n"
     ]
    },
    {
     "data": {
      "image/png": "[encoded data removed]",
      "text/plain": [
       "<Figure size 640x480 with 1 Axes>"
      ]
     },
     "metadata": {},
     "output_type": "display_data"
    }
   ],
   "source": [
    "import torch\n",
    "import torch.nn as nn\n",
    "import torch.optim as optim\n",
    "import matplotlib.pyplot as plt\n",
    "from torch.utils.data import DataLoader\n",
    "from torch.nn.utils.rnn import pad_sequence\n",
    "\n",
    "# === 1. collate_fn ===\n",
    "def collate_fn(batch):\n",
    "    ids = [b['input_ids'] for b in batch]\n",
    "    # Concatenate the label list into \n",
    "    labels = torch.cat([b['label'] for b in batch], dim=0)  # [tensor(0.), tensor(1.)] -> tensor([0., 1.]); shape: (batch, 1)\n",
    "    # Padding based on sequence with the maximum length in the current batch\n",
    "    padded_ids = pad_sequence(ids, batch_first=True, padding_value=0)  # (batch, L)\n",
    "    return padded_ids, labels\n",
    "\n",
    "# === 2. Load data ===\n",
    "batch_size = 32\n",
    "train_loader = DataLoader(train_data, batch_size=batch_size, shuffle=True, collate_fn=collate_fn)\n",
    "valid_loader = DataLoader(valid_data, batch_size=batch_size, shuffle=False, collate_fn=collate_fn)\n",
    "\n",
    "# === 3. Set model, optimizer, and loss ===\n",
    "device = torch.device('cpu')\n",
    "model_76 = BoWClassifier(E_tensor).to(device)\n",
    "optimizer = optim.Adam(model_76.parameters(), lr=1e-3)\n",
    "loss_fn   = nn.BCEWithLogitsLoss()\n",
    "\n",
    "# === 4. Training and Evaluation ===\n",
    "def train(epoch, model, optimizer, loss_fn, train_dl):\n",
    "    model.train()\n",
    "    curr_total_loss = 0.0\n",
    "\n",
    "    for input_ids, labels in train_dl:\n",
    "        input_ids = input_ids.to(device)    # (batch_size, L)\n",
    "        labels = labels.to(device)  # (batch_size,)\n",
    "\n",
    "        optimizer.zero_grad()\n",
    "        logits = model(input_ids).squeeze(-1)   # (batch_size,)\n",
    "        loss = loss_fn(logits, labels)  # (batch_size,)\n",
    "        loss.backward()\n",
    "        optimizer.step()\n",
    "\n",
    "        curr_total_loss += loss.item()\n",
    "\n",
    "    train_loss = curr_total_loss / len(train_dl)\n",
    "    return train_loss\n",
    "\n",
    "def eval(epoch, model, loss_fn, valid_dl):\n",
    "    model.eval()\n",
    "    curr_total_val_loss = 0.0\n",
    "    with torch.no_grad():\n",
    "        for input_ids, labels in valid_dl:\n",
    "            input_ids = input_ids.to(device)    # (batch_size, L)\n",
    "            labels = labels.to(device).squeeze(-1)  # (batch_size,)\n",
    "            \n",
    "            logits = model(input_ids).squeeze(-1)\n",
    "            curr_total_val_loss += loss_fn(logits, labels).item()\n",
    "\n",
    "        valid_loss = curr_total_val_loss / len(valid_dl)\n",
    "    return valid_loss\n",
    "\n",
    "epochs = 30\n",
    "train_losses, valid_losses = [], []\n",
    "for epoch in range(1, epochs + 1):\n",
    "    train_losses.append(train(epoch, model_76, optimizer, loss_fn, train_loader))\n",
    "    valid_losses.append(eval(epoch, model_76, loss_fn, valid_loader))\n",
    "    if epoch % 5 == 0:\n",
    "        print(f\"Epoch {epoch} training loss: {train_losses[-1]:.4f}\")\n",
    "        print(f\"Epoch {epoch} validation loss: {valid_losses[-1]:.4f}\\n\")\n",
    "\n",
    "# === 5. Plot ===\n",
    "x = list(range(1, len(train_losses) + 1))\n",
    "plt.figure()\n",
    "plt.plot(x, train_losses, label='Train Loss')\n",
    "plt.plot(x, valid_losses, label='Validation Loss')\n",
    "plt.xlabel('Epoch')\n",
    "plt.ylabel('Loss')\n",
    "plt.title('Training and Validation Loss')\n",
    "plt.legend()\n",
    "plt.show()"
   ]
  },
  {
   "cell_type": "code",
   "execution_count": 107,
   "metadata": {},
   "outputs": [
    {
     "name": "stdout",
     "output_type": "stream",
     "text": [
      "validation loss: 0.4462, accuracy: 83.49%\n"
     ]
    }
   ],
   "source": [
    "model_76.eval()\n",
    "curr_correct, total = 0, 0\n",
    "\n",
    "with torch.no_grad():\n",
    "    for input_ids, labels in valid_loader:\n",
    "        input_ids = input_ids.to(device)    # (batch_size, L)\n",
    "        labels = labels.to(device)  # (batch_size,)\n",
    "        \n",
    "        logits = model_76(input_ids).squeeze(-1)\n",
    "\n",
    "        preds = (torch.sigmoid(logits) > 0.5).long()\n",
    "        curr_correct += (preds == labels.long()).sum().item()\n",
    "        total += labels.size(0)\n",
    "\n",
    "    accuracy = correct / total\n",
    "    print(f\"validation loss: {valid_loss:.4f}, accuracy: {accuracy * 100:.2f}%\")\n"
   ]
  },
  {
   "cell_type": "markdown",
   "metadata": {},
   "source": [
    "## 77. GPU上での学習\n",
    "問題76のモデル学習をGPU上で実行せよ。また、学習したモデルの開発セットにおける正解率を求めよ。"
   ]
  },
  {
   "cell_type": "code",
   "execution_count": 109,
   "metadata": {},
   "outputs": [
    {
     "name": "stdout",
     "output_type": "stream",
     "text": [
      "Epoch 5 training loss: 0.3764\n",
      "Epoch 5 validation loss: 0.4578\n",
      "\n",
      "Epoch 10 training loss: 0.3692\n",
      "Epoch 10 validation loss: 0.4485\n",
      "\n",
      "Epoch 15 training loss: 0.3673\n",
      "Epoch 15 validation loss: 0.4513\n",
      "\n",
      "Epoch 20 training loss: 0.3666\n",
      "Epoch 20 validation loss: 0.4491\n",
      "\n",
      "Epoch 25 training loss: 0.3662\n",
      "Epoch 25 validation loss: 0.4463\n",
      "\n",
      "Epoch 30 training loss: 0.3659\n",
      "Epoch 30 validation loss: 0.4497\n",
      "\n"
     ]
    },
    {
     "data": {
      "image/png": "[encoded data removed]",
      "text/plain": [
       "<Figure size 640x480 with 1 Axes>"
      ]
     },
     "metadata": {},
     "output_type": "display_data"
    }
   ],
   "source": [
    "import torch\n",
    "import torch.nn as nn\n",
    "import torch.optim as optim\n",
    "import matplotlib.pyplot as plt\n",
    "from torch.utils.data import DataLoader\n",
    "from torch.nn.utils.rnn import pad_sequence\n",
    "\n",
    "# === 1. collate_fn ===\n",
    "def collate_fn(batch):\n",
    "    ids = [b['input_ids'] for b in batch]\n",
    "    # Concatenate the label list into \n",
    "    labels = torch.cat([b['label'] for b in batch], dim=0)  # [tensor(0.), tensor(1.)] -> tensor([0., 1.]); shape: (batch, 1)\n",
    "    # Padding based on sequence with the maximum length in the current batch\n",
    "    padded_ids = pad_sequence(ids, batch_first=True, padding_value=0)  # (batch, L)\n",
    "    return padded_ids, labels\n",
    "\n",
    "# === 2. Load data ===\n",
    "batch_size = 32\n",
    "train_loader = DataLoader(train_data, batch_size=batch_size, shuffle=True, collate_fn=collate_fn)\n",
    "valid_loader = DataLoader(valid_data, batch_size=batch_size, shuffle=False, collate_fn=collate_fn)\n",
    "\n",
    "# === 3. Set model, optimizer, and loss ===\n",
    "device = torch.device('cuda')\n",
    "model_77 = BoWClassifier(E_tensor).to(device)\n",
    "optimizer = optim.Adam(model_77.fc.parameters(), lr=1e-3)\n",
    "loss_fn   = nn.BCEWithLogitsLoss()\n",
    "\n",
    "# === 4. Training and Evaluation ===\n",
    "def train(epoch, model, optimizer, loss_fn, train_dl):\n",
    "    model.train()\n",
    "    curr_total_loss = 0.0\n",
    "\n",
    "    for input_ids, labels in train_dl:\n",
    "        input_ids = input_ids.to(device)    # (batch_size, L)\n",
    "        labels = labels.to(device)  # (batch_size,)\n",
    "\n",
    "        optimizer.zero_grad()\n",
    "        logits = model(input_ids).squeeze(-1)   # (batch_size,)\n",
    "        loss = loss_fn(logits, labels)  # (batch_size,)\n",
    "        loss.backward()\n",
    "        optimizer.step()\n",
    "\n",
    "        curr_total_loss += loss.item()\n",
    "\n",
    "    train_loss = curr_total_loss / len(train_dl)\n",
    "    return train_loss\n",
    "\n",
    "def eval(epoch, model, loss_fn, valid_dl):\n",
    "    model.eval()\n",
    "    curr_total_val_loss = 0.0\n",
    "    with torch.no_grad():\n",
    "        for input_ids, labels in valid_dl:\n",
    "            input_ids = input_ids.to(device)    # (batch_size, L)\n",
    "            labels = labels.to(device)  # (batch_size,)\n",
    "            \n",
    "            logits = model(input_ids).squeeze(-1)\n",
    "            curr_total_val_loss += loss_fn(logits, labels).item()\n",
    "\n",
    "        valid_loss = curr_total_val_loss / len(valid_dl)\n",
    "    return valid_loss\n",
    "\n",
    "epochs = 30\n",
    "train_losses, valid_losses = [], []\n",
    "for epoch in range(1, epochs + 1):\n",
    "    train_losses.append(train(epoch, model_77, optimizer, loss_fn, train_loader))\n",
    "    valid_losses.append(eval(epoch, model_77, loss_fn, valid_loader))\n",
    "    if epoch % 5 == 0:\n",
    "        print(f\"Epoch {epoch} training loss: {train_losses[-1]:.4f}\")\n",
    "        print(f\"Epoch {epoch} validation loss: {valid_losses[-1]:.4f}\\n\")\n",
    "\n",
    "# === 5. Plot ===\n",
    "x = list(range(1, len(train_losses) + 1))\n",
    "plt.figure()\n",
    "plt.plot(x, train_losses, label='Train Loss')\n",
    "plt.plot(x, valid_losses, label='Validation Loss')\n",
    "plt.xlabel('Epoch')\n",
    "plt.ylabel('Loss')\n",
    "plt.title('Training and Validation Loss')\n",
    "plt.legend()\n",
    "plt.show()"
   ]
  },
  {
   "cell_type": "code",
   "execution_count": 110,
   "metadata": {},
   "outputs": [
    {
     "name": "stdout",
     "output_type": "stream",
     "text": [
      "validation loss: 0.4462, accuracy: 83.49%\n"
     ]
    }
   ],
   "source": [
    "model_77.eval()\n",
    "curr_correct, total = 0, 0\n",
    "\n",
    "with torch.no_grad():\n",
    "    for input_ids, labels in valid_loader:\n",
    "        input_ids = input_ids.to(device)    # (batch_size, L)\n",
    "        labels = labels.to(device)  # (batch_size,)\n",
    "        \n",
    "        logits = model_77(input_ids).squeeze(-1)\n",
    "\n",
    "        preds = (torch.sigmoid(logits) > 0.5).long()\n",
    "        curr_correct += (preds == labels.long()).sum().item()\n",
    "        total += labels.size(0)\n",
    "\n",
    "    accuracy = correct / total\n",
    "    print(f\"validation loss: {valid_loss:.4f}, accuracy: {accuracy * 100:.2f}%\")\n",
    "\n",
    "    \n"
   ]
  },
  {
   "cell_type": "markdown",
   "metadata": {},
   "source": [
    "## 78. 単語埋め込みのファインチューニング\n",
    "問題77の学習において、単語埋め込みのパラメータも同時に更新するファインチューニングを導入せよ。また、学習したモデルの開発セットにおける正解率を求めよ。"
   ]
  },
  {
   "cell_type": "code",
   "execution_count": 111,
   "metadata": {},
   "outputs": [],
   "source": [
    "model_78 = model_77\n",
    "model_78.embedding.weight.requires_grad = True\n",
    "optimizer = optim.Adam(model_78.parameters(), lr=1e-4)"
   ]
  },
  {
   "cell_type": "code",
   "execution_count": 113,
   "metadata": {},
   "outputs": [
    {
     "name": "stdout",
     "output_type": "stream",
     "text": [
      "Fine-tuning epoch 1 training loss: 0.2499\n",
      "Fine-tuning epoch 1 validation loss: 0.4074\n",
      "\n",
      "Fine-tuning epoch 2 training loss: 0.2220\n",
      "Fine-tuning epoch 2 validation loss: 0.4155\n",
      "\n"
     ]
    },
    {
     "data": {
      "image/png": "[encoded data removed]",
      "text/plain": [
       "<Figure size 640x480 with 1 Axes>"
      ]
     },
     "metadata": {},
     "output_type": "display_data"
    }
   ],
   "source": [
    "epochs = 2\n",
    "ft_train_losses, ft_valid_losses = [], []\n",
    "for epoch in range(1, epochs + 1):\n",
    "    ft_train_losses.append(train(epoch, model_78, optimizer, loss_fn, train_loader))\n",
    "    ft_valid_losses.append(eval(epoch, model_78, loss_fn, valid_loader))\n",
    "    print(f\"Fine-tuning epoch {epoch} training loss: {ft_train_losses[-1]:.4f}\")\n",
    "    print(f\"Fine-tuning epoch {epoch} validation loss: {ft_valid_losses[-1]:.4f}\\n\")\n",
    "\n",
    "# === 5. Plot ===\n",
    "orig_len = len(train_losses)\n",
    "\n",
    "all_train = train_losses + ft_train_losses\n",
    "all_valid = valid_losses + ft_valid_losses\n",
    "\n",
    "x = list(range(1, len(all_train) + 1))\n",
    "\n",
    "plt.figure()\n",
    "plt.plot(x, all_train, label='Train Loss')\n",
    "plt.plot(x, all_valid, label='Validation Loss')\n",
    "\n",
    "# Point out the specific epoch in which model has been fine-tuned\n",
    "plt.axvline(orig_len + 0.5, linestyle='--')\n",
    "plt.annotate(\n",
    "    'Start fine-tuning',\n",
    "    xy=(orig_len + 0.5, max(all_train)),\n",
    "    xytext=(orig_len + 1, max(all_train)),\n",
    "    arrowprops=dict(arrowstyle='->')\n",
    ")\n",
    "\n",
    "plt.xlabel('Epoch')\n",
    "plt.ylabel('Loss')\n",
    "plt.title('Training and Validation Loss (with Fine-Tuning)')\n",
    "plt.legend()\n",
    "plt.grid(True)\n",
    "plt.show()"
   ]
  },
  {
   "cell_type": "code",
   "execution_count": null,
   "metadata": {},
   "outputs": [],
   "source": [
    "model_78.eval()\n",
    "curr_correct, total = 0, 0\n",
    "\n",
    "with torch.no_grad():\n",
    "    for input_ids, labels in valid_loader:\n",
    "        input_ids = input_ids.to(device)    # (batch_size, L)\n",
    "        labels = labels.to(device)  # (batch_size,)\n",
    "        \n",
    "        logits = model_78(input_ids).squeeze(-1)\n",
    "\n",
    "        preds = (torch.sigmoid(logits) > 0.5).long()\n",
    "        curr_correct += (preds == labels.long()).sum().item()\n",
    "        total += labels.size(0)\n",
    "\n",
    "    accuracy = correct / total\n",
    "    print(f\"validation loss: {valid_loss:.4f}, accuracy: {accuracy * 100:.2f}%\")"
   ]
  },
  {
   "cell_type": "markdown",
   "metadata": {},
   "source": [
    "## 79. アーキテクチャの変更\n",
    "ニューラルネットワークのアーキテクチャを自由に変更し、モデルを学習せよ。また、学習したモデルの開発セットにおける正解率を求めよ。例えば、テキストの特徴ベクトル（単語埋め込みの平均ベクトル）に対して多層のニューラルネットワークを通したり、畳み込みニューラルネットワーク（CNN; Convolutional Neural Network）や再帰型ニューラルネットワーク（RNN; Recurrent Neural Network）などのモデルの学習に挑戦するとよい。"
   ]
  },
  {
   "cell_type": "code",
   "execution_count": 138,
   "metadata": {},
   "outputs": [
    {
     "name": "stdout",
     "output_type": "stream",
     "text": [
      "Epoch 01 | train loss: 0.3680 | val loss: 0.5067 | val acc: 0.7683\n",
      "Epoch 02 | train loss: 0.1639 | val loss: 0.5006 | val acc: 0.8028\n",
      "Epoch 03 | train loss: 0.0951 | val loss: 0.5381 | val acc: 0.8062\n"
     ]
    }
   ],
   "source": [
    "import torch\n",
    "import torch.nn as nn\n",
    "import torch.optim as optim\n",
    "from torch.utils.data import DataLoader\n",
    "from torch.nn.utils.rnn import pad_sequence, pack_padded_sequence\n",
    "\n",
    "# === 1. collate_fn for RNN ===\n",
    "def collate_fn(batch):\n",
    "    batch_sorted = sorted(batch, key=lambda x: x['input_ids'].size(0), reverse=True)\n",
    "    ids = [b['input_ids'] for b in batch_sorted]\n",
    "    lengths = torch.tensor([len(seq) for seq in ids], dtype=torch.long)\n",
    "    padded_ids = pad_sequence(ids, batch_first=True, padding_value=0)\n",
    "    labels = torch.cat([b['label'] for b in batch_sorted], dim=0)\n",
    "    return padded_ids, lengths, labels\n",
    "\n",
    "# === 2. RNN-based classifier with random embeddings ===\n",
    "class RNNClassifier(nn.Module):\n",
    "    def __init__(self, vocab_size: int, emb_dim: int = 300,\n",
    "                 hidden_size: int = 256, num_layers: int = 1,\n",
    "                 bidirectional: bool = True, dropout: float = 0.5):\n",
    "        super().__init__()\n",
    "        # Randomly initialized embedding\n",
    "        self.embedding = nn.Embedding(vocab_size, emb_dim, padding_idx=0)\n",
    "        # LSTM encoder\n",
    "        self.rnn = nn.LSTM(\n",
    "            input_size=emb_dim,\n",
    "            hidden_size=hidden_size,\n",
    "            num_layers=num_layers,\n",
    "            batch_first=True,\n",
    "            bidirectional=bidirectional,\n",
    "            dropout=dropout if num_layers > 1 else 0.0\n",
    "        )\n",
    "        factor = 2 if bidirectional else 1\n",
    "        self.fc = nn.Linear(hidden_size * factor, 1)\n",
    "\n",
    "    def forward(self, input_ids: torch.LongTensor, lengths: torch.LongTensor):\n",
    "        emb = self.embedding(input_ids)  # (batch, seq_len, emb_dim)\n",
    "        packed = pack_padded_sequence(emb, lengths.cpu(), batch_first=True, enforce_sorted=True)\n",
    "        packed_out, (hn, cn) = self.rnn(packed)\n",
    "        if self.rnn.bidirectional:\n",
    "            last_h = torch.cat((hn[-2], hn[-1]), dim=1)\n",
    "        else:\n",
    "            last_h = hn[-1]\n",
    "        logits = self.fc(last_h).squeeze(-1)\n",
    "        return logits\n",
    "\n",
    "# === 3. DataLoader setup ===\n",
    "vocab_size = len(token2id)\n",
    "train_loader = DataLoader(train_data, batch_size=64, shuffle=True, collate_fn=collate_fn)\n",
    "valid_loader = DataLoader(valid_data, batch_size=64, shuffle=False, collate_fn=collate_fn)\n",
    "\n",
    "# === 4. Training and evaluation ===\n",
    "device = torch.device('cuda' if torch.cuda.is_available() else 'cpu')\n",
    "model = RNNClassifier(vocab_size=vocab_size, emb_dim=300,\n",
    "                      hidden_size=256, num_layers=1).to(device)\n",
    "optimizer = optim.Adam(model.parameters(), lr=1e-3)\n",
    "loss_fn = nn.BCEWithLogitsLoss()\n",
    "\n",
    "epochs = 3\n",
    "for epoch in range(1, epochs + 1):\n",
    "    # Training\n",
    "    model.train()\n",
    "    total_loss = 0.0\n",
    "    for input_ids, lengths, labels in train_loader:\n",
    "        input_ids = input_ids.to(device)\n",
    "        lengths = lengths.to(device)\n",
    "        labels = labels.to(device).squeeze(-1)\n",
    "\n",
    "        optimizer.zero_grad()\n",
    "        logits = model(input_ids, lengths)\n",
    "        loss = loss_fn(logits, labels)\n",
    "        loss.backward()\n",
    "        optimizer.step()\n",
    "        total_loss += loss.item()\n",
    "    avg_train_loss = total_loss / len(train_loader)\n",
    "\n",
    "    # Validation\n",
    "    model.eval()\n",
    "    total_val_loss, correct, total = 0.0, 0, 0\n",
    "    with torch.no_grad():\n",
    "        for input_ids, lengths, labels in valid_loader:\n",
    "            input_ids = input_ids.to(device)\n",
    "            lengths = lengths.to(device)\n",
    "            labels = labels.to(device).squeeze(-1)\n",
    "\n",
    "            logits = model(input_ids, lengths)\n",
    "            total_val_loss += loss_fn(logits, labels).item()\n",
    "            preds = (torch.sigmoid(logits) > 0.5).long()\n",
    "            correct += (preds == labels.long()).sum().item()\n",
    "            total += labels.size(0)\n",
    "\n",
    "    avg_val_loss = total_val_loss / len(valid_loader)\n",
    "    accuracy = correct / total\n",
    "    print(f\"Epoch {epoch:02d} | train loss: {avg_train_loss:.4f} \"\n",
    "          f\"| val loss: {avg_val_loss:.4f} | val acc: {accuracy:.4f}\")\n"
   ]
  }
 ],
 "metadata": {
  "kernelspec": {
   "display_name": "nlp100-py310",
   "language": "python",
   "name": "python3"
  },
  "language_info": {
   "codemirror_mode": {
    "name": "ipython",
    "version": 3
   },
   "file_extension": ".py",
   "mimetype": "text/x-python",
   "name": "python",
   "nbconvert_exporter": "python",
   "pygments_lexer": "ipython3",
   "version": "3.10.16"
  }
 },
 "nbformat": 4,
 "nbformat_minor": 2
}
